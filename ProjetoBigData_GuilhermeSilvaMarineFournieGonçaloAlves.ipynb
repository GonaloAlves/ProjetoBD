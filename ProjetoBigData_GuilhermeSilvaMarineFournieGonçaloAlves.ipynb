{
  "nbformat": 4,
  "nbformat_minor": 0,
  "metadata": {
    "colab": {
      "provenance": [],
      "include_colab_link": true
    },
    "kernelspec": {
      "name": "python3",
      "display_name": "Python 3"
    },
    "language_info": {
      "name": "python"
    }
  },
  "cells": [
    {
      "cell_type": "markdown",
      "metadata": {
        "id": "view-in-github",
        "colab_type": "text"
      },
      "source": [
        "<a href=\"https://colab.research.google.com/github/GuilhermeVCCdaSilva/ProjetoBD/blob/main/ProjetoBigData_GuilhermeSilvaMarineFournieGon%C3%A7aloAlves.ipynb\" target=\"_parent\"><img src=\"https://colab.research.google.com/assets/colab-badge.svg\" alt=\"Open In Colab\"/></a>"
      ]
    },
    {
      "cell_type": "markdown",
      "source": [
        "<img src=\"https://www.estbarreiro.ips.pt/Content/images/logo-ESTB.png\" align=\"right\" alt=\"EsT Logo circle logo\" style=\"height: 200px; width:300px;\"/>\n",
        "\n",
        "# Projeto Final Big Data \n",
        "* __Guilherme Silva__\n",
        "* __Marine Emilie Fournier__\n",
        "* __Gonçalo Alves__"
      ],
      "metadata": {
        "id": "5y9CFXldkFjG"
      }
    },
    {
      "cell_type": "code",
      "execution_count": null,
      "metadata": {
        "colab": {
          "base_uri": "https://localhost:8080/"
        },
        "id": "A7PzfgEmI-OC",
        "outputId": "aa2911b0-3c7d-4f29-8e2a-c765c447a4f7"
      },
      "outputs": [
        {
          "output_type": "stream",
          "name": "stdout",
          "text": [
            "Looking in indexes: https://pypi.org/simple, https://us-python.pkg.dev/colab-wheels/public/simple/\n",
            "Requirement already satisfied: pyspark in /usr/local/lib/python3.8/dist-packages (3.3.1)\n",
            "Requirement already satisfied: py4j==0.10.9.5 in /usr/local/lib/python3.8/dist-packages (from pyspark) (0.10.9.5)\n",
            "Looking in indexes: https://pypi.org/simple, https://us-python.pkg.dev/colab-wheels/public/simple/\n",
            "Requirement already satisfied: findspark in /usr/local/lib/python3.8/dist-packages (2.0.1)\n"
          ]
        }
      ],
      "source": [
        "# Installing required packages\n",
        "!pip install pyspark\n",
        "!pip install findspark"
      ]
    },
    {
      "cell_type": "markdown",
      "source": [
        "#Creating a SparkSession\n",
        "- Para se trabalhar com dados no Spark, é essencial criar uma SparkSession, este passo é fundamental e o primeiro a ser realizado. Ela é responsável por gerenciar a configuração do Spark, criar RDDs (Resilient Distributed Datasets) e DataFrames, registar tabelas temporárias e gerenciar os recursos do cluster utilizados.\n",
        "\n",
        "- A SparkSession é o ponto de partida para trabalhar com dados estruturados e relacionais no Spark SQL, o módulo do Spark que fornece suporte para essa funcionalidade. Ele permite que você execute consultas SQL, manipule DataFrames e extraia metadados. Ele também oferece acesso às bibliotecas de processamento de fluxo de dados (como o DataFrame API e o SQL) e às bibliotecas de aprendizado de máquina (como o MLlib) do Spark.\n",
        "\n",
        "- A SparkSession (criada usando SparkSession.builder) é uma classe fundamental para trabalhar com dados no Spark, é através dela que é possível configurar e gerenciar a sessão, estabelecer conexões com o cluster, definir opções de configuração e gerenciar recursos como o número de núcleos para usar e a quantidade de memória. É a porta de entrada para trabalhar com dados estruturados e relacionais no Spark SQL.\n",
        "\n",
        "- A configuração \".config(\"spark.memory.offHeap.enabled\")\" permite habilitar o uso de memória fora da heap (off-heap). Quando essa configuração é definida como \"true\", o Spark pode usar memória fora do heap do JVM para armazenar os dados e realizar operações. Isso permite que o Spark armazene e execute operações com mais dados, o que pode melhorar o desempenho quando a memória disponível dentro da heap não é suficiente.\n",
        "\n",
        "- A configuração \".config(\"spark.memory.offHeap.size\",\"10g\")\" permite definir a quantidade de memória fora do heap (off-heap) disponível para o Spark usar. Neste caso, o valor \"10g\" indica que o Spark pode usar até 10 gigabytes de memória fora do heap. Esse valor pode ser ajustado de acordo com o tamanho dos dados e as necessidades do seu aplicativo para garantir o melhor desempenho possível."
      ],
      "metadata": {
        "id": "9pqgarnoKqPR"
      }
    },
    {
      "cell_type": "code",
      "source": [
        "from pyspark.sql import SparkSession\n",
        "import findspark\n",
        "\n",
        "findspark.init()\n",
        "\n",
        "spark = SparkSession.builder.appName(\"Pyspark Tutorial\")\\\n",
        "                    .config(\"spark.memory.offHeap.enabled\",\"true\")\\\n",
        "                    .config(\"spark.memory.offHeap.size\",\"10g\")\\\n",
        "                    .getOrCreate()\n",
        "spark                    "
      ],
      "metadata": {
        "colab": {
          "base_uri": "https://localhost:8080/",
          "height": 219
        },
        "id": "rUCnB3MwJmbw",
        "outputId": "6d9918ba-1c5d-4fdb-dac5-334ba3e43c85"
      },
      "execution_count": null,
      "outputs": [
        {
          "output_type": "execute_result",
          "data": {
            "text/plain": [
              "<pyspark.sql.session.SparkSession at 0x7fb30903d250>"
            ],
            "text/html": [
              "\n",
              "            <div>\n",
              "                <p><b>SparkSession - in-memory</b></p>\n",
              "                \n",
              "        <div>\n",
              "            <p><b>SparkContext</b></p>\n",
              "\n",
              "            <p><a href=\"http://c3e938042891:4040\">Spark UI</a></p>\n",
              "\n",
              "            <dl>\n",
              "              <dt>Version</dt>\n",
              "                <dd><code>v3.3.1</code></dd>\n",
              "              <dt>Master</dt>\n",
              "                <dd><code>local[*]</code></dd>\n",
              "              <dt>AppName</dt>\n",
              "                <dd><code>Pyspark Tutorial</code></dd>\n",
              "            </dl>\n",
              "        </div>\n",
              "        \n",
              "            </div>\n",
              "        "
            ]
          },
          "metadata": {},
          "execution_count": 2
        }
      ]
    },
    {
      "cell_type": "markdown",
      "source": [
        "#Carregamento dos dados do DataSete criação do DataFrame:\n",
        "Link para o DataSet: https://archive.ics.uci.edu/ml/datasets/Absenteeism+at+work"
      ],
      "metadata": {
        "id": "a9icJbVvkYOl"
      }
    },
    {
      "cell_type": "code",
      "source": [
        "!curl https://raw.githubusercontent.com/GuilhermeVCCdaSilva/ProjetoBD/main/Absenteeism_at_work.csv >> Absenteeism_at_work.csv\n",
        "df = spark.read.csv('Absenteeism_at_work.csv',header=True,sep=\";\")"
      ],
      "metadata": {
        "colab": {
          "base_uri": "https://localhost:8080/"
        },
        "id": "lsM9rQDKP06H",
        "outputId": "8e82ed7d-6375-48eb-fe15-561d60cc3327"
      },
      "execution_count": null,
      "outputs": [
        {
          "output_type": "stream",
          "name": "stdout",
          "text": [
            "  % Total    % Received % Xferd  Average Speed   Time    Time     Time  Current\n",
            "                                 Dload  Upload   Total   Spent    Left  Speed\n",
            "\r  0     0    0     0    0     0      0      0 --:--:-- --:--:-- --:--:--     0\r100 45232  100 45232    0     0   420k      0 --:--:-- --:--:-- --:--:--  420k\n"
          ]
        }
      ]
    },
    {
      "cell_type": "markdown",
      "source": [
        "#\"Data Visualization\" e Análise\n",
        "\n",
        "- Primeiramente vamos tamanho e o tipo de dados do nosso Dataset.\n",
        "\n",
        "- Este passo era mais simples ser executado através do método shape, mas como o não é suportado pelo PySpark DataFrame, no entanto, podemos contar o número de linhas e colunas usando o método count() e verificar o esquema (colunas e tipos de dados) do DataFrame usando o método printSchema()."
      ],
      "metadata": {
        "id": "ijyIKIbP2uvr"
      }
    },
    {
      "cell_type": "code",
      "source": [
        "print(\"Numero de Linhas:\", df.count())\n",
        "print(\"Numero de Colunas:\", len(df.columns))\n",
        "print(\"Esquema do DataFrame: \")\n",
        "df.printSchema()"
      ],
      "metadata": {
        "colab": {
          "base_uri": "https://localhost:8080/"
        },
        "id": "O2TpxCTA28pK",
        "outputId": "7bac666b-375b-4586-f453-29e4990196d6"
      },
      "execution_count": null,
      "outputs": [
        {
          "output_type": "stream",
          "name": "stdout",
          "text": [
            "Numero de Linhas: 2222\n",
            "Numero de Colunas: 21\n",
            "Esquema do DataFrame: \n",
            "root\n",
            " |-- ID: string (nullable = true)\n",
            " |-- Reason for absence: string (nullable = true)\n",
            " |-- Month of absence: string (nullable = true)\n",
            " |-- Day of the week: string (nullable = true)\n",
            " |-- Seasons: string (nullable = true)\n",
            " |-- Transportation expense: string (nullable = true)\n",
            " |-- Distance from Residence to Work: string (nullable = true)\n",
            " |-- Service time: string (nullable = true)\n",
            " |-- Age: string (nullable = true)\n",
            " |-- Work load Average/day : string (nullable = true)\n",
            " |-- Hit target: string (nullable = true)\n",
            " |-- Disciplinary failure: string (nullable = true)\n",
            " |-- Education: string (nullable = true)\n",
            " |-- Son: string (nullable = true)\n",
            " |-- Social drinker: string (nullable = true)\n",
            " |-- Social smoker: string (nullable = true)\n",
            " |-- Pet: string (nullable = true)\n",
            " |-- Weight: string (nullable = true)\n",
            " |-- Height: string (nullable = true)\n",
            " |-- Body mass index: string (nullable = true)\n",
            " |-- Absenteeism time in hours: string (nullable = true)\n",
            "\n"
          ]
        }
      ]
    },
    {
      "cell_type": "markdown",
      "source": [
        "Resumindo: \n",
        "- O DataFrame tem 8891 linhas e 21 colunas. O esquema do DataFrame mostra que todas as colunas são do tipo string e são nullable (podem conter valores nulos). Algumas das colunas incluem \"ID\", \"Reason for absence\", \"Month of absence\", \"Age\" e \"Absenteeism time in hours\"."
      ],
      "metadata": {
        "id": "MxuKGwjWTyZb"
      }
    },
    {
      "cell_type": "code",
      "source": [
        "df.show(10)"
      ],
      "metadata": {
        "colab": {
          "base_uri": "https://localhost:8080/"
        },
        "id": "MHhZB0e8QZJq",
        "outputId": "c89df1f8-78d5-4b1f-da6f-2f43c18142b5"
      },
      "execution_count": null,
      "outputs": [
        {
          "output_type": "stream",
          "name": "stdout",
          "text": [
            "+---+------------------+----------------+---------------+-------+----------------------+-------------------------------+------------+---+----------------------+----------+--------------------+---------+---+--------------+-------------+---+------+------+---------------+-------------------------+\n",
            "| ID|Reason for absence|Month of absence|Day of the week|Seasons|Transportation expense|Distance from Residence to Work|Service time|Age|Work load Average/day |Hit target|Disciplinary failure|Education|Son|Social drinker|Social smoker|Pet|Weight|Height|Body mass index|Absenteeism time in hours|\n",
            "+---+------------------+----------------+---------------+-------+----------------------+-------------------------------+------------+---+----------------------+----------+--------------------+---------+---+--------------+-------------+---+------+------+---------------+-------------------------+\n",
            "| 11|                26|               7|              3|      1|                   289|                             36|          13| 33|               239.554|        97|                   0|        1|  2|             1|            0|  1|    90|   172|             30|                        4|\n",
            "| 36|                 0|               7|              3|      1|                   118|                             13|          18| 50|               239.554|        97|                   1|        1|  1|             1|            0|  0|    98|   178|             31|                        0|\n",
            "|  3|                23|               7|              4|      1|                   179|                             51|          18| 38|               239.554|        97|                   0|        1|  0|             1|            0|  0|    89|   170|             31|                        2|\n",
            "|  7|                 7|               7|              5|      1|                   279|                              5|          14| 39|               239.554|        97|                   0|        1|  2|             1|            1|  0|    68|   168|             24|                        4|\n",
            "| 11|                23|               7|              5|      1|                   289|                             36|          13| 33|               239.554|        97|                   0|        1|  2|             1|            0|  1|    90|   172|             30|                        2|\n",
            "|  3|                23|               7|              6|      1|                   179|                             51|          18| 38|               239.554|        97|                   0|        1|  0|             1|            0|  0|    89|   170|             31|                        2|\n",
            "| 10|                22|               7|              6|      1|                   361|                             52|           3| 28|               239.554|        97|                   0|        1|  1|             1|            0|  4|    80|   172|             27|                        8|\n",
            "| 20|                23|               7|              6|      1|                   260|                             50|          11| 36|               239.554|        97|                   0|        1|  4|             1|            0|  0|    65|   168|             23|                        4|\n",
            "| 14|                19|               7|              2|      1|                   155|                             12|          14| 34|               239.554|        97|                   0|        1|  2|             1|            0|  0|    95|   196|             25|                       40|\n",
            "|  1|                22|               7|              2|      1|                   235|                             11|          14| 37|               239.554|        97|                   0|        3|  1|             0|            0|  1|    88|   172|             29|                        8|\n",
            "+---+------------------+----------------+---------------+-------+----------------------+-------------------------------+------------+---+----------------------+----------+--------------------+---------+---+--------------+-------------+---+------+------+---------------+-------------------------+\n",
            "only showing top 10 rows\n",
            "\n"
          ]
        }
      ]
    },
    {
      "cell_type": "markdown",
      "source": [
        "##Descrição das variáveis do DataFrame:\n",
        "\n",
        "- ID: Identificador único para cada registo.\n",
        "- Razão para a ausência: Razão para a ausência do funcionário no trabalho.\n",
        "- Mês da ausência: O mês em que o funcionário estava ausente.\n",
        "- Dia da semana: O dia da semana em que o funcionário estava ausente.\n",
        "- Estações: A estação do ano em que o funcionário estava ausente.\n",
        "- Despesas de transporte: As despesas de transporte incorridas pelo funcionário ao viajar para o trabalho.\n",
        "- Distância da residência para o trabalho: A distância entre a residência do funcionário e o local de trabalho.\n",
        "- Tempo de serviço: O período de tempo em que o funcionário está a trabalhar na empresa.\n",
        "- Idade: A idade do funcionário.\n",
        "- Carga de trabalho média/dia: A carga de trabalho média do funcionário por dia.\n",
        "- Alvo atingido: Se o funcionário atingiu ou não o alvo\n",
        "- Falha disciplinar: Se o funcionário cometeu alguma falha disciplinar ou não.\n",
        "- Educação: O nível de educação do funcionário.\n",
        "- Filhos: O número de filhos que o funcionário tem.\n",
        "- Bebedor social: Se o funcionário bebe socialmente ou não.\n",
        "- Fumador social: Se o funcionário fuma socialmente ou não.\n",
        "- Animal de estimação: Se o funcionário tem algum animal de estimação ou não.\n",
        "- Peso: O peso do funcionário.\n",
        "- Altura: A altura do funcionário.\n",
        "- Índice de massa corporal: O índice de massa corporal do funcionário.\n",
        "- Tempo de ausência em horas: O número de horas que o funcionário ficou ausente."
      ],
      "metadata": {
        "id": "YLZpeS-tS9tx"
      }
    },
    {
      "cell_type": "code",
      "source": [
        "df = df.drop(\"id\")"
      ],
      "metadata": {
        "id": "yW8q41acuUw1"
      },
      "execution_count": null,
      "outputs": []
    },
    {
      "cell_type": "markdown",
      "source": [
        "Removeu-se a coluna ID pois não é relevante para os algoritmos de aprendizado de máquina."
      ],
      "metadata": {
        "id": "AR3uIAGcT9Oh"
      }
    },
    {
      "cell_type": "code",
      "source": [
        "df.show(10)"
      ],
      "metadata": {
        "colab": {
          "base_uri": "https://localhost:8080/"
        },
        "id": "3AaN9uQX381F",
        "outputId": "a169c8bd-5597-4c3a-f7b7-5421e7003bac"
      },
      "execution_count": null,
      "outputs": [
        {
          "output_type": "stream",
          "name": "stdout",
          "text": [
            "+------------------+----------------+---------------+-------+----------------------+-------------------------------+------------+---+----------------------+----------+--------------------+---------+---+--------------+-------------+---+------+------+---------------+-------------------------+\n",
            "|Reason for absence|Month of absence|Day of the week|Seasons|Transportation expense|Distance from Residence to Work|Service time|Age|Work load Average/day |Hit target|Disciplinary failure|Education|Son|Social drinker|Social smoker|Pet|Weight|Height|Body mass index|Absenteeism time in hours|\n",
            "+------------------+----------------+---------------+-------+----------------------+-------------------------------+------------+---+----------------------+----------+--------------------+---------+---+--------------+-------------+---+------+------+---------------+-------------------------+\n",
            "|                26|               7|              3|      1|                   289|                             36|          13| 33|               239.554|        97|                   0|        1|  2|             1|            0|  1|    90|   172|             30|                        4|\n",
            "|                 0|               7|              3|      1|                   118|                             13|          18| 50|               239.554|        97|                   1|        1|  1|             1|            0|  0|    98|   178|             31|                        0|\n",
            "|                23|               7|              4|      1|                   179|                             51|          18| 38|               239.554|        97|                   0|        1|  0|             1|            0|  0|    89|   170|             31|                        2|\n",
            "|                 7|               7|              5|      1|                   279|                              5|          14| 39|               239.554|        97|                   0|        1|  2|             1|            1|  0|    68|   168|             24|                        4|\n",
            "|                23|               7|              5|      1|                   289|                             36|          13| 33|               239.554|        97|                   0|        1|  2|             1|            0|  1|    90|   172|             30|                        2|\n",
            "|                23|               7|              6|      1|                   179|                             51|          18| 38|               239.554|        97|                   0|        1|  0|             1|            0|  0|    89|   170|             31|                        2|\n",
            "|                22|               7|              6|      1|                   361|                             52|           3| 28|               239.554|        97|                   0|        1|  1|             1|            0|  4|    80|   172|             27|                        8|\n",
            "|                23|               7|              6|      1|                   260|                             50|          11| 36|               239.554|        97|                   0|        1|  4|             1|            0|  0|    65|   168|             23|                        4|\n",
            "|                19|               7|              2|      1|                   155|                             12|          14| 34|               239.554|        97|                   0|        1|  2|             1|            0|  0|    95|   196|             25|                       40|\n",
            "|                22|               7|              2|      1|                   235|                             11|          14| 37|               239.554|        97|                   0|        3|  1|             0|            0|  1|    88|   172|             29|                        8|\n",
            "+------------------+----------------+---------------+-------+----------------------+-------------------------------+------------+---+----------------------+----------+--------------------+---------+---+--------------+-------------+---+------+------+---------------+-------------------------+\n",
            "only showing top 10 rows\n",
            "\n"
          ]
        }
      ]
    },
    {
      "cell_type": "markdown",
      "source": [
        "#COLOCAR AQUI ALGUMAS PERGUNTAS AO DATAFRAME: 3 PELO MENOS"
      ],
      "metadata": {
        "id": "dJChPFDZfEM5"
      }
    },
    {
      "cell_type": "code",
      "source": [
        "print(\"yhyh\")"
      ],
      "metadata": {
        "id": "epT6frXZfNad",
        "outputId": "9f996ea7-b320-4557-d831-a1170292de89",
        "colab": {
          "base_uri": "https://localhost:8080/"
        }
      },
      "execution_count": null,
      "outputs": [
        {
          "output_type": "stream",
          "name": "stdout",
          "text": [
            "yhyh\n"
          ]
        }
      ]
    },
    {
      "cell_type": "markdown",
      "source": [
        "#Pré tratamento e Análise exploratória de dados"
      ],
      "metadata": {
        "id": "l8L8Sgi2UAhf"
      }
    },
    {
      "cell_type": "markdown",
      "source": [
        "- Verificar o número de valores ausentes em cada coluna."
      ],
      "metadata": {
        "id": "UdoQ-eXJVkXy"
      }
    },
    {
      "cell_type": "code",
      "source": [
        "# criar uma lista para armazenar o número de valores ausentes em cada coluna.\n",
        "missing_values = []\n",
        "\n",
        "# iterar através das colunas no conjunto de dados.\n",
        "for col in df.columns:\n",
        "    missing_values.append((col, df.filter(df[col].isNull()).count()))\n",
        "\n",
        "# print os valores inexistentes\n",
        "for col, val in missing_values:\n",
        "    if val == 0:\n",
        "        print(\"{} : Nunhum missing values encontrado\".format(col))\n",
        "    else:\n",
        "        print(\"{} : {} missing values\".format(col, val))"
      ],
      "metadata": {
        "colab": {
          "base_uri": "https://localhost:8080/"
        },
        "id": "oIUHcnylVkkT",
        "outputId": "d2f3d3c4-7e20-4316-fcd0-cbc89ee6071f"
      },
      "execution_count": null,
      "outputs": [
        {
          "output_type": "stream",
          "name": "stdout",
          "text": [
            "Reason for absence : Nunhum missing values encontrado\n",
            "Month of absence : Nunhum missing values encontrado\n",
            "Day of the week : Nunhum missing values encontrado\n",
            "Seasons : Nunhum missing values encontrado\n",
            "Transportation expense : Nunhum missing values encontrado\n",
            "Distance from Residence to Work : Nunhum missing values encontrado\n",
            "Service time : Nunhum missing values encontrado\n",
            "Age : Nunhum missing values encontrado\n",
            "Work load Average/day  : Nunhum missing values encontrado\n",
            "Hit target : Nunhum missing values encontrado\n",
            "Disciplinary failure : Nunhum missing values encontrado\n",
            "Education : Nunhum missing values encontrado\n",
            "Son : Nunhum missing values encontrado\n",
            "Social drinker : Nunhum missing values encontrado\n",
            "Social smoker : Nunhum missing values encontrado\n",
            "Pet : Nunhum missing values encontrado\n",
            "Weight : Nunhum missing values encontrado\n",
            "Height : Nunhum missing values encontrado\n",
            "Body mass index : Nunhum missing values encontrado\n",
            "Absenteeism time in hours : Nunhum missing values encontrado\n"
          ]
        }
      ]
    },
    {
      "cell_type": "markdown",
      "source": [
        "- Verifiquar os tipos de dados das colunas."
      ],
      "metadata": {
        "id": "7ywFa9_dVuab"
      }
    },
    {
      "cell_type": "code",
      "source": [
        "df.dtypes"
      ],
      "metadata": {
        "colab": {
          "base_uri": "https://localhost:8080/"
        },
        "id": "D-44Emf8Vumq",
        "outputId": "ba4fe4b9-7e3a-4cb2-a6b7-9e0cd9bf40bd"
      },
      "execution_count": null,
      "outputs": [
        {
          "output_type": "execute_result",
          "data": {
            "text/plain": [
              "[('Reason for absence', 'string'),\n",
              " ('Month of absence', 'string'),\n",
              " ('Day of the week', 'string'),\n",
              " ('Seasons', 'string'),\n",
              " ('Transportation expense', 'string'),\n",
              " ('Distance from Residence to Work', 'string'),\n",
              " ('Service time', 'string'),\n",
              " ('Age', 'string'),\n",
              " ('Work load Average/day ', 'string'),\n",
              " ('Hit target', 'string'),\n",
              " ('Disciplinary failure', 'string'),\n",
              " ('Education', 'string'),\n",
              " ('Son', 'string'),\n",
              " ('Social drinker', 'string'),\n",
              " ('Social smoker', 'string'),\n",
              " ('Pet', 'string'),\n",
              " ('Weight', 'string'),\n",
              " ('Height', 'string'),\n",
              " ('Body mass index', 'string'),\n",
              " ('Absenteeism time in hours', 'string')]"
            ]
          },
          "metadata": {},
          "execution_count": 10
        }
      ]
    },
    {
      "cell_type": "markdown",
      "source": [
        "- Converter tipo de dados string para double"
      ],
      "metadata": {
        "id": "0Mxc948RrWH9"
      }
    },
    {
      "cell_type": "code",
      "source": [
        "from pyspark.sql.functions import col\n",
        "for column in df.columns:\n",
        "    df = df.withColumn(column, col(column).cast(\"double\"))"
      ],
      "metadata": {
        "id": "cdv6VTiErKoD"
      },
      "execution_count": null,
      "outputs": []
    },
    {
      "cell_type": "code",
      "source": [
        "df.dtypes"
      ],
      "metadata": {
        "colab": {
          "base_uri": "https://localhost:8080/"
        },
        "id": "v0zfHam_re5F",
        "outputId": "b27229ea-935b-4fc4-e8d3-093bc352779a"
      },
      "execution_count": null,
      "outputs": [
        {
          "output_type": "execute_result",
          "data": {
            "text/plain": [
              "[('Reason for absence', 'double'),\n",
              " ('Month of absence', 'double'),\n",
              " ('Day of the week', 'double'),\n",
              " ('Seasons', 'double'),\n",
              " ('Transportation expense', 'double'),\n",
              " ('Distance from Residence to Work', 'double'),\n",
              " ('Service time', 'double'),\n",
              " ('Age', 'double'),\n",
              " ('Work load Average/day ', 'double'),\n",
              " ('Hit target', 'double'),\n",
              " ('Disciplinary failure', 'double'),\n",
              " ('Education', 'double'),\n",
              " ('Son', 'double'),\n",
              " ('Social drinker', 'double'),\n",
              " ('Social smoker', 'double'),\n",
              " ('Pet', 'double'),\n",
              " ('Weight', 'double'),\n",
              " ('Height', 'double'),\n",
              " ('Body mass index', 'double'),\n",
              " ('Absenteeism time in hours', 'double')]"
            ]
          },
          "metadata": {},
          "execution_count": 12
        }
      ]
    },
    {
      "cell_type": "markdown",
      "source": [
        "- Mapear os valores inteiros da coluna \"Reason for absence\" para descrições de texto correspondentes."
      ],
      "metadata": {
        "id": "FiM9vJkCUW8i"
      }
    },
    {
      "cell_type": "code",
      "source": [
        "from pyspark.sql.functions import when\n",
        "from pyspark.sql.functions import array\n",
        "from pyspark.sql.functions import udf\n",
        "# Criar o dicionario mapping \n",
        "mapping_dict = {\n",
        "    0: \"CID - Patient follow-up\",\n",
        "    1: \"CID - Medical consultation\",\n",
        "    2: \"CID - Blood donation\",\n",
        "    3: \"CID - Laboratory examination\",\n",
        "    4: \"CID - Unjustified absence\",\n",
        "    5: \"CID - Physiotherapy\",\n",
        "    6: \"CID - Dental consultation\",\n",
        "    7: \"Certain infectious and parasitic diseases\",\n",
        "    8: \"Neoplasms\",\n",
        "    9: \"Diseases of the blood and blood-forming organs and certain disorders involving the immune mechanism\",\n",
        "    10: \"Endocrine, nutritional and metabolic diseases\",\n",
        "    11: \"Mental and behavioural disorders\",\n",
        "    12: \"Diseases of the nervous system\",\n",
        "    13: \"Diseases of the eye and adnexa\",\n",
        "    14: \"Diseases of the ear and mastoid process\",\n",
        "    15: \"Diseases of the circulatory system\",\n",
        "    16: \"Diseases of the respiratory system\",\n",
        "    17: \"Diseases of the digestive system\",\n",
        "    18: \"Diseases of the skin and subcutaneous tissue\",\n",
        "    19: \"Diseases of the musculoskeletal system and connective tissue\",\n",
        "    20: \"Diseases of the genitourinary system\",\n",
        "    21: \"Pregnancy, childbirth and the puerperium\",\n",
        "    22: \"Certain conditions originating in the perinatal period\",\n",
        "    23: \"Congenital malformations, deformations and chromosomal abnormalities\",\n",
        "    24: \"Symptoms, signs and abnormal clinical and laboratory findings, not elsewhere classified\",\n",
        "    25: \"Injury, poisoning and certain other consequences of external causes\",\n",
        "    26: \"External causes of morbidity and mortality\",\n",
        "    27: \"Factors influencing health status and contact with health services\"\n",
        "}\n",
        "\n",
        "# Criar a função definida pelo usuário.\n",
        "map_reason = udf(lambda x: mapping_dict.get(x))\n",
        "\n",
        "# Aplicar a função definida pelo usuário ao dataframe\n",
        "df = df.withColumn(\"Reason for absence\", map_reason(col(\"Reason for absence\")))"
      ],
      "metadata": {
        "id": "RwsSijZ0xnBh"
      },
      "execution_count": null,
      "outputs": []
    },
    {
      "cell_type": "markdown",
      "source": [
        "- Resultado:"
      ],
      "metadata": {
        "id": "lu9wR4j6Uyp4"
      }
    },
    {
      "cell_type": "code",
      "source": [
        "# Seleciona a coluna específica \"Reason for absence\" e mostra o conteúdo da mesma.\n",
        "df.select(\"Reason for absence\").show()"
      ],
      "metadata": {
        "colab": {
          "base_uri": "https://localhost:8080/"
        },
        "id": "n-cRUJQUtISa",
        "outputId": "1a5d139e-a2c3-47b2-a24a-2e2e97ab9786"
      },
      "execution_count": null,
      "outputs": [
        {
          "output_type": "stream",
          "name": "stdout",
          "text": [
            "+--------------------+\n",
            "|  Reason for absence|\n",
            "+--------------------+\n",
            "|External causes o...|\n",
            "|CID - Patient fol...|\n",
            "|Congenital malfor...|\n",
            "|Certain infectiou...|\n",
            "|Congenital malfor...|\n",
            "|Congenital malfor...|\n",
            "|Certain condition...|\n",
            "|Congenital malfor...|\n",
            "|Diseases of the m...|\n",
            "|Certain condition...|\n",
            "|CID - Medical con...|\n",
            "|CID - Medical con...|\n",
            "|Mental and behavi...|\n",
            "|Mental and behavi...|\n",
            "|Congenital malfor...|\n",
            "|Diseases of the e...|\n",
            "|Congenital malfor...|\n",
            "|Pregnancy, childb...|\n",
            "|Mental and behavi...|\n",
            "|Congenital malfor...|\n",
            "+--------------------+\n",
            "only showing top 20 rows\n",
            "\n"
          ]
        }
      ]
    },
    {
      "cell_type": "code",
      "source": [
        "df.show(10)"
      ],
      "metadata": {
        "colab": {
          "base_uri": "https://localhost:8080/"
        },
        "id": "gUZKEvuttQ3Z",
        "outputId": "8531f673-8933-4791-a688-b4d120ad61f8"
      },
      "execution_count": null,
      "outputs": [
        {
          "output_type": "stream",
          "name": "stdout",
          "text": [
            "+--------------------+----------------+---------------+-------+----------------------+-------------------------------+------------+----+----------------------+----------+--------------------+---------+---+--------------+-------------+---+------+------+---------------+-------------------------+\n",
            "|  Reason for absence|Month of absence|Day of the week|Seasons|Transportation expense|Distance from Residence to Work|Service time| Age|Work load Average/day |Hit target|Disciplinary failure|Education|Son|Social drinker|Social smoker|Pet|Weight|Height|Body mass index|Absenteeism time in hours|\n",
            "+--------------------+----------------+---------------+-------+----------------------+-------------------------------+------------+----+----------------------+----------+--------------------+---------+---+--------------+-------------+---+------+------+---------------+-------------------------+\n",
            "|External causes o...|             7.0|            3.0|    1.0|                 289.0|                           36.0|        13.0|33.0|               239.554|      97.0|                 0.0|      1.0|2.0|           1.0|          0.0|1.0|  90.0| 172.0|           30.0|                      4.0|\n",
            "|CID - Patient fol...|             7.0|            3.0|    1.0|                 118.0|                           13.0|        18.0|50.0|               239.554|      97.0|                 1.0|      1.0|1.0|           1.0|          0.0|0.0|  98.0| 178.0|           31.0|                      0.0|\n",
            "|Congenital malfor...|             7.0|            4.0|    1.0|                 179.0|                           51.0|        18.0|38.0|               239.554|      97.0|                 0.0|      1.0|0.0|           1.0|          0.0|0.0|  89.0| 170.0|           31.0|                      2.0|\n",
            "|Certain infectiou...|             7.0|            5.0|    1.0|                 279.0|                            5.0|        14.0|39.0|               239.554|      97.0|                 0.0|      1.0|2.0|           1.0|          1.0|0.0|  68.0| 168.0|           24.0|                      4.0|\n",
            "|Congenital malfor...|             7.0|            5.0|    1.0|                 289.0|                           36.0|        13.0|33.0|               239.554|      97.0|                 0.0|      1.0|2.0|           1.0|          0.0|1.0|  90.0| 172.0|           30.0|                      2.0|\n",
            "|Congenital malfor...|             7.0|            6.0|    1.0|                 179.0|                           51.0|        18.0|38.0|               239.554|      97.0|                 0.0|      1.0|0.0|           1.0|          0.0|0.0|  89.0| 170.0|           31.0|                      2.0|\n",
            "|Certain condition...|             7.0|            6.0|    1.0|                 361.0|                           52.0|         3.0|28.0|               239.554|      97.0|                 0.0|      1.0|1.0|           1.0|          0.0|4.0|  80.0| 172.0|           27.0|                      8.0|\n",
            "|Congenital malfor...|             7.0|            6.0|    1.0|                 260.0|                           50.0|        11.0|36.0|               239.554|      97.0|                 0.0|      1.0|4.0|           1.0|          0.0|0.0|  65.0| 168.0|           23.0|                      4.0|\n",
            "|Diseases of the m...|             7.0|            2.0|    1.0|                 155.0|                           12.0|        14.0|34.0|               239.554|      97.0|                 0.0|      1.0|2.0|           1.0|          0.0|0.0|  95.0| 196.0|           25.0|                     40.0|\n",
            "|Certain condition...|             7.0|            2.0|    1.0|                 235.0|                           11.0|        14.0|37.0|               239.554|      97.0|                 0.0|      3.0|1.0|           0.0|          0.0|1.0|  88.0| 172.0|           29.0|                      8.0|\n",
            "+--------------------+----------------+---------------+-------+----------------------+-------------------------------+------------+----+----------------------+----------+--------------------+---------+---+--------------+-------------+---+------+------+---------------+-------------------------+\n",
            "only showing top 10 rows\n",
            "\n"
          ]
        }
      ]
    },
    {
      "cell_type": "code",
      "source": [
        "df.dtypes"
      ],
      "metadata": {
        "colab": {
          "base_uri": "https://localhost:8080/"
        },
        "id": "CA8_kKg-0pQN",
        "outputId": "c2e3b49c-059d-48bf-bc2a-56f1643fd0bf"
      },
      "execution_count": null,
      "outputs": [
        {
          "output_type": "execute_result",
          "data": {
            "text/plain": [
              "[('Reason for absence', 'string'),\n",
              " ('Month of absence', 'double'),\n",
              " ('Day of the week', 'double'),\n",
              " ('Seasons', 'double'),\n",
              " ('Transportation expense', 'double'),\n",
              " ('Distance from Residence to Work', 'double'),\n",
              " ('Service time', 'double'),\n",
              " ('Age', 'double'),\n",
              " ('Work load Average/day ', 'double'),\n",
              " ('Hit target', 'double'),\n",
              " ('Disciplinary failure', 'double'),\n",
              " ('Education', 'double'),\n",
              " ('Son', 'double'),\n",
              " ('Social drinker', 'double'),\n",
              " ('Social smoker', 'double'),\n",
              " ('Pet', 'double'),\n",
              " ('Weight', 'double'),\n",
              " ('Height', 'double'),\n",
              " ('Body mass index', 'double'),\n",
              " ('Absenteeism time in hours', 'double')]"
            ]
          },
          "metadata": {},
          "execution_count": 16
        }
      ]
    },
    {
      "cell_type": "markdown",
      "source": [
        "- Verifica as estatísticas das colunas numéricas.\n"
      ],
      "metadata": {
        "id": "rbOnyOggvDJ6"
      }
    },
    {
      "cell_type": "code",
      "source": [
        "df.describe().toPandas()"
      ],
      "metadata": {
        "id": "a2pAvuw8u1kU",
        "outputId": "527f13e4-2c1a-4979-d782-21de950b5fbd",
        "colab": {
          "base_uri": "https://localhost:8080/",
          "height": 438
        }
      },
      "execution_count": null,
      "outputs": [
        {
          "output_type": "execute_result",
          "data": {
            "text/plain": [
              "  summary                                 Reason for absence  \\\n",
              "0   count                                               1884   \n",
              "1    mean                                               None   \n",
              "2  stddev                                               None   \n",
              "3     min                               CID - Blood donation   \n",
              "4     max  Symptoms, signs and abnormal clinical and labo...   \n",
              "\n",
              "     Month of absence     Day of the week             Seasons  \\\n",
              "0                2220                2220                2220   \n",
              "1   6.324324324324325  3.9148648648648647  2.5445945945945945   \n",
              "2  3.4347380082675607  1.4210338827190994  1.1113298967061096   \n",
              "3                 0.0                 2.0                 1.0   \n",
              "4                12.0                 6.0                 4.0   \n",
              "\n",
              "  Transportation expense Distance from Residence to Work        Service time  \\\n",
              "0                   2220                            2220                2220   \n",
              "1     221.32972972972973               29.63108108108108  12.554054054054054   \n",
              "2      66.92204419341671              14.830100679610208   4.382896903843643   \n",
              "3                  118.0                             5.0                 1.0   \n",
              "4                  388.0                            52.0                29.0   \n",
              "\n",
              "                 Age Work load Average/day   ... Disciplinary failure  \\\n",
              "0               2220                   2220  ...                 2220   \n",
              "1              36.45      271.4902351351353  ...  0.05405405405405406   \n",
              "2  6.475852118289455      39.04051054551494  ...  0.22617527761135806   \n",
              "3               27.0                205.917  ...                  0.0   \n",
              "4               58.0                378.884  ...                  1.0   \n",
              "\n",
              "            Education                 Son      Social drinker  \\\n",
              "0                2220                2220                2220   \n",
              "1  1.2918918918918918   1.018918918918919  0.5675675675675675   \n",
              "2  0.6729345760864719  1.0979938700710332  0.4955252059909352   \n",
              "3                 1.0                 0.0                 0.0   \n",
              "4                 4.0                 4.0                 1.0   \n",
              "\n",
              "         Social smoker                 Pet              Weight  \\\n",
              "0                 2220                2220                2220   \n",
              "1  0.07297297297297298   0.745945945945946   79.03513513513514   \n",
              "2   0.2601507331452413  1.3176640797602241  12.877403335141269   \n",
              "3                  0.0                 0.0                56.0   \n",
              "4                  1.0                 8.0               108.0   \n",
              "\n",
              "               Height     Body mass index Absenteeism time in hours  \n",
              "0                2220                2220                      2220  \n",
              "1  172.11486486486487  26.677027027027027         6.924324324324324  \n",
              "2   6.032274226081547   4.283520533989496        13.324989086428598  \n",
              "3               163.0                19.0                       0.0  \n",
              "4               196.0                38.0                     120.0  \n",
              "\n",
              "[5 rows x 21 columns]"
            ],
            "text/html": [
              "\n",
              "  <div id=\"df-a7de5e6a-8202-4822-ae7b-02e30d86e5cf\">\n",
              "    <div class=\"colab-df-container\">\n",
              "      <div>\n",
              "<style scoped>\n",
              "    .dataframe tbody tr th:only-of-type {\n",
              "        vertical-align: middle;\n",
              "    }\n",
              "\n",
              "    .dataframe tbody tr th {\n",
              "        vertical-align: top;\n",
              "    }\n",
              "\n",
              "    .dataframe thead th {\n",
              "        text-align: right;\n",
              "    }\n",
              "</style>\n",
              "<table border=\"1\" class=\"dataframe\">\n",
              "  <thead>\n",
              "    <tr style=\"text-align: right;\">\n",
              "      <th></th>\n",
              "      <th>summary</th>\n",
              "      <th>Reason for absence</th>\n",
              "      <th>Month of absence</th>\n",
              "      <th>Day of the week</th>\n",
              "      <th>Seasons</th>\n",
              "      <th>Transportation expense</th>\n",
              "      <th>Distance from Residence to Work</th>\n",
              "      <th>Service time</th>\n",
              "      <th>Age</th>\n",
              "      <th>Work load Average/day</th>\n",
              "      <th>...</th>\n",
              "      <th>Disciplinary failure</th>\n",
              "      <th>Education</th>\n",
              "      <th>Son</th>\n",
              "      <th>Social drinker</th>\n",
              "      <th>Social smoker</th>\n",
              "      <th>Pet</th>\n",
              "      <th>Weight</th>\n",
              "      <th>Height</th>\n",
              "      <th>Body mass index</th>\n",
              "      <th>Absenteeism time in hours</th>\n",
              "    </tr>\n",
              "  </thead>\n",
              "  <tbody>\n",
              "    <tr>\n",
              "      <th>0</th>\n",
              "      <td>count</td>\n",
              "      <td>1884</td>\n",
              "      <td>2220</td>\n",
              "      <td>2220</td>\n",
              "      <td>2220</td>\n",
              "      <td>2220</td>\n",
              "      <td>2220</td>\n",
              "      <td>2220</td>\n",
              "      <td>2220</td>\n",
              "      <td>2220</td>\n",
              "      <td>...</td>\n",
              "      <td>2220</td>\n",
              "      <td>2220</td>\n",
              "      <td>2220</td>\n",
              "      <td>2220</td>\n",
              "      <td>2220</td>\n",
              "      <td>2220</td>\n",
              "      <td>2220</td>\n",
              "      <td>2220</td>\n",
              "      <td>2220</td>\n",
              "      <td>2220</td>\n",
              "    </tr>\n",
              "    <tr>\n",
              "      <th>1</th>\n",
              "      <td>mean</td>\n",
              "      <td>None</td>\n",
              "      <td>6.324324324324325</td>\n",
              "      <td>3.9148648648648647</td>\n",
              "      <td>2.5445945945945945</td>\n",
              "      <td>221.32972972972973</td>\n",
              "      <td>29.63108108108108</td>\n",
              "      <td>12.554054054054054</td>\n",
              "      <td>36.45</td>\n",
              "      <td>271.4902351351353</td>\n",
              "      <td>...</td>\n",
              "      <td>0.05405405405405406</td>\n",
              "      <td>1.2918918918918918</td>\n",
              "      <td>1.018918918918919</td>\n",
              "      <td>0.5675675675675675</td>\n",
              "      <td>0.07297297297297298</td>\n",
              "      <td>0.745945945945946</td>\n",
              "      <td>79.03513513513514</td>\n",
              "      <td>172.11486486486487</td>\n",
              "      <td>26.677027027027027</td>\n",
              "      <td>6.924324324324324</td>\n",
              "    </tr>\n",
              "    <tr>\n",
              "      <th>2</th>\n",
              "      <td>stddev</td>\n",
              "      <td>None</td>\n",
              "      <td>3.4347380082675607</td>\n",
              "      <td>1.4210338827190994</td>\n",
              "      <td>1.1113298967061096</td>\n",
              "      <td>66.92204419341671</td>\n",
              "      <td>14.830100679610208</td>\n",
              "      <td>4.382896903843643</td>\n",
              "      <td>6.475852118289455</td>\n",
              "      <td>39.04051054551494</td>\n",
              "      <td>...</td>\n",
              "      <td>0.22617527761135806</td>\n",
              "      <td>0.6729345760864719</td>\n",
              "      <td>1.0979938700710332</td>\n",
              "      <td>0.4955252059909352</td>\n",
              "      <td>0.2601507331452413</td>\n",
              "      <td>1.3176640797602241</td>\n",
              "      <td>12.877403335141269</td>\n",
              "      <td>6.032274226081547</td>\n",
              "      <td>4.283520533989496</td>\n",
              "      <td>13.324989086428598</td>\n",
              "    </tr>\n",
              "    <tr>\n",
              "      <th>3</th>\n",
              "      <td>min</td>\n",
              "      <td>CID - Blood donation</td>\n",
              "      <td>0.0</td>\n",
              "      <td>2.0</td>\n",
              "      <td>1.0</td>\n",
              "      <td>118.0</td>\n",
              "      <td>5.0</td>\n",
              "      <td>1.0</td>\n",
              "      <td>27.0</td>\n",
              "      <td>205.917</td>\n",
              "      <td>...</td>\n",
              "      <td>0.0</td>\n",
              "      <td>1.0</td>\n",
              "      <td>0.0</td>\n",
              "      <td>0.0</td>\n",
              "      <td>0.0</td>\n",
              "      <td>0.0</td>\n",
              "      <td>56.0</td>\n",
              "      <td>163.0</td>\n",
              "      <td>19.0</td>\n",
              "      <td>0.0</td>\n",
              "    </tr>\n",
              "    <tr>\n",
              "      <th>4</th>\n",
              "      <td>max</td>\n",
              "      <td>Symptoms, signs and abnormal clinical and labo...</td>\n",
              "      <td>12.0</td>\n",
              "      <td>6.0</td>\n",
              "      <td>4.0</td>\n",
              "      <td>388.0</td>\n",
              "      <td>52.0</td>\n",
              "      <td>29.0</td>\n",
              "      <td>58.0</td>\n",
              "      <td>378.884</td>\n",
              "      <td>...</td>\n",
              "      <td>1.0</td>\n",
              "      <td>4.0</td>\n",
              "      <td>4.0</td>\n",
              "      <td>1.0</td>\n",
              "      <td>1.0</td>\n",
              "      <td>8.0</td>\n",
              "      <td>108.0</td>\n",
              "      <td>196.0</td>\n",
              "      <td>38.0</td>\n",
              "      <td>120.0</td>\n",
              "    </tr>\n",
              "  </tbody>\n",
              "</table>\n",
              "<p>5 rows × 21 columns</p>\n",
              "</div>\n",
              "      <button class=\"colab-df-convert\" onclick=\"convertToInteractive('df-a7de5e6a-8202-4822-ae7b-02e30d86e5cf')\"\n",
              "              title=\"Convert this dataframe to an interactive table.\"\n",
              "              style=\"display:none;\">\n",
              "        \n",
              "  <svg xmlns=\"http://www.w3.org/2000/svg\" height=\"24px\"viewBox=\"0 0 24 24\"\n",
              "       width=\"24px\">\n",
              "    <path d=\"M0 0h24v24H0V0z\" fill=\"none\"/>\n",
              "    <path d=\"M18.56 5.44l.94 2.06.94-2.06 2.06-.94-2.06-.94-.94-2.06-.94 2.06-2.06.94zm-11 1L8.5 8.5l.94-2.06 2.06-.94-2.06-.94L8.5 2.5l-.94 2.06-2.06.94zm10 10l.94 2.06.94-2.06 2.06-.94-2.06-.94-.94-2.06-.94 2.06-2.06.94z\"/><path d=\"M17.41 7.96l-1.37-1.37c-.4-.4-.92-.59-1.43-.59-.52 0-1.04.2-1.43.59L10.3 9.45l-7.72 7.72c-.78.78-.78 2.05 0 2.83L4 21.41c.39.39.9.59 1.41.59.51 0 1.02-.2 1.41-.59l7.78-7.78 2.81-2.81c.8-.78.8-2.07 0-2.86zM5.41 20L4 18.59l7.72-7.72 1.47 1.35L5.41 20z\"/>\n",
              "  </svg>\n",
              "      </button>\n",
              "      \n",
              "  <style>\n",
              "    .colab-df-container {\n",
              "      display:flex;\n",
              "      flex-wrap:wrap;\n",
              "      gap: 12px;\n",
              "    }\n",
              "\n",
              "    .colab-df-convert {\n",
              "      background-color: #E8F0FE;\n",
              "      border: none;\n",
              "      border-radius: 50%;\n",
              "      cursor: pointer;\n",
              "      display: none;\n",
              "      fill: #1967D2;\n",
              "      height: 32px;\n",
              "      padding: 0 0 0 0;\n",
              "      width: 32px;\n",
              "    }\n",
              "\n",
              "    .colab-df-convert:hover {\n",
              "      background-color: #E2EBFA;\n",
              "      box-shadow: 0px 1px 2px rgba(60, 64, 67, 0.3), 0px 1px 3px 1px rgba(60, 64, 67, 0.15);\n",
              "      fill: #174EA6;\n",
              "    }\n",
              "\n",
              "    [theme=dark] .colab-df-convert {\n",
              "      background-color: #3B4455;\n",
              "      fill: #D2E3FC;\n",
              "    }\n",
              "\n",
              "    [theme=dark] .colab-df-convert:hover {\n",
              "      background-color: #434B5C;\n",
              "      box-shadow: 0px 1px 3px 1px rgba(0, 0, 0, 0.15);\n",
              "      filter: drop-shadow(0px 1px 2px rgba(0, 0, 0, 0.3));\n",
              "      fill: #FFFFFF;\n",
              "    }\n",
              "  </style>\n",
              "\n",
              "      <script>\n",
              "        const buttonEl =\n",
              "          document.querySelector('#df-a7de5e6a-8202-4822-ae7b-02e30d86e5cf button.colab-df-convert');\n",
              "        buttonEl.style.display =\n",
              "          google.colab.kernel.accessAllowed ? 'block' : 'none';\n",
              "\n",
              "        async function convertToInteractive(key) {\n",
              "          const element = document.querySelector('#df-a7de5e6a-8202-4822-ae7b-02e30d86e5cf');\n",
              "          const dataTable =\n",
              "            await google.colab.kernel.invokeFunction('convertToInteractive',\n",
              "                                                     [key], {});\n",
              "          if (!dataTable) return;\n",
              "\n",
              "          const docLinkHtml = 'Like what you see? Visit the ' +\n",
              "            '<a target=\"_blank\" href=https://colab.research.google.com/notebooks/data_table.ipynb>data table notebook</a>'\n",
              "            + ' to learn more about interactive tables.';\n",
              "          element.innerHTML = '';\n",
              "          dataTable['output_type'] = 'display_data';\n",
              "          await google.colab.output.renderOutput(dataTable, element);\n",
              "          const docLink = document.createElement('div');\n",
              "          docLink.innerHTML = docLinkHtml;\n",
              "          element.appendChild(docLink);\n",
              "        }\n",
              "      </script>\n",
              "    </div>\n",
              "  </div>\n",
              "  "
            ]
          },
          "metadata": {},
          "execution_count": 17
        }
      ]
    },
    {
      "cell_type": "markdown",
      "source": [
        "- Verifica a correlação entre as colunas."
      ],
      "metadata": {
        "id": "YRWORZmcZpaY"
      }
    },
    {
      "cell_type": "code",
      "source": [
        "corr = df.stat.corr(\"Month of absence\", \"Transportation expense\")\n",
        "print(corr)"
      ],
      "metadata": {
        "colab": {
          "base_uri": "https://localhost:8080/"
        },
        "id": "M5Dl2OSHZpmq",
        "outputId": "5d294e3b-889a-409a-84e2-53ebc45dbf58"
      },
      "execution_count": null,
      "outputs": [
        {
          "output_type": "stream",
          "name": "stdout",
          "text": [
            "0.14209238381654588\n"
          ]
        }
      ]
    },
    {
      "cell_type": "markdown",
      "source": [
        "- Verifica o número de valores únicos em cada coluna."
      ],
      "metadata": {
        "id": "CW3ZHgn5ZRmw"
      }
    },
    {
      "cell_type": "code",
      "source": [
        "for col in df.columns:\n",
        "    print(\"Unique values in column '{}':\".format(col), df.select(col).distinct().count())"
      ],
      "metadata": {
        "colab": {
          "base_uri": "https://localhost:8080/"
        },
        "id": "LyIVMUGvZRX2",
        "outputId": "5f4722e6-7ea3-4d8c-bbf4-295f6507992c"
      },
      "execution_count": null,
      "outputs": [
        {
          "output_type": "stream",
          "name": "stdout",
          "text": [
            "Unique values in column 'Reason for absence': 28\n",
            "Unique values in column 'Month of absence': 14\n",
            "Unique values in column 'Day of the week': 6\n",
            "Unique values in column 'Seasons': 5\n",
            "Unique values in column 'Transportation expense': 25\n",
            "Unique values in column 'Distance from Residence to Work': 26\n",
            "Unique values in column 'Service time': 19\n",
            "Unique values in column 'Age': 23\n",
            "Unique values in column 'Work load Average/day ': 39\n",
            "Unique values in column 'Hit target': 14\n",
            "Unique values in column 'Disciplinary failure': 3\n",
            "Unique values in column 'Education': 5\n",
            "Unique values in column 'Son': 6\n",
            "Unique values in column 'Social drinker': 3\n",
            "Unique values in column 'Social smoker': 3\n",
            "Unique values in column 'Pet': 7\n",
            "Unique values in column 'Weight': 27\n",
            "Unique values in column 'Height': 15\n",
            "Unique values in column 'Body mass index': 18\n",
            "Unique values in column 'Absenteeism time in hours': 20\n"
          ]
        }
      ]
    },
    {
      "cell_type": "markdown",
      "source": [
        "- Verifica a distribuição de cada coluna."
      ],
      "metadata": {
        "id": "RpIyc62DbzvG"
      }
    },
    {
      "cell_type": "code",
      "source": [
        "for col in df.columns:\n",
        "    df.select(col).groupBy(col).count().show()"
      ],
      "metadata": {
        "colab": {
          "base_uri": "https://localhost:8080/"
        },
        "id": "YrPtshpGbz0u",
        "outputId": "de6b5e00-55e5-4a04-d90b-4bd3d9a088a6"
      },
      "execution_count": null,
      "outputs": [
        {
          "output_type": "stream",
          "name": "stdout",
          "text": [
            "+--------------------+-----+\n",
            "|  Reason for absence|count|\n",
            "+--------------------+-----+\n",
            "|Congenital malfor...|  447|\n",
            "|Symptoms, signs a...|    9|\n",
            "|CID - Dental cons...|   24|\n",
            "|CID - Unjustified...|    6|\n",
            "|                null|  338|\n",
            "|Diseases of the e...|  165|\n",
            "|CID - Laboratory ...|    3|\n",
            "|CID - Blood donation|    3|\n",
            "|Injury, poisoning...|   93|\n",
            "|           Neoplasms|   18|\n",
            "|CID - Patient fol...|  129|\n",
            "|Pregnancy, childb...|   18|\n",
            "|Endocrine, nutrit...|   75|\n",
            "|Diseases of the b...|   12|\n",
            "|Diseases of the c...|    6|\n",
            "| CID - Physiotherapy|    9|\n",
            "|Diseases of the m...|  120|\n",
            "|Diseases of the e...|   57|\n",
            "|Certain condition...|  114|\n",
            "|Diseases of the s...|   63|\n",
            "+--------------------+-----+\n",
            "only showing top 20 rows\n",
            "\n",
            "+----------------+-----+\n",
            "|Month of absence|count|\n",
            "+----------------+-----+\n",
            "|             8.0|  162|\n",
            "|             0.0|    9|\n",
            "|             7.0|  201|\n",
            "|            null|    2|\n",
            "|             1.0|  150|\n",
            "|             4.0|  159|\n",
            "|            11.0|  189|\n",
            "|             3.0|  261|\n",
            "|             2.0|  216|\n",
            "|            10.0|  213|\n",
            "|             6.0|  162|\n",
            "|             5.0|  192|\n",
            "|             9.0|  159|\n",
            "|            12.0|  147|\n",
            "+----------------+-----+\n",
            "\n",
            "+---------------+-----+\n",
            "|Day of the week|count|\n",
            "+---------------+-----+\n",
            "|           null|    2|\n",
            "|            4.0|  468|\n",
            "|            3.0|  462|\n",
            "|            2.0|  483|\n",
            "|            6.0|  432|\n",
            "|            5.0|  375|\n",
            "+---------------+-----+\n",
            "\n",
            "+-------+-----+\n",
            "|Seasons|count|\n",
            "+-------+-----+\n",
            "|   null|    2|\n",
            "|    1.0|  510|\n",
            "|    4.0|  585|\n",
            "|    3.0|  549|\n",
            "|    2.0|  576|\n",
            "+-------+-----+\n",
            "\n",
            "+----------------------+-----+\n",
            "|Transportation expense|count|\n",
            "+----------------------+-----+\n",
            "|                 184.0|   21|\n",
            "|                 235.0|  174|\n",
            "|                 369.0|   45|\n",
            "|                 155.0|   87|\n",
            "|                 268.0|    9|\n",
            "|                 279.0|   18|\n",
            "|                 388.0|    9|\n",
            "|                  null|    2|\n",
            "|                 378.0|   24|\n",
            "|                 231.0|    6|\n",
            "|                 179.0|  540|\n",
            "|                 300.0|   15|\n",
            "|                 225.0|  243|\n",
            "|                 246.0|   90|\n",
            "|                 330.0|   48|\n",
            "|                 248.0|   72|\n",
            "|                 118.0|  276|\n",
            "|                 361.0|   72|\n",
            "|                 157.0|   21|\n",
            "|                 291.0|  120|\n",
            "+----------------------+-----+\n",
            "only showing top 20 rows\n",
            "\n",
            "+-------------------------------+-----+\n",
            "|Distance from Residence to Work|count|\n",
            "+-------------------------------+-----+\n",
            "|                           49.0|   24|\n",
            "|                           29.0|   42|\n",
            "|                           42.0|   21|\n",
            "|                           35.0|    6|\n",
            "|                           null|    2|\n",
            "|                           25.0|  162|\n",
            "|                           36.0|  120|\n",
            "|                           50.0|  135|\n",
            "|                           45.0|    3|\n",
            "|                           31.0|  111|\n",
            "|                           11.0|   78|\n",
            "|                           51.0|  360|\n",
            "|                           14.0|   27|\n",
            "|                           48.0|   15|\n",
            "|                           22.0|   60|\n",
            "|                           17.0|   45|\n",
            "|                           27.0|   21|\n",
            "|                           10.0|  165|\n",
            "|                           13.0|  102|\n",
            "|                           20.0|   57|\n",
            "+-------------------------------+-----+\n",
            "only showing top 20 rows\n",
            "\n",
            "+------------+-----+\n",
            "|Service time|count|\n",
            "+------------+-----+\n",
            "|         8.0|   39|\n",
            "|         7.0|   21|\n",
            "|        29.0|   15|\n",
            "|        null|    2|\n",
            "|        18.0|  441|\n",
            "|         1.0|   21|\n",
            "|         4.0|   48|\n",
            "|        11.0|  150|\n",
            "|        14.0|  255|\n",
            "|         3.0|   72|\n",
            "|        17.0|   60|\n",
            "|        10.0|  165|\n",
            "|        13.0|  219|\n",
            "|         6.0|   21|\n",
            "|        15.0|   12|\n",
            "|        24.0|    6|\n",
            "|         9.0|  378|\n",
            "|        16.0|  114|\n",
            "|        12.0|  183|\n",
            "+------------+-----+\n",
            "\n",
            "+----+-----+\n",
            "| Age|count|\n",
            "+----+-----+\n",
            "|49.0|   15|\n",
            "|29.0|   21|\n",
            "|47.0|   72|\n",
            "|null|    2|\n",
            "|39.0|   24|\n",
            "|34.0|   87|\n",
            "|37.0|  234|\n",
            "|36.0|  150|\n",
            "|41.0|  102|\n",
            "|50.0|  111|\n",
            "|31.0|   66|\n",
            "|58.0|   24|\n",
            "|48.0|   18|\n",
            "|53.0|    3|\n",
            "|46.0|    6|\n",
            "|28.0|  351|\n",
            "|38.0|  339|\n",
            "|27.0|   21|\n",
            "|40.0|  174|\n",
            "|30.0|  138|\n",
            "+----+-----+\n",
            "only showing top 20 rows\n",
            "\n",
            "+----------------------+-----+\n",
            "|Work load Average/day |count|\n",
            "+----------------------+-----+\n",
            "|               239.409|   39|\n",
            "|               236.629|   57|\n",
            "|               239.554|   57|\n",
            "|                230.29|   60|\n",
            "|               313.532|   45|\n",
            "|               244.387|   66|\n",
            "|               271.219|    9|\n",
            "|               306.345|   54|\n",
            "|                377.55|   48|\n",
            "|               308.593|   72|\n",
            "|                  null|    2|\n",
            "|               249.797|   45|\n",
            "|               343.253|   87|\n",
            "|               378.884|   48|\n",
            "|               251.818|   63|\n",
            "|               253.957|   57|\n",
            "|               261.756|   36|\n",
            "|               237.656|   96|\n",
            "|               261.306|   45|\n",
            "|               284.031|   66|\n",
            "+----------------------+-----+\n",
            "only showing top 20 rows\n",
            "\n",
            "+----------+-----+\n",
            "|Hit target|count|\n",
            "+----------+-----+\n",
            "|      88.0|   84|\n",
            "|      98.0|  198|\n",
            "|      96.0|  225|\n",
            "|      null|    2|\n",
            "|      94.0|  102|\n",
            "|      93.0|  315|\n",
            "|      81.0|   57|\n",
            "|      87.0|   36|\n",
            "|      99.0|  306|\n",
            "|      95.0|  225|\n",
            "|     100.0|   33|\n",
            "|      92.0|  237|\n",
            "|      97.0|  267|\n",
            "|      91.0|  135|\n",
            "+----------+-----+\n",
            "\n",
            "+--------------------+-----+\n",
            "|Disciplinary failure|count|\n",
            "+--------------------+-----+\n",
            "|                 0.0| 2100|\n",
            "|                null|    2|\n",
            "|                 1.0|  120|\n",
            "+--------------------+-----+\n",
            "\n",
            "+---------+-----+\n",
            "|Education|count|\n",
            "+---------+-----+\n",
            "|     null|    2|\n",
            "|      1.0| 1833|\n",
            "|      4.0|   12|\n",
            "|      3.0|  237|\n",
            "|      2.0|  138|\n",
            "+---------+-----+\n",
            "\n",
            "+----+-----+\n",
            "| Son|count|\n",
            "+----+-----+\n",
            "| 0.0|  894|\n",
            "|null|    2|\n",
            "| 1.0|  687|\n",
            "| 4.0|  126|\n",
            "| 3.0|   45|\n",
            "| 2.0|  468|\n",
            "+----+-----+\n",
            "\n",
            "+--------------+-----+\n",
            "|Social drinker|count|\n",
            "+--------------+-----+\n",
            "|           0.0|  960|\n",
            "|          null|    2|\n",
            "|           1.0| 1260|\n",
            "+--------------+-----+\n",
            "\n",
            "+-------------+-----+\n",
            "|Social smoker|count|\n",
            "+-------------+-----+\n",
            "|          0.0| 2058|\n",
            "|         null|    2|\n",
            "|          1.0|  162|\n",
            "+-------------+-----+\n",
            "\n",
            "+----+-----+\n",
            "| Pet|count|\n",
            "+----+-----+\n",
            "| 8.0|   24|\n",
            "| 0.0| 1380|\n",
            "|null|    2|\n",
            "| 1.0|  414|\n",
            "| 4.0|   96|\n",
            "| 2.0|  288|\n",
            "| 5.0|   18|\n",
            "+----+-----+\n",
            "\n",
            "+------+-----+\n",
            "|Weight|count|\n",
            "+------+-----+\n",
            "|  67.0|   90|\n",
            "|  70.0|   45|\n",
            "|  69.0|  255|\n",
            "| 108.0|   15|\n",
            "|  88.0|   87|\n",
            "|  98.0|  105|\n",
            "|  75.0|   57|\n",
            "|  null|    2|\n",
            "|  80.0|   72|\n",
            "|  86.0|   72|\n",
            "|  94.0|   12|\n",
            "|  77.0|   18|\n",
            "|  56.0|  138|\n",
            "|  79.0|    9|\n",
            "|  83.0|  165|\n",
            "|  58.0|   21|\n",
            "| 106.0|   57|\n",
            "|  63.0|   60|\n",
            "|  68.0|   39|\n",
            "|  73.0|  111|\n",
            "+------+-----+\n",
            "only showing top 20 rows\n",
            "\n",
            "+------+-----+\n",
            "|Height|count|\n",
            "+------+-----+\n",
            "| 170.0|  498|\n",
            "| 169.0|  285|\n",
            "| 168.0|  144|\n",
            "| 167.0|  102|\n",
            "| 182.0|   60|\n",
            "|  null|    2|\n",
            "| 178.0|  171|\n",
            "| 171.0|  249|\n",
            "| 165.0|   72|\n",
            "| 175.0|   24|\n",
            "| 196.0|   87|\n",
            "| 185.0|   21|\n",
            "| 172.0|  465|\n",
            "| 163.0|   18|\n",
            "| 174.0|   24|\n",
            "+------+-----+\n",
            "\n",
            "+---------------+-----+\n",
            "|Body mass index|count|\n",
            "+---------------+-----+\n",
            "|           29.0|   69|\n",
            "|           35.0|    6|\n",
            "|           null|    2|\n",
            "|           34.0|    3|\n",
            "|           25.0|  378|\n",
            "|           36.0|   15|\n",
            "|           23.0|  225|\n",
            "|           31.0|  441|\n",
            "|           21.0|   66|\n",
            "|           22.0|  105|\n",
            "|           19.0|  138|\n",
            "|           28.0|  177|\n",
            "|           38.0|   57|\n",
            "|           27.0|   72|\n",
            "|           30.0|  120|\n",
            "|           33.0|   18|\n",
            "|           32.0|   72|\n",
            "|           24.0|  258|\n",
            "+---------------+-----+\n",
            "\n",
            "+-------------------------+-----+\n",
            "|Absenteeism time in hours|count|\n",
            "+-------------------------+-----+\n",
            "|                      8.0|  624|\n",
            "|                      0.0|  132|\n",
            "|                      7.0|    3|\n",
            "|                    112.0|    6|\n",
            "|                     64.0|    9|\n",
            "|                     null|    2|\n",
            "|                     80.0|    9|\n",
            "|                    120.0|    9|\n",
            "|                      1.0|  264|\n",
            "|                    104.0|    3|\n",
            "|                      4.0|  180|\n",
            "|                     56.0|    6|\n",
            "|                     48.0|    3|\n",
            "|                      3.0|  336|\n",
            "|                      2.0|  471|\n",
            "|                     40.0|   21|\n",
            "|                     32.0|   18|\n",
            "|                      5.0|   21|\n",
            "|                     24.0|   48|\n",
            "|                     16.0|   57|\n",
            "+-------------------------+-----+\n",
            "\n"
          ]
        }
      ]
    },
    {
      "cell_type": "code",
      "source": [
        "import matplotlib.pyplot as plt\n",
        "\n",
        "# Count the frequency of each category in \"Reason for absence\" column\n",
        "df = df.dropna(subset = [\"Reason for absence\"])\n",
        "reason_counts = df.groupBy(\"Reason for absence\").count().toPandas()\n",
        "\n",
        "# Plot the bar chart\n",
        "plt.figure(figsize=(25, 18))\n",
        "plt.barh(reason_counts[\"Reason for absence\"], reason_counts[\"count\"])\n",
        "plt.xlabel(\"Frequency\")\n",
        "plt.ylabel(\"Reason for absence\")\n",
        "plt.title(\"Frequency of Reasons for Absence\")\n",
        "\n",
        "plt.show()"
      ],
      "metadata": {
        "colab": {
          "base_uri": "https://localhost:8080/",
          "height": 767
        },
        "id": "FTDX7B8VB8tW",
        "outputId": "e3dc25ed-2a8d-4078-82b5-f9aed56bebd5"
      },
      "execution_count": 34,
      "outputs": [
        {
          "output_type": "display_data",
          "data": {
            "text/plain": [
              "<Figure size 1800x1296 with 1 Axes>"
            ],
            "image/png": "[encoded data removed]"
          },
          "metadata": {
            "needs_background": "light"
          }
        }
      ]
    },
    {
      "cell_type": "markdown",
      "source": [
        "Esse gráfico mostra a frequência de ausência de cada categoria de justificação.\n",
        "A partir daí, é possível ver facilmente qual é a razão mais comum para a ausência que neste caso é \"Congenital malformations, deformations and chromosomal abnormalities\", e também comparar as frequências entre as diferentes razões. Também, pode-se observar que a maioria das razões tem baixa frequencia, e que poucas razões representam a maioria das ausencias."
      ],
      "metadata": {
        "id": "ea8OHkAvG16Q"
      }
    },
    {
      "cell_type": "code",
      "source": [
        "import matplotlib.pyplot as plt\n",
        "\n",
        "# Extract the columns \"Transportation expense\" and \"Distance from Residence to Work\"\n",
        "x = df.select(\"Transportation expense\").toPandas()\n",
        "y = df.select(\"Distance from Residence to Work\").toPandas()\n",
        "\n",
        "# Plot the scatter plot\n",
        "plt.figure(figsize=(10, 6))\n",
        "plt.scatter(x, y, color='red')\n",
        "plt.xlabel(\"Transportation expense ($)\")\n",
        "plt.ylabel(\"Distance from Residence to Work (km)\")\n",
        "plt.title(\"Scatter plot of Transportation expense and Distance from Residence to Work\")\n",
        "plt.show()"
      ],
      "metadata": {
        "colab": {
          "base_uri": "https://localhost:8080/",
          "height": 404
        },
        "id": "ia4u1K8QCHrj",
        "outputId": "4a1c43f1-19c4-4476-dd06-19a82e88493b"
      },
      "execution_count": null,
      "outputs": [
        {
          "output_type": "display_data",
          "data": {
            "text/plain": [
              "<Figure size 720x432 with 1 Axes>"
            ],
            "image/png": "[encoded data removed]"
          },
          "metadata": {
            "needs_background": "light"
          }
        }
      ]
    },
    {
      "cell_type": "markdown",
      "source": [
        "Este gráfico é um gráfico de dispersão que mostra a relação entre os gastos com transporte e a distância da residência para o trabalho. Ele parece estar mostrando que, em geral, quanto maior a distância da residência para o trabalho, maior os gastos com transporte. No entanto, há algumas exceções, como alguns pontos que apresentam gastos elevados com transporte mesmo com distâncias curtas. Este gráfico pode ser útil para entender se existe alguma relação entre essas duas variáveis e como elas podem afetar a saúde dos funcionários."
      ],
      "metadata": {
        "id": "Y0GuGelIJl8-"
      }
    },
    {
      "cell_type": "code",
      "source": [
        "import seaborn as sns\n",
        "import matplotlib.pyplot as plt\n",
        "\n",
        "# Select the 'Age' column\n",
        "age_data = df.select(\"Age\").toPandas()\n",
        "\n",
        "# Reset the index\n",
        "age_data.reset_index(drop=True, inplace=True)\n",
        "\n",
        "# Create a density plot\n",
        "sns.kdeplot(age_data['Age'], shade=True)\n",
        "\n",
        "# Add labels and title\n",
        "plt.xlabel(\"Age\")\n",
        "plt.ylabel(\"Density\")\n",
        "plt.title(\"Density Plot of Age for Absentees\")\n",
        "\n",
        "# Show the plot\n",
        "plt.show()"
      ],
      "metadata": {
        "id": "_5-kC1vBphmf",
        "outputId": "7c3f6700-37ce-4b8f-ce84-3ebff0a46ba0",
        "colab": {
          "base_uri": "https://localhost:8080/",
          "height": 295
        }
      },
      "execution_count": null,
      "outputs": [
        {
          "output_type": "display_data",
          "data": {
            "text/plain": [
              "<Figure size 432x288 with 1 Axes>"
            ],
            "image/png": "[encoded data removed]"
          },
          "metadata": {
            "needs_background": "light"
          }
        }
      ]
    },
    {
      "cell_type": "markdown",
      "source": [
        "- Mostra a distribuição de idade dos funcionários que estão faltando"
      ],
      "metadata": {
        "id": "1d-IuDfOpfkZ"
      }
    },
    {
      "cell_type": "code",
      "source": [
        "import matplotlib.pyplot as plt\n",
        "\n",
        "# Get a list of all numerical columns\n",
        "num_cols = [c for c in df.columns if df.select(c).dtypes[0][1] == 'double']\n",
        "\n",
        "df_num = df.select(num_cols)\n",
        "\n",
        "# Plot a histogram for each numerical column\n",
        "df_num.toPandas().hist(figsize=[15,15],bins=10, color='skyblue', histtype='bar', ec='black')\n",
        "plt.show()"
      ],
      "metadata": {
        "id": "SC50pkA9pj8w",
        "outputId": "f51ccc2a-d7a2-4ec4-ce46-5061ec8f640d",
        "colab": {
          "base_uri": "https://localhost:8080/",
          "height": 635
        }
      },
      "execution_count": null,
      "outputs": [
        {
          "output_type": "display_data",
          "data": {
            "text/plain": [
              "<Figure size 1080x1080 with 20 Axes>"
            ],
            "image/png": "[encoded data removed]"
          },
          "metadata": {
            "needs_background": "light"
          }
        }
      ]
    },
    {
      "cell_type": "code",
      "source": [
        "import seaborn as sns\n",
        "from pyspark.sql.functions import col\n",
        "from pyspark.sql.types import NumericType, IntegerType\n",
        "pd_df = df.toPandas()\n",
        "\n",
        "numerical_cols = [col for col in pd_df.columns if isinstance(df.schema[col].dataType, (NumericType))]\n",
        "\n",
        "for col in numerical_cols:\n",
        "    plt.figure(figsize=(10, 6))\n",
        "    sns.boxplot(data=pd_df, x=col, width=0.3)\n",
        "    plt.xlabel(col)\n",
        "    plt.show()"
      ],
      "metadata": {
        "id": "KdanwqfSnseV",
        "outputId": "d4706f50-5840-41b3-c654-959ddde086aa",
        "colab": {
          "base_uri": "https://localhost:8080/",
          "height": 1000
        }
      },
      "execution_count": null,
      "outputs": [
        {
          "output_type": "display_data",
          "data": {
            "text/plain": [
              "<Figure size 720x432 with 1 Axes>"
            ],
            "image/png": "[encoded data removed]"
          },
          "metadata": {
            "needs_background": "light"
          }
        },
        {
          "output_type": "display_data",
          "data": {
            "text/plain": [
              "<Figure size 720x432 with 1 Axes>"
            ],
            "image/png": "[encoded data removed]"
          },
          "metadata": {
            "needs_background": "light"
          }
        },
        {
          "output_type": "display_data",
          "data": {
            "text/plain": [
              "<Figure size 720x432 with 1 Axes>"
            ],
            "image/png": "[encoded data removed]"
          },
          "metadata": {
            "needs_background": "light"
          }
        },
        {
          "output_type": "display_data",
          "data": {
            "text/plain": [
              "<Figure size 720x432 with 1 Axes>"
            ],
            "image/png": "[encoded data removed]"
          },
          "metadata": {
            "needs_background": "light"
          }
        },
        {
          "output_type": "display_data",
          "data": {
            "text/plain": [
              "<Figure size 720x432 with 1 Axes>"
            ],
            "image/png": "[encoded data removed]"
          },
          "metadata": {
            "needs_background": "light"
          }
        },
        {
          "output_type": "display_data",
          "data": {
            "text/plain": [
              "<Figure size 720x432 with 1 Axes>"
            ],
            "image/png": "[encoded data removed]"
          },
          "metadata": {
            "needs_background": "light"
          }
        },
        {
          "output_type": "display_data",
          "data": {
            "text/plain": [
              "<Figure size 720x432 with 1 Axes>"
            ],
            "image/png": "[encoded data removed]"
          },
          "metadata": {
            "needs_background": "light"
          }
        },
        {
          "output_type": "display_data",
          "data": {
            "text/plain": [
              "<Figure size 720x432 with 1 Axes>"
            ],
            "image/png": "[encoded data removed]"
          },
          "metadata": {
            "needs_background": "light"
          }
        },
        {
          "output_type": "display_data",
          "data": {
            "text/plain": [
              "<Figure size 720x432 with 1 Axes>"
            ],
            "image/png": "[encoded data removed]"
          },
          "metadata": {
            "needs_background": "light"
          }
        },
        {
          "output_type": "display_data",
          "data": {
            "text/plain": [
              "<Figure size 720x432 with 1 Axes>"
            ],
            "image/png": "[encoded data removed]"
          },
          "metadata": {
            "needs_background": "light"
          }
        },
        {
          "output_type": "display_data",
          "data": {
            "text/plain": [
              "<Figure size 720x432 with 1 Axes>"
            ],
            "image/png": "[encoded data removed]"
          },
          "metadata": {
            "needs_background": "light"
          }
        },
        {
          "output_type": "display_data",
          "data": {
            "text/plain": [
              "<Figure size 720x432 with 1 Axes>"
            ],
            "image/png": "[encoded data removed]"
          },
          "metadata": {
            "needs_background": "light"
          }
        },
        {
          "output_type": "display_data",
          "data": {
            "text/plain": [
              "<Figure size 720x432 with 1 Axes>"
            ],
            "image/png": "[encoded data removed]"
          },
          "metadata": {
            "needs_background": "light"
          }
        },
        {
          "output_type": "display_data",
          "data": {
            "text/plain": [
              "<Figure size 720x432 with 1 Axes>"
            ],
            "image/png": "[encoded data removed]"
          },
          "metadata": {
            "needs_background": "light"
          }
        },
        {
          "output_type": "display_data",
          "data": {
            "text/plain": [
              "<Figure size 720x432 with 1 Axes>"
            ],
            "image/png": "[encoded data removed]"
          },
          "metadata": {
            "needs_background": "light"
          }
        },
        {
          "output_type": "display_data",
          "data": {
            "text/plain": [
              "<Figure size 720x432 with 1 Axes>"
            ],
            "image/png": "[encoded data removed]"
          },
          "metadata": {
            "needs_background": "light"
          }
        },
        {
          "output_type": "display_data",
          "data": {
            "text/plain": [
              "<Figure size 720x432 with 1 Axes>"
            ],
            "image/png": "[encoded data removed]"
          },
          "metadata": {
            "needs_background": "light"
          }
        },
        {
          "output_type": "display_data",
          "data": {
            "text/plain": [
              "<Figure size 720x432 with 1 Axes>"
            ],
            "image/png": "[encoded data removed]"
          },
          "metadata": {
            "needs_background": "light"
          }
        },
        {
          "output_type": "display_data",
          "data": {
            "text/plain": [
              "<Figure size 720x432 with 1 Axes>"
            ],
            "image/png": "[encoded data removed]"
          },
          "metadata": {
            "needs_background": "light"
          }
        }
      ]
    },
    {
      "cell_type": "markdown",
      "source": [
        "#Train-Test split"
      ],
      "metadata": {
        "id": "jyZW7iZAnvg2"
      }
    },
    {
      "cell_type": "code",
      "source": [
        "(train_df, test_df) = df.randomSplit([0.8, 0.2], seed=42)"
      ],
      "metadata": {
        "id": "5fYj4KrSnxwF"
      },
      "execution_count": null,
      "outputs": []
    },
    {
      "cell_type": "code",
      "source": [
        "df.schema.names"
      ],
      "metadata": {
        "id": "tc1uWRv4nyta",
        "outputId": "9824f5fd-4075-4536-d7ea-1ce5e9e1df60",
        "colab": {
          "base_uri": "https://localhost:8080/"
        }
      },
      "execution_count": null,
      "outputs": [
        {
          "output_type": "execute_result",
          "data": {
            "text/plain": [
              "['Reason for absence',\n",
              " 'Month of absence',\n",
              " 'Day of the week',\n",
              " 'Seasons',\n",
              " 'Transportation expense',\n",
              " 'Distance from Residence to Work',\n",
              " 'Service time',\n",
              " 'Age',\n",
              " 'Work load Average/day ',\n",
              " 'Hit target',\n",
              " 'Disciplinary failure',\n",
              " 'Education',\n",
              " 'Son',\n",
              " 'Social drinker',\n",
              " 'Social smoker',\n",
              " 'Pet',\n",
              " 'Weight',\n",
              " 'Height',\n",
              " 'Body mass index',\n",
              " 'Absenteeism time in hours']"
            ]
          },
          "metadata": {},
          "execution_count": 27
        }
      ]
    },
    {
      "cell_type": "code",
      "source": [],
      "metadata": {
        "id": "Cw0LYr9XsfuB"
      },
      "execution_count": null,
      "outputs": []
    },
    {
      "cell_type": "markdown",
      "source": [
        "Regressão Linear"
      ],
      "metadata": {
        "id": "fPHHcgK7v-tI"
      }
    },
    {
      "cell_type": "code",
      "source": [
        "from pyspark.ml.feature import VectorAssembler\n",
        "from pyspark.ml.regression import LinearRegression\n",
        "\n",
        "# Selecione as colunas independentes\n",
        "independent_cols = ['Month of absence','Day of the week','Seasons','Transportation expense','Distance from Residence to Work','Service time','Age','Hit target','Disciplinary failure','Education','Son','Social drinker','Social smoker','Pet','Weight','Height','Absenteeism time in hours']\n",
        "\n",
        "# Crie o objeto VectorAssembler\n",
        "assembler = VectorAssembler(inputCols=independent_cols, outputCol='features')\n",
        "\n",
        "# Aplique o assembler no DataFrame\n",
        "df_assembled = assembler.transform(df)\n",
        "\n",
        "# Dividir os dados em conjunto de treinamento e teste\n",
        "train, test = df_assembled.randomSplit([0.7, 0.3])\n",
        "\n",
        "# Criar objeto LinearRegression\n",
        "lr = LinearRegression(labelCol='Body mass index', featuresCol='features')\n",
        "\n",
        "# Treinar o modelo com os dados de treinamento\n",
        "model = lr.fit(train)\n",
        "\n",
        "# Fazer previsões com os dados de teste\n",
        "predictions = model.transform(test)\n",
        "\n"
      ],
      "metadata": {
        "id": "ABH9Vdm_sfxR"
      },
      "execution_count": null,
      "outputs": []
    },
    {
      "cell_type": "code",
      "source": [],
      "metadata": {
        "id": "IsCOlIVCsf_p"
      },
      "execution_count": null,
      "outputs": []
    },
    {
      "cell_type": "code",
      "source": [],
      "metadata": {
        "id": "Ubtu1Jd9sgMF"
      },
      "execution_count": null,
      "outputs": []
    }
  ]
}