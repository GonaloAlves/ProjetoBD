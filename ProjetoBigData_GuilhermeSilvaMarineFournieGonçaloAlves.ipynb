{
  "nbformat": 4,
  "nbformat_minor": 0,
  "metadata": {
    "colab": {
      "provenance": [],
      "include_colab_link": true
    },
    "kernelspec": {
      "name": "python3",
      "display_name": "Python 3"
    },
    "language_info": {
      "name": "python"
    }
  },
  "cells": [
    {
      "cell_type": "markdown",
      "metadata": {
        "id": "view-in-github",
        "colab_type": "text"
      },
      "source": [
        "<a href=\"https://colab.research.google.com/github/GuilhermeVCCdaSilva/ProjetoBD/blob/main/ProjetoBigData_GuilhermeSilvaMarineFournieGon%C3%A7aloAlves.ipynb\" target=\"_parent\"><img src=\"https://colab.research.google.com/assets/colab-badge.svg\" alt=\"Open In Colab\"/></a>"
      ]
    },
    {
      "cell_type": "markdown",
      "source": [
        "<img src=\"https://www.estbarreiro.ips.pt/Content/images/logo-ESTB.png\" align=\"right\" alt=\"EsT Logo circle logo\" style=\"height: 200px; width:300px;\"/>\n",
        "\n",
        "# Projeto Final Big Data \n",
        "* __Guilherme Silva__\n",
        "* __Marine Emilie Fournier__\n",
        "* __Gonçalo Alves__"
      ],
      "metadata": {
        "id": "5y9CFXldkFjG"
      }
    },
    {
      "cell_type": "code",
      "execution_count": 1,
      "metadata": {
        "colab": {
          "base_uri": "https://localhost:8080/"
        },
        "id": "A7PzfgEmI-OC",
        "outputId": "47b01cd0-c8e2-44a9-a4a3-d59cba555f77"
      },
      "outputs": [
        {
          "output_type": "stream",
          "name": "stdout",
          "text": [
            "Looking in indexes: https://pypi.org/simple, https://us-python.pkg.dev/colab-wheels/public/simple/\n",
            "Requirement already satisfied: pyspark in /usr/local/lib/python3.8/dist-packages (3.3.1)\n",
            "Requirement already satisfied: py4j==0.10.9.5 in /usr/local/lib/python3.8/dist-packages (from pyspark) (0.10.9.5)\n",
            "Looking in indexes: https://pypi.org/simple, https://us-python.pkg.dev/colab-wheels/public/simple/\n",
            "Requirement already satisfied: findspark in /usr/local/lib/python3.8/dist-packages (2.0.1)\n"
          ]
        }
      ],
      "source": [
        "# Installing required packages\n",
        "!pip install pyspark\n",
        "!pip install findspark"
      ]
    },
    {
      "cell_type": "markdown",
      "source": [
        "#Creating a SparkSession\n",
        "- Para se trabalhar com dados no Spark, é essencial criar uma SparkSession, este passo é fundamental e o primeiro a ser realizado. Ela é responsável por gerenciar a configuração do Spark, criar RDDs (Resilient Distributed Datasets) e DataFrames, registar tabelas temporárias e gerenciar os recursos do cluster utilizados.\n",
        "\n",
        "- A SparkSession é o ponto de partida para trabalhar com dados estruturados e relacionais no Spark SQL, o módulo do Spark que fornece suporte para essa funcionalidade. Ele permite que você execute consultas SQL, manipule DataFrames e extraia metadados. Ele também oferece acesso às bibliotecas de processamento de fluxo de dados (como o DataFrame API e o SQL) e às bibliotecas de aprendizado de máquina (como o MLlib) do Spark.\n",
        "\n",
        "- A SparkSession (criada usando SparkSession.builder) é uma classe fundamental para trabalhar com dados no Spark, é através dela que é possível configurar e gerenciar a sessão, estabelecer conexões com o cluster, definir opções de configuração e gerenciar recursos como o número de núcleos para usar e a quantidade de memória. É a porta de entrada para trabalhar com dados estruturados e relacionais no Spark SQL.\n",
        "\n",
        "- A configuração \".config(\"spark.memory.offHeap.enabled\")\" permite habilitar o uso de memória fora da heap (off-heap). Quando essa configuração é definida como \"true\", o Spark pode usar memória fora do heap do JVM para armazenar os dados e realizar operações. Isso permite que o Spark armazene e execute operações com mais dados, o que pode melhorar o desempenho quando a memória disponível dentro da heap não é suficiente.\n",
        "\n",
        "- A configuração \".config(\"spark.memory.offHeap.size\",\"10g\")\" permite definir a quantidade de memória fora do heap (off-heap) disponível para o Spark usar. Neste caso, o valor \"10g\" indica que o Spark pode usar até 10 gigabytes de memória fora do heap. Esse valor pode ser ajustado de acordo com o tamanho dos dados e as necessidades do seu aplicativo para garantir o melhor desempenho possível."
      ],
      "metadata": {
        "id": "9pqgarnoKqPR"
      }
    },
    {
      "cell_type": "code",
      "source": [
        "from pyspark.sql import SparkSession\n",
        "import findspark\n",
        "\n",
        "findspark.init()\n",
        "\n",
        "spark = SparkSession.builder.appName(\"Pyspark Tutorial\")\\\n",
        "                    .config(\"spark.memory.offHeap.enabled\",\"true\")\\\n",
        "                    .config(\"spark.memory.offHeap.size\",\"10g\")\\\n",
        "                    .getOrCreate()\n",
        "spark                    "
      ],
      "metadata": {
        "colab": {
          "base_uri": "https://localhost:8080/",
          "height": 221
        },
        "id": "rUCnB3MwJmbw",
        "outputId": "8d921c1e-600f-4c42-9082-85393180cade"
      },
      "execution_count": 2,
      "outputs": [
        {
          "output_type": "execute_result",
          "data": {
            "text/plain": [
              "<pyspark.sql.session.SparkSession at 0x7f4498822970>"
            ],
            "text/html": [
              "\n",
              "            <div>\n",
              "                <p><b>SparkSession - in-memory</b></p>\n",
              "                \n",
              "        <div>\n",
              "            <p><b>SparkContext</b></p>\n",
              "\n",
              "            <p><a href=\"http://4fc8a8dbf542:4040\">Spark UI</a></p>\n",
              "\n",
              "            <dl>\n",
              "              <dt>Version</dt>\n",
              "                <dd><code>v3.3.1</code></dd>\n",
              "              <dt>Master</dt>\n",
              "                <dd><code>local[*]</code></dd>\n",
              "              <dt>AppName</dt>\n",
              "                <dd><code>Pyspark Tutorial</code></dd>\n",
              "            </dl>\n",
              "        </div>\n",
              "        \n",
              "            </div>\n",
              "        "
            ]
          },
          "metadata": {},
          "execution_count": 2
        }
      ]
    },
    {
      "cell_type": "markdown",
      "source": [
        "#Carregamento dos dados do DataSete criação do DataFrame:\n",
        "Link para o DataSet: https://archive.ics.uci.edu/ml/datasets/Absenteeism+at+work"
      ],
      "metadata": {
        "id": "a9icJbVvkYOl"
      }
    },
    {
      "cell_type": "code",
      "source": [
        "!curl https://raw.githubusercontent.com/GuilhermeVCCdaSilva/ProjetoBD/main/Absenteeism_at_work.csv >> Absenteeism_at_work.csv\n",
        "df = spark.read.csv('Absenteeism_at_work.csv',header=True,sep=\";\")"
      ],
      "metadata": {
        "colab": {
          "base_uri": "https://localhost:8080/"
        },
        "id": "lsM9rQDKP06H",
        "outputId": "1538efe3-9d8f-43da-fa1d-122a13e32f8b"
      },
      "execution_count": 3,
      "outputs": [
        {
          "output_type": "stream",
          "name": "stdout",
          "text": [
            "  % Total    % Received % Xferd  Average Speed   Time    Time     Time  Current\n",
            "                                 Dload  Upload   Total   Spent    Left  Speed\n",
            "\r  0     0    0     0    0     0      0      0 --:--:-- --:--:-- --:--:--     0\r100 45232  100 45232    0     0   189k      0 --:--:-- --:--:-- --:--:--  189k\n"
          ]
        }
      ]
    },
    {
      "cell_type": "markdown",
      "source": [
        "#\"Data Visualization\" e Análise\n",
        "\n",
        "- Primeiramente vamos tamanho e o tipo de dados do nosso Dataset.\n",
        "\n",
        "- Este passo era mais simples ser executado através do método shape, mas como o não é suportado pelo PySpark DataFrame, no entanto, podemos contar o número de linhas e colunas usando o método count() e verificar o esquema (colunas e tipos de dados) do DataFrame usando o método printSchema()."
      ],
      "metadata": {
        "id": "ijyIKIbP2uvr"
      }
    },
    {
      "cell_type": "code",
      "source": [
        "print(\"Numero de Linhas:\", df.count())\n",
        "print(\"Numero de Colunas:\", len(df.columns))\n",
        "print(\"Esquema do DataFrame: \")\n",
        "df.printSchema()"
      ],
      "metadata": {
        "colab": {
          "base_uri": "https://localhost:8080/"
        },
        "id": "O2TpxCTA28pK",
        "outputId": "d8a72a58-ecd9-4e9f-fe62-3825e8ba11cd"
      },
      "execution_count": 4,
      "outputs": [
        {
          "output_type": "stream",
          "name": "stdout",
          "text": [
            "Numero de Linhas: 20006\n",
            "Numero de Colunas: 21\n",
            "Esquema do DataFrame: \n",
            "root\n",
            " |-- ID: string (nullable = true)\n",
            " |-- Reason for absence: string (nullable = true)\n",
            " |-- Month of absence: string (nullable = true)\n",
            " |-- Day of the week: string (nullable = true)\n",
            " |-- Seasons: string (nullable = true)\n",
            " |-- Transportation expense: string (nullable = true)\n",
            " |-- Distance from Residence to Work: string (nullable = true)\n",
            " |-- Service time: string (nullable = true)\n",
            " |-- Age: string (nullable = true)\n",
            " |-- Work load Average/day : string (nullable = true)\n",
            " |-- Hit target: string (nullable = true)\n",
            " |-- Disciplinary failure: string (nullable = true)\n",
            " |-- Education: string (nullable = true)\n",
            " |-- Son: string (nullable = true)\n",
            " |-- Social drinker: string (nullable = true)\n",
            " |-- Social smoker: string (nullable = true)\n",
            " |-- Pet: string (nullable = true)\n",
            " |-- Weight: string (nullable = true)\n",
            " |-- Height: string (nullable = true)\n",
            " |-- Body mass index: string (nullable = true)\n",
            " |-- Absenteeism time in hours: string (nullable = true)\n",
            "\n"
          ]
        }
      ]
    },
    {
      "cell_type": "markdown",
      "source": [
        "Resumindo: \n",
        "- O DataFrame tem 8891 linhas e 21 colunas. O esquema do DataFrame mostra que todas as colunas são do tipo string e são nullable (podem conter valores nulos). Algumas das colunas incluem \"ID\", \"Reason for absence\", \"Month of absence\", \"Age\" e \"Absenteeism time in hours\"."
      ],
      "metadata": {
        "id": "MxuKGwjWTyZb"
      }
    },
    {
      "cell_type": "code",
      "source": [
        "df.show(10)"
      ],
      "metadata": {
        "colab": {
          "base_uri": "https://localhost:8080/"
        },
        "id": "MHhZB0e8QZJq",
        "outputId": "b0f74441-a03e-4df2-f1c0-27c750ec70f0"
      },
      "execution_count": 5,
      "outputs": [
        {
          "output_type": "stream",
          "name": "stdout",
          "text": [
            "+---+------------------+----------------+---------------+-------+----------------------+-------------------------------+------------+---+----------------------+----------+--------------------+---------+---+--------------+-------------+---+------+------+---------------+-------------------------+\n",
            "| ID|Reason for absence|Month of absence|Day of the week|Seasons|Transportation expense|Distance from Residence to Work|Service time|Age|Work load Average/day |Hit target|Disciplinary failure|Education|Son|Social drinker|Social smoker|Pet|Weight|Height|Body mass index|Absenteeism time in hours|\n",
            "+---+------------------+----------------+---------------+-------+----------------------+-------------------------------+------------+---+----------------------+----------+--------------------+---------+---+--------------+-------------+---+------+------+---------------+-------------------------+\n",
            "| 11|                26|               7|              3|      1|                   289|                             36|          13| 33|               239.554|        97|                   0|        1|  2|             1|            0|  1|    90|   172|             30|                        4|\n",
            "| 36|                 0|               7|              3|      1|                   118|                             13|          18| 50|               239.554|        97|                   1|        1|  1|             1|            0|  0|    98|   178|             31|                        0|\n",
            "|  3|                23|               7|              4|      1|                   179|                             51|          18| 38|               239.554|        97|                   0|        1|  0|             1|            0|  0|    89|   170|             31|                        2|\n",
            "|  7|                 7|               7|              5|      1|                   279|                              5|          14| 39|               239.554|        97|                   0|        1|  2|             1|            1|  0|    68|   168|             24|                        4|\n",
            "| 11|                23|               7|              5|      1|                   289|                             36|          13| 33|               239.554|        97|                   0|        1|  2|             1|            0|  1|    90|   172|             30|                        2|\n",
            "|  3|                23|               7|              6|      1|                   179|                             51|          18| 38|               239.554|        97|                   0|        1|  0|             1|            0|  0|    89|   170|             31|                        2|\n",
            "| 10|                22|               7|              6|      1|                   361|                             52|           3| 28|               239.554|        97|                   0|        1|  1|             1|            0|  4|    80|   172|             27|                        8|\n",
            "| 20|                23|               7|              6|      1|                   260|                             50|          11| 36|               239.554|        97|                   0|        1|  4|             1|            0|  0|    65|   168|             23|                        4|\n",
            "| 14|                19|               7|              2|      1|                   155|                             12|          14| 34|               239.554|        97|                   0|        1|  2|             1|            0|  0|    95|   196|             25|                       40|\n",
            "|  1|                22|               7|              2|      1|                   235|                             11|          14| 37|               239.554|        97|                   0|        3|  1|             0|            0|  1|    88|   172|             29|                        8|\n",
            "+---+------------------+----------------+---------------+-------+----------------------+-------------------------------+------------+---+----------------------+----------+--------------------+---------+---+--------------+-------------+---+------+------+---------------+-------------------------+\n",
            "only showing top 10 rows\n",
            "\n"
          ]
        }
      ]
    },
    {
      "cell_type": "markdown",
      "source": [
        "##Descrição das variáveis do DataFrame:\n",
        "\n",
        "- ID: Identificador único para cada registo.\n",
        "- Razão para a ausência: Razão para a ausência do funcionário no trabalho.\n",
        "- Mês da ausência: O mês em que o funcionário estava ausente.\n",
        "- Dia da semana: O dia da semana em que o funcionário estava ausente.\n",
        "- Estações: A estação do ano em que o funcionário estava ausente.\n",
        "- Despesas de transporte: As despesas de transporte incorridas pelo funcionário ao viajar para o trabalho.\n",
        "- Distância da residência para o trabalho: A distância entre a residência do funcionário e o local de trabalho.\n",
        "- Tempo de serviço: O período de tempo em que o funcionário está a trabalhar na empresa.\n",
        "- Idade: A idade do funcionário.\n",
        "- Carga de trabalho média/dia: A carga de trabalho média do funcionário por dia.\n",
        "- Alvo atingido: Se o funcionário atingiu ou não o alvo\n",
        "- Falha disciplinar: Se o funcionário cometeu alguma falha disciplinar ou não.\n",
        "- Educação: O nível de educação do funcionário.\n",
        "- Filhos: O número de filhos que o funcionário tem.\n",
        "- Bebedor social: Se o funcionário bebe socialmente ou não.\n",
        "- Fumador social: Se o funcionário fuma socialmente ou não.\n",
        "- Animal de estimação: Se o funcionário tem algum animal de estimação ou não.\n",
        "- Peso: O peso do funcionário.\n",
        "- Altura: A altura do funcionário.\n",
        "- Índice de massa corporal: O índice de massa corporal do funcionário.\n",
        "- Tempo de ausência em horas: O número de horas que o funcionário ficou ausente."
      ],
      "metadata": {
        "id": "YLZpeS-tS9tx"
      }
    },
    {
      "cell_type": "code",
      "source": [
        "df = df.drop(\"id\")"
      ],
      "metadata": {
        "id": "yW8q41acuUw1"
      },
      "execution_count": 6,
      "outputs": []
    },
    {
      "cell_type": "markdown",
      "source": [
        "Removeu-se a coluna ID pois não é relevante para os algoritmos de aprendizado de máquina."
      ],
      "metadata": {
        "id": "AR3uIAGcT9Oh"
      }
    },
    {
      "cell_type": "code",
      "source": [
        "df.show(10)"
      ],
      "metadata": {
        "colab": {
          "base_uri": "https://localhost:8080/"
        },
        "id": "3AaN9uQX381F",
        "outputId": "5ebdb423-5d49-481d-c3e0-52447de24f24"
      },
      "execution_count": 7,
      "outputs": [
        {
          "output_type": "stream",
          "name": "stdout",
          "text": [
            "+------------------+----------------+---------------+-------+----------------------+-------------------------------+------------+---+----------------------+----------+--------------------+---------+---+--------------+-------------+---+------+------+---------------+-------------------------+\n",
            "|Reason for absence|Month of absence|Day of the week|Seasons|Transportation expense|Distance from Residence to Work|Service time|Age|Work load Average/day |Hit target|Disciplinary failure|Education|Son|Social drinker|Social smoker|Pet|Weight|Height|Body mass index|Absenteeism time in hours|\n",
            "+------------------+----------------+---------------+-------+----------------------+-------------------------------+------------+---+----------------------+----------+--------------------+---------+---+--------------+-------------+---+------+------+---------------+-------------------------+\n",
            "|                26|               7|              3|      1|                   289|                             36|          13| 33|               239.554|        97|                   0|        1|  2|             1|            0|  1|    90|   172|             30|                        4|\n",
            "|                 0|               7|              3|      1|                   118|                             13|          18| 50|               239.554|        97|                   1|        1|  1|             1|            0|  0|    98|   178|             31|                        0|\n",
            "|                23|               7|              4|      1|                   179|                             51|          18| 38|               239.554|        97|                   0|        1|  0|             1|            0|  0|    89|   170|             31|                        2|\n",
            "|                 7|               7|              5|      1|                   279|                              5|          14| 39|               239.554|        97|                   0|        1|  2|             1|            1|  0|    68|   168|             24|                        4|\n",
            "|                23|               7|              5|      1|                   289|                             36|          13| 33|               239.554|        97|                   0|        1|  2|             1|            0|  1|    90|   172|             30|                        2|\n",
            "|                23|               7|              6|      1|                   179|                             51|          18| 38|               239.554|        97|                   0|        1|  0|             1|            0|  0|    89|   170|             31|                        2|\n",
            "|                22|               7|              6|      1|                   361|                             52|           3| 28|               239.554|        97|                   0|        1|  1|             1|            0|  4|    80|   172|             27|                        8|\n",
            "|                23|               7|              6|      1|                   260|                             50|          11| 36|               239.554|        97|                   0|        1|  4|             1|            0|  0|    65|   168|             23|                        4|\n",
            "|                19|               7|              2|      1|                   155|                             12|          14| 34|               239.554|        97|                   0|        1|  2|             1|            0|  0|    95|   196|             25|                       40|\n",
            "|                22|               7|              2|      1|                   235|                             11|          14| 37|               239.554|        97|                   0|        3|  1|             0|            0|  1|    88|   172|             29|                        8|\n",
            "+------------------+----------------+---------------+-------+----------------------+-------------------------------+------------+---+----------------------+----------+--------------------+---------+---+--------------+-------------+---+------+------+---------------+-------------------------+\n",
            "only showing top 10 rows\n",
            "\n"
          ]
        }
      ]
    },
    {
      "cell_type": "markdown",
      "source": [
        "#COLOCAR AQUI ALGUMAS PERGUNTAS AO DATAFRAME: 3 PELO MENOS"
      ],
      "metadata": {
        "id": "dJChPFDZfEM5"
      }
    },
    {
      "cell_type": "code",
      "source": [
        "print(\"yhyh\")"
      ],
      "metadata": {
        "id": "epT6frXZfNad",
        "outputId": "0ee745e4-7880-4f26-d954-8ad877869bbf",
        "colab": {
          "base_uri": "https://localhost:8080/"
        }
      },
      "execution_count": 8,
      "outputs": [
        {
          "output_type": "stream",
          "name": "stdout",
          "text": [
            "yhyh\n"
          ]
        }
      ]
    },
    {
      "cell_type": "markdown",
      "source": [
        "#Pré tratamento e Análise exploratória de dados"
      ],
      "metadata": {
        "id": "l8L8Sgi2UAhf"
      }
    },
    {
      "cell_type": "markdown",
      "source": [
        "- Verificar o número de valores ausentes em cada coluna."
      ],
      "metadata": {
        "id": "UdoQ-eXJVkXy"
      }
    },
    {
      "cell_type": "code",
      "source": [
        "# criar uma lista para armazenar o número de valores ausentes em cada coluna.\n",
        "missing_values = []\n",
        "\n",
        "# iterar através das colunas no conjunto de dados.\n",
        "for col in df.columns:\n",
        "    missing_values.append((col, df.filter(df[col].isNull()).count()))\n",
        "\n",
        "# print os valores inexistentes\n",
        "for col, val in missing_values:\n",
        "    if val == 0:\n",
        "        print(\"{} : Nunhum missing values encontrado\".format(col))\n",
        "    else:\n",
        "        print(\"{} : {} missing values\".format(col, val))"
      ],
      "metadata": {
        "colab": {
          "base_uri": "https://localhost:8080/"
        },
        "id": "oIUHcnylVkkT",
        "outputId": "ad0adb55-3237-47c3-bbba-cac3b182df99"
      },
      "execution_count": 9,
      "outputs": [
        {
          "output_type": "stream",
          "name": "stdout",
          "text": [
            "Reason for absence : Nunhum missing values encontrado\n",
            "Month of absence : Nunhum missing values encontrado\n",
            "Day of the week : Nunhum missing values encontrado\n",
            "Seasons : Nunhum missing values encontrado\n",
            "Transportation expense : Nunhum missing values encontrado\n",
            "Distance from Residence to Work : Nunhum missing values encontrado\n",
            "Service time : Nunhum missing values encontrado\n",
            "Age : Nunhum missing values encontrado\n",
            "Work load Average/day  : Nunhum missing values encontrado\n",
            "Hit target : Nunhum missing values encontrado\n",
            "Disciplinary failure : Nunhum missing values encontrado\n",
            "Education : Nunhum missing values encontrado\n",
            "Son : Nunhum missing values encontrado\n",
            "Social drinker : Nunhum missing values encontrado\n",
            "Social smoker : Nunhum missing values encontrado\n",
            "Pet : Nunhum missing values encontrado\n",
            "Weight : Nunhum missing values encontrado\n",
            "Height : Nunhum missing values encontrado\n",
            "Body mass index : Nunhum missing values encontrado\n",
            "Absenteeism time in hours : Nunhum missing values encontrado\n"
          ]
        }
      ]
    },
    {
      "cell_type": "markdown",
      "source": [
        "- Verifiquar os tipos de dados das colunas."
      ],
      "metadata": {
        "id": "7ywFa9_dVuab"
      }
    },
    {
      "cell_type": "code",
      "source": [
        "df.dtypes"
      ],
      "metadata": {
        "colab": {
          "base_uri": "https://localhost:8080/"
        },
        "id": "D-44Emf8Vumq",
        "outputId": "abc8c90c-6658-49f0-d2e5-d65d96e85168"
      },
      "execution_count": 10,
      "outputs": [
        {
          "output_type": "execute_result",
          "data": {
            "text/plain": [
              "[('Reason for absence', 'string'),\n",
              " ('Month of absence', 'string'),\n",
              " ('Day of the week', 'string'),\n",
              " ('Seasons', 'string'),\n",
              " ('Transportation expense', 'string'),\n",
              " ('Distance from Residence to Work', 'string'),\n",
              " ('Service time', 'string'),\n",
              " ('Age', 'string'),\n",
              " ('Work load Average/day ', 'string'),\n",
              " ('Hit target', 'string'),\n",
              " ('Disciplinary failure', 'string'),\n",
              " ('Education', 'string'),\n",
              " ('Son', 'string'),\n",
              " ('Social drinker', 'string'),\n",
              " ('Social smoker', 'string'),\n",
              " ('Pet', 'string'),\n",
              " ('Weight', 'string'),\n",
              " ('Height', 'string'),\n",
              " ('Body mass index', 'string'),\n",
              " ('Absenteeism time in hours', 'string')]"
            ]
          },
          "metadata": {},
          "execution_count": 10
        }
      ]
    },
    {
      "cell_type": "markdown",
      "source": [
        "- Converter tipo de dados string para double"
      ],
      "metadata": {
        "id": "0Mxc948RrWH9"
      }
    },
    {
      "cell_type": "code",
      "source": [
        "from pyspark.sql.functions import col\n",
        "for column in df.columns:\n",
        "    df = df.withColumn(column, col(column).cast(\"double\"))"
      ],
      "metadata": {
        "id": "cdv6VTiErKoD"
      },
      "execution_count": 11,
      "outputs": []
    },
    {
      "cell_type": "code",
      "source": [
        "df.dtypes"
      ],
      "metadata": {
        "colab": {
          "base_uri": "https://localhost:8080/"
        },
        "id": "v0zfHam_re5F",
        "outputId": "74dc13de-3660-4697-df40-4b93633a68d8"
      },
      "execution_count": 12,
      "outputs": [
        {
          "output_type": "execute_result",
          "data": {
            "text/plain": [
              "[('Reason for absence', 'double'),\n",
              " ('Month of absence', 'double'),\n",
              " ('Day of the week', 'double'),\n",
              " ('Seasons', 'double'),\n",
              " ('Transportation expense', 'double'),\n",
              " ('Distance from Residence to Work', 'double'),\n",
              " ('Service time', 'double'),\n",
              " ('Age', 'double'),\n",
              " ('Work load Average/day ', 'double'),\n",
              " ('Hit target', 'double'),\n",
              " ('Disciplinary failure', 'double'),\n",
              " ('Education', 'double'),\n",
              " ('Son', 'double'),\n",
              " ('Social drinker', 'double'),\n",
              " ('Social smoker', 'double'),\n",
              " ('Pet', 'double'),\n",
              " ('Weight', 'double'),\n",
              " ('Height', 'double'),\n",
              " ('Body mass index', 'double'),\n",
              " ('Absenteeism time in hours', 'double')]"
            ]
          },
          "metadata": {},
          "execution_count": 12
        }
      ]
    },
    {
      "cell_type": "markdown",
      "source": [
        "- Mapear os valores inteiros da coluna \"Reason for absence\" para descrições de texto correspondentes."
      ],
      "metadata": {
        "id": "FiM9vJkCUW8i"
      }
    },
    {
      "cell_type": "code",
      "source": [
        "from pyspark.sql.functions import when\n",
        "from pyspark.sql.functions import array\n",
        "from pyspark.sql.functions import udf\n",
        "# Criar o dicionario mapping \n",
        "mapping_dict = {\n",
        "    0: \"CID - Patient follow-up\",\n",
        "    1: \"CID - Medical consultation\",\n",
        "    2: \"CID - Blood donation\",\n",
        "    3: \"CID - Laboratory examination\",\n",
        "    4: \"CID - Unjustified absence\",\n",
        "    5: \"CID - Physiotherapy\",\n",
        "    6: \"CID - Dental consultation\",\n",
        "    7: \"Certain infectious and parasitic diseases\",\n",
        "    8: \"Neoplasms\",\n",
        "    9: \"Diseases of the blood and blood-forming organs and certain disorders involving the immune mechanism\",\n",
        "    10: \"Endocrine, nutritional and metabolic diseases\",\n",
        "    11: \"Mental and behavioural disorders\",\n",
        "    12: \"Diseases of the nervous system\",\n",
        "    13: \"Diseases of the eye and adnexa\",\n",
        "    14: \"Diseases of the ear and mastoid process\",\n",
        "    15: \"Diseases of the circulatory system\",\n",
        "    16: \"Diseases of the respiratory system\",\n",
        "    17: \"Diseases of the digestive system\",\n",
        "    18: \"Diseases of the skin and subcutaneous tissue\",\n",
        "    19: \"Diseases of the musculoskeletal system and connective tissue\",\n",
        "    20: \"Diseases of the genitourinary system\",\n",
        "    21: \"Pregnancy, childbirth and the puerperium\",\n",
        "    22: \"Certain conditions originating in the perinatal period\",\n",
        "    23: \"Congenital malformations, deformations and chromosomal abnormalities\",\n",
        "    24: \"Symptoms, signs and abnormal clinical and laboratory findings, not elsewhere classified\",\n",
        "    25: \"Injury, poisoning and certain other consequences of external causes\",\n",
        "    26: \"External causes of morbidity and mortality\",\n",
        "    27: \"Factors influencing health status and contact with health services\"\n",
        "}\n",
        "\n",
        "# Criar a função definida pelo usuário.\n",
        "map_reason = udf(lambda x: mapping_dict.get(x))\n",
        "\n",
        "# Aplicar a função definida pelo usuário ao dataframe\n",
        "df = df.withColumn(\"Reason for absence\", map_reason(col(\"Reason for absence\")))"
      ],
      "metadata": {
        "id": "RwsSijZ0xnBh"
      },
      "execution_count": 13,
      "outputs": []
    },
    {
      "cell_type": "markdown",
      "source": [
        "- Resultado:"
      ],
      "metadata": {
        "id": "lu9wR4j6Uyp4"
      }
    },
    {
      "cell_type": "code",
      "source": [
        "# Seleciona a coluna específica \"Reason for absence\" e mostra o conteúdo da mesma.\n",
        "df.select(\"Reason for absence\").show()"
      ],
      "metadata": {
        "colab": {
          "base_uri": "https://localhost:8080/"
        },
        "id": "n-cRUJQUtISa",
        "outputId": "7e877602-4431-4df1-cd2c-015bb97bf564"
      },
      "execution_count": 14,
      "outputs": [
        {
          "output_type": "stream",
          "name": "stdout",
          "text": [
            "+--------------------+\n",
            "|  Reason for absence|\n",
            "+--------------------+\n",
            "|External causes o...|\n",
            "|CID - Patient fol...|\n",
            "|Congenital malfor...|\n",
            "|Certain infectiou...|\n",
            "|Congenital malfor...|\n",
            "|Congenital malfor...|\n",
            "|Certain condition...|\n",
            "|Congenital malfor...|\n",
            "|Diseases of the m...|\n",
            "|Certain condition...|\n",
            "|CID - Medical con...|\n",
            "|CID - Medical con...|\n",
            "|Mental and behavi...|\n",
            "|Mental and behavi...|\n",
            "|Congenital malfor...|\n",
            "|Diseases of the e...|\n",
            "|Congenital malfor...|\n",
            "|Pregnancy, childb...|\n",
            "|Mental and behavi...|\n",
            "|Congenital malfor...|\n",
            "+--------------------+\n",
            "only showing top 20 rows\n",
            "\n"
          ]
        }
      ]
    },
    {
      "cell_type": "code",
      "source": [
        "df.show(10)"
      ],
      "metadata": {
        "colab": {
          "base_uri": "https://localhost:8080/"
        },
        "id": "gUZKEvuttQ3Z",
        "outputId": "fa4e1d15-82a4-4a4a-99a6-7bc15072cb4b"
      },
      "execution_count": 15,
      "outputs": [
        {
          "output_type": "stream",
          "name": "stdout",
          "text": [
            "+--------------------+----------------+---------------+-------+----------------------+-------------------------------+------------+----+----------------------+----------+--------------------+---------+---+--------------+-------------+---+------+------+---------------+-------------------------+\n",
            "|  Reason for absence|Month of absence|Day of the week|Seasons|Transportation expense|Distance from Residence to Work|Service time| Age|Work load Average/day |Hit target|Disciplinary failure|Education|Son|Social drinker|Social smoker|Pet|Weight|Height|Body mass index|Absenteeism time in hours|\n",
            "+--------------------+----------------+---------------+-------+----------------------+-------------------------------+------------+----+----------------------+----------+--------------------+---------+---+--------------+-------------+---+------+------+---------------+-------------------------+\n",
            "|External causes o...|             7.0|            3.0|    1.0|                 289.0|                           36.0|        13.0|33.0|               239.554|      97.0|                 0.0|      1.0|2.0|           1.0|          0.0|1.0|  90.0| 172.0|           30.0|                      4.0|\n",
            "|CID - Patient fol...|             7.0|            3.0|    1.0|                 118.0|                           13.0|        18.0|50.0|               239.554|      97.0|                 1.0|      1.0|1.0|           1.0|          0.0|0.0|  98.0| 178.0|           31.0|                      0.0|\n",
            "|Congenital malfor...|             7.0|            4.0|    1.0|                 179.0|                           51.0|        18.0|38.0|               239.554|      97.0|                 0.0|      1.0|0.0|           1.0|          0.0|0.0|  89.0| 170.0|           31.0|                      2.0|\n",
            "|Certain infectiou...|             7.0|            5.0|    1.0|                 279.0|                            5.0|        14.0|39.0|               239.554|      97.0|                 0.0|      1.0|2.0|           1.0|          1.0|0.0|  68.0| 168.0|           24.0|                      4.0|\n",
            "|Congenital malfor...|             7.0|            5.0|    1.0|                 289.0|                           36.0|        13.0|33.0|               239.554|      97.0|                 0.0|      1.0|2.0|           1.0|          0.0|1.0|  90.0| 172.0|           30.0|                      2.0|\n",
            "|Congenital malfor...|             7.0|            6.0|    1.0|                 179.0|                           51.0|        18.0|38.0|               239.554|      97.0|                 0.0|      1.0|0.0|           1.0|          0.0|0.0|  89.0| 170.0|           31.0|                      2.0|\n",
            "|Certain condition...|             7.0|            6.0|    1.0|                 361.0|                           52.0|         3.0|28.0|               239.554|      97.0|                 0.0|      1.0|1.0|           1.0|          0.0|4.0|  80.0| 172.0|           27.0|                      8.0|\n",
            "|Congenital malfor...|             7.0|            6.0|    1.0|                 260.0|                           50.0|        11.0|36.0|               239.554|      97.0|                 0.0|      1.0|4.0|           1.0|          0.0|0.0|  65.0| 168.0|           23.0|                      4.0|\n",
            "|Diseases of the m...|             7.0|            2.0|    1.0|                 155.0|                           12.0|        14.0|34.0|               239.554|      97.0|                 0.0|      1.0|2.0|           1.0|          0.0|0.0|  95.0| 196.0|           25.0|                     40.0|\n",
            "|Certain condition...|             7.0|            2.0|    1.0|                 235.0|                           11.0|        14.0|37.0|               239.554|      97.0|                 0.0|      3.0|1.0|           0.0|          0.0|1.0|  88.0| 172.0|           29.0|                      8.0|\n",
            "+--------------------+----------------+---------------+-------+----------------------+-------------------------------+------------+----+----------------------+----------+--------------------+---------+---+--------------+-------------+---+------+------+---------------+-------------------------+\n",
            "only showing top 10 rows\n",
            "\n"
          ]
        }
      ]
    },
    {
      "cell_type": "code",
      "source": [
        "df.dtypes"
      ],
      "metadata": {
        "colab": {
          "base_uri": "https://localhost:8080/"
        },
        "id": "CA8_kKg-0pQN",
        "outputId": "ca820f59-a97c-43fb-ef2c-62ef2518c284"
      },
      "execution_count": 16,
      "outputs": [
        {
          "output_type": "execute_result",
          "data": {
            "text/plain": [
              "[('Reason for absence', 'string'),\n",
              " ('Month of absence', 'double'),\n",
              " ('Day of the week', 'double'),\n",
              " ('Seasons', 'double'),\n",
              " ('Transportation expense', 'double'),\n",
              " ('Distance from Residence to Work', 'double'),\n",
              " ('Service time', 'double'),\n",
              " ('Age', 'double'),\n",
              " ('Work load Average/day ', 'double'),\n",
              " ('Hit target', 'double'),\n",
              " ('Disciplinary failure', 'double'),\n",
              " ('Education', 'double'),\n",
              " ('Son', 'double'),\n",
              " ('Social drinker', 'double'),\n",
              " ('Social smoker', 'double'),\n",
              " ('Pet', 'double'),\n",
              " ('Weight', 'double'),\n",
              " ('Height', 'double'),\n",
              " ('Body mass index', 'double'),\n",
              " ('Absenteeism time in hours', 'double')]"
            ]
          },
          "metadata": {},
          "execution_count": 16
        }
      ]
    },
    {
      "cell_type": "markdown",
      "source": [
        "- Verifica as estatísticas das colunas numéricas.\n"
      ],
      "metadata": {
        "id": "rbOnyOggvDJ6"
      }
    },
    {
      "cell_type": "code",
      "source": [
        "df.describe().toPandas()"
      ],
      "metadata": {
        "id": "a2pAvuw8u1kU",
        "outputId": "4803cb9c-b6c6-493e-d143-f6aabaa6d5b0",
        "colab": {
          "base_uri": "https://localhost:8080/",
          "height": 439
        }
      },
      "execution_count": 17,
      "outputs": [
        {
          "output_type": "execute_result",
          "data": {
            "text/plain": [
              "  summary                                 Reason for absence  \\\n",
              "0   count                                              16956   \n",
              "1    mean                                               None   \n",
              "2  stddev                                               None   \n",
              "3     min                               CID - Blood donation   \n",
              "4     max  Symptoms, signs and abnormal clinical and labo...   \n",
              "\n",
              "    Month of absence     Day of the week             Seasons  \\\n",
              "0              19980               19980               19980   \n",
              "1  6.324324324324325  3.9148648648648647  2.5445945945945945   \n",
              "2  3.434050269759746  1.4207493487256102  1.1111073748243814   \n",
              "3                0.0                 2.0                 1.0   \n",
              "4               12.0                 6.0                 4.0   \n",
              "\n",
              "  Transportation expense Distance from Residence to Work        Service time  \\\n",
              "0                  19980                           19980               19980   \n",
              "1     221.32972972972973               29.63108108108108  12.554054054054054   \n",
              "2      66.90864437465216                14.8271312445943   4.382019315227165   \n",
              "3                  118.0                             5.0                 1.0   \n",
              "4                  388.0                            52.0                29.0   \n",
              "\n",
              "                 Age Work load Average/day   ... Disciplinary failure  \\\n",
              "0              19980                  19980  ...                19980   \n",
              "1              36.45     271.49023513513544  ...  0.05405405405405406   \n",
              "2  6.474555456691984      39.03269345367196  ...  0.22612999047517499   \n",
              "3               27.0                205.917  ...                  0.0   \n",
              "4               58.0                378.884  ...                  1.0   \n",
              "\n",
              "            Education                 Son      Social drinker  \\\n",
              "0               19980               19980               19980   \n",
              "1  1.2918918918918918   1.018918918918919  0.5675675675675675   \n",
              "2  0.6727998342167526  1.0977740184654727   0.495425986846727   \n",
              "3                 1.0                 0.0                 0.0   \n",
              "4                 4.0                 4.0                 1.0   \n",
              "\n",
              "         Social smoker                 Pet              Weight  \\\n",
              "0                19980               19980               19980   \n",
              "1  0.07297297297297298   0.745945945945946   79.03513513513514   \n",
              "2   0.2600986430945315  1.3174002435299685  12.874824889235656   \n",
              "3                  0.0                 0.0                56.0   \n",
              "4                  1.0                 8.0               108.0   \n",
              "\n",
              "               Height     Body mass index Absenteeism time in hours  \n",
              "0               19980               19980                     19980  \n",
              "1  172.11486486486487  26.677027027027027         6.924324324324324  \n",
              "2   6.031066382203778  4.2826628435300735        13.322321020308573  \n",
              "3               163.0                19.0                       0.0  \n",
              "4               196.0                38.0                     120.0  \n",
              "\n",
              "[5 rows x 21 columns]"
            ],
            "text/html": [
              "\n",
              "  <div id=\"df-6463e4ce-b8aa-403e-84fe-db0dd0787fa1\">\n",
              "    <div class=\"colab-df-container\">\n",
              "      <div>\n",
              "<style scoped>\n",
              "    .dataframe tbody tr th:only-of-type {\n",
              "        vertical-align: middle;\n",
              "    }\n",
              "\n",
              "    .dataframe tbody tr th {\n",
              "        vertical-align: top;\n",
              "    }\n",
              "\n",
              "    .dataframe thead th {\n",
              "        text-align: right;\n",
              "    }\n",
              "</style>\n",
              "<table border=\"1\" class=\"dataframe\">\n",
              "  <thead>\n",
              "    <tr style=\"text-align: right;\">\n",
              "      <th></th>\n",
              "      <th>summary</th>\n",
              "      <th>Reason for absence</th>\n",
              "      <th>Month of absence</th>\n",
              "      <th>Day of the week</th>\n",
              "      <th>Seasons</th>\n",
              "      <th>Transportation expense</th>\n",
              "      <th>Distance from Residence to Work</th>\n",
              "      <th>Service time</th>\n",
              "      <th>Age</th>\n",
              "      <th>Work load Average/day</th>\n",
              "      <th>...</th>\n",
              "      <th>Disciplinary failure</th>\n",
              "      <th>Education</th>\n",
              "      <th>Son</th>\n",
              "      <th>Social drinker</th>\n",
              "      <th>Social smoker</th>\n",
              "      <th>Pet</th>\n",
              "      <th>Weight</th>\n",
              "      <th>Height</th>\n",
              "      <th>Body mass index</th>\n",
              "      <th>Absenteeism time in hours</th>\n",
              "    </tr>\n",
              "  </thead>\n",
              "  <tbody>\n",
              "    <tr>\n",
              "      <th>0</th>\n",
              "      <td>count</td>\n",
              "      <td>16956</td>\n",
              "      <td>19980</td>\n",
              "      <td>19980</td>\n",
              "      <td>19980</td>\n",
              "      <td>19980</td>\n",
              "      <td>19980</td>\n",
              "      <td>19980</td>\n",
              "      <td>19980</td>\n",
              "      <td>19980</td>\n",
              "      <td>...</td>\n",
              "      <td>19980</td>\n",
              "      <td>19980</td>\n",
              "      <td>19980</td>\n",
              "      <td>19980</td>\n",
              "      <td>19980</td>\n",
              "      <td>19980</td>\n",
              "      <td>19980</td>\n",
              "      <td>19980</td>\n",
              "      <td>19980</td>\n",
              "      <td>19980</td>\n",
              "    </tr>\n",
              "    <tr>\n",
              "      <th>1</th>\n",
              "      <td>mean</td>\n",
              "      <td>None</td>\n",
              "      <td>6.324324324324325</td>\n",
              "      <td>3.9148648648648647</td>\n",
              "      <td>2.5445945945945945</td>\n",
              "      <td>221.32972972972973</td>\n",
              "      <td>29.63108108108108</td>\n",
              "      <td>12.554054054054054</td>\n",
              "      <td>36.45</td>\n",
              "      <td>271.49023513513544</td>\n",
              "      <td>...</td>\n",
              "      <td>0.05405405405405406</td>\n",
              "      <td>1.2918918918918918</td>\n",
              "      <td>1.018918918918919</td>\n",
              "      <td>0.5675675675675675</td>\n",
              "      <td>0.07297297297297298</td>\n",
              "      <td>0.745945945945946</td>\n",
              "      <td>79.03513513513514</td>\n",
              "      <td>172.11486486486487</td>\n",
              "      <td>26.677027027027027</td>\n",
              "      <td>6.924324324324324</td>\n",
              "    </tr>\n",
              "    <tr>\n",
              "      <th>2</th>\n",
              "      <td>stddev</td>\n",
              "      <td>None</td>\n",
              "      <td>3.434050269759746</td>\n",
              "      <td>1.4207493487256102</td>\n",
              "      <td>1.1111073748243814</td>\n",
              "      <td>66.90864437465216</td>\n",
              "      <td>14.8271312445943</td>\n",
              "      <td>4.382019315227165</td>\n",
              "      <td>6.474555456691984</td>\n",
              "      <td>39.03269345367196</td>\n",
              "      <td>...</td>\n",
              "      <td>0.22612999047517499</td>\n",
              "      <td>0.6727998342167526</td>\n",
              "      <td>1.0977740184654727</td>\n",
              "      <td>0.495425986846727</td>\n",
              "      <td>0.2600986430945315</td>\n",
              "      <td>1.3174002435299685</td>\n",
              "      <td>12.874824889235656</td>\n",
              "      <td>6.031066382203778</td>\n",
              "      <td>4.2826628435300735</td>\n",
              "      <td>13.322321020308573</td>\n",
              "    </tr>\n",
              "    <tr>\n",
              "      <th>3</th>\n",
              "      <td>min</td>\n",
              "      <td>CID - Blood donation</td>\n",
              "      <td>0.0</td>\n",
              "      <td>2.0</td>\n",
              "      <td>1.0</td>\n",
              "      <td>118.0</td>\n",
              "      <td>5.0</td>\n",
              "      <td>1.0</td>\n",
              "      <td>27.0</td>\n",
              "      <td>205.917</td>\n",
              "      <td>...</td>\n",
              "      <td>0.0</td>\n",
              "      <td>1.0</td>\n",
              "      <td>0.0</td>\n",
              "      <td>0.0</td>\n",
              "      <td>0.0</td>\n",
              "      <td>0.0</td>\n",
              "      <td>56.0</td>\n",
              "      <td>163.0</td>\n",
              "      <td>19.0</td>\n",
              "      <td>0.0</td>\n",
              "    </tr>\n",
              "    <tr>\n",
              "      <th>4</th>\n",
              "      <td>max</td>\n",
              "      <td>Symptoms, signs and abnormal clinical and labo...</td>\n",
              "      <td>12.0</td>\n",
              "      <td>6.0</td>\n",
              "      <td>4.0</td>\n",
              "      <td>388.0</td>\n",
              "      <td>52.0</td>\n",
              "      <td>29.0</td>\n",
              "      <td>58.0</td>\n",
              "      <td>378.884</td>\n",
              "      <td>...</td>\n",
              "      <td>1.0</td>\n",
              "      <td>4.0</td>\n",
              "      <td>4.0</td>\n",
              "      <td>1.0</td>\n",
              "      <td>1.0</td>\n",
              "      <td>8.0</td>\n",
              "      <td>108.0</td>\n",
              "      <td>196.0</td>\n",
              "      <td>38.0</td>\n",
              "      <td>120.0</td>\n",
              "    </tr>\n",
              "  </tbody>\n",
              "</table>\n",
              "<p>5 rows × 21 columns</p>\n",
              "</div>\n",
              "      <button class=\"colab-df-convert\" onclick=\"convertToInteractive('df-6463e4ce-b8aa-403e-84fe-db0dd0787fa1')\"\n",
              "              title=\"Convert this dataframe to an interactive table.\"\n",
              "              style=\"display:none;\">\n",
              "        \n",
              "  <svg xmlns=\"http://www.w3.org/2000/svg\" height=\"24px\"viewBox=\"0 0 24 24\"\n",
              "       width=\"24px\">\n",
              "    <path d=\"M0 0h24v24H0V0z\" fill=\"none\"/>\n",
              "    <path d=\"M18.56 5.44l.94 2.06.94-2.06 2.06-.94-2.06-.94-.94-2.06-.94 2.06-2.06.94zm-11 1L8.5 8.5l.94-2.06 2.06-.94-2.06-.94L8.5 2.5l-.94 2.06-2.06.94zm10 10l.94 2.06.94-2.06 2.06-.94-2.06-.94-.94-2.06-.94 2.06-2.06.94z\"/><path d=\"M17.41 7.96l-1.37-1.37c-.4-.4-.92-.59-1.43-.59-.52 0-1.04.2-1.43.59L10.3 9.45l-7.72 7.72c-.78.78-.78 2.05 0 2.83L4 21.41c.39.39.9.59 1.41.59.51 0 1.02-.2 1.41-.59l7.78-7.78 2.81-2.81c.8-.78.8-2.07 0-2.86zM5.41 20L4 18.59l7.72-7.72 1.47 1.35L5.41 20z\"/>\n",
              "  </svg>\n",
              "      </button>\n",
              "      \n",
              "  <style>\n",
              "    .colab-df-container {\n",
              "      display:flex;\n",
              "      flex-wrap:wrap;\n",
              "      gap: 12px;\n",
              "    }\n",
              "\n",
              "    .colab-df-convert {\n",
              "      background-color: #E8F0FE;\n",
              "      border: none;\n",
              "      border-radius: 50%;\n",
              "      cursor: pointer;\n",
              "      display: none;\n",
              "      fill: #1967D2;\n",
              "      height: 32px;\n",
              "      padding: 0 0 0 0;\n",
              "      width: 32px;\n",
              "    }\n",
              "\n",
              "    .colab-df-convert:hover {\n",
              "      background-color: #E2EBFA;\n",
              "      box-shadow: 0px 1px 2px rgba(60, 64, 67, 0.3), 0px 1px 3px 1px rgba(60, 64, 67, 0.15);\n",
              "      fill: #174EA6;\n",
              "    }\n",
              "\n",
              "    [theme=dark] .colab-df-convert {\n",
              "      background-color: #3B4455;\n",
              "      fill: #D2E3FC;\n",
              "    }\n",
              "\n",
              "    [theme=dark] .colab-df-convert:hover {\n",
              "      background-color: #434B5C;\n",
              "      box-shadow: 0px 1px 3px 1px rgba(0, 0, 0, 0.15);\n",
              "      filter: drop-shadow(0px 1px 2px rgba(0, 0, 0, 0.3));\n",
              "      fill: #FFFFFF;\n",
              "    }\n",
              "  </style>\n",
              "\n",
              "      <script>\n",
              "        const buttonEl =\n",
              "          document.querySelector('#df-6463e4ce-b8aa-403e-84fe-db0dd0787fa1 button.colab-df-convert');\n",
              "        buttonEl.style.display =\n",
              "          google.colab.kernel.accessAllowed ? 'block' : 'none';\n",
              "\n",
              "        async function convertToInteractive(key) {\n",
              "          const element = document.querySelector('#df-6463e4ce-b8aa-403e-84fe-db0dd0787fa1');\n",
              "          const dataTable =\n",
              "            await google.colab.kernel.invokeFunction('convertToInteractive',\n",
              "                                                     [key], {});\n",
              "          if (!dataTable) return;\n",
              "\n",
              "          const docLinkHtml = 'Like what you see? Visit the ' +\n",
              "            '<a target=\"_blank\" href=https://colab.research.google.com/notebooks/data_table.ipynb>data table notebook</a>'\n",
              "            + ' to learn more about interactive tables.';\n",
              "          element.innerHTML = '';\n",
              "          dataTable['output_type'] = 'display_data';\n",
              "          await google.colab.output.renderOutput(dataTable, element);\n",
              "          const docLink = document.createElement('div');\n",
              "          docLink.innerHTML = docLinkHtml;\n",
              "          element.appendChild(docLink);\n",
              "        }\n",
              "      </script>\n",
              "    </div>\n",
              "  </div>\n",
              "  "
            ]
          },
          "metadata": {},
          "execution_count": 17
        }
      ]
    },
    {
      "cell_type": "markdown",
      "source": [
        "- Verifica a correlação entre as colunas."
      ],
      "metadata": {
        "id": "YRWORZmcZpaY"
      }
    },
    {
      "cell_type": "code",
      "source": [
        "corr = df.stat.corr(\"Month of absence\", \"Transportation expense\")\n",
        "print(corr)"
      ],
      "metadata": {
        "colab": {
          "base_uri": "https://localhost:8080/"
        },
        "id": "M5Dl2OSHZpmq",
        "outputId": "44c2b9bd-3488-440c-a9f6-831a16f85193"
      },
      "execution_count": 18,
      "outputs": [
        {
          "output_type": "stream",
          "name": "stdout",
          "text": [
            "0.14410171151361892\n"
          ]
        }
      ]
    },
    {
      "cell_type": "markdown",
      "source": [
        "- Verifica o número de valores únicos em cada coluna."
      ],
      "metadata": {
        "id": "CW3ZHgn5ZRmw"
      }
    },
    {
      "cell_type": "code",
      "source": [
        "for col in df.columns:\n",
        "    print(\"Unique values in column '{}':\".format(col), df.select(col).distinct().count())"
      ],
      "metadata": {
        "colab": {
          "base_uri": "https://localhost:8080/"
        },
        "id": "LyIVMUGvZRX2",
        "outputId": "fa58d5c1-4d46-4532-c64e-d7d68725e2ce"
      },
      "execution_count": 19,
      "outputs": [
        {
          "output_type": "stream",
          "name": "stdout",
          "text": [
            "Unique values in column 'Reason for absence': 28\n",
            "Unique values in column 'Month of absence': 14\n",
            "Unique values in column 'Day of the week': 6\n",
            "Unique values in column 'Seasons': 5\n",
            "Unique values in column 'Transportation expense': 25\n",
            "Unique values in column 'Distance from Residence to Work': 26\n",
            "Unique values in column 'Service time': 19\n",
            "Unique values in column 'Age': 23\n",
            "Unique values in column 'Work load Average/day ': 39\n",
            "Unique values in column 'Hit target': 14\n",
            "Unique values in column 'Disciplinary failure': 3\n",
            "Unique values in column 'Education': 5\n",
            "Unique values in column 'Son': 6\n",
            "Unique values in column 'Social drinker': 3\n",
            "Unique values in column 'Social smoker': 3\n",
            "Unique values in column 'Pet': 7\n",
            "Unique values in column 'Weight': 27\n",
            "Unique values in column 'Height': 15\n",
            "Unique values in column 'Body mass index': 18\n",
            "Unique values in column 'Absenteeism time in hours': 20\n"
          ]
        }
      ]
    },
    {
      "cell_type": "markdown",
      "source": [
        "- Verifica a distribuição de cada coluna."
      ],
      "metadata": {
        "id": "RpIyc62DbzvG"
      }
    },
    {
      "cell_type": "code",
      "source": [
        "for col in df.columns:\n",
        "    df.select(col).groupBy(col).count().show()"
      ],
      "metadata": {
        "colab": {
          "base_uri": "https://localhost:8080/"
        },
        "id": "YrPtshpGbz0u",
        "outputId": "cb17fd3a-1407-4f59-c62d-61a921841827"
      },
      "execution_count": 20,
      "outputs": [
        {
          "output_type": "stream",
          "name": "stdout",
          "text": [
            "+--------------------+-----+\n",
            "|  Reason for absence|count|\n",
            "+--------------------+-----+\n",
            "|Congenital malfor...| 4023|\n",
            "|Symptoms, signs a...|   81|\n",
            "|CID - Dental cons...|  216|\n",
            "|CID - Unjustified...|   54|\n",
            "|                null| 3050|\n",
            "|Diseases of the e...| 1485|\n",
            "|CID - Laboratory ...|   27|\n",
            "|CID - Blood donation|   27|\n",
            "|Injury, poisoning...|  837|\n",
            "|           Neoplasms|  162|\n",
            "|CID - Patient fol...| 1161|\n",
            "|Pregnancy, childb...|  162|\n",
            "|Endocrine, nutrit...|  675|\n",
            "|Diseases of the b...|  108|\n",
            "|Diseases of the c...|   54|\n",
            "| CID - Physiotherapy|   81|\n",
            "|Diseases of the m...| 1080|\n",
            "|Diseases of the e...|  513|\n",
            "|Certain condition...| 1026|\n",
            "|Diseases of the s...|  567|\n",
            "+--------------------+-----+\n",
            "only showing top 20 rows\n",
            "\n",
            "+----------------+-----+\n",
            "|Month of absence|count|\n",
            "+----------------+-----+\n",
            "|             8.0| 1458|\n",
            "|             0.0|   81|\n",
            "|             7.0| 1809|\n",
            "|            null|   26|\n",
            "|             1.0| 1350|\n",
            "|             4.0| 1431|\n",
            "|            11.0| 1701|\n",
            "|             3.0| 2349|\n",
            "|             2.0| 1944|\n",
            "|            10.0| 1917|\n",
            "|             6.0| 1458|\n",
            "|             5.0| 1728|\n",
            "|             9.0| 1431|\n",
            "|            12.0| 1323|\n",
            "+----------------+-----+\n",
            "\n",
            "+---------------+-----+\n",
            "|Day of the week|count|\n",
            "+---------------+-----+\n",
            "|           null|   26|\n",
            "|            4.0| 4212|\n",
            "|            3.0| 4158|\n",
            "|            2.0| 4347|\n",
            "|            6.0| 3888|\n",
            "|            5.0| 3375|\n",
            "+---------------+-----+\n",
            "\n",
            "+-------+-----+\n",
            "|Seasons|count|\n",
            "+-------+-----+\n",
            "|   null|   26|\n",
            "|    1.0| 4590|\n",
            "|    4.0| 5265|\n",
            "|    3.0| 4941|\n",
            "|    2.0| 5184|\n",
            "+-------+-----+\n",
            "\n",
            "+----------------------+-----+\n",
            "|Transportation expense|count|\n",
            "+----------------------+-----+\n",
            "|                 184.0|  189|\n",
            "|                 235.0| 1566|\n",
            "|                 369.0|  405|\n",
            "|                 155.0|  783|\n",
            "|                 268.0|   81|\n",
            "|                 279.0|  162|\n",
            "|                 388.0|   81|\n",
            "|                  null|   26|\n",
            "|                 378.0|  216|\n",
            "|                 231.0|   54|\n",
            "|                 179.0| 4860|\n",
            "|                 300.0|  135|\n",
            "|                 225.0| 2187|\n",
            "|                 246.0|  810|\n",
            "|                 330.0|  432|\n",
            "|                 248.0|  648|\n",
            "|                 118.0| 2484|\n",
            "|                 361.0|  648|\n",
            "|                 157.0|  189|\n",
            "|                 291.0| 1080|\n",
            "+----------------------+-----+\n",
            "only showing top 20 rows\n",
            "\n",
            "+-------------------------------+-----+\n",
            "|Distance from Residence to Work|count|\n",
            "+-------------------------------+-----+\n",
            "|                           49.0|  216|\n",
            "|                           29.0|  378|\n",
            "|                           42.0|  189|\n",
            "|                           35.0|   54|\n",
            "|                           null|   26|\n",
            "|                           25.0| 1458|\n",
            "|                           36.0| 1080|\n",
            "|                           50.0| 1215|\n",
            "|                           45.0|   27|\n",
            "|                           31.0|  999|\n",
            "|                           11.0|  702|\n",
            "|                           51.0| 3240|\n",
            "|                           14.0|  243|\n",
            "|                           48.0|  135|\n",
            "|                           22.0|  540|\n",
            "|                           17.0|  405|\n",
            "|                           27.0|  189|\n",
            "|                           10.0| 1485|\n",
            "|                           13.0|  918|\n",
            "|                           20.0|  513|\n",
            "+-------------------------------+-----+\n",
            "only showing top 20 rows\n",
            "\n",
            "+------------+-----+\n",
            "|Service time|count|\n",
            "+------------+-----+\n",
            "|         8.0|  351|\n",
            "|         7.0|  189|\n",
            "|        29.0|  135|\n",
            "|        null|   26|\n",
            "|        18.0| 3969|\n",
            "|         1.0|  189|\n",
            "|         4.0|  432|\n",
            "|        11.0| 1350|\n",
            "|        14.0| 2295|\n",
            "|         3.0|  648|\n",
            "|        17.0|  540|\n",
            "|        10.0| 1485|\n",
            "|        13.0| 1971|\n",
            "|         6.0|  189|\n",
            "|        15.0|  108|\n",
            "|        24.0|   54|\n",
            "|         9.0| 3402|\n",
            "|        16.0| 1026|\n",
            "|        12.0| 1647|\n",
            "+------------+-----+\n",
            "\n",
            "+----+-----+\n",
            "| Age|count|\n",
            "+----+-----+\n",
            "|49.0|  135|\n",
            "|29.0|  189|\n",
            "|47.0|  648|\n",
            "|null|   26|\n",
            "|39.0|  216|\n",
            "|34.0|  783|\n",
            "|37.0| 2106|\n",
            "|36.0| 1350|\n",
            "|41.0|  918|\n",
            "|50.0|  999|\n",
            "|31.0|  594|\n",
            "|58.0|  216|\n",
            "|48.0|  162|\n",
            "|53.0|   27|\n",
            "|46.0|   54|\n",
            "|28.0| 3159|\n",
            "|38.0| 3051|\n",
            "|27.0|  189|\n",
            "|40.0| 1566|\n",
            "|30.0| 1242|\n",
            "+----+-----+\n",
            "only showing top 20 rows\n",
            "\n",
            "+----------------------+-----+\n",
            "|Work load Average/day |count|\n",
            "+----------------------+-----+\n",
            "|               239.409|  351|\n",
            "|               236.629|  513|\n",
            "|               239.554|  513|\n",
            "|                230.29|  540|\n",
            "|               313.532|  405|\n",
            "|               244.387|  594|\n",
            "|               271.219|   81|\n",
            "|               306.345|  486|\n",
            "|                377.55|  432|\n",
            "|               308.593|  648|\n",
            "|                  null|   26|\n",
            "|               249.797|  405|\n",
            "|               343.253|  783|\n",
            "|               378.884|  432|\n",
            "|               251.818|  567|\n",
            "|               253.957|  513|\n",
            "|               261.756|  324|\n",
            "|               237.656|  864|\n",
            "|               261.306|  405|\n",
            "|               284.031|  594|\n",
            "+----------------------+-----+\n",
            "only showing top 20 rows\n",
            "\n",
            "+----------+-----+\n",
            "|Hit target|count|\n",
            "+----------+-----+\n",
            "|      88.0|  756|\n",
            "|      98.0| 1782|\n",
            "|      96.0| 2025|\n",
            "|      null|   26|\n",
            "|      94.0|  918|\n",
            "|      93.0| 2835|\n",
            "|      81.0|  513|\n",
            "|      87.0|  324|\n",
            "|      99.0| 2754|\n",
            "|      95.0| 2025|\n",
            "|     100.0|  297|\n",
            "|      92.0| 2133|\n",
            "|      97.0| 2403|\n",
            "|      91.0| 1215|\n",
            "+----------+-----+\n",
            "\n",
            "+--------------------+-----+\n",
            "|Disciplinary failure|count|\n",
            "+--------------------+-----+\n",
            "|                 0.0|18900|\n",
            "|                null|   26|\n",
            "|                 1.0| 1080|\n",
            "+--------------------+-----+\n",
            "\n",
            "+---------+-----+\n",
            "|Education|count|\n",
            "+---------+-----+\n",
            "|     null|   26|\n",
            "|      1.0|16497|\n",
            "|      4.0|  108|\n",
            "|      3.0| 2133|\n",
            "|      2.0| 1242|\n",
            "+---------+-----+\n",
            "\n",
            "+----+-----+\n",
            "| Son|count|\n",
            "+----+-----+\n",
            "| 0.0| 8046|\n",
            "|null|   26|\n",
            "| 1.0| 6183|\n",
            "| 4.0| 1134|\n",
            "| 3.0|  405|\n",
            "| 2.0| 4212|\n",
            "+----+-----+\n",
            "\n",
            "+--------------+-----+\n",
            "|Social drinker|count|\n",
            "+--------------+-----+\n",
            "|           0.0| 8640|\n",
            "|          null|   26|\n",
            "|           1.0|11340|\n",
            "+--------------+-----+\n",
            "\n",
            "+-------------+-----+\n",
            "|Social smoker|count|\n",
            "+-------------+-----+\n",
            "|          0.0|18522|\n",
            "|         null|   26|\n",
            "|          1.0| 1458|\n",
            "+-------------+-----+\n",
            "\n",
            "+----+-----+\n",
            "| Pet|count|\n",
            "+----+-----+\n",
            "| 8.0|  216|\n",
            "| 0.0|12420|\n",
            "|null|   26|\n",
            "| 1.0| 3726|\n",
            "| 4.0|  864|\n",
            "| 2.0| 2592|\n",
            "| 5.0|  162|\n",
            "+----+-----+\n",
            "\n",
            "+------+-----+\n",
            "|Weight|count|\n",
            "+------+-----+\n",
            "|  67.0|  810|\n",
            "|  70.0|  405|\n",
            "|  69.0| 2295|\n",
            "| 108.0|  135|\n",
            "|  88.0|  783|\n",
            "|  98.0|  945|\n",
            "|  75.0|  513|\n",
            "|  null|   26|\n",
            "|  80.0|  648|\n",
            "|  86.0|  648|\n",
            "|  94.0|  108|\n",
            "|  77.0|  162|\n",
            "|  56.0| 1242|\n",
            "|  79.0|   81|\n",
            "|  83.0| 1485|\n",
            "|  58.0|  189|\n",
            "| 106.0|  513|\n",
            "|  63.0|  540|\n",
            "|  68.0|  351|\n",
            "|  73.0|  999|\n",
            "+------+-----+\n",
            "only showing top 20 rows\n",
            "\n",
            "+------+-----+\n",
            "|Height|count|\n",
            "+------+-----+\n",
            "| 170.0| 4482|\n",
            "| 169.0| 2565|\n",
            "| 168.0| 1296|\n",
            "| 167.0|  918|\n",
            "| 182.0|  540|\n",
            "|  null|   26|\n",
            "| 178.0| 1539|\n",
            "| 171.0| 2241|\n",
            "| 165.0|  648|\n",
            "| 175.0|  216|\n",
            "| 196.0|  783|\n",
            "| 185.0|  189|\n",
            "| 172.0| 4185|\n",
            "| 163.0|  162|\n",
            "| 174.0|  216|\n",
            "+------+-----+\n",
            "\n",
            "+---------------+-----+\n",
            "|Body mass index|count|\n",
            "+---------------+-----+\n",
            "|           29.0|  621|\n",
            "|           35.0|   54|\n",
            "|           null|   26|\n",
            "|           34.0|   27|\n",
            "|           25.0| 3402|\n",
            "|           36.0|  135|\n",
            "|           23.0| 2025|\n",
            "|           31.0| 3969|\n",
            "|           21.0|  594|\n",
            "|           22.0|  945|\n",
            "|           19.0| 1242|\n",
            "|           28.0| 1593|\n",
            "|           38.0|  513|\n",
            "|           27.0|  648|\n",
            "|           30.0| 1080|\n",
            "|           33.0|  162|\n",
            "|           32.0|  648|\n",
            "|           24.0| 2322|\n",
            "+---------------+-----+\n",
            "\n",
            "+-------------------------+-----+\n",
            "|Absenteeism time in hours|count|\n",
            "+-------------------------+-----+\n",
            "|                      8.0| 5616|\n",
            "|                      0.0| 1188|\n",
            "|                      7.0|   27|\n",
            "|                    112.0|   54|\n",
            "|                     64.0|   81|\n",
            "|                     null|   26|\n",
            "|                     80.0|   81|\n",
            "|                    120.0|   81|\n",
            "|                      1.0| 2376|\n",
            "|                    104.0|   27|\n",
            "|                      4.0| 1620|\n",
            "|                     56.0|   54|\n",
            "|                     48.0|   27|\n",
            "|                      3.0| 3024|\n",
            "|                      2.0| 4239|\n",
            "|                     40.0|  189|\n",
            "|                     32.0|  162|\n",
            "|                      5.0|  189|\n",
            "|                     24.0|  432|\n",
            "|                     16.0|  513|\n",
            "+-------------------------+-----+\n",
            "\n"
          ]
        }
      ]
    },
    {
      "cell_type": "code",
      "source": [
        "import matplotlib.pyplot as plt\n",
        "\n",
        "# Count the frequency of each category in \"Reason for absence\" column\n",
        "df = df.dropna(subset = [\"Reason for absence\"])\n",
        "reason_counts = df.groupBy(\"Reason for absence\").count().toPandas()\n",
        "\n",
        "# Plot the bar chart\n",
        "plt.figure(figsize=(25, 18))\n",
        "plt.barh(reason_counts[\"Reason for absence\"], reason_counts[\"count\"])\n",
        "plt.xlabel(\"Reason for absence\")\n",
        "plt.ylabel(\"Frequency\")\n",
        "plt.title(\"Frequency of Reasons for Absence\")\n",
        "\n",
        "plt.show()"
      ],
      "metadata": {
        "colab": {
          "base_uri": "https://localhost:8080/",
          "height": 980
        },
        "id": "FTDX7B8VB8tW",
        "outputId": "8bfb6e14-908f-40da-a246-91803c59f01e"
      },
      "execution_count": 21,
      "outputs": [
        {
          "output_type": "display_data",
          "data": {
            "text/plain": [
              "<Figure size 1800x1296 with 1 Axes>"
            ],
            "image/png": "[encoded data removed]"
          },
          "metadata": {
            "needs_background": "light"
          }
        }
      ]
    },
    {
      "cell_type": "code",
      "source": [
        "import matplotlib.pyplot as plt\n",
        "\n",
        "# Extract the columns \"Transportation expense\" and \"Distance from Residence to Work\"\n",
        "x = df.select(\"Transportation expense\").toPandas()\n",
        "y = df.select(\"Distance from Residence to Work\").toPandas()\n",
        "\n",
        "# Plot the scatter plot\n",
        "plt.figure(figsize=(10, 6))\n",
        "plt.scatter(x, y, color='red')\n",
        "plt.xlabel(\"Transportation expense ($)\")\n",
        "plt.ylabel(\"Distance from Residence to Work (km)\")\n",
        "plt.title(\"Scatter plot of Transportation expense and Distance from Residence to Work\")\n",
        "plt.show()"
      ],
      "metadata": {
        "colab": {
          "base_uri": "https://localhost:8080/",
          "height": 404
        },
        "id": "ia4u1K8QCHrj",
        "outputId": "73cd429f-81cf-4f21-d40a-da0f9096b84b"
      },
      "execution_count": 22,
      "outputs": [
        {
          "output_type": "display_data",
          "data": {
            "text/plain": [
              "<Figure size 720x432 with 1 Axes>"
            ],
            "image/png": "[encoded data removed]"
          },
          "metadata": {
            "needs_background": "light"
          }
        }
      ]
    },
    {
      "cell_type": "markdown",
      "source": [
        "- Mostrar a distribuição de idade dos funcionários que estão faltando:"
      ],
      "metadata": {
        "id": "1d-IuDfOpfkZ"
      }
    },
    {
      "cell_type": "code",
      "source": [
        "import seaborn as sns\n",
        "import matplotlib.pyplot as plt\n",
        "\n",
        "# Select the 'Age' column\n",
        "age_data = df.select(\"Age\").toPandas()\n",
        "\n",
        "# Reset the index\n",
        "age_data.reset_index(drop=True, inplace=True)\n",
        "\n",
        "# Create a density plot\n",
        "sns.kdeplot(age_data['Age'], shade=True)\n",
        "\n",
        "# Add labels and title\n",
        "plt.xlabel(\"Age\")\n",
        "plt.ylabel(\"Density\")\n",
        "plt.title(\"Density Plot of Age for Absentees\")\n",
        "\n",
        "# Show the plot\n",
        "plt.show()"
      ],
      "metadata": {
        "id": "_5-kC1vBphmf",
        "outputId": "589ddd18-1abc-447f-97f8-9be61efc1fce",
        "colab": {
          "base_uri": "https://localhost:8080/",
          "height": 295
        }
      },
      "execution_count": 23,
      "outputs": [
        {
          "output_type": "display_data",
          "data": {
            "text/plain": [
              "<Figure size 432x288 with 1 Axes>"
            ],
            "image/png": "[encoded data removed]"
          },
          "metadata": {
            "needs_background": "light"
          }
        }
      ]
    },
    {
      "cell_type": "code",
      "source": [
        "import matplotlib.pyplot as plt\n",
        "\n",
        "# Get a list of all numerical columns\n",
        "num_cols = [c for c in df.columns if df.select(c).dtypes[0][1] == 'double']\n",
        "\n",
        "df_num = df.select(num_cols)\n",
        "\n",
        "# Plot a histogram for each numerical column\n",
        "df_num.toPandas().hist(figsize=[15,15],bins=10, color='skyblue', histtype='bar', ec='black')\n",
        "plt.show()"
      ],
      "metadata": {
        "id": "SC50pkA9pj8w",
        "outputId": "e9de210c-403d-4966-df8a-37a520c95607",
        "colab": {
          "base_uri": "https://localhost:8080/",
          "height": 879
        }
      },
      "execution_count": 24,
      "outputs": [
        {
          "output_type": "display_data",
          "data": {
            "text/plain": [
              "<Figure size 1080x1080 with 20 Axes>"
            ],
            "image/png": "[encoded data removed]"
          },
          "metadata": {
            "needs_background": "light"
          }
        }
      ]
    },
    {
      "cell_type": "code",
      "source": [
        "import seaborn as sns\n",
        "from pyspark.sql.functions import col\n",
        "from pyspark.sql.types import NumericType, IntegerType\n",
        "pd_df = df.toPandas()\n",
        "\n",
        "numerical_cols = [col for col in pd_df.columns if isinstance(df.schema[col].dataType, (NumericType))]\n",
        "\n",
        "for col in numerical_cols:\n",
        "    plt.figure(figsize=(10, 6))\n",
        "    sns.boxplot(data=pd_df, x=col, width=0.3)\n",
        "    plt.xlabel(col)\n",
        "    plt.show()"
      ],
      "metadata": {
        "id": "KdanwqfSnseV",
        "outputId": "93623bf5-312d-4e4f-c314-c00d9ce79611",
        "colab": {
          "base_uri": "https://localhost:8080/",
          "height": 1000
        }
      },
      "execution_count": 25,
      "outputs": [
        {
          "output_type": "display_data",
          "data": {
            "text/plain": [
              "<Figure size 720x432 with 1 Axes>"
            ],
            "image/png": "[encoded data removed]"
          },
          "metadata": {
            "needs_background": "light"
          }
        },
        {
          "output_type": "display_data",
          "data": {
            "text/plain": [
              "<Figure size 720x432 with 1 Axes>"
            ],
            "image/png": "[encoded data removed]"
          },
          "metadata": {
            "needs_background": "light"
          }
        },
        {
          "output_type": "display_data",
          "data": {
            "text/plain": [
              "<Figure size 720x432 with 1 Axes>"
            ],
            "image/png": "[encoded data removed]"
          },
          "metadata": {
            "needs_background": "light"
          }
        },
        {
          "output_type": "display_data",
          "data": {
            "text/plain": [
              "<Figure size 720x432 with 1 Axes>"
            ],
            "image/png": "[encoded data removed]"
          },
          "metadata": {
            "needs_background": "light"
          }
        },
        {
          "output_type": "display_data",
          "data": {
            "text/plain": [
              "<Figure size 720x432 with 1 Axes>"
            ],
            "image/png": "[encoded data removed]"
          },
          "metadata": {
            "needs_background": "light"
          }
        },
        {
          "output_type": "display_data",
          "data": {
            "text/plain": [
              "<Figure size 720x432 with 1 Axes>"
            ],
            "image/png": "[encoded data removed]"
          },
          "metadata": {
            "needs_background": "light"
          }
        },
        {
          "output_type": "display_data",
          "data": {
            "text/plain": [
              "<Figure size 720x432 with 1 Axes>"
            ],
            "image/png": "[encoded data removed]"
          },
          "metadata": {
            "needs_background": "light"
          }
        },
        {
          "output_type": "display_data",
          "data": {
            "text/plain": [
              "<Figure size 720x432 with 1 Axes>"
            ],
            "image/png": "[encoded data removed]"
          },
          "metadata": {
            "needs_background": "light"
          }
        },
        {
          "output_type": "display_data",
          "data": {
            "text/plain": [
              "<Figure size 720x432 with 1 Axes>"
            ],
            "image/png": "[encoded data removed]"
          },
          "metadata": {
            "needs_background": "light"
          }
        },
        {
          "output_type": "display_data",
          "data": {
            "text/plain": [
              "<Figure size 720x432 with 1 Axes>"
            ],
            "image/png": "[encoded data removed]"
          },
          "metadata": {
            "needs_background": "light"
          }
        },
        {
          "output_type": "display_data",
          "data": {
            "text/plain": [
              "<Figure size 720x432 with 1 Axes>"
            ],
            "image/png": "[encoded data removed]"
          },
          "metadata": {
            "needs_background": "light"
          }
        },
        {
          "output_type": "display_data",
          "data": {
            "text/plain": [
              "<Figure size 720x432 with 1 Axes>"
            ],
            "image/png": "[encoded data removed]"
          },
          "metadata": {
            "needs_background": "light"
          }
        },
        {
          "output_type": "display_data",
          "data": {
            "text/plain": [
              "<Figure size 720x432 with 1 Axes>"
            ],
            "image/png": "[encoded data removed]"
          },
          "metadata": {
            "needs_background": "light"
          }
        },
        {
          "output_type": "display_data",
          "data": {
            "text/plain": [
              "<Figure size 720x432 with 1 Axes>"
            ],
            "image/png": "[encoded data removed]"
          },
          "metadata": {
            "needs_background": "light"
          }
        },
        {
          "output_type": "display_data",
          "data": {
            "text/plain": [
              "<Figure size 720x432 with 1 Axes>"
            ],
            "image/png": "[encoded data removed]"
          },
          "metadata": {
            "needs_background": "light"
          }
        },
        {
          "output_type": "display_data",
          "data": {
            "text/plain": [
              "<Figure size 720x432 with 1 Axes>"
            ],
            "image/png": "[encoded data removed]"
          },
          "metadata": {
            "needs_background": "light"
          }
        },
        {
          "output_type": "display_data",
          "data": {
            "text/plain": [
              "<Figure size 720x432 with 1 Axes>"
            ],
            "image/png": "[encoded data removed]"
          },
          "metadata": {
            "needs_background": "light"
          }
        },
        {
          "output_type": "display_data",
          "data": {
            "text/plain": [
              "<Figure size 720x432 with 1 Axes>"
            ],
            "image/png": "[encoded data removed]"
          },
          "metadata": {
            "needs_background": "light"
          }
        },
        {
          "output_type": "display_data",
          "data": {
            "text/plain": [
              "<Figure size 720x432 with 1 Axes>"
            ],
            "image/png": "[encoded data removed]"
          },
          "metadata": {
            "needs_background": "light"
          }
        }
      ]
    },
    {
      "cell_type": "code",
      "source": [
        "df.schema.names"
      ],
      "metadata": {
        "id": "tc1uWRv4nyta",
        "outputId": "2d5c314a-7845-4733-9438-3008900c7460",
        "colab": {
          "base_uri": "https://localhost:8080/"
        }
      },
      "execution_count": 26,
      "outputs": [
        {
          "output_type": "execute_result",
          "data": {
            "text/plain": [
              "['Reason for absence',\n",
              " 'Month of absence',\n",
              " 'Day of the week',\n",
              " 'Seasons',\n",
              " 'Transportation expense',\n",
              " 'Distance from Residence to Work',\n",
              " 'Service time',\n",
              " 'Age',\n",
              " 'Work load Average/day ',\n",
              " 'Hit target',\n",
              " 'Disciplinary failure',\n",
              " 'Education',\n",
              " 'Son',\n",
              " 'Social drinker',\n",
              " 'Social smoker',\n",
              " 'Pet',\n",
              " 'Weight',\n",
              " 'Height',\n",
              " 'Body mass index',\n",
              " 'Absenteeism time in hours']"
            ]
          },
          "metadata": {},
          "execution_count": 26
        }
      ]
    },
    {
      "cell_type": "code",
      "source": [
        "from pyspark.ml.feature import VectorAssembler, StandardScaler\n",
        "from pyspark.ml.regression import LinearRegression\n",
        "\n",
        "# Selecione as colunas independentes\n",
        "independent_cols = ['Month of absence','Day of the week','Seasons','Transportation expense','Distance from Residence to Work','Service time','Age','Hit target','Disciplinary failure','Education','Son','Social drinker','Social smoker','Pet','Weight','Height','Absenteeism time in hours']\n",
        "\n",
        "# Crie o objeto VectorAssembler\n",
        "assembler = VectorAssembler(inputCols=independent_cols, outputCol='features')\n",
        "\n",
        "# Aplique o assembler no DataFrame\n",
        "df_assembled = assembler.transform(df)\n",
        "\n",
        "# Dividir os dados em conjunto de treinamento e teste\n",
        "train, test = df_assembled.randomSplit([0.7, 0.3])\n"
      ],
      "metadata": {
        "id": "0043GYFG12pg"
      },
      "execution_count": 27,
      "outputs": []
    },
    {
      "cell_type": "markdown",
      "source": [
        "#Standarizar os dados em train e test"
      ],
      "metadata": {
        "id": "4RAg9qRnx4FC"
      }
    },
    {
      "cell_type": "code",
      "source": [
        "# Criar objeto StandardScaler\n",
        "scaler = StandardScaler(inputCol='features', outputCol='standard_features')\n",
        "\n",
        "# Aplique o scaler no conjunto de treinamento\n",
        "scalerModel = scaler.fit(train)\n",
        "\n",
        "# Aplique o scaler no conjunto de treinamento\n",
        "train = scalerModel.transform(train)\n",
        "\n",
        "# Aplique o scaler no conjunto de teste\n",
        "test = scalerModel.transform(test)"
      ],
      "metadata": {
        "id": "8goKPZ4FDi7h"
      },
      "execution_count": 28,
      "outputs": []
    },
    {
      "cell_type": "markdown",
      "source": [
        "#Train e teste sem os dados Standarizados"
      ],
      "metadata": {
        "id": "KSiSYL47zywj"
      }
    },
    {
      "cell_type": "code",
      "source": [
        "train.show()\n",
        "test.show()"
      ],
      "metadata": {
        "colab": {
          "base_uri": "https://localhost:8080/"
        },
        "id": "TQOkZ0RYDsYy",
        "outputId": "9b27cc0f-bb00-406e-c486-6358fbe5c67e"
      },
      "execution_count": 29,
      "outputs": [
        {
          "output_type": "stream",
          "name": "stdout",
          "text": [
            "+--------------------+----------------+---------------+-------+----------------------+-------------------------------+------------+----+----------------------+----------+--------------------+---------+---+--------------+-------------+---+------+------+---------------+-------------------------+--------------------+--------------------+\n",
            "|  Reason for absence|Month of absence|Day of the week|Seasons|Transportation expense|Distance from Residence to Work|Service time| Age|Work load Average/day |Hit target|Disciplinary failure|Education|Son|Social drinker|Social smoker|Pet|Weight|Height|Body mass index|Absenteeism time in hours|            features|   standard_features|\n",
            "+--------------------+----------------+---------------+-------+----------------------+-------------------------------+------------+----+----------------------+----------+--------------------+---------+---+--------------+-------------+---+------+------+---------------+-------------------------+--------------------+--------------------+\n",
            "|CID - Blood donation|            11.0|            4.0|    4.0|                 330.0|                           16.0|         4.0|28.0|               268.519|      93.0|                 0.0|      2.0|0.0|           0.0|          0.0|0.0|  84.0| 182.0|           25.0|                     24.0|[11.0,4.0,4.0,330...|[3.18965176050525...|\n",
            "|CID - Blood donation|            11.0|            4.0|    4.0|                 330.0|                           16.0|         4.0|28.0|               268.519|      93.0|                 0.0|      2.0|0.0|           0.0|          0.0|0.0|  84.0| 182.0|           25.0|                     24.0|[11.0,4.0,4.0,330...|[3.18965176050525...|\n",
            "|CID - Blood donation|            11.0|            4.0|    4.0|                 330.0|                           16.0|         4.0|28.0|               268.519|      93.0|                 0.0|      2.0|0.0|           0.0|          0.0|0.0|  84.0| 182.0|           25.0|                     24.0|[11.0,4.0,4.0,330...|[3.18965176050525...|\n",
            "|CID - Blood donation|            11.0|            4.0|    4.0|                 330.0|                           16.0|         4.0|28.0|               268.519|      93.0|                 0.0|      2.0|0.0|           0.0|          0.0|0.0|  84.0| 182.0|           25.0|                     24.0|[11.0,4.0,4.0,330...|[3.18965176050525...|\n",
            "|CID - Blood donation|            11.0|            4.0|    4.0|                 330.0|                           16.0|         4.0|28.0|               268.519|      93.0|                 0.0|      2.0|0.0|           0.0|          0.0|0.0|  84.0| 182.0|           25.0|                     24.0|[11.0,4.0,4.0,330...|[3.18965176050525...|\n",
            "|CID - Blood donation|            11.0|            4.0|    4.0|                 330.0|                           16.0|         4.0|28.0|               268.519|      93.0|                 0.0|      2.0|0.0|           0.0|          0.0|0.0|  84.0| 182.0|           25.0|                     24.0|[11.0,4.0,4.0,330...|[3.18965176050525...|\n",
            "|CID - Blood donation|            11.0|            4.0|    4.0|                 330.0|                           16.0|         4.0|28.0|               268.519|      93.0|                 0.0|      2.0|0.0|           0.0|          0.0|0.0|  84.0| 182.0|           25.0|                     24.0|[11.0,4.0,4.0,330...|[3.18965176050525...|\n",
            "|CID - Blood donation|            11.0|            4.0|    4.0|                 330.0|                           16.0|         4.0|28.0|               268.519|      93.0|                 0.0|      2.0|0.0|           0.0|          0.0|0.0|  84.0| 182.0|           25.0|                     24.0|[11.0,4.0,4.0,330...|[3.18965176050525...|\n",
            "|CID - Blood donation|            11.0|            4.0|    4.0|                 330.0|                           16.0|         4.0|28.0|               268.519|      93.0|                 0.0|      2.0|0.0|           0.0|          0.0|0.0|  84.0| 182.0|           25.0|                     24.0|[11.0,4.0,4.0,330...|[3.18965176050525...|\n",
            "|CID - Blood donation|            11.0|            4.0|    4.0|                 330.0|                           16.0|         4.0|28.0|               268.519|      93.0|                 0.0|      2.0|0.0|           0.0|          0.0|0.0|  84.0| 182.0|           25.0|                     24.0|[11.0,4.0,4.0,330...|[3.18965176050525...|\n",
            "|CID - Blood donation|            11.0|            4.0|    4.0|                 330.0|                           16.0|         4.0|28.0|               268.519|      93.0|                 0.0|      2.0|0.0|           0.0|          0.0|0.0|  84.0| 182.0|           25.0|                     24.0|[11.0,4.0,4.0,330...|[3.18965176050525...|\n",
            "|CID - Blood donation|            11.0|            4.0|    4.0|                 330.0|                           16.0|         4.0|28.0|               268.519|      93.0|                 0.0|      2.0|0.0|           0.0|          0.0|0.0|  84.0| 182.0|           25.0|                     24.0|[11.0,4.0,4.0,330...|[3.18965176050525...|\n",
            "|CID - Blood donation|            11.0|            4.0|    4.0|                 330.0|                           16.0|         4.0|28.0|               268.519|      93.0|                 0.0|      2.0|0.0|           0.0|          0.0|0.0|  84.0| 182.0|           25.0|                     24.0|[11.0,4.0,4.0,330...|[3.18965176050525...|\n",
            "|CID - Blood donation|            11.0|            4.0|    4.0|                 330.0|                           16.0|         4.0|28.0|               268.519|      93.0|                 0.0|      2.0|0.0|           0.0|          0.0|0.0|  84.0| 182.0|           25.0|                     24.0|[11.0,4.0,4.0,330...|[3.18965176050525...|\n",
            "|CID - Blood donation|            11.0|            4.0|    4.0|                 330.0|                           16.0|         4.0|28.0|               268.519|      93.0|                 0.0|      2.0|0.0|           0.0|          0.0|0.0|  84.0| 182.0|           25.0|                     24.0|[11.0,4.0,4.0,330...|[3.18965176050525...|\n",
            "|CID - Blood donation|            11.0|            4.0|    4.0|                 330.0|                           16.0|         4.0|28.0|               268.519|      93.0|                 0.0|      2.0|0.0|           0.0|          0.0|0.0|  84.0| 182.0|           25.0|                     24.0|[11.0,4.0,4.0,330...|[3.18965176050525...|\n",
            "|CID - Blood donation|            11.0|            4.0|    4.0|                 330.0|                           16.0|         4.0|28.0|               268.519|      93.0|                 0.0|      2.0|0.0|           0.0|          0.0|0.0|  84.0| 182.0|           25.0|                     24.0|[11.0,4.0,4.0,330...|[3.18965176050525...|\n",
            "|CID - Blood donation|            11.0|            4.0|    4.0|                 330.0|                           16.0|         4.0|28.0|               268.519|      93.0|                 0.0|      2.0|0.0|           0.0|          0.0|0.0|  84.0| 182.0|           25.0|                     24.0|[11.0,4.0,4.0,330...|[3.18965176050525...|\n",
            "|CID - Blood donation|            11.0|            4.0|    4.0|                 330.0|                           16.0|         4.0|28.0|               268.519|      93.0|                 0.0|      2.0|0.0|           0.0|          0.0|0.0|  84.0| 182.0|           25.0|                     24.0|[11.0,4.0,4.0,330...|[3.18965176050525...|\n",
            "|CID - Blood donation|            11.0|            4.0|    4.0|                 330.0|                           16.0|         4.0|28.0|               268.519|      93.0|                 0.0|      2.0|0.0|           0.0|          0.0|0.0|  84.0| 182.0|           25.0|                     24.0|[11.0,4.0,4.0,330...|[3.18965176050525...|\n",
            "+--------------------+----------------+---------------+-------+----------------------+-------------------------------+------------+----+----------------------+----------+--------------------+---------+---+--------------+-------------+---+------+------+---------------+-------------------------+--------------------+--------------------+\n",
            "only showing top 20 rows\n",
            "\n",
            "+--------------------+----------------+---------------+-------+----------------------+-------------------------------+------------+----+----------------------+----------+--------------------+---------+---+--------------+-------------+---+------+------+---------------+-------------------------+--------------------+--------------------+\n",
            "|  Reason for absence|Month of absence|Day of the week|Seasons|Transportation expense|Distance from Residence to Work|Service time| Age|Work load Average/day |Hit target|Disciplinary failure|Education|Son|Social drinker|Social smoker|Pet|Weight|Height|Body mass index|Absenteeism time in hours|            features|   standard_features|\n",
            "+--------------------+----------------+---------------+-------+----------------------+-------------------------------+------------+----+----------------------+----------+--------------------+---------+---+--------------+-------------+---+------+------+---------------+-------------------------+--------------------+--------------------+\n",
            "|CID - Blood donation|            11.0|            4.0|    4.0|                 330.0|                           16.0|         4.0|28.0|               268.519|      93.0|                 0.0|      2.0|0.0|           0.0|          0.0|0.0|  84.0| 182.0|           25.0|                     24.0|[11.0,4.0,4.0,330...|[3.18965176050525...|\n",
            "|CID - Blood donation|            11.0|            4.0|    4.0|                 330.0|                           16.0|         4.0|28.0|               268.519|      93.0|                 0.0|      2.0|0.0|           0.0|          0.0|0.0|  84.0| 182.0|           25.0|                     24.0|[11.0,4.0,4.0,330...|[3.18965176050525...|\n",
            "|CID - Blood donation|            11.0|            4.0|    4.0|                 330.0|                           16.0|         4.0|28.0|               268.519|      93.0|                 0.0|      2.0|0.0|           0.0|          0.0|0.0|  84.0| 182.0|           25.0|                     24.0|[11.0,4.0,4.0,330...|[3.18965176050525...|\n",
            "|CID - Blood donation|            11.0|            4.0|    4.0|                 330.0|                           16.0|         4.0|28.0|               268.519|      93.0|                 0.0|      2.0|0.0|           0.0|          0.0|0.0|  84.0| 182.0|           25.0|                     24.0|[11.0,4.0,4.0,330...|[3.18965176050525...|\n",
            "|CID - Blood donation|            11.0|            4.0|    4.0|                 330.0|                           16.0|         4.0|28.0|               268.519|      93.0|                 0.0|      2.0|0.0|           0.0|          0.0|0.0|  84.0| 182.0|           25.0|                     24.0|[11.0,4.0,4.0,330...|[3.18965176050525...|\n",
            "|CID - Blood donation|            11.0|            4.0|    4.0|                 330.0|                           16.0|         4.0|28.0|               268.519|      93.0|                 0.0|      2.0|0.0|           0.0|          0.0|0.0|  84.0| 182.0|           25.0|                     24.0|[11.0,4.0,4.0,330...|[3.18965176050525...|\n",
            "|CID - Dental cons...|             3.0|            5.0|    2.0|                 289.0|                           36.0|        13.0|33.0|               343.253|      95.0|                 0.0|      1.0|2.0|           1.0|          0.0|1.0|  90.0| 172.0|           30.0|                      8.0|[3.0,5.0,2.0,289....|[0.86990502559234...|\n",
            "|CID - Dental cons...|             3.0|            5.0|    2.0|                 289.0|                           36.0|        13.0|33.0|               343.253|      95.0|                 0.0|      1.0|2.0|           1.0|          0.0|1.0|  90.0| 172.0|           30.0|                      8.0|[3.0,5.0,2.0,289....|[0.86990502559234...|\n",
            "|CID - Dental cons...|             3.0|            5.0|    2.0|                 289.0|                           36.0|        13.0|33.0|               343.253|      95.0|                 0.0|      1.0|2.0|           1.0|          0.0|1.0|  90.0| 172.0|           30.0|                      8.0|[3.0,5.0,2.0,289....|[0.86990502559234...|\n",
            "|CID - Dental cons...|             3.0|            5.0|    2.0|                 289.0|                           36.0|        13.0|33.0|               343.253|      95.0|                 0.0|      1.0|2.0|           1.0|          0.0|1.0|  90.0| 172.0|           30.0|                      8.0|[3.0,5.0,2.0,289....|[0.86990502559234...|\n",
            "|CID - Dental cons...|             3.0|            5.0|    2.0|                 289.0|                           36.0|        13.0|33.0|               343.253|      95.0|                 0.0|      1.0|2.0|           1.0|          0.0|1.0|  90.0| 172.0|           30.0|                      8.0|[3.0,5.0,2.0,289....|[0.86990502559234...|\n",
            "|CID - Dental cons...|             3.0|            5.0|    2.0|                 289.0|                           36.0|        13.0|33.0|               343.253|      95.0|                 0.0|      1.0|2.0|           1.0|          0.0|1.0|  90.0| 172.0|           30.0|                      8.0|[3.0,5.0,2.0,289....|[0.86990502559234...|\n",
            "|CID - Dental cons...|             5.0|            4.0|    3.0|                 225.0|                           26.0|         9.0|28.0|               237.656|      99.0|                 0.0|      1.0|1.0|           0.0|          0.0|2.0|  69.0| 169.0|           24.0|                      3.0|[5.0,4.0,3.0,225....|[1.44984170932057...|\n",
            "|CID - Dental cons...|             5.0|            4.0|    3.0|                 225.0|                           26.0|         9.0|28.0|               237.656|      99.0|                 0.0|      1.0|1.0|           0.0|          0.0|2.0|  69.0| 169.0|           24.0|                      3.0|[5.0,4.0,3.0,225....|[1.44984170932057...|\n",
            "|CID - Dental cons...|             5.0|            4.0|    3.0|                 225.0|                           26.0|         9.0|28.0|               237.656|      99.0|                 0.0|      1.0|1.0|           0.0|          0.0|2.0|  69.0| 169.0|           24.0|                      3.0|[5.0,4.0,3.0,225....|[1.44984170932057...|\n",
            "|CID - Dental cons...|             5.0|            4.0|    3.0|                 225.0|                           26.0|         9.0|28.0|               237.656|      99.0|                 0.0|      1.0|1.0|           0.0|          0.0|2.0|  69.0| 169.0|           24.0|                      3.0|[5.0,4.0,3.0,225....|[1.44984170932057...|\n",
            "|CID - Dental cons...|             5.0|            4.0|    3.0|                 225.0|                           26.0|         9.0|28.0|               237.656|      99.0|                 0.0|      1.0|1.0|           0.0|          0.0|2.0|  69.0| 169.0|           24.0|                      3.0|[5.0,4.0,3.0,225....|[1.44984170932057...|\n",
            "|CID - Dental cons...|             5.0|            4.0|    3.0|                 225.0|                           26.0|         9.0|28.0|               237.656|      99.0|                 0.0|      1.0|1.0|           0.0|          0.0|2.0|  69.0| 169.0|           24.0|                      3.0|[5.0,4.0,3.0,225....|[1.44984170932057...|\n",
            "|CID - Dental cons...|             5.0|            4.0|    3.0|                 225.0|                           26.0|         9.0|28.0|               237.656|      99.0|                 0.0|      1.0|1.0|           0.0|          0.0|2.0|  69.0| 169.0|           24.0|                      3.0|[5.0,4.0,3.0,225....|[1.44984170932057...|\n",
            "|CID - Dental cons...|             5.0|            4.0|    3.0|                 225.0|                           26.0|         9.0|28.0|               237.656|      99.0|                 0.0|      1.0|1.0|           0.0|          0.0|2.0|  69.0| 169.0|           24.0|                      3.0|[5.0,4.0,3.0,225....|[1.44984170932057...|\n",
            "+--------------------+----------------+---------------+-------+----------------------+-------------------------------+------------+----+----------------------+----------+--------------------+---------+---+--------------+-------------+---+------+------+---------------+-------------------------+--------------------+--------------------+\n",
            "only showing top 20 rows\n",
            "\n"
          ]
        }
      ]
    },
    {
      "cell_type": "markdown",
      "source": [
        "#Train e teste com os dados Standarizados"
      ],
      "metadata": {
        "id": "KoGv8Ck9z5T0"
      }
    },
    {
      "cell_type": "code",
      "source": [
        "train.select('standard_features').show(2,truncate=False)\n",
        "test.select('standard_features').show(2,truncate=False)"
      ],
      "metadata": {
        "colab": {
          "base_uri": "https://localhost:8080/"
        },
        "id": "jMztvdLBDsz3",
        "outputId": "ed8d9772-ccdc-413d-ea75-88da321f13df"
      },
      "execution_count": 30,
      "outputs": [
        {
          "output_type": "stream",
          "name": "stdout",
          "text": [
            "+-------------------------------------------------------------------------------------------------------------------------------------------------------------------------------------------------------------------------------------------------------+\n",
            "|standard_features                                                                                                                                                                                                                                      |\n",
            "+-------------------------------------------------------------------------------------------------------------------------------------------------------------------------------------------------------------------------------------------------------+\n",
            "|[3.189651760505258,2.8587299097887655,3.6196971799843607,4.8133827627147445,1.0955003919970188,0.8951163116176222,4.1769397792204686,25.264374968910722,0.0,2.8269190217272007,0.0,0.0,0.0,0.0,6.386352588354532,30.720388802287992,1.6949226185906903]|\n",
            "|[3.189651760505258,2.8587299097887655,3.6196971799843607,4.8133827627147445,1.0955003919970188,0.8951163116176222,4.1769397792204686,25.264374968910722,0.0,2.8269190217272007,0.0,0.0,0.0,0.0,6.386352588354532,30.720388802287992,1.6949226185906903]|\n",
            "+-------------------------------------------------------------------------------------------------------------------------------------------------------------------------------------------------------------------------------------------------------+\n",
            "only showing top 2 rows\n",
            "\n",
            "+-------------------------------------------------------------------------------------------------------------------------------------------------------------------------------------------------------------------------------------------------------+\n",
            "|standard_features                                                                                                                                                                                                                                      |\n",
            "+-------------------------------------------------------------------------------------------------------------------------------------------------------------------------------------------------------------------------------------------------------+\n",
            "|[3.189651760505258,2.8587299097887655,3.6196971799843607,4.8133827627147445,1.0955003919970188,0.8951163116176222,4.1769397792204686,25.264374968910722,0.0,2.8269190217272007,0.0,0.0,0.0,0.0,6.386352588354532,30.720388802287992,1.6949226185906903]|\n",
            "|[3.189651760505258,2.8587299097887655,3.6196971799843607,4.8133827627147445,1.0955003919970188,0.8951163116176222,4.1769397792204686,25.264374968910722,0.0,2.8269190217272007,0.0,0.0,0.0,0.0,6.386352588354532,30.720388802287992,1.6949226185906903]|\n",
            "+-------------------------------------------------------------------------------------------------------------------------------------------------------------------------------------------------------------------------------------------------------+\n",
            "only showing top 2 rows\n",
            "\n"
          ]
        }
      ]
    },
    {
      "cell_type": "code",
      "source": [
        "# Criar objeto LinearRegression\n",
        "lr = LinearRegression(labelCol='Body mass index', featuresCol='standard_features')\n",
        "\n",
        "# Treinar o modelo com os dados de treinamento\n",
        "model = lr.fit(train)\n",
        "\n",
        "# Fazer previsões com os dados de teste\n",
        "predictions = model.transform(test)"
      ],
      "metadata": {
        "id": "8f8uadU5D8Qk"
      },
      "execution_count": 31,
      "outputs": []
    },
    {
      "cell_type": "markdown",
      "source": [
        "#Regressão Linear"
      ],
      "metadata": {
        "id": "Jo2smmJjFWX-"
      }
    },
    {
      "cell_type": "code",
      "source": [
        "# Import the RegressionEvaluator class\n",
        "from pyspark.ml.evaluation import RegressionEvaluator\n",
        "\n",
        "# Create an instance of the evaluator\n",
        "evaluator = RegressionEvaluator(labelCol='Body mass index', predictionCol='prediction', metricName='mse')\n",
        "\n",
        "# Calculate the MSE on the test data\n",
        "mse = evaluator.evaluate(predictions)\n",
        "\n",
        "# Calculate the RMSE on the test data\n",
        "rmse = mse**0.5\n",
        "print(\"Mean Squared Error (MSE): \",mse)\n",
        "print(\"Root Mean Squared Error (RMSE): \",rmse)"
      ],
      "metadata": {
        "colab": {
          "base_uri": "https://localhost:8080/"
        },
        "id": "63fVVeaT4ZRY",
        "outputId": "d1d324b5-7feb-4710-c0f1-45223faa2ece"
      },
      "execution_count": 32,
      "outputs": [
        {
          "output_type": "stream",
          "name": "stdout",
          "text": [
            "Mean Squared Error (MSE):  0.11754960925689857\n",
            "Root Mean Squared Error (RMSE):  0.342855084922039\n"
          ]
        }
      ]
    },
    {
      "cell_type": "code",
      "source": [
        "import matplotlib.pyplot as plt\n",
        "\n",
        "# Extract the actual and predicted values\n",
        "y_actual = predictions.select('Body mass index').toPandas()\n",
        "y_pred = predictions.select('prediction').toPandas()\n",
        "\n",
        "plt.figure(figsize=(12, 6))\n",
        "\n",
        "# Create the scatter plot\n",
        "plt.scatter(y_actual, y_pred)\n",
        "plt.xlabel('Actual Values')\n",
        "plt.ylabel('Predicted Values')\n",
        "plt.title('Linear Regression Results')\n",
        "plt.show()"
      ],
      "metadata": {
        "colab": {
          "base_uri": "https://localhost:8080/",
          "height": 404
        },
        "id": "Il0qjMQY6PbF",
        "outputId": "bbd99a91-a547-4bce-ba3b-a18ea40413aa"
      },
      "execution_count": 33,
      "outputs": [
        {
          "output_type": "display_data",
          "data": {
            "text/plain": [
              "<Figure size 864x432 with 1 Axes>"
            ],
            "image/png": "[encoded data removed]"
          },
          "metadata": {
            "needs_background": "light"
          }
        }
      ]
    }
  ]
}