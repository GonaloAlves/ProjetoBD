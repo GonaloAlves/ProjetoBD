{
  "nbformat": 4,
  "nbformat_minor": 0,
  "metadata": {
    "colab": {
      "provenance": [],
      "include_colab_link": true
    },
    "kernelspec": {
      "name": "python3",
      "display_name": "Python 3"
    },
    "language_info": {
      "name": "python"
    }
  },
  "cells": [
    {
      "cell_type": "markdown",
      "metadata": {
        "id": "view-in-github",
        "colab_type": "text"
      },
      "source": [
        "<a href=\"https://colab.research.google.com/github/GuilhermeVCCdaSilva/ProjetoBD/blob/main/ProjetoBigData_GuilhermeSilvaMarineFournieGon%C3%A7aloAlves.ipynb\" target=\"_parent\"><img src=\"https://colab.research.google.com/assets/colab-badge.svg\" alt=\"Open In Colab\"/></a>"
      ]
    },
    {
      "cell_type": "markdown",
      "source": [
        "<img src=\"https://www.estbarreiro.ips.pt/Content/images/logo-ESTB.png\" align=\"right\" alt=\"EsT Logo circle logo\" style=\"height: 200px; width:300px;\"/>\n",
        "\n",
        "# Projeto Final Big Data \n",
        "* __Guilherme Silva__\n",
        "* __Marine Emilie Fournier__\n",
        "* __Gonçalo Alves__"
      ],
      "metadata": {
        "id": "5y9CFXldkFjG"
      }
    },
    {
      "cell_type": "code",
      "execution_count": null,
      "metadata": {
        "colab": {
          "base_uri": "https://localhost:8080/"
        },
        "id": "A7PzfgEmI-OC",
        "outputId": "c5fce8c5-8d3b-459f-c262-2b6a1d5ee857"
      },
      "outputs": [
        {
          "output_type": "stream",
          "name": "stdout",
          "text": [
            "Looking in indexes: https://pypi.org/simple, https://us-python.pkg.dev/colab-wheels/public/simple/\n",
            "Requirement already satisfied: pyspark in /usr/local/lib/python3.8/dist-packages (3.3.1)\n",
            "Requirement already satisfied: py4j==0.10.9.5 in /usr/local/lib/python3.8/dist-packages (from pyspark) (0.10.9.5)\n",
            "Looking in indexes: https://pypi.org/simple, https://us-python.pkg.dev/colab-wheels/public/simple/\n",
            "Requirement already satisfied: findspark in /usr/local/lib/python3.8/dist-packages (2.0.1)\n"
          ]
        }
      ],
      "source": [
        "# Installing required packages\n",
        "!pip install pyspark\n",
        "!pip install findspark"
      ]
    },
    {
      "cell_type": "markdown",
      "source": [
        "#Creating a SparkSession\n",
        "\n",
        "Para se trabalhar com dados no Spark, é essencial criar uma **SparkSession**, este passo é fundamental e o primeiro a ser realizado. Ela é responsável por gerenciar a configuração do Spark, criar RDDs (Resilient Distributed Datasets) e DataFrames, registar tabelas temporárias e gerenciar os recursos do cluster utilizados.\n",
        "\n",
        "A SparkSession é o ponto de partida para trabalhar com dados estruturados e relacionais no Spark SQL, o módulo do Spark que fornece suporte para essa funcionalidade. Ele permite que você execute consultas SQL, manipule DataFrames e extraia metadados. Ele também oferece acesso às bibliotecas de processamento de fluxo de dados (como o DataFrame API e o SQL) e às bibliotecas de aprendizado de máquina (como o MLlib) do Spark.\n",
        "\n",
        "A SparkSession (criada usando SparkSession.builder) é uma classe fundamental para trabalhar com dados no Spark, é através dela que é possível configurar e gerenciar a sessão, estabelecer conexões com o cluster, definir opções de configuração e gerenciar recursos como o número de núcleos para usar e a quantidade de memória. É a porta de entrada para trabalhar com dados estruturados e relacionais no Spark SQL.\n",
        "\n",
        "A configuração \".config(\"spark.memory.offHeap.enabled\")\" permite habilitar o uso de memória fora da heap (off-heap). Quando essa configuração é definida como \"true\", o Spark pode usar memória fora do heap do JVM para armazenar os dados e realizar operações. Isso permite que o Spark armazene e execute operações com mais dados, o que pode melhorar o desempenho quando a memória disponível dentro da heap não é suficiente.\n",
        "\n",
        "A configuração \".config(\"spark.memory.offHeap.size\",\"10g\")\" permite definir a quantidade de memória fora do heap (off-heap) disponível para o Spark usar. Neste caso, o valor \"10g\" indica que o Spark pode usar até 10 gigabytes de memória fora do heap. Esse valor pode ser ajustado de acordo com o tamanho dos dados e as necessidades do seu aplicativo para garantir o melhor desempenho possível."
      ],
      "metadata": {
        "id": "9pqgarnoKqPR"
      }
    },
    {
      "cell_type": "code",
      "source": [
        "from pyspark.sql import SparkSession\n",
        "import findspark\n",
        "\n",
        "findspark.init()\n",
        "\n",
        "spark = SparkSession.builder.appName(\"Pyspark Tutorial\")\\\n",
        "                    .config(\"spark.memory.offHeap.enabled\",\"true\")\\\n",
        "                    .config(\"spark.memory.offHeap.size\",\"10g\")\\\n",
        "                    .getOrCreate()\n",
        "spark                    "
      ],
      "metadata": {
        "colab": {
          "base_uri": "https://localhost:8080/",
          "height": 221
        },
        "id": "rUCnB3MwJmbw",
        "outputId": "0c84e10a-f0dd-4295-8b12-5b9ea4d4c1b2"
      },
      "execution_count": null,
      "outputs": [
        {
          "output_type": "execute_result",
          "data": {
            "text/plain": [
              "<pyspark.sql.session.SparkSession at 0x7f5dafe90850>"
            ],
            "text/html": [
              "\n",
              "            <div>\n",
              "                <p><b>SparkSession - in-memory</b></p>\n",
              "                \n",
              "        <div>\n",
              "            <p><b>SparkContext</b></p>\n",
              "\n",
              "            <p><a href=\"http://5578e661b8dd:4040\">Spark UI</a></p>\n",
              "\n",
              "            <dl>\n",
              "              <dt>Version</dt>\n",
              "                <dd><code>v3.3.1</code></dd>\n",
              "              <dt>Master</dt>\n",
              "                <dd><code>local[*]</code></dd>\n",
              "              <dt>AppName</dt>\n",
              "                <dd><code>Pyspark Tutorial</code></dd>\n",
              "            </dl>\n",
              "        </div>\n",
              "        \n",
              "            </div>\n",
              "        "
            ]
          },
          "metadata": {},
          "execution_count": 2
        }
      ]
    },
    {
      "cell_type": "markdown",
      "source": [
        "Carregamento dos dados do DataSet\n",
        "O dataset pode ser obtido em https://archive.ics.uci.edu/ml/datasets/Absenteeism+at+work"
      ],
      "metadata": {
        "id": "a9icJbVvkYOl"
      }
    },
    {
      "cell_type": "code",
      "source": [
        "!curl https://raw.githubusercontent.com/GuilhermeVCCdaSilva/ProjetoBD/main/Absenteeism_at_work.csv >> Absenteeism_at_work.csv\n",
        "df = spark.read.csv('Absenteeism_at_work.csv',header=True,sep=\";\")"
      ],
      "metadata": {
        "colab": {
          "base_uri": "https://localhost:8080/"
        },
        "id": "lsM9rQDKP06H",
        "outputId": "466f45a8-96e5-40e8-d0dd-e4417c9ed6b8"
      },
      "execution_count": null,
      "outputs": [
        {
          "output_type": "stream",
          "name": "stdout",
          "text": [
            "  % Total    % Received % Xferd  Average Speed   Time    Time     Time  Current\n",
            "                                 Dload  Upload   Total   Spent    Left  Speed\n",
            "100 45232  100 45232    0     0   204k      0 --:--:-- --:--:-- --:--:--  204k\n"
          ]
        }
      ]
    },
    {
      "cell_type": "code",
      "source": [
        "df.show(10)"
      ],
      "metadata": {
        "colab": {
          "base_uri": "https://localhost:8080/"
        },
        "id": "MHhZB0e8QZJq",
        "outputId": "8d6676ff-8ae1-42f2-e30f-033a6cba5a4f"
      },
      "execution_count": null,
      "outputs": [
        {
          "output_type": "stream",
          "name": "stdout",
          "text": [
            "+---+------------------+----------------+---------------+-------+----------------------+-------------------------------+------------+---+----------------------+----------+--------------------+---------+---+--------------+-------------+---+------+------+---------------+-------------------------+\n",
            "| ID|Reason for absence|Month of absence|Day of the week|Seasons|Transportation expense|Distance from Residence to Work|Service time|Age|Work load Average/day |Hit target|Disciplinary failure|Education|Son|Social drinker|Social smoker|Pet|Weight|Height|Body mass index|Absenteeism time in hours|\n",
            "+---+------------------+----------------+---------------+-------+----------------------+-------------------------------+------------+---+----------------------+----------+--------------------+---------+---+--------------+-------------+---+------+------+---------------+-------------------------+\n",
            "| 11|                26|               7|              3|      1|                   289|                             36|          13| 33|               239.554|        97|                   0|        1|  2|             1|            0|  1|    90|   172|             30|                        4|\n",
            "| 36|                 0|               7|              3|      1|                   118|                             13|          18| 50|               239.554|        97|                   1|        1|  1|             1|            0|  0|    98|   178|             31|                        0|\n",
            "|  3|                23|               7|              4|      1|                   179|                             51|          18| 38|               239.554|        97|                   0|        1|  0|             1|            0|  0|    89|   170|             31|                        2|\n",
            "|  7|                 7|               7|              5|      1|                   279|                              5|          14| 39|               239.554|        97|                   0|        1|  2|             1|            1|  0|    68|   168|             24|                        4|\n",
            "| 11|                23|               7|              5|      1|                   289|                             36|          13| 33|               239.554|        97|                   0|        1|  2|             1|            0|  1|    90|   172|             30|                        2|\n",
            "|  3|                23|               7|              6|      1|                   179|                             51|          18| 38|               239.554|        97|                   0|        1|  0|             1|            0|  0|    89|   170|             31|                        2|\n",
            "| 10|                22|               7|              6|      1|                   361|                             52|           3| 28|               239.554|        97|                   0|        1|  1|             1|            0|  4|    80|   172|             27|                        8|\n",
            "| 20|                23|               7|              6|      1|                   260|                             50|          11| 36|               239.554|        97|                   0|        1|  4|             1|            0|  0|    65|   168|             23|                        4|\n",
            "| 14|                19|               7|              2|      1|                   155|                             12|          14| 34|               239.554|        97|                   0|        1|  2|             1|            0|  0|    95|   196|             25|                       40|\n",
            "|  1|                22|               7|              2|      1|                   235|                             11|          14| 37|               239.554|        97|                   0|        3|  1|             0|            0|  1|    88|   172|             29|                        8|\n",
            "+---+------------------+----------------+---------------+-------+----------------------+-------------------------------+------------+---+----------------------+----------+--------------------+---------+---+--------------+-------------+---+------+------+---------------+-------------------------+\n",
            "only showing top 10 rows\n",
            "\n"
          ]
        }
      ]
    },
    {
      "cell_type": "markdown",
      "source": [
        "#Este DataSet contém várias colunas tais como:\n",
        "\n",
        "1.  ID: Identificador único para cada registo.\n",
        "2.    Razão para a ausência: Razão para a ausência do funcionário no trabalho.\n",
        "3.    Mês da ausência: O mês em que o funcionário estava ausente.\n",
        "4.    Dia da semana: O dia da semana em que o funcionário estava ausente.\n",
        "5.    Estações: A estação do ano em que o funcionário estava ausente.\n",
        "6.    Despesas de transporte: As despesas de transporte incorridas pelo funcionário ao viajar para o trabalho.\n",
        "7.    Distância da residência para o trabalho: A distância entre a residência do funcionário e o local de trabalho.\n",
        "8.    Tempo de serviço: O período de tempo em que o funcionário está a trabalhar na empresa.\n",
        "9.    Idade: A idade do funcionário.\n",
        "10.    Carga de trabalho média/dia: A carga de trabalho média do funcionário por dia.\n",
        "11.    Alvo atingido: Se o funcionário atingiu ou não o alvo\n",
        "12.    Falha disciplinar: Se o funcionário cometeu alguma falha disciplinar ou não.\n",
        "12.    Educação: O nível de educação do funcionário.\n",
        "14.    Filhos: O número de filhos que o funcionário tem.\n",
        "15.    Bebedor social: Se o funcionário bebe socialmente ou não.\n",
        "16.    Fumador social: Se o funcionário fuma socialmente ou não.\n",
        "17.    Animal de estimação: Se o funcionário tem algum animal de estimação ou não.\n",
        "18.    Peso: O peso do funcionário.\n",
        "19.    Altura: A altura do funcionário.\n",
        "20.    Índice de massa corporal: O índice de massa corporal do funcionário.\n",
        "21.    Tempo de ausência em horas: O número de horas que o funcionário ficou ausente."
      ],
      "metadata": {
        "id": "YLZpeS-tS9tx"
      }
    },
    {
      "cell_type": "markdown",
      "source": [
        "#Exploratory Data Analysis"
      ],
      "metadata": {
        "id": "VQWMTCcVVJeO"
      }
    },
    {
      "cell_type": "markdown",
      "source": [
        "- Check the number of rows and columns in the dataset"
      ],
      "metadata": {
        "id": "GePEAYSsVQyU"
      }
    },
    {
      "cell_type": "code",
      "source": [
        "print(\"Number of rows:\", df.count())\n",
        "print(\"Number of columns:\", len(df.columns))"
      ],
      "metadata": {
        "colab": {
          "base_uri": "https://localhost:8080/"
        },
        "id": "zN6DdjtpTOyA",
        "outputId": "1cf77c08-3aad-4039-c430-4eb2d9cf40d1"
      },
      "execution_count": null,
      "outputs": [
        {
          "output_type": "stream",
          "name": "stdout",
          "text": [
            "Number of rows: 740\n",
            "Number of columns: 21\n"
          ]
        }
      ]
    },
    {
      "cell_type": "markdown",
      "source": [
        "- Check the number of missing values in each column"
      ],
      "metadata": {
        "id": "UdoQ-eXJVkXy"
      }
    },
    {
      "cell_type": "code",
      "source": [
        "# create a list to store the number of missing values in each column\n",
        "missing_values = []\n",
        "\n",
        "# iterate through the columns in the dataset\n",
        "for col in df.columns:\n",
        "    missing_values.append((col, df.filter(df[col].isNull()).count()))\n",
        "\n",
        "# print the missing values\n",
        "for col, val in missing_values:\n",
        "    if val == 0:\n",
        "        print(\"{} : No missing values\".format(col))\n",
        "    else:\n",
        "        print(\"{} : {} missing values\".format(col, val))"
      ],
      "metadata": {
        "colab": {
          "base_uri": "https://localhost:8080/"
        },
        "id": "oIUHcnylVkkT",
        "outputId": "bb743743-4561-4a2e-d271-f2e283767211"
      },
      "execution_count": null,
      "outputs": [
        {
          "output_type": "stream",
          "name": "stdout",
          "text": [
            "ID : No missing values\n",
            "Reason for absence : No missing values\n",
            "Month of absence : No missing values\n",
            "Day of the week : No missing values\n",
            "Seasons : No missing values\n",
            "Transportation expense : No missing values\n",
            "Distance from Residence to Work : No missing values\n",
            "Service time : No missing values\n",
            "Age : No missing values\n",
            "Work load Average/day  : No missing values\n",
            "Hit target : No missing values\n",
            "Disciplinary failure : No missing values\n",
            "Education : No missing values\n",
            "Son : No missing values\n",
            "Social drinker : No missing values\n",
            "Social smoker : No missing values\n",
            "Pet : No missing values\n",
            "Weight : No missing values\n",
            "Height : No missing values\n",
            "Body mass index : No missing values\n",
            "Absenteeism time in hours : No missing values\n"
          ]
        }
      ]
    },
    {
      "cell_type": "markdown",
      "source": [
        "- check the data types of the columns"
      ],
      "metadata": {
        "id": "7ywFa9_dVuab"
      }
    },
    {
      "cell_type": "code",
      "source": [
        "df.dtypes"
      ],
      "metadata": {
        "colab": {
          "base_uri": "https://localhost:8080/"
        },
        "id": "D-44Emf8Vumq",
        "outputId": "85805f2c-6372-41fe-8948-b9a418427247"
      },
      "execution_count": null,
      "outputs": [
        {
          "output_type": "execute_result",
          "data": {
            "text/plain": [
              "[('ID', 'string'),\n",
              " ('Reason for absence', 'string'),\n",
              " ('Month of absence', 'string'),\n",
              " ('Day of the week', 'string'),\n",
              " ('Seasons', 'string'),\n",
              " ('Transportation expense', 'string'),\n",
              " ('Distance from Residence to Work', 'string'),\n",
              " ('Service time', 'string'),\n",
              " ('Age', 'string'),\n",
              " ('Work load Average/day ', 'string'),\n",
              " ('Hit target', 'string'),\n",
              " ('Disciplinary failure', 'string'),\n",
              " ('Education', 'string'),\n",
              " ('Son', 'string'),\n",
              " ('Social drinker', 'string'),\n",
              " ('Social smoker', 'string'),\n",
              " ('Pet', 'string'),\n",
              " ('Weight', 'string'),\n",
              " ('Height', 'string'),\n",
              " ('Body mass index', 'string'),\n",
              " ('Absenteeism time in hours', 'string')]"
            ]
          },
          "metadata": {},
          "execution_count": 8
        }
      ]
    },
    {
      "cell_type": "markdown",
      "source": [
        "- Convert data type string to double"
      ],
      "metadata": {
        "id": "0Mxc948RrWH9"
      }
    },
    {
      "cell_type": "code",
      "source": [
        "from pyspark.sql.functions import col\n",
        "for column in df.columns:\n",
        "    df = df.withColumn(column, col(column).cast(\"double\"))"
      ],
      "metadata": {
        "id": "cdv6VTiErKoD"
      },
      "execution_count": null,
      "outputs": []
    },
    {
      "cell_type": "code",
      "source": [
        "df.dtypes"
      ],
      "metadata": {
        "colab": {
          "base_uri": "https://localhost:8080/"
        },
        "id": "v0zfHam_re5F",
        "outputId": "3ef9b29c-d734-4045-b3dd-28cd7cf9de34"
      },
      "execution_count": null,
      "outputs": [
        {
          "output_type": "execute_result",
          "data": {
            "text/plain": [
              "[('ID', 'double'),\n",
              " ('Reason for absence', 'double'),\n",
              " ('Month of absence', 'double'),\n",
              " ('Day of the week', 'double'),\n",
              " ('Seasons', 'double'),\n",
              " ('Transportation expense', 'double'),\n",
              " ('Distance from Residence to Work', 'double'),\n",
              " ('Service time', 'double'),\n",
              " ('Age', 'double'),\n",
              " ('Work load Average/day ', 'double'),\n",
              " ('Hit target', 'double'),\n",
              " ('Disciplinary failure', 'double'),\n",
              " ('Education', 'double'),\n",
              " ('Son', 'double'),\n",
              " ('Social drinker', 'double'),\n",
              " ('Social smoker', 'double'),\n",
              " ('Pet', 'double'),\n",
              " ('Weight', 'double'),\n",
              " ('Height', 'double'),\n",
              " ('Body mass index', 'double'),\n",
              " ('Absenteeism time in hours', 'double')]"
            ]
          },
          "metadata": {},
          "execution_count": 35
        }
      ]
    },
    {
      "cell_type": "markdown",
      "source": [
        "- Check the statistics of numerical columns"
      ],
      "metadata": {
        "id": "rbOnyOggvDJ6"
      }
    },
    {
      "cell_type": "code",
      "source": [
        "df.describe().toPandas()"
      ],
      "metadata": {
        "id": "a2pAvuw8u1kU",
        "outputId": "17ea7f1d-fba2-472e-8469-c596d2d800d7",
        "colab": {
          "base_uri": "https://localhost:8080/",
          "height": 317
        }
      },
      "execution_count": null,
      "outputs": [
        {
          "output_type": "execute_result",
          "data": {
            "text/plain": [
              "  summary                  ID  Reason for absence    Month of absence  \\\n",
              "0   count                1480                1480                1480   \n",
              "1    mean  18.017567567567568  19.216216216216218   6.324324324324325   \n",
              "2  stddev  11.017520721194476   8.430554350720568  3.4351250428068756   \n",
              "3     min                 1.0                 0.0                 0.0   \n",
              "4     max                36.0                28.0                12.0   \n",
              "\n",
              "      Day of the week             Seasons Transportation expense  \\\n",
              "0                1480                1480                   1480   \n",
              "1  3.9148648648648647  2.5445945945945945     221.32972972972973   \n",
              "2  1.4211940082345906  1.1114551240316193      66.92958513030392   \n",
              "3                 2.0                 1.0                  118.0   \n",
              "4                 6.0                 4.0                  388.0   \n",
              "\n",
              "  Distance from Residence to Work        Service time                Age  ...  \\\n",
              "0                            1480                1480               1480  ...   \n",
              "1               29.63108108108108  12.554054054054054              36.45  ...   \n",
              "2              14.831771771021184  4.3833907792076365  6.476581832880566  ...   \n",
              "3                             5.0                 1.0               27.0  ...   \n",
              "4                            52.0                29.0               58.0  ...   \n",
              "\n",
              "  Disciplinary failure           Education                 Son  \\\n",
              "0                 1480                1480                1480   \n",
              "1  0.05405405405405406  1.2918918918918918   1.018918918918919   \n",
              "2  0.22620076358559088  0.6730104039729131  1.0981175946609893   \n",
              "3                  0.0                 1.0                 0.0   \n",
              "4                  1.0                 4.0                 4.0   \n",
              "\n",
              "        Social drinker        Social smoker                 Pet  \\\n",
              "0                 1480                 1480                1480   \n",
              "1   0.5675675675675675  0.07297297297297298   0.745945945945946   \n",
              "2  0.49558104296288513   0.2601800475555146  1.3178125573177155   \n",
              "3                  0.0                  0.0                 0.0   \n",
              "4                  1.0                  1.0                 8.0   \n",
              "\n",
              "               Weight              Height     Body mass index  \\\n",
              "0                1480                1480                1480   \n",
              "1   79.03513513513514  172.11486486486487  26.677027027027027   \n",
              "2  12.878854391919235   6.032953957248968   4.284003211385137   \n",
              "3                56.0               163.0                19.0   \n",
              "4               108.0               196.0                38.0   \n",
              "\n",
              "  Absenteeism time in hours  \n",
              "0                      1480  \n",
              "1         6.924324324324324  \n",
              "2        13.326490578245464  \n",
              "3                       0.0  \n",
              "4                     120.0  \n",
              "\n",
              "[5 rows x 22 columns]"
            ],
            "text/html": [
              "\n",
              "  <div id=\"df-7021f915-0d22-4412-8178-6683d546e260\">\n",
              "    <div class=\"colab-df-container\">\n",
              "      <div>\n",
              "<style scoped>\n",
              "    .dataframe tbody tr th:only-of-type {\n",
              "        vertical-align: middle;\n",
              "    }\n",
              "\n",
              "    .dataframe tbody tr th {\n",
              "        vertical-align: top;\n",
              "    }\n",
              "\n",
              "    .dataframe thead th {\n",
              "        text-align: right;\n",
              "    }\n",
              "</style>\n",
              "<table border=\"1\" class=\"dataframe\">\n",
              "  <thead>\n",
              "    <tr style=\"text-align: right;\">\n",
              "      <th></th>\n",
              "      <th>summary</th>\n",
              "      <th>ID</th>\n",
              "      <th>Reason for absence</th>\n",
              "      <th>Month of absence</th>\n",
              "      <th>Day of the week</th>\n",
              "      <th>Seasons</th>\n",
              "      <th>Transportation expense</th>\n",
              "      <th>Distance from Residence to Work</th>\n",
              "      <th>Service time</th>\n",
              "      <th>Age</th>\n",
              "      <th>...</th>\n",
              "      <th>Disciplinary failure</th>\n",
              "      <th>Education</th>\n",
              "      <th>Son</th>\n",
              "      <th>Social drinker</th>\n",
              "      <th>Social smoker</th>\n",
              "      <th>Pet</th>\n",
              "      <th>Weight</th>\n",
              "      <th>Height</th>\n",
              "      <th>Body mass index</th>\n",
              "      <th>Absenteeism time in hours</th>\n",
              "    </tr>\n",
              "  </thead>\n",
              "  <tbody>\n",
              "    <tr>\n",
              "      <th>0</th>\n",
              "      <td>count</td>\n",
              "      <td>1480</td>\n",
              "      <td>1480</td>\n",
              "      <td>1480</td>\n",
              "      <td>1480</td>\n",
              "      <td>1480</td>\n",
              "      <td>1480</td>\n",
              "      <td>1480</td>\n",
              "      <td>1480</td>\n",
              "      <td>1480</td>\n",
              "      <td>...</td>\n",
              "      <td>1480</td>\n",
              "      <td>1480</td>\n",
              "      <td>1480</td>\n",
              "      <td>1480</td>\n",
              "      <td>1480</td>\n",
              "      <td>1480</td>\n",
              "      <td>1480</td>\n",
              "      <td>1480</td>\n",
              "      <td>1480</td>\n",
              "      <td>1480</td>\n",
              "    </tr>\n",
              "    <tr>\n",
              "      <th>1</th>\n",
              "      <td>mean</td>\n",
              "      <td>18.017567567567568</td>\n",
              "      <td>19.216216216216218</td>\n",
              "      <td>6.324324324324325</td>\n",
              "      <td>3.9148648648648647</td>\n",
              "      <td>2.5445945945945945</td>\n",
              "      <td>221.32972972972973</td>\n",
              "      <td>29.63108108108108</td>\n",
              "      <td>12.554054054054054</td>\n",
              "      <td>36.45</td>\n",
              "      <td>...</td>\n",
              "      <td>0.05405405405405406</td>\n",
              "      <td>1.2918918918918918</td>\n",
              "      <td>1.018918918918919</td>\n",
              "      <td>0.5675675675675675</td>\n",
              "      <td>0.07297297297297298</td>\n",
              "      <td>0.745945945945946</td>\n",
              "      <td>79.03513513513514</td>\n",
              "      <td>172.11486486486487</td>\n",
              "      <td>26.677027027027027</td>\n",
              "      <td>6.924324324324324</td>\n",
              "    </tr>\n",
              "    <tr>\n",
              "      <th>2</th>\n",
              "      <td>stddev</td>\n",
              "      <td>11.017520721194476</td>\n",
              "      <td>8.430554350720568</td>\n",
              "      <td>3.4351250428068756</td>\n",
              "      <td>1.4211940082345906</td>\n",
              "      <td>1.1114551240316193</td>\n",
              "      <td>66.92958513030392</td>\n",
              "      <td>14.831771771021184</td>\n",
              "      <td>4.3833907792076365</td>\n",
              "      <td>6.476581832880566</td>\n",
              "      <td>...</td>\n",
              "      <td>0.22620076358559088</td>\n",
              "      <td>0.6730104039729131</td>\n",
              "      <td>1.0981175946609893</td>\n",
              "      <td>0.49558104296288513</td>\n",
              "      <td>0.2601800475555146</td>\n",
              "      <td>1.3178125573177155</td>\n",
              "      <td>12.878854391919235</td>\n",
              "      <td>6.032953957248968</td>\n",
              "      <td>4.284003211385137</td>\n",
              "      <td>13.326490578245464</td>\n",
              "    </tr>\n",
              "    <tr>\n",
              "      <th>3</th>\n",
              "      <td>min</td>\n",
              "      <td>1.0</td>\n",
              "      <td>0.0</td>\n",
              "      <td>0.0</td>\n",
              "      <td>2.0</td>\n",
              "      <td>1.0</td>\n",
              "      <td>118.0</td>\n",
              "      <td>5.0</td>\n",
              "      <td>1.0</td>\n",
              "      <td>27.0</td>\n",
              "      <td>...</td>\n",
              "      <td>0.0</td>\n",
              "      <td>1.0</td>\n",
              "      <td>0.0</td>\n",
              "      <td>0.0</td>\n",
              "      <td>0.0</td>\n",
              "      <td>0.0</td>\n",
              "      <td>56.0</td>\n",
              "      <td>163.0</td>\n",
              "      <td>19.0</td>\n",
              "      <td>0.0</td>\n",
              "    </tr>\n",
              "    <tr>\n",
              "      <th>4</th>\n",
              "      <td>max</td>\n",
              "      <td>36.0</td>\n",
              "      <td>28.0</td>\n",
              "      <td>12.0</td>\n",
              "      <td>6.0</td>\n",
              "      <td>4.0</td>\n",
              "      <td>388.0</td>\n",
              "      <td>52.0</td>\n",
              "      <td>29.0</td>\n",
              "      <td>58.0</td>\n",
              "      <td>...</td>\n",
              "      <td>1.0</td>\n",
              "      <td>4.0</td>\n",
              "      <td>4.0</td>\n",
              "      <td>1.0</td>\n",
              "      <td>1.0</td>\n",
              "      <td>8.0</td>\n",
              "      <td>108.0</td>\n",
              "      <td>196.0</td>\n",
              "      <td>38.0</td>\n",
              "      <td>120.0</td>\n",
              "    </tr>\n",
              "  </tbody>\n",
              "</table>\n",
              "<p>5 rows × 22 columns</p>\n",
              "</div>\n",
              "      <button class=\"colab-df-convert\" onclick=\"convertToInteractive('df-7021f915-0d22-4412-8178-6683d546e260')\"\n",
              "              title=\"Convert this dataframe to an interactive table.\"\n",
              "              style=\"display:none;\">\n",
              "        \n",
              "  <svg xmlns=\"http://www.w3.org/2000/svg\" height=\"24px\"viewBox=\"0 0 24 24\"\n",
              "       width=\"24px\">\n",
              "    <path d=\"M0 0h24v24H0V0z\" fill=\"none\"/>\n",
              "    <path d=\"M18.56 5.44l.94 2.06.94-2.06 2.06-.94-2.06-.94-.94-2.06-.94 2.06-2.06.94zm-11 1L8.5 8.5l.94-2.06 2.06-.94-2.06-.94L8.5 2.5l-.94 2.06-2.06.94zm10 10l.94 2.06.94-2.06 2.06-.94-2.06-.94-.94-2.06-.94 2.06-2.06.94z\"/><path d=\"M17.41 7.96l-1.37-1.37c-.4-.4-.92-.59-1.43-.59-.52 0-1.04.2-1.43.59L10.3 9.45l-7.72 7.72c-.78.78-.78 2.05 0 2.83L4 21.41c.39.39.9.59 1.41.59.51 0 1.02-.2 1.41-.59l7.78-7.78 2.81-2.81c.8-.78.8-2.07 0-2.86zM5.41 20L4 18.59l7.72-7.72 1.47 1.35L5.41 20z\"/>\n",
              "  </svg>\n",
              "      </button>\n",
              "      \n",
              "  <style>\n",
              "    .colab-df-container {\n",
              "      display:flex;\n",
              "      flex-wrap:wrap;\n",
              "      gap: 12px;\n",
              "    }\n",
              "\n",
              "    .colab-df-convert {\n",
              "      background-color: #E8F0FE;\n",
              "      border: none;\n",
              "      border-radius: 50%;\n",
              "      cursor: pointer;\n",
              "      display: none;\n",
              "      fill: #1967D2;\n",
              "      height: 32px;\n",
              "      padding: 0 0 0 0;\n",
              "      width: 32px;\n",
              "    }\n",
              "\n",
              "    .colab-df-convert:hover {\n",
              "      background-color: #E2EBFA;\n",
              "      box-shadow: 0px 1px 2px rgba(60, 64, 67, 0.3), 0px 1px 3px 1px rgba(60, 64, 67, 0.15);\n",
              "      fill: #174EA6;\n",
              "    }\n",
              "\n",
              "    [theme=dark] .colab-df-convert {\n",
              "      background-color: #3B4455;\n",
              "      fill: #D2E3FC;\n",
              "    }\n",
              "\n",
              "    [theme=dark] .colab-df-convert:hover {\n",
              "      background-color: #434B5C;\n",
              "      box-shadow: 0px 1px 3px 1px rgba(0, 0, 0, 0.15);\n",
              "      filter: drop-shadow(0px 1px 2px rgba(0, 0, 0, 0.3));\n",
              "      fill: #FFFFFF;\n",
              "    }\n",
              "  </style>\n",
              "\n",
              "      <script>\n",
              "        const buttonEl =\n",
              "          document.querySelector('#df-7021f915-0d22-4412-8178-6683d546e260 button.colab-df-convert');\n",
              "        buttonEl.style.display =\n",
              "          google.colab.kernel.accessAllowed ? 'block' : 'none';\n",
              "\n",
              "        async function convertToInteractive(key) {\n",
              "          const element = document.querySelector('#df-7021f915-0d22-4412-8178-6683d546e260');\n",
              "          const dataTable =\n",
              "            await google.colab.kernel.invokeFunction('convertToInteractive',\n",
              "                                                     [key], {});\n",
              "          if (!dataTable) return;\n",
              "\n",
              "          const docLinkHtml = 'Like what you see? Visit the ' +\n",
              "            '<a target=\"_blank\" href=https://colab.research.google.com/notebooks/data_table.ipynb>data table notebook</a>'\n",
              "            + ' to learn more about interactive tables.';\n",
              "          element.innerHTML = '';\n",
              "          dataTable['output_type'] = 'display_data';\n",
              "          await google.colab.output.renderOutput(dataTable, element);\n",
              "          const docLink = document.createElement('div');\n",
              "          docLink.innerHTML = docLinkHtml;\n",
              "          element.appendChild(docLink);\n",
              "        }\n",
              "      </script>\n",
              "    </div>\n",
              "  </div>\n",
              "  "
            ]
          },
          "metadata": {},
          "execution_count": 33
        }
      ]
    },
    {
      "cell_type": "markdown",
      "source": [
        "- Check the correlation between columns"
      ],
      "metadata": {
        "id": "YRWORZmcZpaY"
      }
    },
    {
      "cell_type": "code",
      "source": [
        "corr = df.stat.corr(\"Month of absence\", \"Transportation expense\")\n",
        "print(corr)"
      ],
      "metadata": {
        "colab": {
          "base_uri": "https://localhost:8080/"
        },
        "id": "M5Dl2OSHZpmq",
        "outputId": "76e133a9-23b8-4db7-d115-739a37058b72"
      },
      "execution_count": null,
      "outputs": [
        {
          "output_type": "stream",
          "name": "stdout",
          "text": [
            "0.13752456639267643\n"
          ]
        }
      ]
    },
    {
      "cell_type": "markdown",
      "source": [
        "- Check the number of unique values in each column"
      ],
      "metadata": {
        "id": "CW3ZHgn5ZRmw"
      }
    },
    {
      "cell_type": "code",
      "source": [
        "for col in df.columns:\n",
        "    print(\"Unique values in column '{}':\".format(col), df.select(col).distinct().count())"
      ],
      "metadata": {
        "colab": {
          "base_uri": "https://localhost:8080/"
        },
        "id": "LyIVMUGvZRX2",
        "outputId": "b64958ed-07e3-4498-d9d7-66b0f946965d"
      },
      "execution_count": null,
      "outputs": [
        {
          "output_type": "stream",
          "name": "stdout",
          "text": [
            "Unique values in column 'ID': 37\n",
            "Unique values in column 'Reason for absence': 29\n",
            "Unique values in column 'Month of absence': 14\n",
            "Unique values in column 'Day of the week': 6\n",
            "Unique values in column 'Seasons': 5\n",
            "Unique values in column 'Transportation expense': 25\n",
            "Unique values in column 'Distance from Residence to Work': 26\n",
            "Unique values in column 'Service time': 19\n",
            "Unique values in column 'Age': 23\n",
            "Unique values in column 'Work load Average/day ': 39\n",
            "Unique values in column 'Hit target': 14\n",
            "Unique values in column 'Disciplinary failure': 3\n",
            "Unique values in column 'Education': 5\n",
            "Unique values in column 'Son': 6\n",
            "Unique values in column 'Social drinker': 3\n",
            "Unique values in column 'Social smoker': 3\n",
            "Unique values in column 'Pet': 7\n",
            "Unique values in column 'Weight': 27\n",
            "Unique values in column 'Height': 15\n",
            "Unique values in column 'Body mass index': 18\n",
            "Unique values in column 'Absenteeism time in hours': 20\n"
          ]
        }
      ]
    },
    {
      "cell_type": "markdown",
      "source": [
        "- check the distribution of each column"
      ],
      "metadata": {
        "id": "RpIyc62DbzvG"
      }
    },
    {
      "cell_type": "code",
      "source": [
        "for col in df.columns:\n",
        "    df.select(col).groupBy(col).count().show()"
      ],
      "metadata": {
        "colab": {
          "base_uri": "https://localhost:8080/"
        },
        "id": "YrPtshpGbz0u",
        "outputId": "39e13819-4280-41c1-a251-bf2d420c3ecd"
      },
      "execution_count": null,
      "outputs": [
        {
          "output_type": "stream",
          "name": "stdout",
          "text": [
            "+----+-----+\n",
            "|  ID|count|\n",
            "+----+-----+\n",
            "| 8.0|    4|\n",
            "| 7.0|   12|\n",
            "|29.0|   10|\n",
            "|35.0|    2|\n",
            "|null|    1|\n",
            "|18.0|   32|\n",
            "| 1.0|   46|\n",
            "|34.0|  110|\n",
            "|25.0|   20|\n",
            "|36.0|   68|\n",
            "| 4.0|    2|\n",
            "|23.0|   16|\n",
            "|31.0|    6|\n",
            "|11.0|   80|\n",
            "|21.0|    6|\n",
            "|14.0|   58|\n",
            "|22.0|   92|\n",
            "| 3.0|  226|\n",
            "|19.0|    6|\n",
            "|28.0|  152|\n",
            "+----+-----+\n",
            "only showing top 20 rows\n",
            "\n",
            "+------------------+-----+\n",
            "|Reason for absence|count|\n",
            "+------------------+-----+\n",
            "|               8.0|   12|\n",
            "|               0.0|   86|\n",
            "|               7.0|   30|\n",
            "|              null|    1|\n",
            "|              18.0|   42|\n",
            "|               1.0|   32|\n",
            "|              25.0|   62|\n",
            "|               4.0|    4|\n",
            "|              23.0|  298|\n",
            "|              11.0|   52|\n",
            "|              21.0|   12|\n",
            "|              14.0|   38|\n",
            "|              22.0|   76|\n",
            "|              19.0|   80|\n",
            "|               3.0|    2|\n",
            "|              28.0|  224|\n",
            "|               2.0|    2|\n",
            "|              17.0|    2|\n",
            "|              27.0|  138|\n",
            "|              10.0|   50|\n",
            "+------------------+-----+\n",
            "only showing top 20 rows\n",
            "\n",
            "+----------------+-----+\n",
            "|Month of absence|count|\n",
            "+----------------+-----+\n",
            "|             8.0|  108|\n",
            "|             0.0|    6|\n",
            "|             7.0|  134|\n",
            "|            null|    1|\n",
            "|             1.0|  100|\n",
            "|             4.0|  106|\n",
            "|            11.0|  126|\n",
            "|             3.0|  174|\n",
            "|             2.0|  144|\n",
            "|            10.0|  142|\n",
            "|             6.0|  108|\n",
            "|             5.0|  128|\n",
            "|             9.0|  106|\n",
            "|            12.0|   98|\n",
            "+----------------+-----+\n",
            "\n",
            "+---------------+-----+\n",
            "|Day of the week|count|\n",
            "+---------------+-----+\n",
            "|           null|    1|\n",
            "|            4.0|  312|\n",
            "|            3.0|  308|\n",
            "|            2.0|  322|\n",
            "|            6.0|  288|\n",
            "|            5.0|  250|\n",
            "+---------------+-----+\n",
            "\n",
            "+-------+-----+\n",
            "|Seasons|count|\n",
            "+-------+-----+\n",
            "|   null|    1|\n",
            "|    1.0|  340|\n",
            "|    4.0|  390|\n",
            "|    3.0|  366|\n",
            "|    2.0|  384|\n",
            "+-------+-----+\n",
            "\n",
            "+----------------------+-----+\n",
            "|Transportation expense|count|\n",
            "+----------------------+-----+\n",
            "|                 184.0|   14|\n",
            "|                 235.0|  116|\n",
            "|                 369.0|   30|\n",
            "|                 155.0|   58|\n",
            "|                 268.0|    6|\n",
            "|                 279.0|   12|\n",
            "|                 388.0|    6|\n",
            "|                  null|    1|\n",
            "|                 378.0|   16|\n",
            "|                 231.0|    4|\n",
            "|                 179.0|  360|\n",
            "|                 300.0|   10|\n",
            "|                 225.0|  162|\n",
            "|                 246.0|   60|\n",
            "|                 330.0|   32|\n",
            "|                 248.0|   48|\n",
            "|                 118.0|  184|\n",
            "|                 361.0|   48|\n",
            "|                 157.0|   14|\n",
            "|                 291.0|   80|\n",
            "+----------------------+-----+\n",
            "only showing top 20 rows\n",
            "\n",
            "+-------------------------------+-----+\n",
            "|Distance from Residence to Work|count|\n",
            "+-------------------------------+-----+\n",
            "|                           49.0|   16|\n",
            "|                           29.0|   28|\n",
            "|                           42.0|   14|\n",
            "|                           35.0|    4|\n",
            "|                           null|    1|\n",
            "|                           25.0|  108|\n",
            "|                           36.0|   80|\n",
            "|                           50.0|   90|\n",
            "|                           45.0|    2|\n",
            "|                           31.0|   74|\n",
            "|                           11.0|   52|\n",
            "|                           51.0|  240|\n",
            "|                           14.0|   18|\n",
            "|                           48.0|   10|\n",
            "|                           22.0|   40|\n",
            "|                           17.0|   30|\n",
            "|                           27.0|   14|\n",
            "|                           10.0|  110|\n",
            "|                           13.0|   68|\n",
            "|                           20.0|   38|\n",
            "+-------------------------------+-----+\n",
            "only showing top 20 rows\n",
            "\n",
            "+------------+-----+\n",
            "|Service time|count|\n",
            "+------------+-----+\n",
            "|         8.0|   26|\n",
            "|         7.0|   14|\n",
            "|        29.0|   10|\n",
            "|        null|    1|\n",
            "|        18.0|  294|\n",
            "|         1.0|   14|\n",
            "|         4.0|   32|\n",
            "|        11.0|  100|\n",
            "|        14.0|  170|\n",
            "|         3.0|   48|\n",
            "|        17.0|   40|\n",
            "|        10.0|  110|\n",
            "|        13.0|  146|\n",
            "|         6.0|   14|\n",
            "|        15.0|    8|\n",
            "|        24.0|    4|\n",
            "|         9.0|  252|\n",
            "|        16.0|   76|\n",
            "|        12.0|  122|\n",
            "+------------+-----+\n",
            "\n",
            "+----+-----+\n",
            "| Age|count|\n",
            "+----+-----+\n",
            "|49.0|   10|\n",
            "|29.0|   14|\n",
            "|47.0|   48|\n",
            "|null|    1|\n",
            "|39.0|   16|\n",
            "|34.0|   58|\n",
            "|37.0|  156|\n",
            "|36.0|  100|\n",
            "|41.0|   68|\n",
            "|50.0|   74|\n",
            "|31.0|   44|\n",
            "|58.0|   16|\n",
            "|48.0|   12|\n",
            "|53.0|    2|\n",
            "|46.0|    4|\n",
            "|28.0|  234|\n",
            "|38.0|  226|\n",
            "|27.0|   14|\n",
            "|40.0|  116|\n",
            "|30.0|   92|\n",
            "+----+-----+\n",
            "only showing top 20 rows\n",
            "\n",
            "+----------------------+-----+\n",
            "|Work load Average/day |count|\n",
            "+----------------------+-----+\n",
            "|               239.409|   26|\n",
            "|               236.629|   38|\n",
            "|               239.554|   38|\n",
            "|                230.29|   40|\n",
            "|               313.532|   30|\n",
            "|               244.387|   44|\n",
            "|               271.219|    6|\n",
            "|               306.345|   36|\n",
            "|                377.55|   32|\n",
            "|               308.593|   48|\n",
            "|                  null|    1|\n",
            "|               249.797|   30|\n",
            "|               343.253|   58|\n",
            "|               378.884|   32|\n",
            "|               251.818|   42|\n",
            "|               253.957|   38|\n",
            "|               261.756|   24|\n",
            "|               237.656|   64|\n",
            "|               261.306|   30|\n",
            "|               284.031|   44|\n",
            "+----------------------+-----+\n",
            "only showing top 20 rows\n",
            "\n",
            "+----------+-----+\n",
            "|Hit target|count|\n",
            "+----------+-----+\n",
            "|      88.0|   56|\n",
            "|      98.0|  132|\n",
            "|      96.0|  150|\n",
            "|      null|    1|\n",
            "|      94.0|   68|\n",
            "|      93.0|  210|\n",
            "|      81.0|   38|\n",
            "|      87.0|   24|\n",
            "|      99.0|  204|\n",
            "|      95.0|  150|\n",
            "|     100.0|   22|\n",
            "|      92.0|  158|\n",
            "|      97.0|  178|\n",
            "|      91.0|   90|\n",
            "+----------+-----+\n",
            "\n",
            "+--------------------+-----+\n",
            "|Disciplinary failure|count|\n",
            "+--------------------+-----+\n",
            "|                 0.0| 1400|\n",
            "|                null|    1|\n",
            "|                 1.0|   80|\n",
            "+--------------------+-----+\n",
            "\n",
            "+---------+-----+\n",
            "|Education|count|\n",
            "+---------+-----+\n",
            "|     null|    1|\n",
            "|      1.0| 1222|\n",
            "|      4.0|    8|\n",
            "|      3.0|  158|\n",
            "|      2.0|   92|\n",
            "+---------+-----+\n",
            "\n",
            "+----+-----+\n",
            "| Son|count|\n",
            "+----+-----+\n",
            "| 0.0|  596|\n",
            "|null|    1|\n",
            "| 1.0|  458|\n",
            "| 4.0|   84|\n",
            "| 3.0|   30|\n",
            "| 2.0|  312|\n",
            "+----+-----+\n",
            "\n",
            "+--------------+-----+\n",
            "|Social drinker|count|\n",
            "+--------------+-----+\n",
            "|           0.0|  640|\n",
            "|          null|    1|\n",
            "|           1.0|  840|\n",
            "+--------------+-----+\n",
            "\n",
            "+-------------+-----+\n",
            "|Social smoker|count|\n",
            "+-------------+-----+\n",
            "|          0.0| 1372|\n",
            "|         null|    1|\n",
            "|          1.0|  108|\n",
            "+-------------+-----+\n",
            "\n",
            "+----+-----+\n",
            "| Pet|count|\n",
            "+----+-----+\n",
            "| 8.0|   16|\n",
            "| 0.0|  920|\n",
            "|null|    1|\n",
            "| 1.0|  276|\n",
            "| 4.0|   64|\n",
            "| 2.0|  192|\n",
            "| 5.0|   12|\n",
            "+----+-----+\n",
            "\n",
            "+------+-----+\n",
            "|Weight|count|\n",
            "+------+-----+\n",
            "|  67.0|   60|\n",
            "|  70.0|   30|\n",
            "|  69.0|  170|\n",
            "| 108.0|   10|\n",
            "|  88.0|   58|\n",
            "|  98.0|   70|\n",
            "|  75.0|   38|\n",
            "|  null|    1|\n",
            "|  80.0|   48|\n",
            "|  86.0|   48|\n",
            "|  94.0|    8|\n",
            "|  77.0|   12|\n",
            "|  56.0|   92|\n",
            "|  79.0|    6|\n",
            "|  83.0|  110|\n",
            "|  58.0|   14|\n",
            "| 106.0|   38|\n",
            "|  63.0|   40|\n",
            "|  68.0|   26|\n",
            "|  73.0|   74|\n",
            "+------+-----+\n",
            "only showing top 20 rows\n",
            "\n",
            "+------+-----+\n",
            "|Height|count|\n",
            "+------+-----+\n",
            "| 170.0|  332|\n",
            "| 169.0|  190|\n",
            "| 168.0|   96|\n",
            "| 167.0|   68|\n",
            "| 182.0|   40|\n",
            "|  null|    1|\n",
            "| 178.0|  114|\n",
            "| 171.0|  166|\n",
            "| 165.0|   48|\n",
            "| 175.0|   16|\n",
            "| 196.0|   58|\n",
            "| 185.0|   14|\n",
            "| 172.0|  310|\n",
            "| 163.0|   12|\n",
            "| 174.0|   16|\n",
            "+------+-----+\n",
            "\n",
            "+---------------+-----+\n",
            "|Body mass index|count|\n",
            "+---------------+-----+\n",
            "|           29.0|   46|\n",
            "|           35.0|    4|\n",
            "|           null|    1|\n",
            "|           34.0|    2|\n",
            "|           25.0|  252|\n",
            "|           36.0|   10|\n",
            "|           23.0|  150|\n",
            "|           31.0|  294|\n",
            "|           21.0|   44|\n",
            "|           22.0|   70|\n",
            "|           19.0|   92|\n",
            "|           28.0|  118|\n",
            "|           38.0|   38|\n",
            "|           27.0|   48|\n",
            "|           30.0|   80|\n",
            "|           33.0|   12|\n",
            "|           32.0|   48|\n",
            "|           24.0|  172|\n",
            "+---------------+-----+\n",
            "\n",
            "+-------------------------+-----+\n",
            "|Absenteeism time in hours|count|\n",
            "+-------------------------+-----+\n",
            "|                      8.0|  416|\n",
            "|                      0.0|   88|\n",
            "|                      7.0|    2|\n",
            "|                    112.0|    4|\n",
            "|                     64.0|    6|\n",
            "|                     null|    1|\n",
            "|                     80.0|    6|\n",
            "|                    120.0|    6|\n",
            "|                      1.0|  176|\n",
            "|                    104.0|    2|\n",
            "|                      4.0|  120|\n",
            "|                     56.0|    4|\n",
            "|                     48.0|    2|\n",
            "|                      3.0|  224|\n",
            "|                      2.0|  314|\n",
            "|                     40.0|   14|\n",
            "|                     32.0|   12|\n",
            "|                      5.0|   14|\n",
            "|                     24.0|   32|\n",
            "|                     16.0|   38|\n",
            "+-------------------------+-----+\n",
            "\n"
          ]
        }
      ]
    }
  ]
}