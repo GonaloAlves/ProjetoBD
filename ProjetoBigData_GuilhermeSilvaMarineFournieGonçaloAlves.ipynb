{
  "nbformat": 4,
  "nbformat_minor": 0,
  "metadata": {
    "colab": {
      "provenance": [],
      "authorship_tag": "ABX9TyOwDC42BzDw+pkz3ogJM7ut",
      "include_colab_link": true
    },
    "kernelspec": {
      "name": "python3",
      "display_name": "Python 3"
    },
    "language_info": {
      "name": "python"
    }
  },
  "cells": [
    {
      "cell_type": "markdown",
      "metadata": {
        "id": "view-in-github",
        "colab_type": "text"
      },
      "source": [
        "<a href=\"https://colab.research.google.com/github/GuilhermeVCCdaSilva/ProjetoBD/blob/main/ProjetoBigData_GuilhermeSilvaMarineFournieGon%C3%A7aloAlves.ipynb\" target=\"_parent\"><img src=\"https://colab.research.google.com/assets/colab-badge.svg\" alt=\"Open In Colab\"/></a>"
      ]
    },
    {
      "cell_type": "code",
      "execution_count": 1,
      "metadata": {
        "colab": {
          "base_uri": "https://localhost:8080/"
        },
        "id": "A7PzfgEmI-OC",
        "outputId": "885e01bb-990b-4425-af70-9042a661585a"
      },
      "outputs": [
        {
          "output_type": "stream",
          "name": "stdout",
          "text": [
            "Looking in indexes: https://pypi.org/simple, https://us-python.pkg.dev/colab-wheels/public/simple/\n",
            "Collecting pyspark\n",
            "  Downloading pyspark-3.3.1.tar.gz (281.4 MB)\n",
            "\u001b[2K     \u001b[90m━━━━━━━━━━━━━━━━━━━━━━━━━━━━━━━━━━━━━━━\u001b[0m \u001b[32m281.4/281.4 MB\u001b[0m \u001b[31m4.2 MB/s\u001b[0m eta \u001b[36m0:00:00\u001b[0m\n",
            "\u001b[?25h  Preparing metadata (setup.py) ... \u001b[?25l\u001b[?25hdone\n",
            "Collecting py4j==0.10.9.5\n",
            "  Downloading py4j-0.10.9.5-py2.py3-none-any.whl (199 kB)\n",
            "\u001b[2K     \u001b[90m━━━━━━━━━━━━━━━━━━━━━━━━━━━━━━━━━━━━━━━\u001b[0m \u001b[32m199.7/199.7 KB\u001b[0m \u001b[31m2.6 MB/s\u001b[0m eta \u001b[36m0:00:00\u001b[0m\n",
            "\u001b[?25hBuilding wheels for collected packages: pyspark\n",
            "  Building wheel for pyspark (setup.py) ... \u001b[?25l\u001b[?25hdone\n",
            "  Created wheel for pyspark: filename=pyspark-3.3.1-py2.py3-none-any.whl size=281845512 sha256=4c4507466af12d92678ac5521411f0fcad7eb5ca0f185b2b4a03a15ee8e45cf3\n",
            "  Stored in directory: /root/.cache/pip/wheels/43/dc/11/ec201cd671da62fa9c5cc77078235e40722170ceba231d7598\n",
            "Successfully built pyspark\n",
            "Installing collected packages: py4j, pyspark\n",
            "Successfully installed py4j-0.10.9.5 pyspark-3.3.1\n",
            "Looking in indexes: https://pypi.org/simple, https://us-python.pkg.dev/colab-wheels/public/simple/\n",
            "Collecting findspark\n",
            "  Downloading findspark-2.0.1-py2.py3-none-any.whl (4.4 kB)\n",
            "Installing collected packages: findspark\n",
            "Successfully installed findspark-2.0.1\n"
          ]
        }
      ],
      "source": [
        "# Installing required packages\n",
        "!pip install pyspark\n",
        "!pip install findspark"
      ]
    },
    {
      "cell_type": "markdown",
      "source": [
        "#Creating a SparkSession\n",
        "Uma **SparkSession** é o ponto de entrada principal para trabalhar com dados no Spark. Ele é responsável por gerenciar a configuração do Spark, criar RDDs (Resilient Distributed Datasets) e DataFrames, registrar tabelas temporárias e gerenciar o conjunto de recursos de cluster que estão sendo usados.\n",
        "\n",
        "A SparkSession é a classe principal do Spark SQL, que é o módulo do Spark que permite trabalhar com dados estruturados e relacionais. Ele permite que você execute consultas SQL, manipule DataFrames e extraia metadados. Ele também oferece acesso às bibliotecas de processamento de fluxo de dados (como o DataFrame API e o SQL) e às bibliotecas de aprendizado de máquina (como o MLlib) do Spark.\n",
        "\n",
        "Uma SparkSession é criada usando o SparkSession.builder. É possível configurar a sessão com várias opções, como o nome do aplicativo, o endereço do cluster, o número de núcleos para usar e a quantidade de memória. Além disso, é possível usar a SparkSession para gerenciar configurações globais, como as configurações de memória e de arquivo de log.\n",
        "\n",
        ".config(\"spark.memory.offHeap.enabled\",\"true\") é uma configuração utilizada para habilitar o uso de memória fora da heap (off-heap) no Spark. Quando essa configuração é definida como \"true\", o Spark pode usar memória fora do heap do JVM para armazenar os dados e realizar operações. Isso pode ser útil quando o heap do JVM não é suficiente para armazenar todos os dados, permitindo que o Spark use mais memória do que o heap para melhorar o desempenho das operações.\n",
        "\n",
        ".config(\"spark.memory.offHeap.size\",\"10g\") é uma configuração utilizada para definir a quantidade de memória fora da heap (off-heap) que o Spark pode usar. O valor \"10g\" indica que o Spark pode usar até 10 gigabytes de memória fora da heap. Esse valor pode ser ajustado de acordo com o tamanho dos dados e as necessidades do seu aplicativo."
      ],
      "metadata": {
        "id": "9pqgarnoKqPR"
      }
    },
    {
      "cell_type": "code",
      "source": [
        "from pyspark.sql import SparkSession\n",
        "import findspark\n",
        "\n",
        "findspark.init()\n",
        "\n",
        "spark = SparkSession.builder.appName(\"Pyspark Tutorial\")\\\n",
        "                    .config(\"spark.memory.offHeap.enabled\",\"true\")\\\n",
        "                    .config(\"spark.memory.offHeap.size\",\"10g\")\\\n",
        "                    .getOrCreate()\n",
        "spark                    "
      ],
      "metadata": {
        "colab": {
          "base_uri": "https://localhost:8080/",
          "height": 221
        },
        "id": "rUCnB3MwJmbw",
        "outputId": "0c84e10a-f0dd-4295-8b12-5b9ea4d4c1b2"
      },
      "execution_count": 2,
      "outputs": [
        {
          "output_type": "execute_result",
          "data": {
            "text/plain": [
              "<pyspark.sql.session.SparkSession at 0x7f5dafe90850>"
            ],
            "text/html": [
              "\n",
              "            <div>\n",
              "                <p><b>SparkSession - in-memory</b></p>\n",
              "                \n",
              "        <div>\n",
              "            <p><b>SparkContext</b></p>\n",
              "\n",
              "            <p><a href=\"http://5578e661b8dd:4040\">Spark UI</a></p>\n",
              "\n",
              "            <dl>\n",
              "              <dt>Version</dt>\n",
              "                <dd><code>v3.3.1</code></dd>\n",
              "              <dt>Master</dt>\n",
              "                <dd><code>local[*]</code></dd>\n",
              "              <dt>AppName</dt>\n",
              "                <dd><code>Pyspark Tutorial</code></dd>\n",
              "            </dl>\n",
              "        </div>\n",
              "        \n",
              "            </div>\n",
              "        "
            ]
          },
          "metadata": {},
          "execution_count": 2
        }
      ]
    },
    {
      "cell_type": "code",
      "source": [
        "!curl https://raw.githubusercontent.com/GuilhermeVCCdaSilva/ProjetoBD/main/Absenteeism_at_work.csv >> Absenteeism_at_work.csv\n",
        "df = spark.read.csv('Absenteeism_at_work.csv',header=True,sep=\";\")"
      ],
      "metadata": {
        "colab": {
          "base_uri": "https://localhost:8080/"
        },
        "id": "lsM9rQDKP06H",
        "outputId": "466f45a8-96e5-40e8-d0dd-e4417c9ed6b8"
      },
      "execution_count": 3,
      "outputs": [
        {
          "output_type": "stream",
          "name": "stdout",
          "text": [
            "  % Total    % Received % Xferd  Average Speed   Time    Time     Time  Current\n",
            "                                 Dload  Upload   Total   Spent    Left  Speed\n",
            "100 45232  100 45232    0     0   204k      0 --:--:-- --:--:-- --:--:--  204k\n"
          ]
        }
      ]
    },
    {
      "cell_type": "code",
      "source": [
        "df.show(10)"
      ],
      "metadata": {
        "colab": {
          "base_uri": "https://localhost:8080/"
        },
        "id": "MHhZB0e8QZJq",
        "outputId": "8d6676ff-8ae1-42f2-e30f-033a6cba5a4f"
      },
      "execution_count": 4,
      "outputs": [
        {
          "output_type": "stream",
          "name": "stdout",
          "text": [
            "+---+------------------+----------------+---------------+-------+----------------------+-------------------------------+------------+---+----------------------+----------+--------------------+---------+---+--------------+-------------+---+------+------+---------------+-------------------------+\n",
            "| ID|Reason for absence|Month of absence|Day of the week|Seasons|Transportation expense|Distance from Residence to Work|Service time|Age|Work load Average/day |Hit target|Disciplinary failure|Education|Son|Social drinker|Social smoker|Pet|Weight|Height|Body mass index|Absenteeism time in hours|\n",
            "+---+------------------+----------------+---------------+-------+----------------------+-------------------------------+------------+---+----------------------+----------+--------------------+---------+---+--------------+-------------+---+------+------+---------------+-------------------------+\n",
            "| 11|                26|               7|              3|      1|                   289|                             36|          13| 33|               239.554|        97|                   0|        1|  2|             1|            0|  1|    90|   172|             30|                        4|\n",
            "| 36|                 0|               7|              3|      1|                   118|                             13|          18| 50|               239.554|        97|                   1|        1|  1|             1|            0|  0|    98|   178|             31|                        0|\n",
            "|  3|                23|               7|              4|      1|                   179|                             51|          18| 38|               239.554|        97|                   0|        1|  0|             1|            0|  0|    89|   170|             31|                        2|\n",
            "|  7|                 7|               7|              5|      1|                   279|                              5|          14| 39|               239.554|        97|                   0|        1|  2|             1|            1|  0|    68|   168|             24|                        4|\n",
            "| 11|                23|               7|              5|      1|                   289|                             36|          13| 33|               239.554|        97|                   0|        1|  2|             1|            0|  1|    90|   172|             30|                        2|\n",
            "|  3|                23|               7|              6|      1|                   179|                             51|          18| 38|               239.554|        97|                   0|        1|  0|             1|            0|  0|    89|   170|             31|                        2|\n",
            "| 10|                22|               7|              6|      1|                   361|                             52|           3| 28|               239.554|        97|                   0|        1|  1|             1|            0|  4|    80|   172|             27|                        8|\n",
            "| 20|                23|               7|              6|      1|                   260|                             50|          11| 36|               239.554|        97|                   0|        1|  4|             1|            0|  0|    65|   168|             23|                        4|\n",
            "| 14|                19|               7|              2|      1|                   155|                             12|          14| 34|               239.554|        97|                   0|        1|  2|             1|            0|  0|    95|   196|             25|                       40|\n",
            "|  1|                22|               7|              2|      1|                   235|                             11|          14| 37|               239.554|        97|                   0|        3|  1|             0|            0|  1|    88|   172|             29|                        8|\n",
            "+---+------------------+----------------+---------------+-------+----------------------+-------------------------------+------------+---+----------------------+----------+--------------------+---------+---+--------------+-------------+---+------+------+---------------+-------------------------+\n",
            "only showing top 10 rows\n",
            "\n"
          ]
        }
      ]
    },
    {
      "cell_type": "markdown",
      "source": [
        "#Este DataSet contém várias colunas tais como:\n",
        "\n",
        "1.  ID: Identificador único para cada registo.\n",
        "2.    Razão para a ausência: Razão para a ausência do funcionário no trabalho.\n",
        "3.    Mês da ausência: O mês em que o funcionário estava ausente.\n",
        "4.    Dia da semana: O dia da semana em que o funcionário estava ausente.\n",
        "5.    Estações: A estação do ano em que o funcionário estava ausente.\n",
        "6.    Despesas de transporte: As despesas de transporte incorridas pelo funcionário ao viajar para o trabalho.\n",
        "7.    Distância da residência para o trabalho: A distância entre a residência do funcionário e o local de trabalho.\n",
        "8.    Tempo de serviço: O período de tempo em que o funcionário está a trabalhar na empresa.\n",
        "9.    Idade: A idade do funcionário.\n",
        "10.    Carga de trabalho média/dia: A carga de trabalho média do funcionário por dia.\n",
        "11.    Alvo atingido: Se o funcionário atingiu ou não o alvo\n",
        "12.    Falha disciplinar: Se o funcionário cometeu alguma falha disciplinar ou não.\n",
        "12.    Educação: O nível de educação do funcionário.\n",
        "14.    Filhos: O número de filhos que o funcionário tem.\n",
        "15.    Bebedor social: Se o funcionário bebe socialmente ou não.\n",
        "16.    Fumador social: Se o funcionário fuma socialmente ou não.\n",
        "17.    Animal de estimação: Se o funcionário tem algum animal de estimação ou não.\n",
        "18.    Peso: O peso do funcionário.\n",
        "19.    Altura: A altura do funcionário.\n",
        "20.    Índice de massa corporal: O índice de massa corporal do funcionário.\n",
        "21.    Tempo de ausência em horas: O número de horas que o funcionário ficou ausente."
      ],
      "metadata": {
        "id": "YLZpeS-tS9tx"
      }
    },
    {
      "cell_type": "markdown",
      "source": [
        "#Exploratory Data Analysis"
      ],
      "metadata": {
        "id": "VQWMTCcVVJeO"
      }
    },
    {
      "cell_type": "markdown",
      "source": [
        "- Check the number of rows and columns in the dataset"
      ],
      "metadata": {
        "id": "GePEAYSsVQyU"
      }
    },
    {
      "cell_type": "code",
      "source": [
        "print(\"Number of rows:\", df.count())\n",
        "print(\"Number of columns:\", len(df.columns))"
      ],
      "metadata": {
        "colab": {
          "base_uri": "https://localhost:8080/"
        },
        "id": "zN6DdjtpTOyA",
        "outputId": "1cf77c08-3aad-4039-c430-4eb2d9cf40d1"
      },
      "execution_count": 20,
      "outputs": [
        {
          "output_type": "stream",
          "name": "stdout",
          "text": [
            "Number of rows: 740\n",
            "Number of columns: 21\n"
          ]
        }
      ]
    },
    {
      "cell_type": "markdown",
      "source": [
        "- Check the statistics of numerical columns"
      ],
      "metadata": {
        "id": "sKuXxaemVXhg"
      }
    },
    {
      "cell_type": "code",
      "source": [
        "df.describe().show()"
      ],
      "metadata": {
        "colab": {
          "base_uri": "https://localhost:8080/"
        },
        "id": "0c-qgJslVXoy",
        "outputId": "84986836-a59a-44cd-ac50-507a79f59a1c"
      },
      "execution_count": 6,
      "outputs": [
        {
          "output_type": "stream",
          "name": "stdout",
          "text": [
            "+-------+------------------+------------------+------------------+------------------+------------------+----------------------+-------------------------------+------------------+-----------------+----------------------+-----------------+--------------------+------------------+------------------+-------------------+-------------------+------------------+------------------+------------------+------------------+-------------------------+\n",
            "|summary|                ID|Reason for absence|  Month of absence|   Day of the week|           Seasons|Transportation expense|Distance from Residence to Work|      Service time|              Age|Work load Average/day |       Hit target|Disciplinary failure|         Education|               Son|     Social drinker|      Social smoker|               Pet|            Weight|            Height|   Body mass index|Absenteeism time in hours|\n",
            "+-------+------------------+------------------+------------------+------------------+------------------+----------------------+-------------------------------+------------------+-----------------+----------------------+-----------------+--------------------+------------------+------------------+-------------------+-------------------+------------------+------------------+------------------+------------------+-------------------------+\n",
            "|  count|               740|               740|               740|               740|               740|                   740|                            740|               740|              740|                   740|              740|                 740|               740|               740|                740|                740|               740|               740|               740|               740|                      740|\n",
            "|   mean|18.017567567567568|19.216216216216218| 6.324324324324325|3.9148648648648647|2.5445945945945945|    221.32972972972973|              29.63108108108108|12.554054054054054|            36.45|    271.49023513513544|94.58783783783784| 0.05405405405405406|1.2918918918918918| 1.018918918918919| 0.5675675675675675|0.07297297297297298| 0.745945945945946| 79.03513513513514|172.11486486486487|26.677027027027027|        6.924324324324324|\n",
            "| stddev|11.021247263063657|  8.43340588279965|3.4362869319125897|1.4216747097562805| 1.111831060157382|     66.95222324531973|             14.836788436739143| 4.384873407621148|6.478772457611868|    39.058116188144055|3.779313134418015| 0.22627727323215058|0.6732380415251598|1.0984890195302817|0.49574866720003496| 0.2602680502800183|1.3182582913258336|12.883210507177214| 6.034994530267662| 4.285452223167274|       13.330998100978196|\n",
            "|    min|                 1|                 0|                 0|                 2|                 1|                   118|                             10|                 1|               27|               205.917|              100|                   0|                 1|                 0|                  0|                  0|                 0|               100|               163|                19|                        0|\n",
            "|    max|                 9|                 9|                 9|                 6|                 4|                   388|                             52|                 9|               58|               378.884|               99|                   1|                 4|                 4|                  1|                  1|                 8|                98|               196|                38|                       80|\n",
            "+-------+------------------+------------------+------------------+------------------+------------------+----------------------+-------------------------------+------------------+-----------------+----------------------+-----------------+--------------------+------------------+------------------+-------------------+-------------------+------------------+------------------+------------------+------------------+-------------------------+\n",
            "\n"
          ]
        }
      ]
    },
    {
      "cell_type": "markdown",
      "source": [
        "- Check the number of missing values in each column"
      ],
      "metadata": {
        "id": "UdoQ-eXJVkXy"
      }
    },
    {
      "cell_type": "code",
      "source": [
        "# create a list to store the number of missing values in each column\n",
        "missing_values = []\n",
        "\n",
        "# iterate through the columns in the dataset\n",
        "for col in df.columns:\n",
        "    missing_values.append((col, df.filter(df[col].isNull()).count()))\n",
        "\n",
        "# print the missing values\n",
        "for col, val in missing_values:\n",
        "    if val == 0:\n",
        "        print(\"{} : No missing values\".format(col))\n",
        "    else:\n",
        "        print(\"{} : {} missing values\".format(col, val))"
      ],
      "metadata": {
        "colab": {
          "base_uri": "https://localhost:8080/"
        },
        "id": "oIUHcnylVkkT",
        "outputId": "bb743743-4561-4a2e-d271-f2e283767211"
      },
      "execution_count": 7,
      "outputs": [
        {
          "output_type": "stream",
          "name": "stdout",
          "text": [
            "ID : No missing values\n",
            "Reason for absence : No missing values\n",
            "Month of absence : No missing values\n",
            "Day of the week : No missing values\n",
            "Seasons : No missing values\n",
            "Transportation expense : No missing values\n",
            "Distance from Residence to Work : No missing values\n",
            "Service time : No missing values\n",
            "Age : No missing values\n",
            "Work load Average/day  : No missing values\n",
            "Hit target : No missing values\n",
            "Disciplinary failure : No missing values\n",
            "Education : No missing values\n",
            "Son : No missing values\n",
            "Social drinker : No missing values\n",
            "Social smoker : No missing values\n",
            "Pet : No missing values\n",
            "Weight : No missing values\n",
            "Height : No missing values\n",
            "Body mass index : No missing values\n",
            "Absenteeism time in hours : No missing values\n"
          ]
        }
      ]
    },
    {
      "cell_type": "markdown",
      "source": [
        "- check the data types of the columns"
      ],
      "metadata": {
        "id": "7ywFa9_dVuab"
      }
    },
    {
      "cell_type": "code",
      "source": [
        "df.dtypes"
      ],
      "metadata": {
        "colab": {
          "base_uri": "https://localhost:8080/"
        },
        "id": "D-44Emf8Vumq",
        "outputId": "85805f2c-6372-41fe-8948-b9a418427247"
      },
      "execution_count": 8,
      "outputs": [
        {
          "output_type": "execute_result",
          "data": {
            "text/plain": [
              "[('ID', 'string'),\n",
              " ('Reason for absence', 'string'),\n",
              " ('Month of absence', 'string'),\n",
              " ('Day of the week', 'string'),\n",
              " ('Seasons', 'string'),\n",
              " ('Transportation expense', 'string'),\n",
              " ('Distance from Residence to Work', 'string'),\n",
              " ('Service time', 'string'),\n",
              " ('Age', 'string'),\n",
              " ('Work load Average/day ', 'string'),\n",
              " ('Hit target', 'string'),\n",
              " ('Disciplinary failure', 'string'),\n",
              " ('Education', 'string'),\n",
              " ('Son', 'string'),\n",
              " ('Social drinker', 'string'),\n",
              " ('Social smoker', 'string'),\n",
              " ('Pet', 'string'),\n",
              " ('Weight', 'string'),\n",
              " ('Height', 'string'),\n",
              " ('Body mass index', 'string'),\n",
              " ('Absenteeism time in hours', 'string')]"
            ]
          },
          "metadata": {},
          "execution_count": 8
        }
      ]
    },
    {
      "cell_type": "markdown",
      "source": [
        "- Convert data type string to double"
      ],
      "metadata": {
        "id": "0Mxc948RrWH9"
      }
    },
    {
      "cell_type": "code",
      "source": [
        "from pyspark.sql.functions import col\n",
        "for column in df.columns:\n",
        "    df = df.withColumn(column, col(column).cast(\"double\"))"
      ],
      "metadata": {
        "id": "cdv6VTiErKoD"
      },
      "execution_count": 17,
      "outputs": []
    },
    {
      "cell_type": "code",
      "source": [
        "df.dtypes"
      ],
      "metadata": {
        "id": "v0zfHam_re5F",
        "outputId": "ae8e52a5-36fd-4bb3-a996-50e754c43681",
        "colab": {
          "base_uri": "https://localhost:8080/"
        }
      },
      "execution_count": 16,
      "outputs": [
        {
          "output_type": "execute_result",
          "data": {
            "text/plain": [
              "[('ID', 'double'),\n",
              " ('Reason for absence', 'double'),\n",
              " ('Month of absence', 'double'),\n",
              " ('Day of the week', 'double'),\n",
              " ('Seasons', 'double'),\n",
              " ('Transportation expense', 'double'),\n",
              " ('Distance from Residence to Work', 'double'),\n",
              " ('Service time', 'double'),\n",
              " ('Age', 'double'),\n",
              " ('Work load Average/day ', 'double'),\n",
              " ('Hit target', 'double'),\n",
              " ('Disciplinary failure', 'double'),\n",
              " ('Education', 'double'),\n",
              " ('Son', 'double'),\n",
              " ('Social drinker', 'double'),\n",
              " ('Social smoker', 'double'),\n",
              " ('Pet', 'double'),\n",
              " ('Weight', 'double'),\n",
              " ('Height', 'double'),\n",
              " ('Body mass index', 'double'),\n",
              " ('Absenteeism time in hours', 'double')]"
            ]
          },
          "metadata": {},
          "execution_count": 16
        }
      ]
    },
    {
      "cell_type": "markdown",
      "source": [
        "- Check the correlation between columns"
      ],
      "metadata": {
        "id": "YRWORZmcZpaY"
      }
    },
    {
      "cell_type": "code",
      "source": [
        "corr = df.stat.corr(\"Month of absence\", \"Transportation expense\")\n",
        "print(corr)"
      ],
      "metadata": {
        "colab": {
          "base_uri": "https://localhost:8080/"
        },
        "id": "M5Dl2OSHZpmq",
        "outputId": "76e133a9-23b8-4db7-d115-739a37058b72"
      },
      "execution_count": 18,
      "outputs": [
        {
          "output_type": "stream",
          "name": "stdout",
          "text": [
            "0.13752456639267643\n"
          ]
        }
      ]
    },
    {
      "cell_type": "markdown",
      "source": [
        "- Check the number of unique values in each column"
      ],
      "metadata": {
        "id": "CW3ZHgn5ZRmw"
      }
    },
    {
      "cell_type": "code",
      "source": [
        " for col in df.columns:\n",
        "    print(\"Unique values in column '{}':\".format(col), df.select(col).distinct().count())"
      ],
      "metadata": {
        "colab": {
          "base_uri": "https://localhost:8080/"
        },
        "id": "LyIVMUGvZRX2",
        "outputId": "c01d9040-25b7-4fda-f21d-f09d69c6a1a3"
      },
      "execution_count": 11,
      "outputs": [
        {
          "output_type": "stream",
          "name": "stdout",
          "text": [
            "Unique values in column 'ID': 36\n",
            "Unique values in column 'Reason for absence': 28\n",
            "Unique values in column 'Month of absence': 13\n",
            "Unique values in column 'Day of the week': 5\n",
            "Unique values in column 'Seasons': 4\n",
            "Unique values in column 'Transportation expense': 24\n",
            "Unique values in column 'Distance from Residence to Work': 25\n",
            "Unique values in column 'Service time': 18\n",
            "Unique values in column 'Age': 22\n",
            "Unique values in column 'Work load Average/day ': 38\n",
            "Unique values in column 'Hit target': 13\n",
            "Unique values in column 'Disciplinary failure': 2\n",
            "Unique values in column 'Education': 4\n",
            "Unique values in column 'Son': 5\n",
            "Unique values in column 'Social drinker': 2\n",
            "Unique values in column 'Social smoker': 2\n",
            "Unique values in column 'Pet': 6\n",
            "Unique values in column 'Weight': 26\n",
            "Unique values in column 'Height': 14\n",
            "Unique values in column 'Body mass index': 17\n",
            "Unique values in column 'Absenteeism time in hours': 19\n"
          ]
        }
      ]
    },
    {
      "cell_type": "markdown",
      "source": [
        "- check the distribution of each column"
      ],
      "metadata": {
        "id": "RpIyc62DbzvG"
      }
    },
    {
      "cell_type": "code",
      "source": [
        "for col in df.columns:\n",
        "    df.select(col).groupBy(col).count().show()"
      ],
      "metadata": {
        "colab": {
          "base_uri": "https://localhost:8080/"
        },
        "id": "YrPtshpGbz0u",
        "outputId": "c9ef8188-2baa-4251-a934-ce5310c48ce8"
      },
      "execution_count": 19,
      "outputs": [
        {
          "output_type": "stream",
          "name": "stdout",
          "text": [
            "+----+-----+\n",
            "|  ID|count|\n",
            "+----+-----+\n",
            "| 8.0|    2|\n",
            "| 7.0|    6|\n",
            "|29.0|    5|\n",
            "|35.0|    1|\n",
            "|18.0|   16|\n",
            "| 1.0|   23|\n",
            "|34.0|   55|\n",
            "|25.0|   10|\n",
            "|36.0|   34|\n",
            "| 4.0|    1|\n",
            "|23.0|    8|\n",
            "|31.0|    3|\n",
            "|11.0|   40|\n",
            "|21.0|    3|\n",
            "|14.0|   29|\n",
            "|22.0|   46|\n",
            "| 3.0|  113|\n",
            "|19.0|    3|\n",
            "|28.0|   76|\n",
            "| 2.0|    6|\n",
            "+----+-----+\n",
            "only showing top 20 rows\n",
            "\n",
            "+------------------+-----+\n",
            "|Reason for absence|count|\n",
            "+------------------+-----+\n",
            "|               8.0|    6|\n",
            "|               0.0|   43|\n",
            "|               7.0|   15|\n",
            "|              18.0|   21|\n",
            "|               1.0|   16|\n",
            "|              25.0|   31|\n",
            "|               4.0|    2|\n",
            "|              23.0|  149|\n",
            "|              11.0|   26|\n",
            "|              21.0|    6|\n",
            "|              14.0|   19|\n",
            "|              22.0|   38|\n",
            "|              19.0|   40|\n",
            "|               3.0|    1|\n",
            "|              28.0|  112|\n",
            "|               2.0|    1|\n",
            "|              17.0|    1|\n",
            "|              27.0|   69|\n",
            "|              10.0|   25|\n",
            "|              13.0|   55|\n",
            "+------------------+-----+\n",
            "only showing top 20 rows\n",
            "\n",
            "+----------------+-----+\n",
            "|Month of absence|count|\n",
            "+----------------+-----+\n",
            "|             8.0|   54|\n",
            "|             0.0|    3|\n",
            "|             7.0|   67|\n",
            "|             1.0|   50|\n",
            "|             4.0|   53|\n",
            "|            11.0|   63|\n",
            "|             3.0|   87|\n",
            "|             2.0|   72|\n",
            "|            10.0|   71|\n",
            "|             6.0|   54|\n",
            "|             5.0|   64|\n",
            "|             9.0|   53|\n",
            "|            12.0|   49|\n",
            "+----------------+-----+\n",
            "\n",
            "+---------------+-----+\n",
            "|Day of the week|count|\n",
            "+---------------+-----+\n",
            "|            4.0|  156|\n",
            "|            3.0|  154|\n",
            "|            2.0|  161|\n",
            "|            6.0|  144|\n",
            "|            5.0|  125|\n",
            "+---------------+-----+\n",
            "\n",
            "+-------+-----+\n",
            "|Seasons|count|\n",
            "+-------+-----+\n",
            "|    1.0|  170|\n",
            "|    4.0|  195|\n",
            "|    3.0|  183|\n",
            "|    2.0|  192|\n",
            "+-------+-----+\n",
            "\n",
            "+----------------------+-----+\n",
            "|Transportation expense|count|\n",
            "+----------------------+-----+\n",
            "|                 184.0|    7|\n",
            "|                 235.0|   58|\n",
            "|                 369.0|   15|\n",
            "|                 155.0|   29|\n",
            "|                 268.0|    3|\n",
            "|                 279.0|    6|\n",
            "|                 388.0|    3|\n",
            "|                 378.0|    8|\n",
            "|                 231.0|    2|\n",
            "|                 179.0|  180|\n",
            "|                 300.0|    5|\n",
            "|                 225.0|   81|\n",
            "|                 246.0|   30|\n",
            "|                 330.0|   16|\n",
            "|                 248.0|   24|\n",
            "|                 118.0|   92|\n",
            "|                 361.0|   24|\n",
            "|                 157.0|    7|\n",
            "|                 291.0|   40|\n",
            "|                 189.0|    8|\n",
            "+----------------------+-----+\n",
            "only showing top 20 rows\n",
            "\n",
            "+-------------------------------+-----+\n",
            "|Distance from Residence to Work|count|\n",
            "+-------------------------------+-----+\n",
            "|                           49.0|    8|\n",
            "|                           29.0|   14|\n",
            "|                           42.0|    7|\n",
            "|                           35.0|    2|\n",
            "|                           25.0|   54|\n",
            "|                           36.0|   40|\n",
            "|                           50.0|   45|\n",
            "|                           45.0|    1|\n",
            "|                           31.0|   37|\n",
            "|                           11.0|   26|\n",
            "|                           51.0|  120|\n",
            "|                           14.0|    9|\n",
            "|                           48.0|    5|\n",
            "|                           22.0|   20|\n",
            "|                           17.0|   15|\n",
            "|                           27.0|    7|\n",
            "|                           10.0|   55|\n",
            "|                           13.0|   34|\n",
            "|                           20.0|   19|\n",
            "|                           52.0|   24|\n",
            "+-------------------------------+-----+\n",
            "only showing top 20 rows\n",
            "\n",
            "+------------+-----+\n",
            "|Service time|count|\n",
            "+------------+-----+\n",
            "|         8.0|   13|\n",
            "|         7.0|    7|\n",
            "|        29.0|    5|\n",
            "|        18.0|  147|\n",
            "|         1.0|    7|\n",
            "|         4.0|   16|\n",
            "|        11.0|   50|\n",
            "|        14.0|   85|\n",
            "|         3.0|   24|\n",
            "|        17.0|   20|\n",
            "|        10.0|   55|\n",
            "|        13.0|   73|\n",
            "|         6.0|    7|\n",
            "|        15.0|    4|\n",
            "|        24.0|    2|\n",
            "|         9.0|  126|\n",
            "|        16.0|   38|\n",
            "|        12.0|   61|\n",
            "+------------+-----+\n",
            "\n",
            "+----+-----+\n",
            "| Age|count|\n",
            "+----+-----+\n",
            "|49.0|    5|\n",
            "|29.0|    7|\n",
            "|47.0|   24|\n",
            "|39.0|    8|\n",
            "|34.0|   29|\n",
            "|37.0|   78|\n",
            "|36.0|   50|\n",
            "|41.0|   34|\n",
            "|50.0|   37|\n",
            "|31.0|   22|\n",
            "|58.0|    8|\n",
            "|48.0|    6|\n",
            "|53.0|    1|\n",
            "|46.0|    2|\n",
            "|28.0|  117|\n",
            "|38.0|  113|\n",
            "|27.0|    7|\n",
            "|40.0|   58|\n",
            "|30.0|   46|\n",
            "|33.0|   51|\n",
            "+----+-----+\n",
            "only showing top 20 rows\n",
            "\n",
            "+----------------------+-----+\n",
            "|Work load Average/day |count|\n",
            "+----------------------+-----+\n",
            "|               239.409|   13|\n",
            "|               236.629|   19|\n",
            "|               239.554|   19|\n",
            "|                230.29|   20|\n",
            "|               313.532|   15|\n",
            "|               244.387|   22|\n",
            "|               271.219|    3|\n",
            "|               306.345|   18|\n",
            "|                377.55|   16|\n",
            "|               308.593|   24|\n",
            "|               249.797|   15|\n",
            "|               343.253|   29|\n",
            "|               378.884|   16|\n",
            "|               251.818|   21|\n",
            "|               253.957|   19|\n",
            "|               261.756|   12|\n",
            "|               237.656|   32|\n",
            "|               261.306|   15|\n",
            "|               284.031|   22|\n",
            "|               246.288|   20|\n",
            "+----------------------+-----+\n",
            "only showing top 20 rows\n",
            "\n",
            "+----------+-----+\n",
            "|Hit target|count|\n",
            "+----------+-----+\n",
            "|      88.0|   28|\n",
            "|      98.0|   66|\n",
            "|      96.0|   75|\n",
            "|      94.0|   34|\n",
            "|      93.0|  105|\n",
            "|      81.0|   19|\n",
            "|      87.0|   12|\n",
            "|      99.0|  102|\n",
            "|      95.0|   75|\n",
            "|     100.0|   11|\n",
            "|      92.0|   79|\n",
            "|      97.0|   89|\n",
            "|      91.0|   45|\n",
            "+----------+-----+\n",
            "\n",
            "+--------------------+-----+\n",
            "|Disciplinary failure|count|\n",
            "+--------------------+-----+\n",
            "|                 0.0|  700|\n",
            "|                 1.0|   40|\n",
            "+--------------------+-----+\n",
            "\n",
            "+---------+-----+\n",
            "|Education|count|\n",
            "+---------+-----+\n",
            "|      1.0|  611|\n",
            "|      4.0|    4|\n",
            "|      3.0|   79|\n",
            "|      2.0|   46|\n",
            "+---------+-----+\n",
            "\n",
            "+---+-----+\n",
            "|Son|count|\n",
            "+---+-----+\n",
            "|0.0|  298|\n",
            "|1.0|  229|\n",
            "|4.0|   42|\n",
            "|3.0|   15|\n",
            "|2.0|  156|\n",
            "+---+-----+\n",
            "\n",
            "+--------------+-----+\n",
            "|Social drinker|count|\n",
            "+--------------+-----+\n",
            "|           0.0|  320|\n",
            "|           1.0|  420|\n",
            "+--------------+-----+\n",
            "\n",
            "+-------------+-----+\n",
            "|Social smoker|count|\n",
            "+-------------+-----+\n",
            "|          0.0|  686|\n",
            "|          1.0|   54|\n",
            "+-------------+-----+\n",
            "\n",
            "+---+-----+\n",
            "|Pet|count|\n",
            "+---+-----+\n",
            "|8.0|    8|\n",
            "|0.0|  460|\n",
            "|1.0|  138|\n",
            "|4.0|   32|\n",
            "|2.0|   96|\n",
            "|5.0|    6|\n",
            "+---+-----+\n",
            "\n",
            "+------+-----+\n",
            "|Weight|count|\n",
            "+------+-----+\n",
            "|  67.0|   30|\n",
            "|  70.0|   15|\n",
            "|  69.0|   85|\n",
            "| 108.0|    5|\n",
            "|  88.0|   29|\n",
            "|  98.0|   35|\n",
            "|  75.0|   19|\n",
            "|  80.0|   24|\n",
            "|  86.0|   24|\n",
            "|  94.0|    4|\n",
            "|  77.0|    6|\n",
            "|  56.0|   46|\n",
            "|  79.0|    3|\n",
            "|  83.0|   55|\n",
            "|  58.0|    7|\n",
            "| 106.0|   19|\n",
            "|  63.0|   20|\n",
            "|  68.0|   13|\n",
            "|  73.0|   37|\n",
            "|  95.0|   29|\n",
            "+------+-----+\n",
            "only showing top 20 rows\n",
            "\n",
            "+------+-----+\n",
            "|Height|count|\n",
            "+------+-----+\n",
            "| 170.0|  166|\n",
            "| 169.0|   95|\n",
            "| 168.0|   48|\n",
            "| 167.0|   34|\n",
            "| 182.0|   20|\n",
            "| 178.0|   57|\n",
            "| 171.0|   83|\n",
            "| 165.0|   24|\n",
            "| 175.0|    8|\n",
            "| 196.0|   29|\n",
            "| 185.0|    7|\n",
            "| 172.0|  155|\n",
            "| 163.0|    6|\n",
            "| 174.0|    8|\n",
            "+------+-----+\n",
            "\n",
            "+---------------+-----+\n",
            "|Body mass index|count|\n",
            "+---------------+-----+\n",
            "|           29.0|   23|\n",
            "|           35.0|    2|\n",
            "|           34.0|    1|\n",
            "|           25.0|  126|\n",
            "|           36.0|    5|\n",
            "|           23.0|   75|\n",
            "|           31.0|  147|\n",
            "|           21.0|   22|\n",
            "|           22.0|   35|\n",
            "|           19.0|   46|\n",
            "|           28.0|   59|\n",
            "|           38.0|   19|\n",
            "|           27.0|   24|\n",
            "|           30.0|   40|\n",
            "|           33.0|    6|\n",
            "|           32.0|   24|\n",
            "|           24.0|   86|\n",
            "+---------------+-----+\n",
            "\n",
            "+-------------------------+-----+\n",
            "|Absenteeism time in hours|count|\n",
            "+-------------------------+-----+\n",
            "|                      8.0|  208|\n",
            "|                      0.0|   44|\n",
            "|                      7.0|    1|\n",
            "|                    112.0|    2|\n",
            "|                     64.0|    3|\n",
            "|                     80.0|    3|\n",
            "|                    120.0|    3|\n",
            "|                      1.0|   88|\n",
            "|                    104.0|    1|\n",
            "|                      4.0|   60|\n",
            "|                     56.0|    2|\n",
            "|                     48.0|    1|\n",
            "|                      3.0|  112|\n",
            "|                      2.0|  157|\n",
            "|                     40.0|    7|\n",
            "|                     32.0|    6|\n",
            "|                      5.0|    7|\n",
            "|                     24.0|   16|\n",
            "|                     16.0|   19|\n",
            "+-------------------------+-----+\n",
            "\n"
          ]
        }
      ]
    },
    {
      "cell_type": "code",
      "source": [],
      "metadata": {
        "id": "wxxqczcccICw"
      },
      "execution_count": 18,
      "outputs": []
    }
  ]
}