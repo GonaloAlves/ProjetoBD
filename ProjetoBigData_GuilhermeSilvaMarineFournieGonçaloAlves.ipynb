{
  "nbformat": 4,
  "nbformat_minor": 0,
  "metadata": {
    "colab": {
      "provenance": [],
      "include_colab_link": true
    },
    "kernelspec": {
      "name": "python3",
      "display_name": "Python 3"
    },
    "language_info": {
      "name": "python"
    }
  },
  "cells": [
    {
      "cell_type": "markdown",
      "metadata": {
        "id": "view-in-github",
        "colab_type": "text"
      },
      "source": [
        "<a href=\"https://colab.research.google.com/github/GuilhermeVCCdaSilva/ProjetoBD/blob/main/ProjetoBigData_GuilhermeSilvaMarineFournieGon%C3%A7aloAlves.ipynb\" target=\"_parent\"><img src=\"https://colab.research.google.com/assets/colab-badge.svg\" alt=\"Open In Colab\"/></a>"
      ]
    },
    {
      "cell_type": "code",
      "execution_count": 1,
      "metadata": {
        "colab": {
          "base_uri": "https://localhost:8080/"
        },
        "id": "A7PzfgEmI-OC",
        "outputId": "08e906e2-0fc8-4949-904c-84b5a946083a"
      },
      "outputs": [
        {
          "output_type": "stream",
          "name": "stdout",
          "text": [
            "Looking in indexes: https://pypi.org/simple, https://us-python.pkg.dev/colab-wheels/public/simple/\n",
            "Collecting pyspark\n",
            "  Downloading pyspark-3.3.1.tar.gz (281.4 MB)\n",
            "\u001b[2K     \u001b[90m━━━━━━━━━━━━━━━━━━━━━━━━━━━━━━━━━━━━━━━\u001b[0m \u001b[32m281.4/281.4 MB\u001b[0m \u001b[31m4.9 MB/s\u001b[0m eta \u001b[36m0:00:00\u001b[0m\n",
            "\u001b[?25h  Preparing metadata (setup.py) ... \u001b[?25l\u001b[?25hdone\n",
            "Collecting py4j==0.10.9.5\n",
            "  Downloading py4j-0.10.9.5-py2.py3-none-any.whl (199 kB)\n",
            "\u001b[2K     \u001b[90m━━━━━━━━━━━━━━━━━━━━━━━━━━━━━━━━━━━━━━\u001b[0m \u001b[32m199.7/199.7 KB\u001b[0m \u001b[31m17.6 MB/s\u001b[0m eta \u001b[36m0:00:00\u001b[0m\n",
            "\u001b[?25hBuilding wheels for collected packages: pyspark\n",
            "  Building wheel for pyspark (setup.py) ... \u001b[?25l\u001b[?25hdone\n",
            "  Created wheel for pyspark: filename=pyspark-3.3.1-py2.py3-none-any.whl size=281845512 sha256=2587ae762b8af4fc343422eb0be35feeb925cbac386dfee91479c08d38bb00b5\n",
            "  Stored in directory: /root/.cache/pip/wheels/43/dc/11/ec201cd671da62fa9c5cc77078235e40722170ceba231d7598\n",
            "Successfully built pyspark\n",
            "Installing collected packages: py4j, pyspark\n",
            "Successfully installed py4j-0.10.9.5 pyspark-3.3.1\n",
            "Looking in indexes: https://pypi.org/simple, https://us-python.pkg.dev/colab-wheels/public/simple/\n",
            "Collecting findspark\n",
            "  Downloading findspark-2.0.1-py2.py3-none-any.whl (4.4 kB)\n",
            "Installing collected packages: findspark\n",
            "Successfully installed findspark-2.0.1\n"
          ]
        }
      ],
      "source": [
        "# Installing required packages\n",
        "!pip install pyspark\n",
        "!pip install findspark"
      ]
    },
    {
      "cell_type": "markdown",
      "source": [
        "#Creating a SparkSession\n",
        "Uma **SparkSession** é o ponto de entrada principal para trabalhar com dados no Spark. Ele é responsável por gerenciar a configuração do Spark, criar RDDs (Resilient Distributed Datasets) e DataFrames, registrar tabelas temporárias e gerenciar o conjunto de recursos de cluster que estão sendo usados.\n",
        "\n",
        "A SparkSession é a classe principal do Spark SQL, que é o módulo do Spark que permite trabalhar com dados estruturados e relacionais. Ele permite que você execute consultas SQL, manipule DataFrames e extraia metadados. Ele também oferece acesso às bibliotecas de processamento de fluxo de dados (como o DataFrame API e o SQL) e às bibliotecas de aprendizado de máquina (como o MLlib) do Spark.\n",
        "\n",
        "Uma SparkSession é criada usando o SparkSession.builder. É possível configurar a sessão com várias opções, como o nome do aplicativo, o endereço do cluster, o número de núcleos para usar e a quantidade de memória. Além disso, é possível usar a SparkSession para gerenciar configurações globais, como as configurações de memória e de arquivo de log.\n",
        "\n",
        ".config(\"spark.memory.offHeap.enabled\",\"true\") é uma configuração utilizada para habilitar o uso de memória fora da heap (off-heap) no Spark. Quando essa configuração é definida como \"true\", o Spark pode usar memória fora do heap do JVM para armazenar os dados e realizar operações. Isso pode ser útil quando o heap do JVM não é suficiente para armazenar todos os dados, permitindo que o Spark use mais memória do que o heap para melhorar o desempenho das operações.\n",
        "\n",
        ".config(\"spark.memory.offHeap.size\",\"10g\") é uma configuração utilizada para definir a quantidade de memória fora da heap (off-heap) que o Spark pode usar. O valor \"10g\" indica que o Spark pode usar até 10 gigabytes de memória fora da heap. Esse valor pode ser ajustado de acordo com o tamanho dos dados e as necessidades do seu aplicativo."
      ],
      "metadata": {
        "id": "9pqgarnoKqPR"
      }
    },
    {
      "cell_type": "code",
      "source": [
        "from pyspark.sql import SparkSession\n",
        "import findspark\n",
        "\n",
        "findspark.init()\n",
        "\n",
        "spark = SparkSession.builder.appName(\"Pyspark Tutorial\")\\\n",
        "                    .config(\"spark.memory.offHeap.enabled\",\"true\")\\\n",
        "                    .config(\"spark.memory.offHeap.size\",\"10g\")\\\n",
        "                    .getOrCreate()\n",
        "spark                    "
      ],
      "metadata": {
        "colab": {
          "base_uri": "https://localhost:8080/",
          "height": 219
        },
        "id": "rUCnB3MwJmbw",
        "outputId": "e43bb5e2-19c3-446e-b118-a507189c48db"
      },
      "execution_count": 2,
      "outputs": [
        {
          "output_type": "execute_result",
          "data": {
            "text/plain": [
              "<pyspark.sql.session.SparkSession at 0x7fd389ec4790>"
            ],
            "text/html": [
              "\n",
              "            <div>\n",
              "                <p><b>SparkSession - in-memory</b></p>\n",
              "                \n",
              "        <div>\n",
              "            <p><b>SparkContext</b></p>\n",
              "\n",
              "            <p><a href=\"http://c3e938042891:4040\">Spark UI</a></p>\n",
              "\n",
              "            <dl>\n",
              "              <dt>Version</dt>\n",
              "                <dd><code>v3.3.1</code></dd>\n",
              "              <dt>Master</dt>\n",
              "                <dd><code>local[*]</code></dd>\n",
              "              <dt>AppName</dt>\n",
              "                <dd><code>Pyspark Tutorial</code></dd>\n",
              "            </dl>\n",
              "        </div>\n",
              "        \n",
              "            </div>\n",
              "        "
            ]
          },
          "metadata": {},
          "execution_count": 2
        }
      ]
    },
    {
      "cell_type": "code",
      "source": [
        "!curl https://raw.githubusercontent.com/GuilhermeVCCdaSilva/ProjetoBD/main/Absenteeism_at_work.csv >> Absenteeism_at_work.csv\n",
        "df = spark.read.csv('Absenteeism_at_work.csv',header=True,sep=\";\")"
      ],
      "metadata": {
        "colab": {
          "base_uri": "https://localhost:8080/"
        },
        "id": "lsM9rQDKP06H",
        "outputId": "63a5421f-2ee9-43ce-ac25-30a5ac95d3bf"
      },
      "execution_count": 3,
      "outputs": [
        {
          "output_type": "stream",
          "name": "stdout",
          "text": [
            "  % Total    % Received % Xferd  Average Speed   Time    Time     Time  Current\n",
            "                                 Dload  Upload   Total   Spent    Left  Speed\n",
            "100 45232  100 45232    0     0  61041      0 --:--:-- --:--:-- --:--:-- 60959\n"
          ]
        }
      ]
    },
    {
      "cell_type": "code",
      "source": [
        "df = df.drop(\"ID\", column)"
      ],
      "metadata": {
        "id": "4BDSOyEnwFEd"
      },
      "execution_count": 75,
      "outputs": []
    },
    {
      "cell_type": "code",
      "source": [
        "df.show(10)"
      ],
      "metadata": {
        "colab": {
          "base_uri": "https://localhost:8080/"
        },
        "id": "MHhZB0e8QZJq",
        "outputId": "fc43d982-0d30-4972-f2af-87e0b9f982a2"
      },
      "execution_count": 76,
      "outputs": [
        {
          "output_type": "stream",
          "name": "stdout",
          "text": [
            "+------------------+----------------+---------------+-------+----------------------+-------------------------------+------------+----+----------------------+----------+--------------------+---------+---+--------------+-------------+---+------+------+\n",
            "|Reason for absence|Month of absence|Day of the week|Seasons|Transportation expense|Distance from Residence to Work|Service time| Age|Work load Average/day |Hit target|Disciplinary failure|Education|Son|Social drinker|Social smoker|Pet|Weight|Height|\n",
            "+------------------+----------------+---------------+-------+----------------------+-------------------------------+------------+----+----------------------+----------+--------------------+---------+---+--------------+-------------+---+------+------+\n",
            "|              26.0|             7.0|            3.0|    1.0|                 289.0|                           36.0|        13.0|33.0|               239.554|      97.0|                 0.0|      1.0|2.0|           1.0|          0.0|1.0|  90.0| 172.0|\n",
            "|               0.0|             7.0|            3.0|    1.0|                 118.0|                           13.0|        18.0|50.0|               239.554|      97.0|                 1.0|      1.0|1.0|           1.0|          0.0|0.0|  98.0| 178.0|\n",
            "|              23.0|             7.0|            4.0|    1.0|                 179.0|                           51.0|        18.0|38.0|               239.554|      97.0|                 0.0|      1.0|0.0|           1.0|          0.0|0.0|  89.0| 170.0|\n",
            "|               7.0|             7.0|            5.0|    1.0|                 279.0|                            5.0|        14.0|39.0|               239.554|      97.0|                 0.0|      1.0|2.0|           1.0|          1.0|0.0|  68.0| 168.0|\n",
            "|              23.0|             7.0|            5.0|    1.0|                 289.0|                           36.0|        13.0|33.0|               239.554|      97.0|                 0.0|      1.0|2.0|           1.0|          0.0|1.0|  90.0| 172.0|\n",
            "|              23.0|             7.0|            6.0|    1.0|                 179.0|                           51.0|        18.0|38.0|               239.554|      97.0|                 0.0|      1.0|0.0|           1.0|          0.0|0.0|  89.0| 170.0|\n",
            "|              22.0|             7.0|            6.0|    1.0|                 361.0|                           52.0|         3.0|28.0|               239.554|      97.0|                 0.0|      1.0|1.0|           1.0|          0.0|4.0|  80.0| 172.0|\n",
            "|              23.0|             7.0|            6.0|    1.0|                 260.0|                           50.0|        11.0|36.0|               239.554|      97.0|                 0.0|      1.0|4.0|           1.0|          0.0|0.0|  65.0| 168.0|\n",
            "|              19.0|             7.0|            2.0|    1.0|                 155.0|                           12.0|        14.0|34.0|               239.554|      97.0|                 0.0|      1.0|2.0|           1.0|          0.0|0.0|  95.0| 196.0|\n",
            "|              22.0|             7.0|            2.0|    1.0|                 235.0|                           11.0|        14.0|37.0|               239.554|      97.0|                 0.0|      3.0|1.0|           0.0|          0.0|1.0|  88.0| 172.0|\n",
            "+------------------+----------------+---------------+-------+----------------------+-------------------------------+------------+----+----------------------+----------+--------------------+---------+---+--------------+-------------+---+------+------+\n",
            "only showing top 10 rows\n",
            "\n"
          ]
        }
      ]
    },
    {
      "cell_type": "markdown",
      "source": [
        "#Este DataSet contém várias colunas tais como:\n",
        "\n",
        "1.  ID: Identificador único para cada registo.\n",
        "2.    Razão para a ausência: Razão para a ausência do funcionário no trabalho.\n",
        "3.    Mês da ausência: O mês em que o funcionário estava ausente.\n",
        "4.    Dia da semana: O dia da semana em que o funcionário estava ausente.\n",
        "5.    Estações: A estação do ano em que o funcionário estava ausente.\n",
        "6.    Despesas de transporte: As despesas de transporte incorridas pelo funcionário ao viajar para o trabalho.\n",
        "7.    Distância da residência para o trabalho: A distância entre a residência do funcionário e o local de trabalho.\n",
        "8.    Tempo de serviço: O período de tempo em que o funcionário está a trabalhar na empresa.\n",
        "9.    Idade: A idade do funcionário.\n",
        "10.    Carga de trabalho média/dia: A carga de trabalho média do funcionário por dia.\n",
        "11.    Alvo atingido: Se o funcionário atingiu ou não o alvo\n",
        "12.    Falha disciplinar: Se o funcionário cometeu alguma falha disciplinar ou não.\n",
        "12.    Educação: O nível de educação do funcionário.\n",
        "14.    Filhos: O número de filhos que o funcionário tem.\n",
        "15.    Bebedor social: Se o funcionário bebe socialmente ou não.\n",
        "16.    Fumador social: Se o funcionário fuma socialmente ou não.\n",
        "17.    Animal de estimação: Se o funcionário tem algum animal de estimação ou não.\n",
        "18.    Peso: O peso do funcionário.\n",
        "19.    Altura: A altura do funcionário.\n",
        "20.    Índice de massa corporal: O índice de massa corporal do funcionário.\n",
        "21.    Tempo de ausência em horas: O número de horas que o funcionário ficou ausente."
      ],
      "metadata": {
        "id": "YLZpeS-tS9tx"
      }
    },
    {
      "cell_type": "markdown",
      "source": [
        "#Exploratory Data Analysis"
      ],
      "metadata": {
        "id": "VQWMTCcVVJeO"
      }
    },
    {
      "cell_type": "markdown",
      "source": [
        "- Check the number of rows and columns in the dataset"
      ],
      "metadata": {
        "id": "GePEAYSsVQyU"
      }
    },
    {
      "cell_type": "code",
      "source": [
        "print(\"Number of rows:\", df.count())\n",
        "print(\"Number of columns:\", len(df.columns))"
      ],
      "metadata": {
        "colab": {
          "base_uri": "https://localhost:8080/"
        },
        "id": "zN6DdjtpTOyA",
        "outputId": "f3eee448-7f55-4deb-cb39-58d63445d2ed"
      },
      "execution_count": 5,
      "outputs": [
        {
          "output_type": "stream",
          "name": "stdout",
          "text": [
            "Number of rows: 740\n",
            "Number of columns: 21\n"
          ]
        }
      ]
    },
    {
      "cell_type": "markdown",
      "source": [
        "- Check the number of missing values in each column"
      ],
      "metadata": {
        "id": "UdoQ-eXJVkXy"
      }
    },
    {
      "cell_type": "code",
      "source": [
        "# create a list to store the number of missing values in each column\n",
        "missing_values = []\n",
        "\n",
        "# iterate through the columns in the dataset\n",
        "for col in df.columns:\n",
        "    missing_values.append((col, df.filter(df[col].isNull()).count()))\n",
        "\n",
        "# print the missing values\n",
        "for col, val in missing_values:\n",
        "    if val == 0:\n",
        "        print(\"{} : No missing values\".format(col))\n",
        "    else:\n",
        "        print(\"{} : {} missing values\".format(col, val))"
      ],
      "metadata": {
        "colab": {
          "base_uri": "https://localhost:8080/"
        },
        "id": "oIUHcnylVkkT",
        "outputId": "a5d55f5c-4c28-4841-d126-96d0192b6473"
      },
      "execution_count": 6,
      "outputs": [
        {
          "output_type": "stream",
          "name": "stdout",
          "text": [
            "ID : No missing values\n",
            "Reason for absence : No missing values\n",
            "Month of absence : No missing values\n",
            "Day of the week : No missing values\n",
            "Seasons : No missing values\n",
            "Transportation expense : No missing values\n",
            "Distance from Residence to Work : No missing values\n",
            "Service time : No missing values\n",
            "Age : No missing values\n",
            "Work load Average/day  : No missing values\n",
            "Hit target : No missing values\n",
            "Disciplinary failure : No missing values\n",
            "Education : No missing values\n",
            "Son : No missing values\n",
            "Social drinker : No missing values\n",
            "Social smoker : No missing values\n",
            "Pet : No missing values\n",
            "Weight : No missing values\n",
            "Height : No missing values\n",
            "Body mass index : No missing values\n",
            "Absenteeism time in hours : No missing values\n"
          ]
        }
      ]
    },
    {
      "cell_type": "markdown",
      "source": [
        "- check the data types of the columns"
      ],
      "metadata": {
        "id": "7ywFa9_dVuab"
      }
    },
    {
      "cell_type": "code",
      "source": [
        "df.dtypes"
      ],
      "metadata": {
        "colab": {
          "base_uri": "https://localhost:8080/"
        },
        "id": "D-44Emf8Vumq",
        "outputId": "82910951-723a-4d3d-d81b-ffd4a62dd1d9"
      },
      "execution_count": 40,
      "outputs": [
        {
          "output_type": "execute_result",
          "data": {
            "text/plain": [
              "[('Reason for absence', 'double'),\n",
              " ('Month of absence', 'double'),\n",
              " ('Day of the week', 'double'),\n",
              " ('Seasons', 'double'),\n",
              " ('Transportation expense', 'double'),\n",
              " ('Distance from Residence to Work', 'double'),\n",
              " ('Service time', 'double'),\n",
              " ('Age', 'double'),\n",
              " ('Work load Average/day ', 'double'),\n",
              " ('Hit target', 'double'),\n",
              " ('Disciplinary failure', 'double'),\n",
              " ('Education', 'double'),\n",
              " ('Son', 'double'),\n",
              " ('Social drinker', 'double'),\n",
              " ('Social smoker', 'double'),\n",
              " ('Pet', 'double'),\n",
              " ('Weight', 'double'),\n",
              " ('Height', 'double'),\n",
              " ('Body mass index', 'double')]"
            ]
          },
          "metadata": {},
          "execution_count": 40
        }
      ]
    },
    {
      "cell_type": "markdown",
      "source": [
        "- Convert data type string to double"
      ],
      "metadata": {
        "id": "0Mxc948RrWH9"
      }
    },
    {
      "cell_type": "code",
      "source": [
        "from pyspark.sql.functions import col\n",
        "for column in df.columns:\n",
        "    df = df.withColumn(column, col(column).cast(\"double\"))"
      ],
      "metadata": {
        "id": "cdv6VTiErKoD"
      },
      "execution_count": 41,
      "outputs": []
    },
    {
      "cell_type": "code",
      "source": [
        "df.dtypes"
      ],
      "metadata": {
        "colab": {
          "base_uri": "https://localhost:8080/"
        },
        "id": "v0zfHam_re5F",
        "outputId": "6a1f0830-1994-4aca-a88a-8233b5de9d53"
      },
      "execution_count": 42,
      "outputs": [
        {
          "output_type": "execute_result",
          "data": {
            "text/plain": [
              "[('Reason for absence', 'double'),\n",
              " ('Month of absence', 'double'),\n",
              " ('Day of the week', 'double'),\n",
              " ('Seasons', 'double'),\n",
              " ('Transportation expense', 'double'),\n",
              " ('Distance from Residence to Work', 'double'),\n",
              " ('Service time', 'double'),\n",
              " ('Age', 'double'),\n",
              " ('Work load Average/day ', 'double'),\n",
              " ('Hit target', 'double'),\n",
              " ('Disciplinary failure', 'double'),\n",
              " ('Education', 'double'),\n",
              " ('Son', 'double'),\n",
              " ('Social drinker', 'double'),\n",
              " ('Social smoker', 'double'),\n",
              " ('Pet', 'double'),\n",
              " ('Weight', 'double'),\n",
              " ('Height', 'double'),\n",
              " ('Body mass index', 'double')]"
            ]
          },
          "metadata": {},
          "execution_count": 42
        }
      ]
    },
    {
      "cell_type": "markdown",
      "source": [
        "- Check the statistics of numerical columns"
      ],
      "metadata": {
        "id": "rbOnyOggvDJ6"
      }
    },
    {
      "cell_type": "code",
      "source": [
        "df.describe().show()"
      ],
      "metadata": {
        "id": "a2pAvuw8u1kU",
        "outputId": "4f9c51d3-9910-4427-b90f-76eb79b49e0b",
        "colab": {
          "base_uri": "https://localhost:8080/"
        }
      },
      "execution_count": 43,
      "outputs": [
        {
          "output_type": "stream",
          "name": "stdout",
          "text": [
            "+-------+------------------+------------------+------------------+------------------+----------------------+-------------------------------+------------------+-----------------+----------------------+-----------------+--------------------+------------------+------------------+-------------------+-------------------+------------------+------------------+------------------+------------------+\n",
            "|summary|Reason for absence|  Month of absence|   Day of the week|           Seasons|Transportation expense|Distance from Residence to Work|      Service time|              Age|Work load Average/day |       Hit target|Disciplinary failure|         Education|               Son|     Social drinker|      Social smoker|               Pet|            Weight|            Height|   Body mass index|\n",
            "+-------+------------------+------------------+------------------+------------------+----------------------+-------------------------------+------------------+-----------------+----------------------+-----------------+--------------------+------------------+------------------+-------------------+-------------------+------------------+------------------+------------------+------------------+\n",
            "|  count|               740|               740|               740|               740|                   740|                            740|               740|              740|                   740|              740|                 740|               740|               740|                740|                740|               740|               740|               740|               740|\n",
            "|   mean|19.216216216216218| 6.324324324324325|3.9148648648648647|2.5445945945945945|    221.32972972972973|              29.63108108108108|12.554054054054054|            36.45|    271.49023513513544|94.58783783783784| 0.05405405405405406|1.2918918918918918| 1.018918918918919| 0.5675675675675675|0.07297297297297298| 0.745945945945946| 79.03513513513514|172.11486486486487|26.677027027027027|\n",
            "| stddev|  8.43340588279965|3.4362869319125897|1.4216747097562805| 1.111831060157382|     66.95222324531973|             14.836788436739143| 4.384873407621148|6.478772457611868|    39.058116188144055|3.779313134418015| 0.22627727323215058|0.6732380415251598|1.0984890195302817|0.49574866720003496| 0.2602680502800183|1.3182582913258336|12.883210507177214| 6.034994530267662| 4.285452223167274|\n",
            "|    min|               0.0|               0.0|               2.0|               1.0|                 118.0|                            5.0|               1.0|             27.0|               205.917|             81.0|                 0.0|               1.0|               0.0|                0.0|                0.0|               0.0|              56.0|             163.0|              19.0|\n",
            "|    max|              28.0|              12.0|               6.0|               4.0|                 388.0|                           52.0|              29.0|             58.0|               378.884|            100.0|                 1.0|               4.0|               4.0|                1.0|                1.0|               8.0|             108.0|             196.0|              38.0|\n",
            "+-------+------------------+------------------+------------------+------------------+----------------------+-------------------------------+------------------+-----------------+----------------------+-----------------+--------------------+------------------+------------------+-------------------+-------------------+------------------+------------------+------------------+------------------+\n",
            "\n"
          ]
        }
      ]
    },
    {
      "cell_type": "markdown",
      "source": [
        "- Check the correlation between columns"
      ],
      "metadata": {
        "id": "YRWORZmcZpaY"
      }
    },
    {
      "cell_type": "code",
      "source": [
        "corr = df.stat.corr(\"Month of absence\", \"Transportation expense\")\n",
        "print(corr)"
      ],
      "metadata": {
        "colab": {
          "base_uri": "https://localhost:8080/"
        },
        "id": "M5Dl2OSHZpmq",
        "outputId": "47b3ba64-c046-4c0f-eca6-59efff16bccf"
      },
      "execution_count": 44,
      "outputs": [
        {
          "output_type": "stream",
          "name": "stdout",
          "text": [
            "0.13752456639267643\n"
          ]
        }
      ]
    },
    {
      "cell_type": "code",
      "source": [
        "import seaborn as sns\n",
        "import matplotlib.pyplot as plt\n",
        "import numpy as np\n",
        "\n",
        "num_cols = [c for c in df.columns if df.select(c).dtypes[0][1] == 'double'][:8]\n",
        "corr_matrix = df.select(num_cols).toPandas().corr()\n",
        "\n",
        "plt.figure(figsize=(10, 8))\n",
        "plt.title(\"Heatmap of Correlation Matrix\", fontsize=20)\n",
        "\n",
        "mask = np.triu(np.ones_like(corr_matrix, dtype=np.bool))\n",
        "sns.heatmap(corr_matrix, annot=True, cmap='coolwarm', fmt='.2f', linewidths=0.05, linecolor='white', mask=mask)\n",
        "\n",
        "plt.xticks(fontsize=15)\n",
        "plt.yticks(fontsize=15)\n",
        "\n",
        "plt.show()"
      ],
      "metadata": {
        "colab": {
          "base_uri": "https://localhost:8080/",
          "height": 816
        },
        "id": "N7mxLe2hoUhX",
        "outputId": "85fc251c-aee7-4016-d610-f2a0d699e89b"
      },
      "execution_count": 51,
      "outputs": [
        {
          "output_type": "stream",
          "name": "stderr",
          "text": [
            "<ipython-input-51-825ed4e78d0d>:11: DeprecationWarning: `np.bool` is a deprecated alias for the builtin `bool`. To silence this warning, use `bool` by itself. Doing this will not modify any behavior and is safe. If you specifically wanted the numpy scalar type, use `np.bool_` here.\n",
            "Deprecated in NumPy 1.20; for more details and guidance: https://numpy.org/devdocs/release/1.20.0-notes.html#deprecations\n",
            "  mask = np.triu(np.ones_like(corr_matrix, dtype=np.bool))\n"
          ]
        },
        {
          "output_type": "display_data",
          "data": {
            "text/plain": [
              "<Figure size 720x576 with 2 Axes>"
            ],
            "image/png": "[encoded data removed]"
          },
          "metadata": {
            "needs_background": "light"
          }
        }
      ]
    },
    {
      "cell_type": "code",
      "source": [
        "import matplotlib.pyplot as plt\n",
        "\n",
        "# Count the frequency of each category in \"Reason for absence\" column\n",
        "reason_counts = df.groupBy(\"Reason for absence\").count().toPandas()\n",
        "\n",
        "# Plot the bar chart\n",
        "plt.figure(figsize=(10, 6))\n",
        "plt.bar(reason_counts[\"Reason for absence\"], reason_counts[\"count\"])\n",
        "plt.xlabel(\"Reason for absence\")\n",
        "plt.ylabel(\"Frequency\")\n",
        "plt.title(\"Frequency of Reasons for Absence\")\n",
        "plt.show()"
      ],
      "metadata": {
        "colab": {
          "base_uri": "https://localhost:8080/",
          "height": 404
        },
        "id": "ItTGCHDMxLXC",
        "outputId": "f9504fbf-c379-40dc-857c-e2bec669dc73"
      },
      "execution_count": 45,
      "outputs": [
        {
          "output_type": "display_data",
          "data": {
            "text/plain": [
              "<Figure size 720x432 with 1 Axes>"
            ],
            "image/png": "[encoded data removed]"
          },
          "metadata": {
            "needs_background": "light"
          }
        }
      ]
    },
    {
      "cell_type": "code",
      "source": [
        "import matplotlib.pyplot as plt\n",
        "\n",
        "# Extract the columns \"Transportation expense\" and \"Distance from Residence to Work\"\n",
        "x = df.select(\"Transportation expense\").toPandas()\n",
        "y = df.select(\"Distance from Residence to Work\").toPandas()\n",
        "\n",
        "# Plot the scatter plot\n",
        "plt.figure(figsize=(10, 6))\n",
        "plt.scatter(x, y)\n",
        "plt.xlabel(\"Transportation expense\")\n",
        "plt.ylabel(\"Distance from Residence to Work\")\n",
        "plt.title(\"Scatter plot of Transportation expense and Distance from Residence to Work\")\n",
        "plt.show()"
      ],
      "metadata": {
        "colab": {
          "base_uri": "https://localhost:8080/",
          "height": 404
        },
        "id": "xclD395nxLrD",
        "outputId": "e95e2405-fb24-4488-c6b4-ef86bdd8c3a4"
      },
      "execution_count": 47,
      "outputs": [
        {
          "output_type": "display_data",
          "data": {
            "text/plain": [
              "<Figure size 720x432 with 1 Axes>"
            ],
            "image/png": "[encoded data removed]"
          },
          "metadata": {
            "needs_background": "light"
          }
        }
      ]
    },
    {
      "cell_type": "markdown",
      "source": [
        "mostrar a distribuição de idade dos funcionários que estão faltando:"
      ],
      "metadata": {
        "id": "sOetTZDlkBvc"
      }
    },
    {
      "cell_type": "code",
      "source": [
        "import seaborn as sns\n",
        "import matplotlib.pyplot as plt\n",
        "\n",
        "# Select the 'Age' column\n",
        "age_data = df.select(\"Age\").toPandas()\n",
        "\n",
        "# Reset the index\n",
        "age_data.reset_index(drop=True, inplace=True)\n",
        "\n",
        "# Create a density plot\n",
        "sns.kdeplot(age_data['Age'], shade=True)\n",
        "\n",
        "# Add labels and title\n",
        "plt.xlabel(\"Age\")\n",
        "plt.ylabel(\"Density\")\n",
        "plt.title(\"Density Plot of Age for Absentees\")\n",
        "\n",
        "# Show the plot\n",
        "plt.show()"
      ],
      "metadata": {
        "colab": {
          "base_uri": "https://localhost:8080/",
          "height": 295
        },
        "id": "fJL7AgdYMXeW",
        "outputId": "6de28fd3-b2cc-44c6-c90c-d05ade70b08d"
      },
      "execution_count": 63,
      "outputs": [
        {
          "output_type": "display_data",
          "data": {
            "text/plain": [
              "<Figure size 432x288 with 1 Axes>"
            ],
            "image/png": "[encoded data removed]"
          },
          "metadata": {
            "needs_background": "light"
          }
        }
      ]
    },
    {
      "cell_type": "code",
      "source": [
        "import matplotlib.pyplot as plt\n",
        "\n",
        "# Get a list of all numerical columns\n",
        "num_cols = [c for c in df.columns if df.select(c).dtypes[0][1] == 'double']\n",
        "\n",
        "df_num = df.select(num_cols)\n",
        "\n",
        "# Plot a histogram for each numerical column\n",
        "df_num.toPandas().hist(figsize=[15,15],bins=10, color='skyblue', histtype='bar', ec='black')\n",
        "plt.show()"
      ],
      "metadata": {
        "colab": {
          "base_uri": "https://localhost:8080/",
          "height": 879
        },
        "id": "7XPHNim0O7EC",
        "outputId": "2220b40b-c177-432d-c2fe-15f547d18def"
      },
      "execution_count": 72,
      "outputs": [
        {
          "output_type": "display_data",
          "data": {
            "text/plain": [
              "<Figure size 1080x1080 with 20 Axes>"
            ],
            "image/png": "[encoded data removed]"
          },
          "metadata": {
            "needs_background": "light"
          }
        }
      ]
    },
    {
      "cell_type": "markdown",
      "source": [
        "Regressão linear"
      ],
      "metadata": {
        "id": "TiHbFozJesad"
      }
    },
    {
      "cell_type": "code",
      "source": [],
      "metadata": {
        "id": "fhQ9DgiGeqn-"
      },
      "execution_count": null,
      "outputs": []
    },
    {
      "cell_type": "markdown",
      "source": [
        "- Check the number of unique values in each column"
      ],
      "metadata": {
        "id": "CW3ZHgn5ZRmw"
      }
    },
    {
      "cell_type": "code",
      "source": [
        " for col in df.columns:\n",
        "    print(\"Unique values in column '{}':\".format(col), df.select(col).distinct().count())"
      ],
      "metadata": {
        "colab": {
          "base_uri": "https://localhost:8080/"
        },
        "id": "LyIVMUGvZRX2",
        "outputId": "2b47c99c-24e0-4696-c898-b86a6767f82f"
      },
      "execution_count": 49,
      "outputs": [
        {
          "output_type": "stream",
          "name": "stdout",
          "text": [
            "Unique values in column 'Reason for absence': 28\n",
            "Unique values in column 'Month of absence': 13\n",
            "Unique values in column 'Day of the week': 5\n",
            "Unique values in column 'Seasons': 4\n",
            "Unique values in column 'Transportation expense': 24\n",
            "Unique values in column 'Distance from Residence to Work': 25\n",
            "Unique values in column 'Service time': 18\n",
            "Unique values in column 'Age': 22\n",
            "Unique values in column 'Work load Average/day ': 38\n",
            "Unique values in column 'Hit target': 13\n",
            "Unique values in column 'Disciplinary failure': 2\n",
            "Unique values in column 'Education': 4\n",
            "Unique values in column 'Son': 5\n",
            "Unique values in column 'Social drinker': 2\n",
            "Unique values in column 'Social smoker': 2\n",
            "Unique values in column 'Pet': 6\n",
            "Unique values in column 'Weight': 26\n",
            "Unique values in column 'Height': 14\n",
            "Unique values in column 'Body mass index': 17\n"
          ]
        }
      ]
    },
    {
      "cell_type": "markdown",
      "source": [
        "- check the distribution of each column"
      ],
      "metadata": {
        "id": "RpIyc62DbzvG"
      }
    },
    {
      "cell_type": "code",
      "source": [
        "for col in df.columns:\n",
        "    df.select(col).groupBy(col).count().show()"
      ],
      "metadata": {
        "colab": {
          "base_uri": "https://localhost:8080/"
        },
        "id": "YrPtshpGbz0u",
        "outputId": "c9ef8188-2baa-4251-a934-ce5310c48ce8"
      },
      "execution_count": null,
      "outputs": [
        {
          "output_type": "stream",
          "name": "stdout",
          "text": [
            "+----+-----+\n",
            "|  ID|count|\n",
            "+----+-----+\n",
            "| 8.0|    2|\n",
            "| 7.0|    6|\n",
            "|29.0|    5|\n",
            "|35.0|    1|\n",
            "|18.0|   16|\n",
            "| 1.0|   23|\n",
            "|34.0|   55|\n",
            "|25.0|   10|\n",
            "|36.0|   34|\n",
            "| 4.0|    1|\n",
            "|23.0|    8|\n",
            "|31.0|    3|\n",
            "|11.0|   40|\n",
            "|21.0|    3|\n",
            "|14.0|   29|\n",
            "|22.0|   46|\n",
            "| 3.0|  113|\n",
            "|19.0|    3|\n",
            "|28.0|   76|\n",
            "| 2.0|    6|\n",
            "+----+-----+\n",
            "only showing top 20 rows\n",
            "\n",
            "+------------------+-----+\n",
            "|Reason for absence|count|\n",
            "+------------------+-----+\n",
            "|               8.0|    6|\n",
            "|               0.0|   43|\n",
            "|               7.0|   15|\n",
            "|              18.0|   21|\n",
            "|               1.0|   16|\n",
            "|              25.0|   31|\n",
            "|               4.0|    2|\n",
            "|              23.0|  149|\n",
            "|              11.0|   26|\n",
            "|              21.0|    6|\n",
            "|              14.0|   19|\n",
            "|              22.0|   38|\n",
            "|              19.0|   40|\n",
            "|               3.0|    1|\n",
            "|              28.0|  112|\n",
            "|               2.0|    1|\n",
            "|              17.0|    1|\n",
            "|              27.0|   69|\n",
            "|              10.0|   25|\n",
            "|              13.0|   55|\n",
            "+------------------+-----+\n",
            "only showing top 20 rows\n",
            "\n",
            "+----------------+-----+\n",
            "|Month of absence|count|\n",
            "+----------------+-----+\n",
            "|             8.0|   54|\n",
            "|             0.0|    3|\n",
            "|             7.0|   67|\n",
            "|             1.0|   50|\n",
            "|             4.0|   53|\n",
            "|            11.0|   63|\n",
            "|             3.0|   87|\n",
            "|             2.0|   72|\n",
            "|            10.0|   71|\n",
            "|             6.0|   54|\n",
            "|             5.0|   64|\n",
            "|             9.0|   53|\n",
            "|            12.0|   49|\n",
            "+----------------+-----+\n",
            "\n",
            "+---------------+-----+\n",
            "|Day of the week|count|\n",
            "+---------------+-----+\n",
            "|            4.0|  156|\n",
            "|            3.0|  154|\n",
            "|            2.0|  161|\n",
            "|            6.0|  144|\n",
            "|            5.0|  125|\n",
            "+---------------+-----+\n",
            "\n",
            "+-------+-----+\n",
            "|Seasons|count|\n",
            "+-------+-----+\n",
            "|    1.0|  170|\n",
            "|    4.0|  195|\n",
            "|    3.0|  183|\n",
            "|    2.0|  192|\n",
            "+-------+-----+\n",
            "\n",
            "+----------------------+-----+\n",
            "|Transportation expense|count|\n",
            "+----------------------+-----+\n",
            "|                 184.0|    7|\n",
            "|                 235.0|   58|\n",
            "|                 369.0|   15|\n",
            "|                 155.0|   29|\n",
            "|                 268.0|    3|\n",
            "|                 279.0|    6|\n",
            "|                 388.0|    3|\n",
            "|                 378.0|    8|\n",
            "|                 231.0|    2|\n",
            "|                 179.0|  180|\n",
            "|                 300.0|    5|\n",
            "|                 225.0|   81|\n",
            "|                 246.0|   30|\n",
            "|                 330.0|   16|\n",
            "|                 248.0|   24|\n",
            "|                 118.0|   92|\n",
            "|                 361.0|   24|\n",
            "|                 157.0|    7|\n",
            "|                 291.0|   40|\n",
            "|                 189.0|    8|\n",
            "+----------------------+-----+\n",
            "only showing top 20 rows\n",
            "\n",
            "+-------------------------------+-----+\n",
            "|Distance from Residence to Work|count|\n",
            "+-------------------------------+-----+\n",
            "|                           49.0|    8|\n",
            "|                           29.0|   14|\n",
            "|                           42.0|    7|\n",
            "|                           35.0|    2|\n",
            "|                           25.0|   54|\n",
            "|                           36.0|   40|\n",
            "|                           50.0|   45|\n",
            "|                           45.0|    1|\n",
            "|                           31.0|   37|\n",
            "|                           11.0|   26|\n",
            "|                           51.0|  120|\n",
            "|                           14.0|    9|\n",
            "|                           48.0|    5|\n",
            "|                           22.0|   20|\n",
            "|                           17.0|   15|\n",
            "|                           27.0|    7|\n",
            "|                           10.0|   55|\n",
            "|                           13.0|   34|\n",
            "|                           20.0|   19|\n",
            "|                           52.0|   24|\n",
            "+-------------------------------+-----+\n",
            "only showing top 20 rows\n",
            "\n",
            "+------------+-----+\n",
            "|Service time|count|\n",
            "+------------+-----+\n",
            "|         8.0|   13|\n",
            "|         7.0|    7|\n",
            "|        29.0|    5|\n",
            "|        18.0|  147|\n",
            "|         1.0|    7|\n",
            "|         4.0|   16|\n",
            "|        11.0|   50|\n",
            "|        14.0|   85|\n",
            "|         3.0|   24|\n",
            "|        17.0|   20|\n",
            "|        10.0|   55|\n",
            "|        13.0|   73|\n",
            "|         6.0|    7|\n",
            "|        15.0|    4|\n",
            "|        24.0|    2|\n",
            "|         9.0|  126|\n",
            "|        16.0|   38|\n",
            "|        12.0|   61|\n",
            "+------------+-----+\n",
            "\n",
            "+----+-----+\n",
            "| Age|count|\n",
            "+----+-----+\n",
            "|49.0|    5|\n",
            "|29.0|    7|\n",
            "|47.0|   24|\n",
            "|39.0|    8|\n",
            "|34.0|   29|\n",
            "|37.0|   78|\n",
            "|36.0|   50|\n",
            "|41.0|   34|\n",
            "|50.0|   37|\n",
            "|31.0|   22|\n",
            "|58.0|    8|\n",
            "|48.0|    6|\n",
            "|53.0|    1|\n",
            "|46.0|    2|\n",
            "|28.0|  117|\n",
            "|38.0|  113|\n",
            "|27.0|    7|\n",
            "|40.0|   58|\n",
            "|30.0|   46|\n",
            "|33.0|   51|\n",
            "+----+-----+\n",
            "only showing top 20 rows\n",
            "\n",
            "+----------------------+-----+\n",
            "|Work load Average/day |count|\n",
            "+----------------------+-----+\n",
            "|               239.409|   13|\n",
            "|               236.629|   19|\n",
            "|               239.554|   19|\n",
            "|                230.29|   20|\n",
            "|               313.532|   15|\n",
            "|               244.387|   22|\n",
            "|               271.219|    3|\n",
            "|               306.345|   18|\n",
            "|                377.55|   16|\n",
            "|               308.593|   24|\n",
            "|               249.797|   15|\n",
            "|               343.253|   29|\n",
            "|               378.884|   16|\n",
            "|               251.818|   21|\n",
            "|               253.957|   19|\n",
            "|               261.756|   12|\n",
            "|               237.656|   32|\n",
            "|               261.306|   15|\n",
            "|               284.031|   22|\n",
            "|               246.288|   20|\n",
            "+----------------------+-----+\n",
            "only showing top 20 rows\n",
            "\n",
            "+----------+-----+\n",
            "|Hit target|count|\n",
            "+----------+-----+\n",
            "|      88.0|   28|\n",
            "|      98.0|   66|\n",
            "|      96.0|   75|\n",
            "|      94.0|   34|\n",
            "|      93.0|  105|\n",
            "|      81.0|   19|\n",
            "|      87.0|   12|\n",
            "|      99.0|  102|\n",
            "|      95.0|   75|\n",
            "|     100.0|   11|\n",
            "|      92.0|   79|\n",
            "|      97.0|   89|\n",
            "|      91.0|   45|\n",
            "+----------+-----+\n",
            "\n",
            "+--------------------+-----+\n",
            "|Disciplinary failure|count|\n",
            "+--------------------+-----+\n",
            "|                 0.0|  700|\n",
            "|                 1.0|   40|\n",
            "+--------------------+-----+\n",
            "\n",
            "+---------+-----+\n",
            "|Education|count|\n",
            "+---------+-----+\n",
            "|      1.0|  611|\n",
            "|      4.0|    4|\n",
            "|      3.0|   79|\n",
            "|      2.0|   46|\n",
            "+---------+-----+\n",
            "\n",
            "+---+-----+\n",
            "|Son|count|\n",
            "+---+-----+\n",
            "|0.0|  298|\n",
            "|1.0|  229|\n",
            "|4.0|   42|\n",
            "|3.0|   15|\n",
            "|2.0|  156|\n",
            "+---+-----+\n",
            "\n",
            "+--------------+-----+\n",
            "|Social drinker|count|\n",
            "+--------------+-----+\n",
            "|           0.0|  320|\n",
            "|           1.0|  420|\n",
            "+--------------+-----+\n",
            "\n",
            "+-------------+-----+\n",
            "|Social smoker|count|\n",
            "+-------------+-----+\n",
            "|          0.0|  686|\n",
            "|          1.0|   54|\n",
            "+-------------+-----+\n",
            "\n",
            "+---+-----+\n",
            "|Pet|count|\n",
            "+---+-----+\n",
            "|8.0|    8|\n",
            "|0.0|  460|\n",
            "|1.0|  138|\n",
            "|4.0|   32|\n",
            "|2.0|   96|\n",
            "|5.0|    6|\n",
            "+---+-----+\n",
            "\n",
            "+------+-----+\n",
            "|Weight|count|\n",
            "+------+-----+\n",
            "|  67.0|   30|\n",
            "|  70.0|   15|\n",
            "|  69.0|   85|\n",
            "| 108.0|    5|\n",
            "|  88.0|   29|\n",
            "|  98.0|   35|\n",
            "|  75.0|   19|\n",
            "|  80.0|   24|\n",
            "|  86.0|   24|\n",
            "|  94.0|    4|\n",
            "|  77.0|    6|\n",
            "|  56.0|   46|\n",
            "|  79.0|    3|\n",
            "|  83.0|   55|\n",
            "|  58.0|    7|\n",
            "| 106.0|   19|\n",
            "|  63.0|   20|\n",
            "|  68.0|   13|\n",
            "|  73.0|   37|\n",
            "|  95.0|   29|\n",
            "+------+-----+\n",
            "only showing top 20 rows\n",
            "\n",
            "+------+-----+\n",
            "|Height|count|\n",
            "+------+-----+\n",
            "| 170.0|  166|\n",
            "| 169.0|   95|\n",
            "| 168.0|   48|\n",
            "| 167.0|   34|\n",
            "| 182.0|   20|\n",
            "| 178.0|   57|\n",
            "| 171.0|   83|\n",
            "| 165.0|   24|\n",
            "| 175.0|    8|\n",
            "| 196.0|   29|\n",
            "| 185.0|    7|\n",
            "| 172.0|  155|\n",
            "| 163.0|    6|\n",
            "| 174.0|    8|\n",
            "+------+-----+\n",
            "\n",
            "+---------------+-----+\n",
            "|Body mass index|count|\n",
            "+---------------+-----+\n",
            "|           29.0|   23|\n",
            "|           35.0|    2|\n",
            "|           34.0|    1|\n",
            "|           25.0|  126|\n",
            "|           36.0|    5|\n",
            "|           23.0|   75|\n",
            "|           31.0|  147|\n",
            "|           21.0|   22|\n",
            "|           22.0|   35|\n",
            "|           19.0|   46|\n",
            "|           28.0|   59|\n",
            "|           38.0|   19|\n",
            "|           27.0|   24|\n",
            "|           30.0|   40|\n",
            "|           33.0|    6|\n",
            "|           32.0|   24|\n",
            "|           24.0|   86|\n",
            "+---------------+-----+\n",
            "\n",
            "+-------------------------+-----+\n",
            "|Absenteeism time in hours|count|\n",
            "+-------------------------+-----+\n",
            "|                      8.0|  208|\n",
            "|                      0.0|   44|\n",
            "|                      7.0|    1|\n",
            "|                    112.0|    2|\n",
            "|                     64.0|    3|\n",
            "|                     80.0|    3|\n",
            "|                    120.0|    3|\n",
            "|                      1.0|   88|\n",
            "|                    104.0|    1|\n",
            "|                      4.0|   60|\n",
            "|                     56.0|    2|\n",
            "|                     48.0|    1|\n",
            "|                      3.0|  112|\n",
            "|                      2.0|  157|\n",
            "|                     40.0|    7|\n",
            "|                     32.0|    6|\n",
            "|                      5.0|    7|\n",
            "|                     24.0|   16|\n",
            "|                     16.0|   19|\n",
            "+-------------------------+-----+\n",
            "\n"
          ]
        }
      ]
    }
  ]
}