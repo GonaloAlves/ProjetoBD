{
  "nbformat": 4,
  "nbformat_minor": 0,
  "metadata": {
    "colab": {
      "provenance": [],
      "include_colab_link": true
    },
    "kernelspec": {
      "name": "python3",
      "display_name": "Python 3"
    },
    "language_info": {
      "name": "python"
    }
  },
  "cells": [
    {
      "cell_type": "markdown",
      "metadata": {
        "id": "view-in-github",
        "colab_type": "text"
      },
      "source": [
        "<a href=\"https://colab.research.google.com/github/GuilhermeVCCdaSilva/ProjetoBD/blob/main/ProjetoBigData_GuilhermeSilvaMarineFournieGon%C3%A7aloAlves.ipynb\" target=\"_parent\"><img src=\"https://colab.research.google.com/assets/colab-badge.svg\" alt=\"Open In Colab\"/></a>"
      ]
    },
    {
      "cell_type": "markdown",
      "source": [
        "<img src=\"https://www.estbarreiro.ips.pt/Content/images/logo-ESTB.png\" align=\"right\" alt=\"EsT Logo circle logo\" style=\"height: 200px; width:300px;\"/>\n",
        "\n",
        "# Projeto Final Big Data \n",
        "* __Guilherme Silva__\n",
        "* __Marine Emilie Fournier__\n",
        "* __Gonçalo Alves__"
      ],
      "metadata": {
        "id": "5y9CFXldkFjG"
      }
    },
    {
      "cell_type": "code",
      "execution_count": null,
      "metadata": {
        "colab": {
          "base_uri": "https://localhost:8080/"
        },
        "id": "A7PzfgEmI-OC",
        "outputId": "ebd16572-b325-4593-ace0-4741a91c2b4e"
      },
      "outputs": [
        {
          "output_type": "stream",
          "name": "stdout",
          "text": [
            "Looking in indexes: https://pypi.org/simple, https://us-python.pkg.dev/colab-wheels/public/simple/\n",
            "Collecting pyspark\n",
            "  Downloading pyspark-3.3.1.tar.gz (281.4 MB)\n",
            "\u001b[2K     \u001b[90m━━━━━━━━━━━━━━━━━━━━━━━━━━━━━━━━━━━━━━━\u001b[0m \u001b[32m281.4/281.4 MB\u001b[0m \u001b[31m2.4 MB/s\u001b[0m eta \u001b[36m0:00:00\u001b[0m\n",
            "\u001b[?25h  Preparing metadata (setup.py) ... \u001b[?25l\u001b[?25hdone\n",
            "Collecting py4j==0.10.9.5\n",
            "  Downloading py4j-0.10.9.5-py2.py3-none-any.whl (199 kB)\n",
            "\u001b[2K     \u001b[90m━━━━━━━━━━━━━━━━━━━━━━━━━━━━━━━━━━━━━━━\u001b[0m \u001b[32m199.7/199.7 KB\u001b[0m \u001b[31m5.6 MB/s\u001b[0m eta \u001b[36m0:00:00\u001b[0m\n",
            "\u001b[?25hBuilding wheels for collected packages: pyspark\n",
            "  Building wheel for pyspark (setup.py) ... \u001b[?25l\u001b[?25hdone\n",
            "  Created wheel for pyspark: filename=pyspark-3.3.1-py2.py3-none-any.whl size=281845512 sha256=a6ed39ba4ff40ec24995898af7fd5682ebb20e35a1f3bb0dd4cecc955300bce0\n",
            "  Stored in directory: /root/.cache/pip/wheels/43/dc/11/ec201cd671da62fa9c5cc77078235e40722170ceba231d7598\n",
            "Successfully built pyspark\n",
            "Installing collected packages: py4j, pyspark\n",
            "Successfully installed py4j-0.10.9.5 pyspark-3.3.1\n",
            "Looking in indexes: https://pypi.org/simple, https://us-python.pkg.dev/colab-wheels/public/simple/\n",
            "Collecting findspark\n",
            "  Downloading findspark-2.0.1-py2.py3-none-any.whl (4.4 kB)\n",
            "Installing collected packages: findspark\n",
            "Successfully installed findspark-2.0.1\n"
          ]
        }
      ],
      "source": [
        "# Installing required packages\n",
        "!pip install pyspark\n",
        "!pip install findspark"
      ]
    },
    {
      "cell_type": "markdown",
      "source": [
        "## Introdução"
      ],
      "metadata": {
        "id": "t9c7kVKkGHPS"
      }
    },
    {
      "cell_type": "markdown",
      "source": [
        "### Objetivos e Fundamentos do projeto"
      ],
      "metadata": {
        "id": "NQ2syPHAG_a5"
      }
    },
    {
      "cell_type": "markdown",
      "source": [
        "- Este projeto de BigData tem como objetivo usar algoritmos de Machine Learning, recorrendo ao uso do PySpark, pois o mesmo ajuda o processamento de grandes quantidades de dados e é incorpurado com ferramentas para prever resultados importantes em relação a um conjunto de dados.\n",
        "-  O Spark é uma ferramenta poderosa que permite o processamento distribuído de dados.\n",
        "- Também vamos usar o Spark para ler, limpar e preparar os dados, avaliar e ajustar modelos e, finalmente, fazer previsões precisas e relevantes.\n",
        "- Além disso, vamos usar técnicas avançadas de análise para visualizar e interpretar os resultados, a fim de obter insights valiosos. \n",
        "- Este projeto é uma excelente oportunidade para aplicar e praticar habilidades de Machine Learning em um ambiente de grande escala e de alta performance.\n"
      ],
      "metadata": {
        "id": "lCX__4XIGKA4"
      }
    },
    {
      "cell_type": "markdown",
      "source": [
        "### Introdução do DataSet em uso"
      ],
      "metadata": {
        "id": "htemPg_0HEpi"
      }
    },
    {
      "cell_type": "markdown",
      "source": [
        "- O nosso conjunto de dados inclui informações como as razões para ausência, gastos de transporte, distância de residência para trabalho, tempo de serviço, carga de trabalho, desempenho, educação, estado pessoal e informações demográficas dos funcionários, bem como a duração do absentismo. \n",
        "- Temos como objetivo utilizar técnicas Machine Learning para identificar padrões e tendências nos dados e talvez prever a probabilidade de uma certa pessoa se absentir no futuro. \n",
        "- Com base nas descobertas, pode-se tomar medidas para reduzir o absentismo e melhorar o desempenho de uma empresa.\n",
        "\n",
        "\n",
        "\n"
      ],
      "metadata": {
        "id": "x5zjMRYDHIlW"
      }
    },
    {
      "cell_type": "markdown",
      "source": [
        "##Criar uma \"SparkSession\"\n",
        "- Para se trabalhar com dados no Spark, é essencial criar uma SparkSession, este passo é fundamental e o primeiro a ser realizado. Ela é responsável por gerenciar a configuração do Spark, criar RDDs (Resilient Distributed Datasets) e DataFrames, registar tabelas temporárias e gerenciar os recursos do cluster utilizados.\n",
        "\n",
        "- A SparkSession é o ponto de partida para trabalhar com dados estruturados e relacionais no Spark SQL, o módulo do Spark que fornece suporte para essa funcionalidade. Ele permite que você execute consultas SQL, manipule DataFrames e extraia metadados. Ele também oferece acesso às bibliotecas de processamento de fluxo de dados (como o DataFrame API e o SQL) e às bibliotecas de aprendizado de máquina (como o MLlib) do Spark.\n",
        "\n",
        "- A SparkSession (criada usando SparkSession.builder) é uma classe fundamental para trabalhar com dados no Spark, é através dela que é possível configurar e gerenciar a sessão, estabelecer conexões com o cluster, definir opções de configuração e gerenciar recursos como o número de núcleos para usar e a quantidade de memória. É a porta de entrada para trabalhar com dados estruturados e relacionais no Spark SQL.\n",
        "\n",
        "- A configuração \".config(\"spark.memory.offHeap.enabled\")\" permite habilitar o uso de memória fora da heap (off-heap). Quando essa configuração é definida como \"true\", o Spark pode usar memória fora do heap do JVM para armazenar os dados e realizar operações. Isso permite que o Spark armazene e execute operações com mais dados, o que pode melhorar o desempenho quando a memória disponível dentro da heap não é suficiente.\n",
        "\n",
        "- A configuração \".config(\"spark.memory.offHeap.size\",\"10g\")\" permite definir a quantidade de memória fora do heap (off-heap) disponível para o Spark usar. Neste caso, o valor \"10g\" indica que o Spark pode usar até 10 gigabytes de memória fora do heap. Esse valor pode ser ajustado de acordo com o tamanho dos dados e as necessidades do seu aplicativo para garantir o melhor desempenho possível."
      ],
      "metadata": {
        "id": "9pqgarnoKqPR"
      }
    },
    {
      "cell_type": "code",
      "source": [
        "from pyspark.sql import SparkSession\n",
        "import findspark\n",
        "\n",
        "findspark.init()\n",
        "\n",
        "spark = SparkSession.builder.appName(\"Pyspark ProjetoBD\")\\\n",
        "                    .config(\"spark.memory.offHeap.enabled\",\"true\")\\\n",
        "                    .config(\"spark.memory.offHeap.size\",\"20g\")\\\n",
        "                    .getOrCreate()\n",
        "spark                    "
      ],
      "metadata": {
        "colab": {
          "base_uri": "https://localhost:8080/",
          "height": 219
        },
        "id": "rUCnB3MwJmbw",
        "outputId": "4ddc5397-3240-4839-fc5f-8b05fccba949"
      },
      "execution_count": null,
      "outputs": [
        {
          "output_type": "execute_result",
          "data": {
            "text/plain": [
              "<pyspark.sql.session.SparkSession at 0x7f6c0baf37c0>"
            ],
            "text/html": [
              "\n",
              "            <div>\n",
              "                <p><b>SparkSession - in-memory</b></p>\n",
              "                \n",
              "        <div>\n",
              "            <p><b>SparkContext</b></p>\n",
              "\n",
              "            <p><a href=\"http://7bc9806aca62:4040\">Spark UI</a></p>\n",
              "\n",
              "            <dl>\n",
              "              <dt>Version</dt>\n",
              "                <dd><code>v3.3.1</code></dd>\n",
              "              <dt>Master</dt>\n",
              "                <dd><code>local[*]</code></dd>\n",
              "              <dt>AppName</dt>\n",
              "                <dd><code>Pyspark ProjetoBD</code></dd>\n",
              "            </dl>\n",
              "        </div>\n",
              "        \n",
              "            </div>\n",
              "        "
            ]
          },
          "metadata": {},
          "execution_count": 2
        }
      ]
    },
    {
      "cell_type": "markdown",
      "source": [
        "##Carregamento dos dados do DataSete criação do DataFrame:\n",
        "Link para o DataSet: https://archive.ics.uci.edu/ml/datasets/Absenteeism+at+work"
      ],
      "metadata": {
        "id": "a9icJbVvkYOl"
      }
    },
    {
      "cell_type": "code",
      "source": [
        "!curl https://raw.githubusercontent.com/GuilhermeVCCdaSilva/ProjetoBD/main/Absenteeism_at_work.csv >> Absenteeism_at_work.csv\n",
        "df = spark.read.csv('Absenteeism_at_work.csv',header=True,sep=\";\")"
      ],
      "metadata": {
        "colab": {
          "base_uri": "https://localhost:8080/"
        },
        "id": "lsM9rQDKP06H",
        "outputId": "3f0a852a-b30f-4743-dfc1-86f63821afa1"
      },
      "execution_count": null,
      "outputs": [
        {
          "output_type": "stream",
          "name": "stdout",
          "text": [
            "  % Total    % Received % Xferd  Average Speed   Time    Time     Time  Current\n",
            "                                 Dload  Upload   Total   Spent    Left  Speed\n",
            "100 45232  100 45232    0     0   181k      0 --:--:-- --:--:-- --:--:--  182k\n"
          ]
        }
      ]
    },
    {
      "cell_type": "markdown",
      "source": [
        "##\"Data Visualization\" e Análise\n",
        "\n",
        "- Primeiramente vamos tamanho e o tipo de dados do nosso Dataset.\n",
        "\n",
        "- Este passo era mais simples ser executado através do método shape, mas como o não é suportado pelo PySpark DataFrame, no entanto, podemos contar o número de linhas e colunas usando o método count() e verificar o esquema (colunas e tipos de dados) do DataFrame usando o método printSchema()."
      ],
      "metadata": {
        "id": "ijyIKIbP2uvr"
      }
    },
    {
      "cell_type": "code",
      "source": [
        "print(\"Numero de Linhas:\", df.count())\n",
        "print(\"Numero de Colunas:\", len(df.columns))\n",
        "print(\"Esquema do DataFrame: \")\n",
        "df.printSchema()"
      ],
      "metadata": {
        "colab": {
          "base_uri": "https://localhost:8080/"
        },
        "id": "O2TpxCTA28pK",
        "outputId": "0f0573e7-98bb-45c1-9886-75a9484bf96e"
      },
      "execution_count": null,
      "outputs": [
        {
          "output_type": "stream",
          "name": "stdout",
          "text": [
            "Numero de Linhas: 740\n",
            "Numero de Colunas: 21\n",
            "Esquema do DataFrame: \n",
            "root\n",
            " |-- ID: string (nullable = true)\n",
            " |-- Reason for absence: string (nullable = true)\n",
            " |-- Month of absence: string (nullable = true)\n",
            " |-- Day of the week: string (nullable = true)\n",
            " |-- Seasons: string (nullable = true)\n",
            " |-- Transportation expense: string (nullable = true)\n",
            " |-- Distance from Residence to Work: string (nullable = true)\n",
            " |-- Service time: string (nullable = true)\n",
            " |-- Age: string (nullable = true)\n",
            " |-- Work load Average/day : string (nullable = true)\n",
            " |-- Hit target: string (nullable = true)\n",
            " |-- Disciplinary failure: string (nullable = true)\n",
            " |-- Education: string (nullable = true)\n",
            " |-- Son: string (nullable = true)\n",
            " |-- Social drinker: string (nullable = true)\n",
            " |-- Social smoker: string (nullable = true)\n",
            " |-- Pet: string (nullable = true)\n",
            " |-- Weight: string (nullable = true)\n",
            " |-- Height: string (nullable = true)\n",
            " |-- Body mass index: string (nullable = true)\n",
            " |-- Absenteeism time in hours: string (nullable = true)\n",
            "\n"
          ]
        }
      ]
    },
    {
      "cell_type": "markdown",
      "source": [
        "Resumindo: \n",
        "- O DataFrame tem 8891 linhas e 21 colunas. O esquema do DataFrame mostra que todas as colunas são do tipo string e são nullable (podem conter valores nulos). Algumas das colunas incluem \"ID\", \"Reason for absence\", \"Month of absence\", \"Age\" e \"Absenteeism time in hours\"."
      ],
      "metadata": {
        "id": "MxuKGwjWTyZb"
      }
    },
    {
      "cell_type": "code",
      "source": [
        "df.show(10)"
      ],
      "metadata": {
        "colab": {
          "base_uri": "https://localhost:8080/"
        },
        "id": "MHhZB0e8QZJq",
        "outputId": "934012be-8b61-4973-c4fe-f2cdbff65124"
      },
      "execution_count": null,
      "outputs": [
        {
          "output_type": "stream",
          "name": "stdout",
          "text": [
            "+---+------------------+----------------+---------------+-------+----------------------+-------------------------------+------------+---+----------------------+----------+--------------------+---------+---+--------------+-------------+---+------+------+---------------+-------------------------+\n",
            "| ID|Reason for absence|Month of absence|Day of the week|Seasons|Transportation expense|Distance from Residence to Work|Service time|Age|Work load Average/day |Hit target|Disciplinary failure|Education|Son|Social drinker|Social smoker|Pet|Weight|Height|Body mass index|Absenteeism time in hours|\n",
            "+---+------------------+----------------+---------------+-------+----------------------+-------------------------------+------------+---+----------------------+----------+--------------------+---------+---+--------------+-------------+---+------+------+---------------+-------------------------+\n",
            "| 11|                26|               7|              3|      1|                   289|                             36|          13| 33|               239.554|        97|                   0|        1|  2|             1|            0|  1|    90|   172|             30|                        4|\n",
            "| 36|                 0|               7|              3|      1|                   118|                             13|          18| 50|               239.554|        97|                   1|        1|  1|             1|            0|  0|    98|   178|             31|                        0|\n",
            "|  3|                23|               7|              4|      1|                   179|                             51|          18| 38|               239.554|        97|                   0|        1|  0|             1|            0|  0|    89|   170|             31|                        2|\n",
            "|  7|                 7|               7|              5|      1|                   279|                              5|          14| 39|               239.554|        97|                   0|        1|  2|             1|            1|  0|    68|   168|             24|                        4|\n",
            "| 11|                23|               7|              5|      1|                   289|                             36|          13| 33|               239.554|        97|                   0|        1|  2|             1|            0|  1|    90|   172|             30|                        2|\n",
            "|  3|                23|               7|              6|      1|                   179|                             51|          18| 38|               239.554|        97|                   0|        1|  0|             1|            0|  0|    89|   170|             31|                        2|\n",
            "| 10|                22|               7|              6|      1|                   361|                             52|           3| 28|               239.554|        97|                   0|        1|  1|             1|            0|  4|    80|   172|             27|                        8|\n",
            "| 20|                23|               7|              6|      1|                   260|                             50|          11| 36|               239.554|        97|                   0|        1|  4|             1|            0|  0|    65|   168|             23|                        4|\n",
            "| 14|                19|               7|              2|      1|                   155|                             12|          14| 34|               239.554|        97|                   0|        1|  2|             1|            0|  0|    95|   196|             25|                       40|\n",
            "|  1|                22|               7|              2|      1|                   235|                             11|          14| 37|               239.554|        97|                   0|        3|  1|             0|            0|  1|    88|   172|             29|                        8|\n",
            "+---+------------------+----------------+---------------+-------+----------------------+-------------------------------+------------+---+----------------------+----------+--------------------+---------+---+--------------+-------------+---+------+------+---------------+-------------------------+\n",
            "only showing top 10 rows\n",
            "\n"
          ]
        }
      ]
    },
    {
      "cell_type": "markdown",
      "source": [
        "##Descrição das variáveis do DataFrame:\n",
        "\n",
        "- ID: Identificador único para cada registo.\n",
        "- Razão para a ausência: Razão para a ausência do funcionário no trabalho.\n",
        "- Mês da ausência: O mês em que o funcionário estava ausente.\n",
        "- Dia da semana: O dia da semana em que o funcionário estava ausente.\n",
        "- Estações: A estação do ano em que o funcionário estava ausente.\n",
        "- Despesas de transporte: As despesas de transporte incorridas pelo funcionário ao viajar para o trabalho.\n",
        "- Distância da residência para o trabalho: A distância entre a residência do funcionário e o local de trabalho.\n",
        "- Tempo de serviço: O período de tempo em que o funcionário está a trabalhar na empresa.\n",
        "- Idade: A idade do funcionário.\n",
        "- Carga de trabalho média/dia: A carga de trabalho média do funcionário por dia.\n",
        "- Alvo atingido: Se o funcionário atingiu ou não o alvo\n",
        "- Falha disciplinar: Se o funcionário cometeu alguma falha disciplinar ou não.\n",
        "- Educação: O nível de educação do funcionário.\n",
        "- Filhos: O número de filhos que o funcionário tem.\n",
        "- Bebedor social: Se o funcionário bebe socialmente ou não.\n",
        "- Fumador social: Se o funcionário fuma socialmente ou não.\n",
        "- Animal de estimação: Se o funcionário tem algum animal de estimação ou não.\n",
        "- Peso: O peso do funcionário.\n",
        "- Altura: A altura do funcionário.\n",
        "- Índice de massa corporal: O índice de massa corporal do funcionário.\n",
        "- Tempo de ausência em horas: O número de horas que o funcionário ficou ausente."
      ],
      "metadata": {
        "id": "YLZpeS-tS9tx"
      }
    },
    {
      "cell_type": "code",
      "source": [
        "df = df.drop(\"id\")"
      ],
      "metadata": {
        "id": "yW8q41acuUw1"
      },
      "execution_count": null,
      "outputs": []
    },
    {
      "cell_type": "markdown",
      "source": [
        "- Removeu-se a coluna ID pois não é relevante para os algoritmos de aprendizado de máquina."
      ],
      "metadata": {
        "id": "AR3uIAGcT9Oh"
      }
    },
    {
      "cell_type": "code",
      "source": [
        "df.show(10)"
      ],
      "metadata": {
        "colab": {
          "base_uri": "https://localhost:8080/"
        },
        "id": "3AaN9uQX381F",
        "outputId": "1bb4bb35-0e48-4574-89d8-a6ea8628e874"
      },
      "execution_count": null,
      "outputs": [
        {
          "output_type": "stream",
          "name": "stdout",
          "text": [
            "+------------------+----------------+---------------+-------+----------------------+-------------------------------+------------+---+----------------------+----------+--------------------+---------+---+--------------+-------------+---+------+------+---------------+-------------------------+\n",
            "|Reason for absence|Month of absence|Day of the week|Seasons|Transportation expense|Distance from Residence to Work|Service time|Age|Work load Average/day |Hit target|Disciplinary failure|Education|Son|Social drinker|Social smoker|Pet|Weight|Height|Body mass index|Absenteeism time in hours|\n",
            "+------------------+----------------+---------------+-------+----------------------+-------------------------------+------------+---+----------------------+----------+--------------------+---------+---+--------------+-------------+---+------+------+---------------+-------------------------+\n",
            "|                26|               7|              3|      1|                   289|                             36|          13| 33|               239.554|        97|                   0|        1|  2|             1|            0|  1|    90|   172|             30|                        4|\n",
            "|                 0|               7|              3|      1|                   118|                             13|          18| 50|               239.554|        97|                   1|        1|  1|             1|            0|  0|    98|   178|             31|                        0|\n",
            "|                23|               7|              4|      1|                   179|                             51|          18| 38|               239.554|        97|                   0|        1|  0|             1|            0|  0|    89|   170|             31|                        2|\n",
            "|                 7|               7|              5|      1|                   279|                              5|          14| 39|               239.554|        97|                   0|        1|  2|             1|            1|  0|    68|   168|             24|                        4|\n",
            "|                23|               7|              5|      1|                   289|                             36|          13| 33|               239.554|        97|                   0|        1|  2|             1|            0|  1|    90|   172|             30|                        2|\n",
            "|                23|               7|              6|      1|                   179|                             51|          18| 38|               239.554|        97|                   0|        1|  0|             1|            0|  0|    89|   170|             31|                        2|\n",
            "|                22|               7|              6|      1|                   361|                             52|           3| 28|               239.554|        97|                   0|        1|  1|             1|            0|  4|    80|   172|             27|                        8|\n",
            "|                23|               7|              6|      1|                   260|                             50|          11| 36|               239.554|        97|                   0|        1|  4|             1|            0|  0|    65|   168|             23|                        4|\n",
            "|                19|               7|              2|      1|                   155|                             12|          14| 34|               239.554|        97|                   0|        1|  2|             1|            0|  0|    95|   196|             25|                       40|\n",
            "|                22|               7|              2|      1|                   235|                             11|          14| 37|               239.554|        97|                   0|        3|  1|             0|            0|  1|    88|   172|             29|                        8|\n",
            "+------------------+----------------+---------------+-------+----------------------+-------------------------------+------------+---+----------------------+----------+--------------------+---------+---+--------------+-------------+---+------+------+---------------+-------------------------+\n",
            "only showing top 10 rows\n",
            "\n"
          ]
        }
      ]
    },
    {
      "cell_type": "markdown",
      "source": [
        "##Perguntas ao DataSet"
      ],
      "metadata": {
        "id": "dJChPFDZfEM5"
      }
    },
    {
      "cell_type": "markdown",
      "source": [
        "###1- Qual a dispersão dos pesos registados?"
      ],
      "metadata": {
        "id": "DEuem_HqHYHk"
      }
    },
    {
      "cell_type": "code",
      "source": [
        "from pyspark.sql.functions import stddev\n",
        "\n",
        "df.groupBy().agg(stddev(\"Height\")).show()\n",
        "\n"
      ],
      "metadata": {
        "id": "epT6frXZfNad",
        "outputId": "f3316975-9faa-48d0-8edc-8e69e08998b3",
        "colab": {
          "base_uri": "https://localhost:8080/"
        }
      },
      "execution_count": null,
      "outputs": [
        {
          "output_type": "stream",
          "name": "stdout",
          "text": [
            "+-------------------+\n",
            "|stddev_samp(Height)|\n",
            "+-------------------+\n",
            "|  6.034994530267662|\n",
            "+-------------------+\n",
            "\n"
          ]
        }
      ]
    },
    {
      "cell_type": "markdown",
      "source": [
        "-  Neste caso, podemos ver que os valores da coluna \"Height\" variam cerca de 6.03 unidades em relação à média."
      ],
      "metadata": {
        "id": "N2hRaF6iKwAW"
      }
    },
    {
      "cell_type": "markdown",
      "source": [
        "###2- Qual é a maior Distância do trabalho registada?"
      ],
      "metadata": {
        "id": "OjU4KdSZIVBR"
      }
    },
    {
      "cell_type": "code",
      "source": [
        "df.createOrReplaceTempView(\"data\")\n",
        "spark.sql(\"SELECT MAX(`Distance from Residence to Work`) FROM data\").show()"
      ],
      "metadata": {
        "id": "L5R4JH00IiFW",
        "outputId": "28c0b0e8-3463-4b65-be81-652e2fcf4dab",
        "colab": {
          "base_uri": "https://localhost:8080/"
        }
      },
      "execution_count": null,
      "outputs": [
        {
          "output_type": "stream",
          "name": "stdout",
          "text": [
            "+------------------------------------+\n",
            "|max(Distance from Residence to Work)|\n",
            "+------------------------------------+\n",
            "|                                  52|\n",
            "+------------------------------------+\n",
            "\n"
          ]
        }
      ]
    },
    {
      "cell_type": "markdown",
      "source": [
        "- A maior distância de residência para trabalho registada é de 52."
      ],
      "metadata": {
        "id": "9b_KAShPK8Na"
      }
    },
    {
      "cell_type": "markdown",
      "source": [
        "###3- Qual é a soma da coluna \"Absenteeism time in hours\" para cada valor único na coluna \"Education\"?"
      ],
      "metadata": {
        "id": "m3cpbB0sIilB"
      }
    },
    {
      "cell_type": "code",
      "source": [
        "from pyspark.sql.functions import sum\n",
        "\n",
        "\n",
        "result = df.groupBy(\"Education\").agg(sum(\"Absenteeism time in hours\").alias(\"sum_absenteeism\"))\n",
        "result = result.orderBy(\"Education\")\n",
        "result.show()"
      ],
      "metadata": {
        "id": "zef_iGNDIpLG",
        "outputId": "d9b68d9e-c503-49b2-a808-20b644002bb3",
        "colab": {
          "base_uri": "https://localhost:8080/"
        }
      },
      "execution_count": null,
      "outputs": [
        {
          "output_type": "stream",
          "name": "stdout",
          "text": [
            "+---------+---------------+\n",
            "|Education|sum_absenteeism|\n",
            "+---------+---------------+\n",
            "|        1|         4393.0|\n",
            "|        2|          294.0|\n",
            "|        3|          416.0|\n",
            "|        4|           21.0|\n",
            "+---------+---------------+\n",
            "\n"
          ]
        }
      ]
    },
    {
      "cell_type": "markdown",
      "source": [
        "- Podemos ver que a educação de nível 3 tem uma soma de 416 horas de absenteísmo, a educação de nível 1 tem uma soma de 4393 horas de absenteísmo, a educação de nível 4 tem uma soma de 21 horas de absenteísmo e a educação de nível 2 tem uma soma de 294 horas de absenteísmo.\n",
        "- Ou seja, o Absenteeism time in hours praticamente diretamente relacionado com o nivel de Educação, as pessoas com educação de nivel 1 ficam muito mais ausentes que os de nivel 4"
      ],
      "metadata": {
        "id": "2XQZHAExMdDX"
      }
    },
    {
      "cell_type": "markdown",
      "source": [
        "##Pré tratamento e Análise exploratória de dados"
      ],
      "metadata": {
        "id": "l8L8Sgi2UAhf"
      }
    },
    {
      "cell_type": "markdown",
      "source": [
        "###Vamos então verificar a existencia de valores ausentes em cada coluna."
      ],
      "metadata": {
        "id": "UdoQ-eXJVkXy"
      }
    },
    {
      "cell_type": "code",
      "source": [
        "# criar uma lista para armazenar o número de valores ausentes em cada coluna.\n",
        "missing_values = []\n",
        "\n",
        "# iterar através das colunas no conjunto de dados.\n",
        "for col in df.columns:\n",
        "    missing_values.append((col, df.filter(df[col].isNull()).count()))\n",
        "\n",
        "# print os valores inexistentes\n",
        "for col, val in missing_values:\n",
        "    if val == 0:\n",
        "        print(\"{} : Nunhum missing values encontrado\".format(col))\n",
        "    else:\n",
        "        print(\"{} : {} missing values\".format(col, val))"
      ],
      "metadata": {
        "colab": {
          "base_uri": "https://localhost:8080/"
        },
        "id": "oIUHcnylVkkT",
        "outputId": "dfec1482-59b4-4cd9-946e-04e8472ce65e"
      },
      "execution_count": null,
      "outputs": [
        {
          "output_type": "stream",
          "name": "stdout",
          "text": [
            "Reason for absence : Nunhum missing values encontrado\n",
            "Month of absence : Nunhum missing values encontrado\n",
            "Day of the week : Nunhum missing values encontrado\n",
            "Seasons : Nunhum missing values encontrado\n",
            "Transportation expense : Nunhum missing values encontrado\n",
            "Distance from Residence to Work : Nunhum missing values encontrado\n",
            "Service time : Nunhum missing values encontrado\n",
            "Age : Nunhum missing values encontrado\n",
            "Work load Average/day  : Nunhum missing values encontrado\n",
            "Hit target : Nunhum missing values encontrado\n",
            "Disciplinary failure : Nunhum missing values encontrado\n",
            "Education : Nunhum missing values encontrado\n",
            "Son : Nunhum missing values encontrado\n",
            "Social drinker : Nunhum missing values encontrado\n",
            "Social smoker : Nunhum missing values encontrado\n",
            "Pet : Nunhum missing values encontrado\n",
            "Weight : Nunhum missing values encontrado\n",
            "Height : Nunhum missing values encontrado\n",
            "Body mass index : Nunhum missing values encontrado\n",
            "Absenteeism time in hours : Nunhum missing values encontrado\n"
          ]
        }
      ]
    },
    {
      "cell_type": "markdown",
      "source": [
        "- Podemos então concluir que não existem missing values"
      ],
      "metadata": {
        "id": "ry9qCQSYIBOk"
      }
    },
    {
      "cell_type": "markdown",
      "source": [
        "### Transformação dos dados"
      ],
      "metadata": {
        "id": "xzpLvDILH18K"
      }
    },
    {
      "cell_type": "markdown",
      "source": [
        "#### Verifiquar os tipos de dados das colunas."
      ],
      "metadata": {
        "id": "7ywFa9_dVuab"
      }
    },
    {
      "cell_type": "code",
      "source": [
        "df.dtypes"
      ],
      "metadata": {
        "colab": {
          "base_uri": "https://localhost:8080/"
        },
        "id": "D-44Emf8Vumq",
        "outputId": "e23182a8-0e12-400e-9261-dec87696c1ea"
      },
      "execution_count": null,
      "outputs": [
        {
          "output_type": "execute_result",
          "data": {
            "text/plain": [
              "[('Reason for absence', 'string'),\n",
              " ('Month of absence', 'string'),\n",
              " ('Day of the week', 'string'),\n",
              " ('Seasons', 'string'),\n",
              " ('Transportation expense', 'string'),\n",
              " ('Distance from Residence to Work', 'string'),\n",
              " ('Service time', 'string'),\n",
              " ('Age', 'string'),\n",
              " ('Work load Average/day ', 'string'),\n",
              " ('Hit target', 'string'),\n",
              " ('Disciplinary failure', 'string'),\n",
              " ('Education', 'string'),\n",
              " ('Son', 'string'),\n",
              " ('Social drinker', 'string'),\n",
              " ('Social smoker', 'string'),\n",
              " ('Pet', 'string'),\n",
              " ('Weight', 'string'),\n",
              " ('Height', 'string'),\n",
              " ('Body mass index', 'string'),\n",
              " ('Absenteeism time in hours', 'string')]"
            ]
          },
          "metadata": {},
          "execution_count": 12
        }
      ]
    },
    {
      "cell_type": "markdown",
      "source": [
        "\n",
        "- É possível observar que todas as colunas são do tipo \"string\", o que pode precisar ser convertido para outro tipo de dado para melhorar a análise e modelagem de Machine Learning."
      ],
      "metadata": {
        "id": "0Mxc948RrWH9"
      }
    },
    {
      "cell_type": "markdown",
      "source": [
        "#### Vamos então converter tipo de dados string para double para melhorar a análise e modelagem de Machine Learning."
      ],
      "metadata": {
        "id": "vCkbwRXrIMW3"
      }
    },
    {
      "cell_type": "code",
      "source": [
        "from pyspark.sql.functions import col\n",
        "for column in df.columns:\n",
        "    df = df.withColumn(column, col(column).cast(\"double\"))"
      ],
      "metadata": {
        "id": "cdv6VTiErKoD"
      },
      "execution_count": null,
      "outputs": []
    },
    {
      "cell_type": "code",
      "source": [
        "df.dtypes"
      ],
      "metadata": {
        "colab": {
          "base_uri": "https://localhost:8080/"
        },
        "id": "v0zfHam_re5F",
        "outputId": "a9e3e158-348f-4205-ac5c-2927d525d8b5"
      },
      "execution_count": null,
      "outputs": [
        {
          "output_type": "execute_result",
          "data": {
            "text/plain": [
              "[('Reason for absence', 'double'),\n",
              " ('Month of absence', 'double'),\n",
              " ('Day of the week', 'double'),\n",
              " ('Seasons', 'double'),\n",
              " ('Transportation expense', 'double'),\n",
              " ('Distance from Residence to Work', 'double'),\n",
              " ('Service time', 'double'),\n",
              " ('Age', 'double'),\n",
              " ('Work load Average/day ', 'double'),\n",
              " ('Hit target', 'double'),\n",
              " ('Disciplinary failure', 'double'),\n",
              " ('Education', 'double'),\n",
              " ('Son', 'double'),\n",
              " ('Social drinker', 'double'),\n",
              " ('Social smoker', 'double'),\n",
              " ('Pet', 'double'),\n",
              " ('Weight', 'double'),\n",
              " ('Height', 'double'),\n",
              " ('Body mass index', 'double'),\n",
              " ('Absenteeism time in hours', 'double')]"
            ]
          },
          "metadata": {},
          "execution_count": 14
        }
      ]
    },
    {
      "cell_type": "markdown",
      "source": [
        "- Agora os dados podem ser manipulados e analisados com mais facilidade, pois o tipo \"double\" permite operações matemáticas, ao contrário do tipo \"string\". E também estão corretamente configurados para que os algoritmos de Machine Learning funcionem corretamente."
      ],
      "metadata": {
        "id": "FiM9vJkCUW8i"
      }
    },
    {
      "cell_type": "markdown",
      "source": [
        "### Mapear os valores inteiros da coluna \"Reason for absence\" para descrições de texto correspondentes."
      ],
      "metadata": {
        "id": "rytPD1XCIUOm"
      }
    },
    {
      "cell_type": "code",
      "source": [
        "from pyspark.sql.functions import when\n",
        "from pyspark.sql.functions import array\n",
        "from pyspark.sql.functions import udf\n",
        "# Criar o dicionario mapping \n",
        "mapping_dict = {\n",
        "    0: \"CID - Patient follow-up\",\n",
        "    1: \"CID - Medical consultation\",\n",
        "    2: \"CID - Blood donation\",\n",
        "    3: \"CID - Laboratory examination\",\n",
        "    4: \"CID - Unjustified absence\",\n",
        "    5: \"CID - Physiotherapy\",\n",
        "    6: \"CID - Dental consultation\",\n",
        "    7: \"Certain infectious and parasitic diseases\",\n",
        "    8: \"Neoplasms\",\n",
        "    9: \"Diseases of the blood and blood-forming organs and certain disorders involving the immune mechanism\",\n",
        "    10: \"Endocrine, nutritional and metabolic diseases\",\n",
        "    11: \"Mental and behavioural disorders\",\n",
        "    12: \"Diseases of the nervous system\",\n",
        "    13: \"Diseases of the eye and adnexa\",\n",
        "    14: \"Diseases of the ear and mastoid process\",\n",
        "    15: \"Diseases of the circulatory system\",\n",
        "    16: \"Diseases of the respiratory system\",\n",
        "    17: \"Diseases of the digestive system\",\n",
        "    18: \"Diseases of the skin and subcutaneous tissue\",\n",
        "    19: \"Diseases of the musculoskeletal system and connective tissue\",\n",
        "    20: \"Diseases of the genitourinary system\",\n",
        "    21: \"Pregnancy, childbirth and the puerperium\",\n",
        "    22: \"Certain conditions originating in the perinatal period\",\n",
        "    23: \"Congenital malformations, deformations and chromosomal abnormalities\",\n",
        "    24: \"Symptoms, signs and abnormal clinical and laboratory findings, not elsewhere classified\",\n",
        "    25: \"Injury, poisoning and certain other consequences of external causes\",\n",
        "    26: \"External causes of morbidity and mortality\",\n",
        "    27: \"Factors influencing health status and contact with health services\"\n",
        "}\n",
        "\n",
        "# Criar a função definida pelo usuário.\n",
        "map_reason = udf(lambda x: mapping_dict.get(x))\n",
        "\n",
        "# Aplicar a função definida pelo usuário ao dataframe\n",
        "df = df.withColumn(\"Reason for absence\", map_reason(col(\"Reason for absence\")))"
      ],
      "metadata": {
        "id": "RwsSijZ0xnBh"
      },
      "execution_count": null,
      "outputs": []
    },
    {
      "cell_type": "markdown",
      "source": [
        "#### Resultado:"
      ],
      "metadata": {
        "id": "lu9wR4j6Uyp4"
      }
    },
    {
      "cell_type": "code",
      "source": [
        "# Seleciona a coluna específica \"Reason for absence\" e mostra o conteúdo da mesma.\n",
        "df.select(\"Reason for absence\").show()"
      ],
      "metadata": {
        "colab": {
          "base_uri": "https://localhost:8080/"
        },
        "id": "n-cRUJQUtISa",
        "outputId": "5af59790-32bf-4951-c821-ffff3d80ccd1"
      },
      "execution_count": null,
      "outputs": [
        {
          "output_type": "stream",
          "name": "stdout",
          "text": [
            "+--------------------+\n",
            "|  Reason for absence|\n",
            "+--------------------+\n",
            "|External causes o...|\n",
            "|CID - Patient fol...|\n",
            "|Congenital malfor...|\n",
            "|Certain infectiou...|\n",
            "|Congenital malfor...|\n",
            "|Congenital malfor...|\n",
            "|Certain condition...|\n",
            "|Congenital malfor...|\n",
            "|Diseases of the m...|\n",
            "|Certain condition...|\n",
            "|CID - Medical con...|\n",
            "|CID - Medical con...|\n",
            "|Mental and behavi...|\n",
            "|Mental and behavi...|\n",
            "|Congenital malfor...|\n",
            "|Diseases of the e...|\n",
            "|Congenital malfor...|\n",
            "|Pregnancy, childb...|\n",
            "|Mental and behavi...|\n",
            "|Congenital malfor...|\n",
            "+--------------------+\n",
            "only showing top 20 rows\n",
            "\n"
          ]
        }
      ]
    },
    {
      "cell_type": "markdown",
      "source": [
        "- Tendo então a coluna \"Reason for absence\" mapeada, podemos então facilitar a intrepertação dos dados em graficos e algoritmos futuros"
      ],
      "metadata": {
        "id": "enxG8UdGI-MI"
      }
    },
    {
      "cell_type": "code",
      "source": [
        "df.show(10)"
      ],
      "metadata": {
        "colab": {
          "base_uri": "https://localhost:8080/"
        },
        "id": "gUZKEvuttQ3Z",
        "outputId": "8b95347c-850d-4684-984d-7d91d9be101f"
      },
      "execution_count": null,
      "outputs": [
        {
          "output_type": "stream",
          "name": "stdout",
          "text": [
            "+--------------------+----------------+---------------+-------+----------------------+-------------------------------+------------+----+----------------------+----------+--------------------+---------+---+--------------+-------------+---+------+------+---------------+-------------------------+\n",
            "|  Reason for absence|Month of absence|Day of the week|Seasons|Transportation expense|Distance from Residence to Work|Service time| Age|Work load Average/day |Hit target|Disciplinary failure|Education|Son|Social drinker|Social smoker|Pet|Weight|Height|Body mass index|Absenteeism time in hours|\n",
            "+--------------------+----------------+---------------+-------+----------------------+-------------------------------+------------+----+----------------------+----------+--------------------+---------+---+--------------+-------------+---+------+------+---------------+-------------------------+\n",
            "|External causes o...|             7.0|            3.0|    1.0|                 289.0|                           36.0|        13.0|33.0|               239.554|      97.0|                 0.0|      1.0|2.0|           1.0|          0.0|1.0|  90.0| 172.0|           30.0|                      4.0|\n",
            "|CID - Patient fol...|             7.0|            3.0|    1.0|                 118.0|                           13.0|        18.0|50.0|               239.554|      97.0|                 1.0|      1.0|1.0|           1.0|          0.0|0.0|  98.0| 178.0|           31.0|                      0.0|\n",
            "|Congenital malfor...|             7.0|            4.0|    1.0|                 179.0|                           51.0|        18.0|38.0|               239.554|      97.0|                 0.0|      1.0|0.0|           1.0|          0.0|0.0|  89.0| 170.0|           31.0|                      2.0|\n",
            "|Certain infectiou...|             7.0|            5.0|    1.0|                 279.0|                            5.0|        14.0|39.0|               239.554|      97.0|                 0.0|      1.0|2.0|           1.0|          1.0|0.0|  68.0| 168.0|           24.0|                      4.0|\n",
            "|Congenital malfor...|             7.0|            5.0|    1.0|                 289.0|                           36.0|        13.0|33.0|               239.554|      97.0|                 0.0|      1.0|2.0|           1.0|          0.0|1.0|  90.0| 172.0|           30.0|                      2.0|\n",
            "|Congenital malfor...|             7.0|            6.0|    1.0|                 179.0|                           51.0|        18.0|38.0|               239.554|      97.0|                 0.0|      1.0|0.0|           1.0|          0.0|0.0|  89.0| 170.0|           31.0|                      2.0|\n",
            "|Certain condition...|             7.0|            6.0|    1.0|                 361.0|                           52.0|         3.0|28.0|               239.554|      97.0|                 0.0|      1.0|1.0|           1.0|          0.0|4.0|  80.0| 172.0|           27.0|                      8.0|\n",
            "|Congenital malfor...|             7.0|            6.0|    1.0|                 260.0|                           50.0|        11.0|36.0|               239.554|      97.0|                 0.0|      1.0|4.0|           1.0|          0.0|0.0|  65.0| 168.0|           23.0|                      4.0|\n",
            "|Diseases of the m...|             7.0|            2.0|    1.0|                 155.0|                           12.0|        14.0|34.0|               239.554|      97.0|                 0.0|      1.0|2.0|           1.0|          0.0|0.0|  95.0| 196.0|           25.0|                     40.0|\n",
            "|Certain condition...|             7.0|            2.0|    1.0|                 235.0|                           11.0|        14.0|37.0|               239.554|      97.0|                 0.0|      3.0|1.0|           0.0|          0.0|1.0|  88.0| 172.0|           29.0|                      8.0|\n",
            "+--------------------+----------------+---------------+-------+----------------------+-------------------------------+------------+----+----------------------+----------+--------------------+---------+---+--------------+-------------+---+------+------+---------------+-------------------------+\n",
            "only showing top 10 rows\n",
            "\n"
          ]
        }
      ]
    },
    {
      "cell_type": "code",
      "source": [
        "df.dtypes"
      ],
      "metadata": {
        "colab": {
          "base_uri": "https://localhost:8080/"
        },
        "id": "CA8_kKg-0pQN",
        "outputId": "2677212d-7e8b-4b39-95d5-cf7d990aaf68"
      },
      "execution_count": null,
      "outputs": [
        {
          "output_type": "execute_result",
          "data": {
            "text/plain": [
              "[('Reason for absence', 'string'),\n",
              " ('Month of absence', 'double'),\n",
              " ('Day of the week', 'double'),\n",
              " ('Seasons', 'double'),\n",
              " ('Transportation expense', 'double'),\n",
              " ('Distance from Residence to Work', 'double'),\n",
              " ('Service time', 'double'),\n",
              " ('Age', 'double'),\n",
              " ('Work load Average/day ', 'double'),\n",
              " ('Hit target', 'double'),\n",
              " ('Disciplinary failure', 'double'),\n",
              " ('Education', 'double'),\n",
              " ('Son', 'double'),\n",
              " ('Social drinker', 'double'),\n",
              " ('Social smoker', 'double'),\n",
              " ('Pet', 'double'),\n",
              " ('Weight', 'double'),\n",
              " ('Height', 'double'),\n",
              " ('Body mass index', 'double'),\n",
              " ('Absenteeism time in hours', 'double')]"
            ]
          },
          "metadata": {},
          "execution_count": 18
        }
      ]
    },
    {
      "cell_type": "markdown",
      "source": [
        "### Verifica as estatísticas das colunas numéricas.\n"
      ],
      "metadata": {
        "id": "rbOnyOggvDJ6"
      }
    },
    {
      "cell_type": "code",
      "source": [
        "df.describe().toPandas()"
      ],
      "metadata": {
        "id": "a2pAvuw8u1kU",
        "outputId": "e6b39c3a-77be-4ca4-9e93-d4361c7a5a2e",
        "colab": {
          "base_uri": "https://localhost:8080/",
          "height": 438
        }
      },
      "execution_count": null,
      "outputs": [
        {
          "output_type": "execute_result",
          "data": {
            "text/plain": [
              "  summary                                 Reason for absence  \\\n",
              "0   count                                                628   \n",
              "1    mean                                               None   \n",
              "2  stddev                                               None   \n",
              "3     min                               CID - Blood donation   \n",
              "4     max  Symptoms, signs and abnormal clinical and labo...   \n",
              "\n",
              "     Month of absence     Day of the week             Seasons  \\\n",
              "0                 740                 740                 740   \n",
              "1   6.324324324324325  3.9148648648648647  2.5445945945945945   \n",
              "2  3.4362869319125897  1.4216747097562805   1.111831060157382   \n",
              "3                 0.0                 2.0                 1.0   \n",
              "4                12.0                 6.0                 4.0   \n",
              "\n",
              "  Transportation expense Distance from Residence to Work        Service time  \\\n",
              "0                    740                             740                 740   \n",
              "1     221.32972972972973               29.63108108108108  12.554054054054054   \n",
              "2      66.95222324531973              14.836788436739143   4.384873407621148   \n",
              "3                  118.0                             5.0                 1.0   \n",
              "4                  388.0                            52.0                29.0   \n",
              "\n",
              "                 Age Work load Average/day   ... Disciplinary failure  \\\n",
              "0                740                    740  ...                  740   \n",
              "1              36.45     271.49023513513544  ...  0.05405405405405406   \n",
              "2  6.478772457611868     39.058116188144055  ...  0.22627727323215058   \n",
              "3               27.0                205.917  ...                  0.0   \n",
              "4               58.0                378.884  ...                  1.0   \n",
              "\n",
              "            Education                 Son       Social drinker  \\\n",
              "0                 740                 740                  740   \n",
              "1  1.2918918918918918   1.018918918918919   0.5675675675675675   \n",
              "2  0.6732380415251598  1.0984890195302817  0.49574866720003496   \n",
              "3                 1.0                 0.0                  0.0   \n",
              "4                 4.0                 4.0                  1.0   \n",
              "\n",
              "         Social smoker                 Pet              Weight  \\\n",
              "0                  740                 740                 740   \n",
              "1  0.07297297297297298   0.745945945945946   79.03513513513514   \n",
              "2   0.2602680502800183  1.3182582913258336  12.883210507177214   \n",
              "3                  0.0                 0.0                56.0   \n",
              "4                  1.0                 8.0               108.0   \n",
              "\n",
              "               Height     Body mass index Absenteeism time in hours  \n",
              "0                 740                 740                       740  \n",
              "1  172.11486486486487  26.677027027027027         6.924324324324324  \n",
              "2   6.034994530267662   4.285452223167274        13.330998100978196  \n",
              "3               163.0                19.0                       0.0  \n",
              "4               196.0                38.0                     120.0  \n",
              "\n",
              "[5 rows x 21 columns]"
            ],
            "text/html": [
              "\n",
              "  <div id=\"df-4519a6ac-4edb-486f-bb74-53ecbd8e69e4\">\n",
              "    <div class=\"colab-df-container\">\n",
              "      <div>\n",
              "<style scoped>\n",
              "    .dataframe tbody tr th:only-of-type {\n",
              "        vertical-align: middle;\n",
              "    }\n",
              "\n",
              "    .dataframe tbody tr th {\n",
              "        vertical-align: top;\n",
              "    }\n",
              "\n",
              "    .dataframe thead th {\n",
              "        text-align: right;\n",
              "    }\n",
              "</style>\n",
              "<table border=\"1\" class=\"dataframe\">\n",
              "  <thead>\n",
              "    <tr style=\"text-align: right;\">\n",
              "      <th></th>\n",
              "      <th>summary</th>\n",
              "      <th>Reason for absence</th>\n",
              "      <th>Month of absence</th>\n",
              "      <th>Day of the week</th>\n",
              "      <th>Seasons</th>\n",
              "      <th>Transportation expense</th>\n",
              "      <th>Distance from Residence to Work</th>\n",
              "      <th>Service time</th>\n",
              "      <th>Age</th>\n",
              "      <th>Work load Average/day</th>\n",
              "      <th>...</th>\n",
              "      <th>Disciplinary failure</th>\n",
              "      <th>Education</th>\n",
              "      <th>Son</th>\n",
              "      <th>Social drinker</th>\n",
              "      <th>Social smoker</th>\n",
              "      <th>Pet</th>\n",
              "      <th>Weight</th>\n",
              "      <th>Height</th>\n",
              "      <th>Body mass index</th>\n",
              "      <th>Absenteeism time in hours</th>\n",
              "    </tr>\n",
              "  </thead>\n",
              "  <tbody>\n",
              "    <tr>\n",
              "      <th>0</th>\n",
              "      <td>count</td>\n",
              "      <td>628</td>\n",
              "      <td>740</td>\n",
              "      <td>740</td>\n",
              "      <td>740</td>\n",
              "      <td>740</td>\n",
              "      <td>740</td>\n",
              "      <td>740</td>\n",
              "      <td>740</td>\n",
              "      <td>740</td>\n",
              "      <td>...</td>\n",
              "      <td>740</td>\n",
              "      <td>740</td>\n",
              "      <td>740</td>\n",
              "      <td>740</td>\n",
              "      <td>740</td>\n",
              "      <td>740</td>\n",
              "      <td>740</td>\n",
              "      <td>740</td>\n",
              "      <td>740</td>\n",
              "      <td>740</td>\n",
              "    </tr>\n",
              "    <tr>\n",
              "      <th>1</th>\n",
              "      <td>mean</td>\n",
              "      <td>None</td>\n",
              "      <td>6.324324324324325</td>\n",
              "      <td>3.9148648648648647</td>\n",
              "      <td>2.5445945945945945</td>\n",
              "      <td>221.32972972972973</td>\n",
              "      <td>29.63108108108108</td>\n",
              "      <td>12.554054054054054</td>\n",
              "      <td>36.45</td>\n",
              "      <td>271.49023513513544</td>\n",
              "      <td>...</td>\n",
              "      <td>0.05405405405405406</td>\n",
              "      <td>1.2918918918918918</td>\n",
              "      <td>1.018918918918919</td>\n",
              "      <td>0.5675675675675675</td>\n",
              "      <td>0.07297297297297298</td>\n",
              "      <td>0.745945945945946</td>\n",
              "      <td>79.03513513513514</td>\n",
              "      <td>172.11486486486487</td>\n",
              "      <td>26.677027027027027</td>\n",
              "      <td>6.924324324324324</td>\n",
              "    </tr>\n",
              "    <tr>\n",
              "      <th>2</th>\n",
              "      <td>stddev</td>\n",
              "      <td>None</td>\n",
              "      <td>3.4362869319125897</td>\n",
              "      <td>1.4216747097562805</td>\n",
              "      <td>1.111831060157382</td>\n",
              "      <td>66.95222324531973</td>\n",
              "      <td>14.836788436739143</td>\n",
              "      <td>4.384873407621148</td>\n",
              "      <td>6.478772457611868</td>\n",
              "      <td>39.058116188144055</td>\n",
              "      <td>...</td>\n",
              "      <td>0.22627727323215058</td>\n",
              "      <td>0.6732380415251598</td>\n",
              "      <td>1.0984890195302817</td>\n",
              "      <td>0.49574866720003496</td>\n",
              "      <td>0.2602680502800183</td>\n",
              "      <td>1.3182582913258336</td>\n",
              "      <td>12.883210507177214</td>\n",
              "      <td>6.034994530267662</td>\n",
              "      <td>4.285452223167274</td>\n",
              "      <td>13.330998100978196</td>\n",
              "    </tr>\n",
              "    <tr>\n",
              "      <th>3</th>\n",
              "      <td>min</td>\n",
              "      <td>CID - Blood donation</td>\n",
              "      <td>0.0</td>\n",
              "      <td>2.0</td>\n",
              "      <td>1.0</td>\n",
              "      <td>118.0</td>\n",
              "      <td>5.0</td>\n",
              "      <td>1.0</td>\n",
              "      <td>27.0</td>\n",
              "      <td>205.917</td>\n",
              "      <td>...</td>\n",
              "      <td>0.0</td>\n",
              "      <td>1.0</td>\n",
              "      <td>0.0</td>\n",
              "      <td>0.0</td>\n",
              "      <td>0.0</td>\n",
              "      <td>0.0</td>\n",
              "      <td>56.0</td>\n",
              "      <td>163.0</td>\n",
              "      <td>19.0</td>\n",
              "      <td>0.0</td>\n",
              "    </tr>\n",
              "    <tr>\n",
              "      <th>4</th>\n",
              "      <td>max</td>\n",
              "      <td>Symptoms, signs and abnormal clinical and labo...</td>\n",
              "      <td>12.0</td>\n",
              "      <td>6.0</td>\n",
              "      <td>4.0</td>\n",
              "      <td>388.0</td>\n",
              "      <td>52.0</td>\n",
              "      <td>29.0</td>\n",
              "      <td>58.0</td>\n",
              "      <td>378.884</td>\n",
              "      <td>...</td>\n",
              "      <td>1.0</td>\n",
              "      <td>4.0</td>\n",
              "      <td>4.0</td>\n",
              "      <td>1.0</td>\n",
              "      <td>1.0</td>\n",
              "      <td>8.0</td>\n",
              "      <td>108.0</td>\n",
              "      <td>196.0</td>\n",
              "      <td>38.0</td>\n",
              "      <td>120.0</td>\n",
              "    </tr>\n",
              "  </tbody>\n",
              "</table>\n",
              "<p>5 rows × 21 columns</p>\n",
              "</div>\n",
              "      <button class=\"colab-df-convert\" onclick=\"convertToInteractive('df-4519a6ac-4edb-486f-bb74-53ecbd8e69e4')\"\n",
              "              title=\"Convert this dataframe to an interactive table.\"\n",
              "              style=\"display:none;\">\n",
              "        \n",
              "  <svg xmlns=\"http://www.w3.org/2000/svg\" height=\"24px\"viewBox=\"0 0 24 24\"\n",
              "       width=\"24px\">\n",
              "    <path d=\"M0 0h24v24H0V0z\" fill=\"none\"/>\n",
              "    <path d=\"M18.56 5.44l.94 2.06.94-2.06 2.06-.94-2.06-.94-.94-2.06-.94 2.06-2.06.94zm-11 1L8.5 8.5l.94-2.06 2.06-.94-2.06-.94L8.5 2.5l-.94 2.06-2.06.94zm10 10l.94 2.06.94-2.06 2.06-.94-2.06-.94-.94-2.06-.94 2.06-2.06.94z\"/><path d=\"M17.41 7.96l-1.37-1.37c-.4-.4-.92-.59-1.43-.59-.52 0-1.04.2-1.43.59L10.3 9.45l-7.72 7.72c-.78.78-.78 2.05 0 2.83L4 21.41c.39.39.9.59 1.41.59.51 0 1.02-.2 1.41-.59l7.78-7.78 2.81-2.81c.8-.78.8-2.07 0-2.86zM5.41 20L4 18.59l7.72-7.72 1.47 1.35L5.41 20z\"/>\n",
              "  </svg>\n",
              "      </button>\n",
              "      \n",
              "  <style>\n",
              "    .colab-df-container {\n",
              "      display:flex;\n",
              "      flex-wrap:wrap;\n",
              "      gap: 12px;\n",
              "    }\n",
              "\n",
              "    .colab-df-convert {\n",
              "      background-color: #E8F0FE;\n",
              "      border: none;\n",
              "      border-radius: 50%;\n",
              "      cursor: pointer;\n",
              "      display: none;\n",
              "      fill: #1967D2;\n",
              "      height: 32px;\n",
              "      padding: 0 0 0 0;\n",
              "      width: 32px;\n",
              "    }\n",
              "\n",
              "    .colab-df-convert:hover {\n",
              "      background-color: #E2EBFA;\n",
              "      box-shadow: 0px 1px 2px rgba(60, 64, 67, 0.3), 0px 1px 3px 1px rgba(60, 64, 67, 0.15);\n",
              "      fill: #174EA6;\n",
              "    }\n",
              "\n",
              "    [theme=dark] .colab-df-convert {\n",
              "      background-color: #3B4455;\n",
              "      fill: #D2E3FC;\n",
              "    }\n",
              "\n",
              "    [theme=dark] .colab-df-convert:hover {\n",
              "      background-color: #434B5C;\n",
              "      box-shadow: 0px 1px 3px 1px rgba(0, 0, 0, 0.15);\n",
              "      filter: drop-shadow(0px 1px 2px rgba(0, 0, 0, 0.3));\n",
              "      fill: #FFFFFF;\n",
              "    }\n",
              "  </style>\n",
              "\n",
              "      <script>\n",
              "        const buttonEl =\n",
              "          document.querySelector('#df-4519a6ac-4edb-486f-bb74-53ecbd8e69e4 button.colab-df-convert');\n",
              "        buttonEl.style.display =\n",
              "          google.colab.kernel.accessAllowed ? 'block' : 'none';\n",
              "\n",
              "        async function convertToInteractive(key) {\n",
              "          const element = document.querySelector('#df-4519a6ac-4edb-486f-bb74-53ecbd8e69e4');\n",
              "          const dataTable =\n",
              "            await google.colab.kernel.invokeFunction('convertToInteractive',\n",
              "                                                     [key], {});\n",
              "          if (!dataTable) return;\n",
              "\n",
              "          const docLinkHtml = 'Like what you see? Visit the ' +\n",
              "            '<a target=\"_blank\" href=https://colab.research.google.com/notebooks/data_table.ipynb>data table notebook</a>'\n",
              "            + ' to learn more about interactive tables.';\n",
              "          element.innerHTML = '';\n",
              "          dataTable['output_type'] = 'display_data';\n",
              "          await google.colab.output.renderOutput(dataTable, element);\n",
              "          const docLink = document.createElement('div');\n",
              "          docLink.innerHTML = docLinkHtml;\n",
              "          element.appendChild(docLink);\n",
              "        }\n",
              "      </script>\n",
              "    </div>\n",
              "  </div>\n",
              "  "
            ]
          },
          "metadata": {},
          "execution_count": 19
        }
      ]
    },
    {
      "cell_type": "markdown",
      "source": [
        "- É possível observar algumas informações gerais sobre cada coluna numérica no dataframe. Por exemplo, podemos ver o número total de entradas (count), a média, a desvio padrão, o valor mínimo e máximo. Estas informações podem ser úteis para entender melhor a distribuição dos dados e identificar possíveis outliers ou valores incomuns."
      ],
      "metadata": {
        "id": "3qfFDifyJFO_"
      }
    },
    {
      "cell_type": "markdown",
      "source": [
        "### Verifica a correlação entre as colunas."
      ],
      "metadata": {
        "id": "YRWORZmcZpaY"
      }
    },
    {
      "cell_type": "code",
      "source": [
        "corr = df.stat.corr(\"Month of absence\", \"Transportation expense\")\n",
        "print(corr)"
      ],
      "metadata": {
        "colab": {
          "base_uri": "https://localhost:8080/"
        },
        "id": "M5Dl2OSHZpmq",
        "outputId": "fdf36181-1822-4eca-f7f5-79a62f8f8ae1"
      },
      "execution_count": null,
      "outputs": [
        {
          "output_type": "stream",
          "name": "stdout",
          "text": [
            "0.13752456639267643\n"
          ]
        }
      ]
    },
    {
      "cell_type": "markdown",
      "source": [
        "- A correlação varia entre -1 e 1, sendo que valores próximos a -1 indicam uma correlação negativa forte, valores próximos a 1 indicam uma correlação positiva forte e valores próximos a 0 indicam ausência de correlação.\n",
        "- Neste caso como output ~ 0.1423, o que indica uma correlação fraca entre as duas colunas, não havendo realação entre os valores da coluna \"Month of absence\" e da coluna \"Transportation expense\"."
      ],
      "metadata": {
        "id": "XdpHsgG3JLvK"
      }
    },
    {
      "cell_type": "markdown",
      "source": [
        "### Verifica o número de valores únicos em cada coluna."
      ],
      "metadata": {
        "id": "CW3ZHgn5ZRmw"
      }
    },
    {
      "cell_type": "code",
      "source": [
        "for col in df.columns:\n",
        "    print(\"Unique values in column '{}':\".format(col), df.select(col).distinct().count())"
      ],
      "metadata": {
        "colab": {
          "base_uri": "https://localhost:8080/"
        },
        "id": "LyIVMUGvZRX2",
        "outputId": "b7ff1287-65ee-4935-9c67-5e7c8d50d70e"
      },
      "execution_count": null,
      "outputs": [
        {
          "output_type": "stream",
          "name": "stdout",
          "text": [
            "Unique values in column 'Reason for absence': 28\n",
            "Unique values in column 'Month of absence': 13\n",
            "Unique values in column 'Day of the week': 5\n",
            "Unique values in column 'Seasons': 4\n",
            "Unique values in column 'Transportation expense': 24\n",
            "Unique values in column 'Distance from Residence to Work': 25\n",
            "Unique values in column 'Service time': 18\n",
            "Unique values in column 'Age': 22\n",
            "Unique values in column 'Work load Average/day ': 38\n",
            "Unique values in column 'Hit target': 13\n",
            "Unique values in column 'Disciplinary failure': 2\n",
            "Unique values in column 'Education': 4\n",
            "Unique values in column 'Son': 5\n",
            "Unique values in column 'Social drinker': 2\n",
            "Unique values in column 'Social smoker': 2\n",
            "Unique values in column 'Pet': 6\n",
            "Unique values in column 'Weight': 26\n",
            "Unique values in column 'Height': 14\n",
            "Unique values in column 'Body mass index': 17\n",
            "Unique values in column 'Absenteeism time in hours': 19\n"
          ]
        }
      ]
    },
    {
      "cell_type": "markdown",
      "source": [
        "- Podemos então dizer que a coluna que tem mais valores unicos é a \"Reason for absence\" (28), enquanto que a coluna que tem menos é a \"Disciplinary failure\" (3).\n",
        "- Isto pode-nos ajudar a perceber a diversidade de valores em cada coluna e identificar se alguma coluna precisa ser tratada de forma diferente. \n"
      ],
      "metadata": {
        "id": "enTliRGeJUFR"
      }
    },
    {
      "cell_type": "markdown",
      "source": [
        "### Verifica a distribuição de cada coluna."
      ],
      "metadata": {
        "id": "RpIyc62DbzvG"
      }
    },
    {
      "cell_type": "code",
      "source": [
        "for col in df.columns:\n",
        "    df.select(col).groupBy(col).count().show()"
      ],
      "metadata": {
        "colab": {
          "base_uri": "https://localhost:8080/"
        },
        "id": "YrPtshpGbz0u",
        "outputId": "b9aea16d-6ad8-464f-bdaf-446d2a40b884"
      },
      "execution_count": null,
      "outputs": [
        {
          "output_type": "stream",
          "name": "stdout",
          "text": [
            "+--------------------+-----+\n",
            "|  Reason for absence|count|\n",
            "+--------------------+-----+\n",
            "|Congenital malfor...|  149|\n",
            "|Symptoms, signs a...|    3|\n",
            "|CID - Dental cons...|    8|\n",
            "|CID - Unjustified...|    2|\n",
            "|                null|  112|\n",
            "|Diseases of the e...|   55|\n",
            "|CID - Laboratory ...|    1|\n",
            "|CID - Blood donation|    1|\n",
            "|Injury, poisoning...|   31|\n",
            "|           Neoplasms|    6|\n",
            "|CID - Patient fol...|   43|\n",
            "|Pregnancy, childb...|    6|\n",
            "|Endocrine, nutrit...|   25|\n",
            "|Diseases of the b...|    4|\n",
            "|Diseases of the c...|    2|\n",
            "| CID - Physiotherapy|    3|\n",
            "|Diseases of the m...|   40|\n",
            "|Diseases of the e...|   19|\n",
            "|Certain condition...|   38|\n",
            "|Diseases of the s...|   21|\n",
            "+--------------------+-----+\n",
            "only showing top 20 rows\n",
            "\n",
            "+----------------+-----+\n",
            "|Month of absence|count|\n",
            "+----------------+-----+\n",
            "|             8.0|   54|\n",
            "|             0.0|    3|\n",
            "|             7.0|   67|\n",
            "|             1.0|   50|\n",
            "|             4.0|   53|\n",
            "|            11.0|   63|\n",
            "|             3.0|   87|\n",
            "|             2.0|   72|\n",
            "|            10.0|   71|\n",
            "|             6.0|   54|\n",
            "|             5.0|   64|\n",
            "|             9.0|   53|\n",
            "|            12.0|   49|\n",
            "+----------------+-----+\n",
            "\n",
            "+---------------+-----+\n",
            "|Day of the week|count|\n",
            "+---------------+-----+\n",
            "|            4.0|  156|\n",
            "|            3.0|  154|\n",
            "|            2.0|  161|\n",
            "|            6.0|  144|\n",
            "|            5.0|  125|\n",
            "+---------------+-----+\n",
            "\n",
            "+-------+-----+\n",
            "|Seasons|count|\n",
            "+-------+-----+\n",
            "|    1.0|  170|\n",
            "|    4.0|  195|\n",
            "|    3.0|  183|\n",
            "|    2.0|  192|\n",
            "+-------+-----+\n",
            "\n",
            "+----------------------+-----+\n",
            "|Transportation expense|count|\n",
            "+----------------------+-----+\n",
            "|                 184.0|    7|\n",
            "|                 235.0|   58|\n",
            "|                 369.0|   15|\n",
            "|                 155.0|   29|\n",
            "|                 268.0|    3|\n",
            "|                 279.0|    6|\n",
            "|                 388.0|    3|\n",
            "|                 378.0|    8|\n",
            "|                 231.0|    2|\n",
            "|                 179.0|  180|\n",
            "|                 300.0|    5|\n",
            "|                 225.0|   81|\n",
            "|                 246.0|   30|\n",
            "|                 330.0|   16|\n",
            "|                 248.0|   24|\n",
            "|                 118.0|   92|\n",
            "|                 361.0|   24|\n",
            "|                 157.0|    7|\n",
            "|                 291.0|   40|\n",
            "|                 189.0|    8|\n",
            "+----------------------+-----+\n",
            "only showing top 20 rows\n",
            "\n",
            "+-------------------------------+-----+\n",
            "|Distance from Residence to Work|count|\n",
            "+-------------------------------+-----+\n",
            "|                           49.0|    8|\n",
            "|                           29.0|   14|\n",
            "|                           42.0|    7|\n",
            "|                           35.0|    2|\n",
            "|                           25.0|   54|\n",
            "|                           36.0|   40|\n",
            "|                           50.0|   45|\n",
            "|                           45.0|    1|\n",
            "|                           31.0|   37|\n",
            "|                           11.0|   26|\n",
            "|                           51.0|  120|\n",
            "|                           14.0|    9|\n",
            "|                           48.0|    5|\n",
            "|                           22.0|   20|\n",
            "|                           17.0|   15|\n",
            "|                           27.0|    7|\n",
            "|                           10.0|   55|\n",
            "|                           13.0|   34|\n",
            "|                           20.0|   19|\n",
            "|                           52.0|   24|\n",
            "+-------------------------------+-----+\n",
            "only showing top 20 rows\n",
            "\n",
            "+------------+-----+\n",
            "|Service time|count|\n",
            "+------------+-----+\n",
            "|         8.0|   13|\n",
            "|         7.0|    7|\n",
            "|        29.0|    5|\n",
            "|        18.0|  147|\n",
            "|         1.0|    7|\n",
            "|         4.0|   16|\n",
            "|        11.0|   50|\n",
            "|        14.0|   85|\n",
            "|         3.0|   24|\n",
            "|        17.0|   20|\n",
            "|        10.0|   55|\n",
            "|        13.0|   73|\n",
            "|         6.0|    7|\n",
            "|        15.0|    4|\n",
            "|        24.0|    2|\n",
            "|         9.0|  126|\n",
            "|        16.0|   38|\n",
            "|        12.0|   61|\n",
            "+------------+-----+\n",
            "\n",
            "+----+-----+\n",
            "| Age|count|\n",
            "+----+-----+\n",
            "|49.0|    5|\n",
            "|29.0|    7|\n",
            "|47.0|   24|\n",
            "|39.0|    8|\n",
            "|34.0|   29|\n",
            "|37.0|   78|\n",
            "|36.0|   50|\n",
            "|41.0|   34|\n",
            "|50.0|   37|\n",
            "|31.0|   22|\n",
            "|58.0|    8|\n",
            "|48.0|    6|\n",
            "|53.0|    1|\n",
            "|46.0|    2|\n",
            "|28.0|  117|\n",
            "|38.0|  113|\n",
            "|27.0|    7|\n",
            "|40.0|   58|\n",
            "|30.0|   46|\n",
            "|33.0|   51|\n",
            "+----+-----+\n",
            "only showing top 20 rows\n",
            "\n",
            "+----------------------+-----+\n",
            "|Work load Average/day |count|\n",
            "+----------------------+-----+\n",
            "|               239.409|   13|\n",
            "|               236.629|   19|\n",
            "|               239.554|   19|\n",
            "|                230.29|   20|\n",
            "|               313.532|   15|\n",
            "|               244.387|   22|\n",
            "|               271.219|    3|\n",
            "|               306.345|   18|\n",
            "|                377.55|   16|\n",
            "|               308.593|   24|\n",
            "|               249.797|   15|\n",
            "|               343.253|   29|\n",
            "|               378.884|   16|\n",
            "|               251.818|   21|\n",
            "|               253.957|   19|\n",
            "|               261.756|   12|\n",
            "|               237.656|   32|\n",
            "|               261.306|   15|\n",
            "|               284.031|   22|\n",
            "|               246.288|   20|\n",
            "+----------------------+-----+\n",
            "only showing top 20 rows\n",
            "\n",
            "+----------+-----+\n",
            "|Hit target|count|\n",
            "+----------+-----+\n",
            "|      88.0|   28|\n",
            "|      98.0|   66|\n",
            "|      96.0|   75|\n",
            "|      94.0|   34|\n",
            "|      93.0|  105|\n",
            "|      81.0|   19|\n",
            "|      87.0|   12|\n",
            "|      99.0|  102|\n",
            "|      95.0|   75|\n",
            "|     100.0|   11|\n",
            "|      92.0|   79|\n",
            "|      97.0|   89|\n",
            "|      91.0|   45|\n",
            "+----------+-----+\n",
            "\n",
            "+--------------------+-----+\n",
            "|Disciplinary failure|count|\n",
            "+--------------------+-----+\n",
            "|                 0.0|  700|\n",
            "|                 1.0|   40|\n",
            "+--------------------+-----+\n",
            "\n",
            "+---------+-----+\n",
            "|Education|count|\n",
            "+---------+-----+\n",
            "|      1.0|  611|\n",
            "|      4.0|    4|\n",
            "|      3.0|   79|\n",
            "|      2.0|   46|\n",
            "+---------+-----+\n",
            "\n",
            "+---+-----+\n",
            "|Son|count|\n",
            "+---+-----+\n",
            "|0.0|  298|\n",
            "|1.0|  229|\n",
            "|4.0|   42|\n",
            "|3.0|   15|\n",
            "|2.0|  156|\n",
            "+---+-----+\n",
            "\n",
            "+--------------+-----+\n",
            "|Social drinker|count|\n",
            "+--------------+-----+\n",
            "|           0.0|  320|\n",
            "|           1.0|  420|\n",
            "+--------------+-----+\n",
            "\n",
            "+-------------+-----+\n",
            "|Social smoker|count|\n",
            "+-------------+-----+\n",
            "|          0.0|  686|\n",
            "|          1.0|   54|\n",
            "+-------------+-----+\n",
            "\n",
            "+---+-----+\n",
            "|Pet|count|\n",
            "+---+-----+\n",
            "|8.0|    8|\n",
            "|0.0|  460|\n",
            "|1.0|  138|\n",
            "|4.0|   32|\n",
            "|2.0|   96|\n",
            "|5.0|    6|\n",
            "+---+-----+\n",
            "\n",
            "+------+-----+\n",
            "|Weight|count|\n",
            "+------+-----+\n",
            "|  67.0|   30|\n",
            "|  70.0|   15|\n",
            "|  69.0|   85|\n",
            "| 108.0|    5|\n",
            "|  88.0|   29|\n",
            "|  98.0|   35|\n",
            "|  75.0|   19|\n",
            "|  80.0|   24|\n",
            "|  86.0|   24|\n",
            "|  94.0|    4|\n",
            "|  77.0|    6|\n",
            "|  56.0|   46|\n",
            "|  79.0|    3|\n",
            "|  83.0|   55|\n",
            "|  58.0|    7|\n",
            "| 106.0|   19|\n",
            "|  63.0|   20|\n",
            "|  68.0|   13|\n",
            "|  73.0|   37|\n",
            "|  95.0|   29|\n",
            "+------+-----+\n",
            "only showing top 20 rows\n",
            "\n",
            "+------+-----+\n",
            "|Height|count|\n",
            "+------+-----+\n",
            "| 170.0|  166|\n",
            "| 169.0|   95|\n",
            "| 168.0|   48|\n",
            "| 167.0|   34|\n",
            "| 182.0|   20|\n",
            "| 178.0|   57|\n",
            "| 171.0|   83|\n",
            "| 165.0|   24|\n",
            "| 175.0|    8|\n",
            "| 196.0|   29|\n",
            "| 185.0|    7|\n",
            "| 172.0|  155|\n",
            "| 163.0|    6|\n",
            "| 174.0|    8|\n",
            "+------+-----+\n",
            "\n",
            "+---------------+-----+\n",
            "|Body mass index|count|\n",
            "+---------------+-----+\n",
            "|           29.0|   23|\n",
            "|           35.0|    2|\n",
            "|           34.0|    1|\n",
            "|           25.0|  126|\n",
            "|           36.0|    5|\n",
            "|           23.0|   75|\n",
            "|           31.0|  147|\n",
            "|           21.0|   22|\n",
            "|           22.0|   35|\n",
            "|           19.0|   46|\n",
            "|           28.0|   59|\n",
            "|           38.0|   19|\n",
            "|           27.0|   24|\n",
            "|           30.0|   40|\n",
            "|           33.0|    6|\n",
            "|           32.0|   24|\n",
            "|           24.0|   86|\n",
            "+---------------+-----+\n",
            "\n",
            "+-------------------------+-----+\n",
            "|Absenteeism time in hours|count|\n",
            "+-------------------------+-----+\n",
            "|                      8.0|  208|\n",
            "|                      0.0|   44|\n",
            "|                      7.0|    1|\n",
            "|                    112.0|    2|\n",
            "|                     64.0|    3|\n",
            "|                     80.0|    3|\n",
            "|                    120.0|    3|\n",
            "|                      1.0|   88|\n",
            "|                    104.0|    1|\n",
            "|                      4.0|   60|\n",
            "|                     56.0|    2|\n",
            "|                     48.0|    1|\n",
            "|                      3.0|  112|\n",
            "|                      2.0|  157|\n",
            "|                     40.0|    7|\n",
            "|                     32.0|    6|\n",
            "|                      5.0|    7|\n",
            "|                     24.0|   16|\n",
            "|                     16.0|   19|\n",
            "+-------------------------+-----+\n",
            "\n"
          ]
        }
      ]
    },
    {
      "cell_type": "markdown",
      "source": [
        "- Com este output podemos ver o nome de cada coluna e o número de ocorrências para cada valor único. Isto permite uma visão geral dos dados, incluindo a verificação de valores ausentes (null) e a distribuição de valores para cada coluna.\n",
        "- A tabela \"Reason for absence\" apresenta a maior distribuição, seguida por \"Month of absence\" e \"Day of the week\". Os valores mais frequentes são \"Congenital malformations\", \"Diseases of the eye\" e \"Diseases of the musculoskeletal system\"."
      ],
      "metadata": {
        "id": "4hDeC_CPzYMc"
      }
    },
    {
      "cell_type": "markdown",
      "source": [
        "### Gráficos"
      ],
      "metadata": {
        "id": "3Q6KbMTL2Lvq"
      }
    },
    {
      "cell_type": "markdown",
      "source": [
        "#### Grafico com a  frequência de cada categoria na coluna \"Reason for absence\""
      ],
      "metadata": {
        "id": "S5oM1QU31s_6"
      }
    },
    {
      "cell_type": "code",
      "source": [
        "import matplotlib.pyplot as plt\n",
        "\n",
        "# A contagem da frequência de cada categoria na coluna \"Reason for absence\" \n",
        "df = df.dropna(subset = [\"Reason for absence\"])\n",
        "reason_counts = df.groupBy(\"Reason for absence\").count().toPandas()\n",
        "\n",
        "# Criar um gráfico de barras\n",
        "plt.figure(figsize=(25, 18))\n",
        "plt.barh(reason_counts[\"Reason for absence\"], reason_counts[\"count\"])\n",
        "plt.xlabel(\"Reason for absence\")\n",
        "plt.ylabel(\"Frequency\")\n",
        "plt.title(\"Frequency of Reasons for Absence\")\n",
        "\n",
        "plt.show()"
      ],
      "metadata": {
        "colab": {
          "base_uri": "https://localhost:8080/",
          "height": 952
        },
        "id": "FTDX7B8VB8tW",
        "outputId": "3356871c-5f70-4362-a199-bb5956734c88"
      },
      "execution_count": null,
      "outputs": [
        {
          "output_type": "display_data",
          "data": {
            "text/plain": [
              "<Figure size 1800x1296 with 1 Axes>"
            ],
            "image/png": "[encoded data removed]"
          },
          "metadata": {
            "needs_background": "light"
          }
        }
      ]
    },
    {
      "cell_type": "markdown",
      "source": [
        "- Esse gráfico mostra a frequência de ausência de cada categoria de justificação. A partir daí, é possível ver facilmente qual é a razão mais comum para a ausência que neste caso é \"Congenital malformations, deformations and chromosomal abnormalities\", e também comparar as frequências entre as diferentes razões. Também, pode-se observar que a maioria das razões tem baixa frequencia, e que poucas razões representam a maioria das ausencias."
      ],
      "metadata": {
        "id": "yL7rC78N1diC"
      }
    },
    {
      "cell_type": "markdown",
      "source": [
        "#### Gráfico que mostra a relação entre \"Transportation expense\" e \"Distance from Residence to Work\""
      ],
      "metadata": {
        "id": "6VuXa11W2KZa"
      }
    },
    {
      "cell_type": "code",
      "source": [
        "import matplotlib.pyplot as plt\n",
        "\n",
        "# Extrair as colunas \"Transportation expense\" e \"Distance from Residence to Work\"\n",
        "x = df.select(\"Transportation expense\").toPandas()\n",
        "y = df.select(\"Distance from Residence to Work\").toPandas()\n",
        "\n",
        "# Criar um gráfico de dispersão\n",
        "plt.figure(figsize=(10, 6))\n",
        "plt.scatter(x, y, color='red')\n",
        "plt.xlabel(\"Transportation expense ($)\")\n",
        "plt.ylabel(\"Distance from Residence to Work (km)\")\n",
        "plt.title(\"Scatter plot of Transportation expense and Distance from Residence to Work\")\n",
        "plt.show()"
      ],
      "metadata": {
        "colab": {
          "base_uri": "https://localhost:8080/",
          "height": 404
        },
        "id": "ia4u1K8QCHrj",
        "outputId": "c20ad84c-59f1-4489-ac21-3991364252aa"
      },
      "execution_count": null,
      "outputs": [
        {
          "output_type": "display_data",
          "data": {
            "text/plain": [
              "<Figure size 720x432 with 1 Axes>"
            ],
            "image/png": "[encoded data removed]"
          },
          "metadata": {
            "needs_background": "light"
          }
        }
      ]
    },
    {
      "cell_type": "markdown",
      "source": [
        "\n",
        "- Este gráfico é um gráfico de dispersão que mostra a relação entre os gastos com transporte e a distância da residência para o trabalho. Ele parece estar mostrando que, em geral, quanto maior a distância da residência para o trabalho, maior os gastos com transporte. No entanto, há algumas exceções, como alguns pontos que apresentam gastos elevados com transporte mesmo com distâncias curtas. Este gráfico pode ser útil para entender se existe alguma relação entre essas duas variáveis e como elas podem afetar a saúde dos funcionários."
      ],
      "metadata": {
        "id": "LDq-tfjl1Zce"
      }
    },
    {
      "cell_type": "markdown",
      "source": [
        "#### Mostrar a distribuição de idade dos funcionários que estão faltando:"
      ],
      "metadata": {
        "id": "1d-IuDfOpfkZ"
      }
    },
    {
      "cell_type": "code",
      "source": [
        "import seaborn as sns\n",
        "import matplotlib.pyplot as plt\n",
        "\n",
        "# Selecionar a coluna 'Age'\n",
        "age_data = df.select(\"Age\").toPandas()\n",
        "\n",
        "# Redefinir o índice\n",
        "age_data.reset_index(drop=True, inplace=True)\n",
        "\n",
        "# Criar um gráfico de densidade\n",
        "sns.kdeplot(age_data['Age'], shade=True)\n",
        "\n",
        "# Adicionar rótulos e título\n",
        "plt.xlabel(\"Age\")\n",
        "plt.ylabel(\"Density\")\n",
        "plt.title(\"Density Plot of Age for Absentees\")\n",
        "\n",
        "# Exibir o gráfico\n",
        "plt.show()"
      ],
      "metadata": {
        "id": "_5-kC1vBphmf",
        "outputId": "09d11312-8ff2-4967-d5d4-7cf7a03d6024",
        "colab": {
          "base_uri": "https://localhost:8080/",
          "height": 295
        }
      },
      "execution_count": null,
      "outputs": [
        {
          "output_type": "display_data",
          "data": {
            "text/plain": [
              "<Figure size 432x288 with 1 Axes>"
            ],
            "image/png": "[encoded data removed]"
          },
          "metadata": {
            "needs_background": "light"
          }
        }
      ]
    },
    {
      "cell_type": "markdown",
      "source": [
        "- Este gráfico mostra a distribuição de densidade da idade dos funcionários ausentes. Ele mostra a frequência relativa de cada idade. \n",
        "- A grande maioria das pessoas ausentes estão na faixa etária entre 30 e 40 anos."
      ],
      "metadata": {
        "id": "6aIQ2lXe3cSk"
      }
    },
    {
      "cell_type": "markdown",
      "source": [
        "#### Gráficos histogramas para todas as colunas numéricas do dataframe."
      ],
      "metadata": {
        "id": "-OYb-3Su4C66"
      }
    },
    {
      "cell_type": "markdown",
      "source": [
        "São apresentadas, de seguida, as distribuições dos valores das features.\n",
        "\n",
        "As features que compõem o nosso dataset encontram-se selecionadas em seguida:\n",
        "\n",
        "- Month of absence\n",
        "- Day of the week\n",
        "- Seasons\n",
        "- Transportation expense\n",
        "- Distance from Residence to Work \n",
        "- Service time\n",
        "- Age\n",
        "- Work load Average/day\n",
        "- Hit target\n",
        "- Disciplinary failure\n",
        "- Education\n",
        "- Son\n",
        "- Social drinker \n",
        "- Social smoker\n",
        "- Pet\n",
        "- Weight\n",
        "- Height\n",
        "- Body mass index\n",
        "- Absenteeism time in hours"
      ],
      "metadata": {
        "id": "P4v4svex7Lfi"
      }
    },
    {
      "cell_type": "code",
      "source": [
        "import matplotlib.pyplot as plt\n",
        "\n",
        "# Obter uma lista de todas as colunas numéricas\n",
        "num_cols = [c for c in df.columns if df.select(c).dtypes[0][1] == 'double']\n",
        "\n",
        "df_num = df.select(num_cols)\n",
        "\n",
        "# Criar um histograma para cada coluna numérica.\n",
        "df_num.toPandas().hist(figsize=[15,15],bins=10, color='skyblue', histtype='bar', ec='black')\n",
        "plt.show()"
      ],
      "metadata": {
        "id": "SC50pkA9pj8w",
        "outputId": "f95010e3-4ab9-410f-e233-fa564f2fc4b4",
        "colab": {
          "base_uri": "https://localhost:8080/",
          "height": 879
        }
      },
      "execution_count": null,
      "outputs": [
        {
          "output_type": "display_data",
          "data": {
            "text/plain": [
              "<Figure size 1080x1080 with 20 Axes>"
            ],
            "image/png": "[encoded data removed]"
          },
          "metadata": {
            "needs_background": "light"
          }
        }
      ]
    },
    {
      "cell_type": "markdown",
      "source": [
        "##### Explicação dos histogramas:"
      ],
      "metadata": {
        "id": "Xmu5pyUk_NyU"
      }
    },
    {
      "cell_type": "markdown",
      "source": [
        "- Estes histogramas permitem-nos ver a distribuição dos dados para cada coluna numérica e identificar tendências ou outliers. A partir do gráfico é possível ver a distribuição de frequencia para cada coluna numérica. \n",
        "- O eixo do x mostra os valores possíveis de cada feature, enquanto o eixo do y mostra a frequência com que esses valores aparecem no conjunto de dados, isto permite-nos identificar a distribuição dos dados e verificar se existem outliers ou valores incomuns.\n"
      ],
      "metadata": {
        "id": "nQkXHz2o46TP"
      }
    },
    {
      "cell_type": "markdown",
      "source": [
        "##### Análise dos histogramas:\n"
      ],
      "metadata": {
        "id": "XUxk_men_XHz"
      }
    },
    {
      "cell_type": "markdown",
      "source": [
        "- A coluna \"Age\" apresenta uma distribuição relativamente normal, com a maioria dos valores concentrados entre 20 e 40 anos de idade.\n",
        "- A coluna \"Work load Average/day\" apresenta valores concentrados entre cerca de 200 e 250, com poucos valores fora desse intervalo.\n",
        "- A coluna \"Hit target\" tem a maioria dos valores acima de 90, indicando que a maioria dos funcionários atingem suas metas.\n",
        "- A coluna \"Disciplinary failure\" tem a maioria dos valores em zero, indicando que a maioria dos funcionários não tem falhas disciplinares.\n",
        "- A coluna \"Education\" tem a maioria dos valores em 1, indicando que a maioria dos funcionários tem educação de nível básico.\n",
        "- A coluna \"Son\" tem valores distribuídos principalmente entre 0 e 4, indicando que a maioria dos funcionários tem entre 0 e 4 filhos.\n",
        "- A coluna \"Social drinker\" e \"Social smoker\" tem a maioria dos valores em 0, indicando que a maioria dos funcionários não são bebedores sociais ou fumantes sociais.\n",
        "- A coluna \"Pet\" tem valores distribuídos principalmente entre 0 e 2, indicando que a maioria dos funcionários tem entre 0 e 2 animais de estimação.\n",
        "- A coluna \"Weight\" tem valores distribuídos principalmente entre 60 e 100, indicando que a maioria dos funcionários pesam entre 60 e 100 kg.\n",
        "- A coluna \"Height\" tem valores distribuídos principalmente entre 160 e 180, indicando que a maioria dos funcionários tem entre 160 e 180 cm de altura.\n",
        "- A coluna \"Body mass index\" tem valores distribuídos principalmente entre 20 e 30, indicando que a maioria dos funcionários tem índice de massa corporal saudável.\n",
        "- A coluna \"Absenteeism time in hours\" tem valores distribuídos principalmente entre 0 e 20, indicando que a maioria dos funcionários tem entre 0 e 20 horas de ausência."
      ],
      "metadata": {
        "id": "JBGe5e_W_e6w"
      }
    },
    {
      "cell_type": "markdown",
      "source": [
        "##### Gráficos box plot  "
      ],
      "metadata": {
        "id": "RjCtJLIgBLVI"
      }
    },
    {
      "cell_type": "code",
      "source": [
        "import seaborn as sns\n",
        "from pyspark.sql.functions import col\n",
        "from pyspark.sql.types import NumericType, IntegerType\n",
        "pd_df = df.toPandas()\n",
        "\n",
        "numerical_cols = [col for col in pd_df.columns if isinstance(df.schema[col].dataType, (NumericType))]\n",
        "\n",
        "for col in numerical_cols:\n",
        "    plt.figure(figsize=(10, 6))\n",
        "    sns.boxplot(data=pd_df, x=col, width=0.3)\n",
        "    plt.xlabel(col)\n",
        "    plt.show()"
      ],
      "metadata": {
        "id": "KdanwqfSnseV",
        "outputId": "bffa1171-8c5a-44b4-efed-1281d9ae02e1",
        "colab": {
          "base_uri": "https://localhost:8080/",
          "height": 1000
        }
      },
      "execution_count": null,
      "outputs": [
        {
          "output_type": "display_data",
          "data": {
            "text/plain": [
              "<Figure size 720x432 with 1 Axes>"
            ],
            "image/png": "[encoded data removed]"
          },
          "metadata": {
            "needs_background": "light"
          }
        },
        {
          "output_type": "display_data",
          "data": {
            "text/plain": [
              "<Figure size 720x432 with 1 Axes>"
            ],
            "image/png": "[encoded data removed]"
          },
          "metadata": {
            "needs_background": "light"
          }
        },
        {
          "output_type": "display_data",
          "data": {
            "text/plain": [
              "<Figure size 720x432 with 1 Axes>"
            ],
            "image/png": "[encoded data removed]"
          },
          "metadata": {
            "needs_background": "light"
          }
        },
        {
          "output_type": "display_data",
          "data": {
            "text/plain": [
              "<Figure size 720x432 with 1 Axes>"
            ],
            "image/png": "[encoded data removed]"
          },
          "metadata": {
            "needs_background": "light"
          }
        },
        {
          "output_type": "display_data",
          "data": {
            "text/plain": [
              "<Figure size 720x432 with 1 Axes>"
            ],
            "image/png": "[encoded data removed]"
          },
          "metadata": {
            "needs_background": "light"
          }
        },
        {
          "output_type": "display_data",
          "data": {
            "text/plain": [
              "<Figure size 720x432 with 1 Axes>"
            ],
            "image/png": "[encoded data removed]"
          },
          "metadata": {
            "needs_background": "light"
          }
        },
        {
          "output_type": "display_data",
          "data": {
            "text/plain": [
              "<Figure size 720x432 with 1 Axes>"
            ],
            "image/png": "[encoded data removed]"
          },
          "metadata": {
            "needs_background": "light"
          }
        },
        {
          "output_type": "display_data",
          "data": {
            "text/plain": [
              "<Figure size 720x432 with 1 Axes>"
            ],
            "image/png": "[encoded data removed]"
          },
          "metadata": {
            "needs_background": "light"
          }
        },
        {
          "output_type": "display_data",
          "data": {
            "text/plain": [
              "<Figure size 720x432 with 1 Axes>"
            ],
            "image/png": "[encoded data removed]"
          },
          "metadata": {
            "needs_background": "light"
          }
        },
        {
          "output_type": "display_data",
          "data": {
            "text/plain": [
              "<Figure size 720x432 with 1 Axes>"
            ],
            "image/png": "[encoded data removed]"
          },
          "metadata": {
            "needs_background": "light"
          }
        },
        {
          "output_type": "display_data",
          "data": {
            "text/plain": [
              "<Figure size 720x432 with 1 Axes>"
            ],
            "image/png": "[encoded data removed]"
          },
          "metadata": {
            "needs_background": "light"
          }
        },
        {
          "output_type": "display_data",
          "data": {
            "text/plain": [
              "<Figure size 720x432 with 1 Axes>"
            ],
            "image/png": "[encoded data removed]"
          },
          "metadata": {
            "needs_background": "light"
          }
        },
        {
          "output_type": "display_data",
          "data": {
            "text/plain": [
              "<Figure size 720x432 with 1 Axes>"
            ],
            "image/png": "[encoded data removed]"
          },
          "metadata": {
            "needs_background": "light"
          }
        },
        {
          "output_type": "display_data",
          "data": {
            "text/plain": [
              "<Figure size 720x432 with 1 Axes>"
            ],
            "image/png": "[encoded data removed]"
          },
          "metadata": {
            "needs_background": "light"
          }
        },
        {
          "output_type": "display_data",
          "data": {
            "text/plain": [
              "<Figure size 720x432 with 1 Axes>"
            ],
            "image/png": "[encoded data removed]"
          },
          "metadata": {
            "needs_background": "light"
          }
        },
        {
          "output_type": "display_data",
          "data": {
            "text/plain": [
              "<Figure size 720x432 with 1 Axes>"
            ],
            "image/png": "[encoded data removed]"
          },
          "metadata": {
            "needs_background": "light"
          }
        },
        {
          "output_type": "display_data",
          "data": {
            "text/plain": [
              "<Figure size 720x432 with 1 Axes>"
            ],
            "image/png": "[encoded data removed]"
          },
          "metadata": {
            "needs_background": "light"
          }
        },
        {
          "output_type": "display_data",
          "data": {
            "text/plain": [
              "<Figure size 720x432 with 1 Axes>"
            ],
            "image/png": "[encoded data removed]"
          },
          "metadata": {
            "needs_background": "light"
          }
        },
        {
          "output_type": "display_data",
          "data": {
            "text/plain": [
              "<Figure size 720x432 with 1 Axes>"
            ],
            "image/png": "[encoded data removed]"
          },
          "metadata": {
            "needs_background": "light"
          }
        }
      ]
    },
    {
      "cell_type": "markdown",
      "source": [
        "- Os gráficos box plot mostram a distribuição de dados numéricos e fornecem informações sobre a mediana, a variação e outliers dos dados. A \"caixa\" representa o intervalo interquartil (entre o primeiro e o terceiro quartil), ou seja, onde se encontra 50% dos dados. A linha no meio da caixa representa a mediana (valor do meio). Os outliers são representados por pontos fora do intervalo de linhas.\n",
        "- Analisando supreficialmente alguns box plot podemos ver que no caso da coluna \"Age\", existe uma distribuição relativamente normal, com a maioria dos valores entre 20 e 40 anos, enquanto na coluna \"Transportation expense\" existem alguns  valores outliers muito altos."
      ],
      "metadata": {
        "id": "MobXzpSlCoR9"
      }
    },
    {
      "cell_type": "markdown",
      "source": [
        "## Algoritmos de Machine Learning"
      ],
      "metadata": {
        "id": "jT5noR1HEbZn"
      }
    },
    {
      "cell_type": "markdown",
      "source": [
        "### Preparação para Algoritmos de Regressão"
      ],
      "metadata": {
        "id": "UxF_Kyn2VuQ1"
      }
    },
    {
      "cell_type": "markdown",
      "source": [
        "#### Train test split"
      ],
      "metadata": {
        "id": "V2xTXcBECjCP"
      }
    },
    {
      "cell_type": "code",
      "source": [
        "df.schema.names"
      ],
      "metadata": {
        "id": "tc1uWRv4nyta",
        "outputId": "50ff52f8-a4b0-4455-d894-379e3e626ad2",
        "colab": {
          "base_uri": "https://localhost:8080/"
        }
      },
      "execution_count": null,
      "outputs": [
        {
          "output_type": "execute_result",
          "data": {
            "text/plain": [
              "['Reason for absence',\n",
              " 'Month of absence',\n",
              " 'Day of the week',\n",
              " 'Seasons',\n",
              " 'Transportation expense',\n",
              " 'Distance from Residence to Work',\n",
              " 'Service time',\n",
              " 'Age',\n",
              " 'Work load Average/day ',\n",
              " 'Hit target',\n",
              " 'Disciplinary failure',\n",
              " 'Education',\n",
              " 'Son',\n",
              " 'Social drinker',\n",
              " 'Social smoker',\n",
              " 'Pet',\n",
              " 'Weight',\n",
              " 'Height',\n",
              " 'Body mass index',\n",
              " 'Absenteeism time in hours']"
            ]
          },
          "metadata": {},
          "execution_count": 28
        }
      ]
    },
    {
      "cell_type": "code",
      "source": [
        "from pyspark.ml.feature import VectorAssembler, StandardScaler\n",
        "from pyspark.ml.regression import LinearRegression\n",
        "\n",
        "# Selecione as colunas independentes\n",
        "independent_cols = ['Month of absence',\n",
        " 'Day of the week',\n",
        " 'Seasons',\n",
        " 'Transportation expense',\n",
        " 'Distance from Residence to Work',\n",
        " 'Service time',\n",
        " 'Age',\n",
        " 'Work load Average/day ',\n",
        " 'Hit target',\n",
        " 'Disciplinary failure',\n",
        " 'Education',\n",
        " 'Son',\n",
        " 'Social drinker',\n",
        " 'Social smoker',\n",
        " 'Pet',\n",
        " 'Weight',\n",
        " 'Height',\n",
        " 'Absenteeism time in hours']\n",
        "\n",
        "# Crie o objeto VectorAssembler\n",
        "assembler = VectorAssembler(inputCols=independent_cols, outputCol='features')\n",
        "\n",
        "# Aplique o assembler no DataFrame\n",
        "df_assembled = assembler.transform(df)\n",
        "\n",
        "# Dividir os dados em conjunto de treinamento e teste\n",
        "train, test = df_assembled.randomSplit([0.7, 0.3])"
      ],
      "metadata": {
        "id": "0043GYFG12pg"
      },
      "execution_count": null,
      "outputs": []
    },
    {
      "cell_type": "markdown",
      "source": [
        "- Este passo está a selecionar as colunas independentes (colunas que serão usadas como variáveis ​​preditivas) para serem usadas na modelagem de regressão linear. \n",
        "- Criasse um objeto VectorAssembler, que é usado para combinar as colunas selecionadas em uma única coluna chamada \"features\". Este objeto é então aplicado ao DataFrame para produzir um novo DataFrame com uma coluna \"features\" que contém todas as variáveis ​​selecionadas. \n",
        "- Por fim, os dados são divididos em um conjunto de treinamento (70%) e um conjunto de teste (30%)."
      ],
      "metadata": {
        "id": "ixvudLV1VysQ"
      }
    },
    {
      "cell_type": "markdown",
      "source": [
        "#### Standarizar os dados em train e test"
      ],
      "metadata": {
        "id": "4RAg9qRnx4FC"
      }
    },
    {
      "cell_type": "code",
      "source": [
        "# Criar objeto StandardScaler\n",
        "scaler = StandardScaler(inputCol='features', outputCol='standard_features')\n",
        "\n",
        "# Aplique o scaler no conjunto de treinamento\n",
        "scalerModel = scaler.fit(train)\n",
        "\n",
        "# Aplique o scaler no conjunto de treinamento\n",
        "train = scalerModel.transform(train)\n",
        "\n",
        "# Aplique o scaler no conjunto de teste\n",
        "test = scalerModel.transform(test)"
      ],
      "metadata": {
        "id": "8goKPZ4FDi7h"
      },
      "execution_count": null,
      "outputs": []
    },
    {
      "cell_type": "markdown",
      "source": [
        "##### Print dos dados standarizados"
      ],
      "metadata": {
        "id": "KSiSYL47zywj"
      }
    },
    {
      "cell_type": "code",
      "source": [
        "train.show()\n",
        "test.show()"
      ],
      "metadata": {
        "colab": {
          "base_uri": "https://localhost:8080/"
        },
        "id": "TQOkZ0RYDsYy",
        "outputId": "3635c0d9-7577-4409-fa10-31628084505e"
      },
      "execution_count": null,
      "outputs": [
        {
          "output_type": "stream",
          "name": "stdout",
          "text": [
            "+--------------------+----------------+---------------+-------+----------------------+-------------------------------+------------+----+----------------------+----------+--------------------+---------+---+--------------+-------------+---+------+------+---------------+-------------------------+--------------------+--------------------+\n",
            "|  Reason for absence|Month of absence|Day of the week|Seasons|Transportation expense|Distance from Residence to Work|Service time| Age|Work load Average/day |Hit target|Disciplinary failure|Education|Son|Social drinker|Social smoker|Pet|Weight|Height|Body mass index|Absenteeism time in hours|            features|   standard_features|\n",
            "+--------------------+----------------+---------------+-------+----------------------+-------------------------------+------------+----+----------------------+----------+--------------------+---------+---+--------------+-------------+---+------+------+---------------+-------------------------+--------------------+--------------------+\n",
            "|CID - Blood donation|            11.0|            4.0|    4.0|                 330.0|                           16.0|         4.0|28.0|               268.519|      93.0|                 0.0|      2.0|0.0|           0.0|          0.0|0.0|  84.0| 182.0|           25.0|                     24.0|[11.0,4.0,4.0,330...|[3.20003997959603...|\n",
            "|CID - Dental cons...|             3.0|            5.0|    2.0|                 289.0|                           36.0|        13.0|33.0|               343.253|      95.0|                 0.0|      1.0|2.0|           1.0|          0.0|1.0|  90.0| 172.0|           30.0|                      8.0|[3.0,5.0,2.0,289....|[0.87273817625346...|\n",
            "|CID - Dental cons...|             5.0|            4.0|    3.0|                 225.0|                           26.0|         9.0|28.0|               237.656|      99.0|                 0.0|      1.0|1.0|           0.0|          0.0|2.0|  69.0| 169.0|           24.0|                      3.0|[5.0,4.0,3.0,225....|[1.45456362708910...|\n",
            "|CID - Dental cons...|             7.0|            2.0|    1.0|                 228.0|                           14.0|        16.0|58.0|               264.604|      93.0|                 0.0|      1.0|2.0|           0.0|          0.0|1.0|  65.0| 172.0|           22.0|                      8.0|[7.0,2.0,1.0,228....|[2.03638907792474...|\n",
            "|CID - Dental cons...|             7.0|            3.0|    1.0|                 228.0|                           14.0|        16.0|58.0|               264.604|      93.0|                 0.0|      1.0|2.0|           0.0|          0.0|1.0|  65.0| 172.0|           22.0|                    120.0|[7.0,3.0,1.0,228....|[2.03638907792474...|\n",
            "|CID - Dental cons...|             8.0|            4.0|    1.0|                 184.0|                           42.0|         7.0|27.0|               265.615|      94.0|                 0.0|      1.0|0.0|           0.0|          0.0|0.0|  58.0| 167.0|           21.0|                      8.0|[8.0,4.0,1.0,184....|[2.32730180334256...|\n",
            "|CID - Dental cons...|            10.0|            2.0|    4.0|                 235.0|                           16.0|         8.0|32.0|               284.853|      91.0|                 0.0|      3.0|0.0|           0.0|          0.0|0.0|  75.0| 178.0|           25.0|                      8.0|[10.0,2.0,4.0,235...|[2.90912725417821...|\n",
            "|CID - Laboratory ...|             1.0|            4.0|    2.0|                 291.0|                           31.0|        12.0|40.0|               330.061|     100.0|                 0.0|      1.0|1.0|           1.0|          0.0|1.0|  73.0| 171.0|           25.0|                      8.0|[1.0,4.0,2.0,291....|[0.29091272541782...|\n",
            "|CID - Medical con...|             2.0|            3.0|    2.0|                 388.0|                           15.0|         9.0|50.0|               302.585|      99.0|                 0.0|      1.0|0.0|           0.0|          0.0|0.0|  76.0| 178.0|           24.0|                      8.0|[2.0,3.0,2.0,388....|[0.58182545083564...|\n",
            "|CID - Medical con...|             2.0|            4.0|    2.0|                 246.0|                           25.0|        16.0|41.0|               302.585|      99.0|                 0.0|      1.0|0.0|           1.0|          0.0|0.0|  67.0| 170.0|           23.0|                      8.0|[2.0,4.0,2.0,246....|[0.58182545083564...|\n",
            "|CID - Medical con...|             2.0|            4.0|    2.0|                 248.0|                           25.0|        14.0|47.0|               264.249|      97.0|                 0.0|      1.0|2.0|           0.0|          0.0|1.0|  86.0| 165.0|           32.0|                      8.0|[2.0,4.0,2.0,248....|[0.58182545083564...|\n",
            "|CID - Medical con...|             5.0|            2.0|    3.0|                 235.0|                           11.0|        14.0|37.0|               246.074|      99.0|                 0.0|      3.0|1.0|           0.0|          0.0|1.0|  88.0| 172.0|           29.0|                      8.0|[5.0,2.0,3.0,235....|[1.45456362708910...|\n",
            "|CID - Medical con...|             7.0|            2.0|    1.0|                 260.0|                           50.0|        11.0|36.0|               239.554|      97.0|                 0.0|      1.0|4.0|           1.0|          0.0|0.0|  65.0| 168.0|           23.0|                      8.0|[7.0,2.0,1.0,260....|[2.03638907792474...|\n",
            "|CID - Medical con...|             7.0|            3.0|    1.0|                 330.0|                           16.0|         4.0|28.0|               275.312|      98.0|                 0.0|      2.0|0.0|           0.0|          0.0|0.0|  84.0| 182.0|           25.0|                      8.0|[7.0,3.0,1.0,330....|[2.03638907792474...|\n",
            "|CID - Medical con...|            10.0|            2.0|    4.0|                 179.0|                           26.0|         9.0|30.0|               265.017|      88.0|                 0.0|      3.0|0.0|           0.0|          0.0|0.0|  56.0| 171.0|           19.0|                      8.0|[10.0,2.0,4.0,179...|[2.90912725417821...|\n",
            "|CID - Medical con...|            10.0|            4.0|    4.0|                 179.0|                           26.0|         9.0|30.0|               265.017|      88.0|                 0.0|      3.0|0.0|           0.0|          0.0|0.0|  56.0| 171.0|           19.0|                      5.0|[10.0,4.0,4.0,179...|[2.90912725417821...|\n",
            "|CID - Medical con...|            10.0|            4.0|    4.0|                 228.0|                           14.0|        16.0|58.0|               284.853|      91.0|                 0.0|      1.0|2.0|           0.0|          0.0|1.0|  65.0| 172.0|           22.0|                      1.0|[10.0,4.0,4.0,228...|[2.90912725417821...|\n",
            "|CID - Medical con...|            11.0|            6.0|    4.0|                 235.0|                           16.0|         8.0|32.0|               268.519|      93.0|                 0.0|      3.0|0.0|           0.0|          0.0|0.0|  75.0| 178.0|           25.0|                      8.0|[11.0,6.0,4.0,235...|[3.20003997959603...|\n",
            "|CID - Patient fol...|             0.0|            3.0|    1.0|                 118.0|                           14.0|        13.0|40.0|               271.219|      95.0|                 0.0|      1.0|1.0|           1.0|          0.0|8.0|  98.0| 170.0|           34.0|                      0.0|[0.0,3.0,1.0,118....|[0.0,2.1540222094...|\n",
            "|CID - Patient fol...|             0.0|            4.0|    2.0|                 231.0|                           35.0|        14.0|39.0|               271.219|      95.0|                 0.0|      1.0|2.0|           1.0|          0.0|2.0| 100.0| 170.0|           35.0|                      0.0|[0.0,4.0,2.0,231....|[0.0,2.8720296125...|\n",
            "+--------------------+----------------+---------------+-------+----------------------+-------------------------------+------------+----+----------------------+----------+--------------------+---------+---+--------------+-------------+---+------+------+---------------+-------------------------+--------------------+--------------------+\n",
            "only showing top 20 rows\n",
            "\n",
            "+--------------------+----------------+---------------+-------+----------------------+-------------------------------+------------+----+----------------------+----------+--------------------+---------+---+--------------+-------------+---+------+------+---------------+-------------------------+--------------------+--------------------+\n",
            "|  Reason for absence|Month of absence|Day of the week|Seasons|Transportation expense|Distance from Residence to Work|Service time| Age|Work load Average/day |Hit target|Disciplinary failure|Education|Son|Social drinker|Social smoker|Pet|Weight|Height|Body mass index|Absenteeism time in hours|            features|   standard_features|\n",
            "+--------------------+----------------+---------------+-------+----------------------+-------------------------------+------------+----+----------------------+----------+--------------------+---------+---+--------------+-------------+---+------+------+---------------+-------------------------+--------------------+--------------------+\n",
            "|CID - Dental cons...|            11.0|            3.0|    4.0|                 179.0|                           51.0|        18.0|38.0|               284.031|      97.0|                 0.0|      1.0|0.0|           1.0|          0.0|0.0|  89.0| 170.0|           31.0|                      8.0|[11.0,3.0,4.0,179...|[3.20003997959603...|\n",
            "|CID - Dental cons...|            11.0|            6.0|    4.0|                 155.0|                           12.0|        14.0|34.0|               306.345|      93.0|                 0.0|      1.0|2.0|           1.0|          0.0|0.0|  95.0| 196.0|           25.0|                      8.0|[11.0,6.0,4.0,155...|[3.20003997959603...|\n",
            "|CID - Medical con...|             3.0|            2.0|    2.0|                 155.0|                           12.0|        14.0|34.0|               343.253|      95.0|                 0.0|      1.0|2.0|           1.0|          0.0|0.0|  95.0| 196.0|           25.0|                     16.0|[3.0,2.0,2.0,155....|[0.87273817625346...|\n",
            "|CID - Medical con...|             7.0|            2.0|    1.0|                 330.0|                           16.0|         4.0|28.0|               275.312|      98.0|                 0.0|      2.0|0.0|           0.0|          0.0|0.0|  84.0| 182.0|           25.0|                      8.0|[7.0,2.0,1.0,330....|[2.03638907792474...|\n",
            "|CID - Medical con...|             7.0|            3.0|    1.0|                 260.0|                           50.0|        11.0|36.0|               239.554|      97.0|                 0.0|      1.0|4.0|           1.0|          0.0|0.0|  65.0| 168.0|           23.0|                      8.0|[7.0,3.0,1.0,260....|[2.03638907792474...|\n",
            "|CID - Medical con...|             7.0|            4.0|    1.0|                 118.0|                           13.0|        18.0|50.0|               275.312|      98.0|                 0.0|      1.0|1.0|           1.0|          0.0|0.0|  98.0| 178.0|           31.0|                      8.0|[7.0,4.0,1.0,118....|[2.03638907792474...|\n",
            "|CID - Medical con...|            10.0|            4.0|    4.0|                 179.0|                           26.0|         9.0|30.0|               265.017|      88.0|                 0.0|      3.0|0.0|           0.0|          0.0|0.0|  56.0| 171.0|           19.0|                     64.0|[10.0,4.0,4.0,179...|[2.90912725417821...|\n",
            "|CID - Medical con...|            11.0|            2.0|    4.0|                 378.0|                           49.0|        11.0|36.0|               284.031|      97.0|                 0.0|      1.0|2.0|           0.0|          1.0|4.0|  65.0| 174.0|           21.0|                      8.0|[11.0,2.0,4.0,378...|[3.20003997959603...|\n",
            "|CID - Patient fol...|             3.0|            5.0|    3.0|                 246.0|                           25.0|        16.0|41.0|               244.387|      98.0|                 1.0|      1.0|0.0|           1.0|          0.0|0.0|  67.0| 170.0|           23.0|                      0.0|[3.0,5.0,3.0,246....|[0.87273817625346...|\n",
            "|CID - Patient fol...|             5.0|            3.0|    3.0|                 118.0|                           13.0|        18.0|50.0|               237.656|      99.0|                 1.0|      1.0|1.0|           1.0|          0.0|0.0|  98.0| 178.0|           31.0|                      0.0|[5.0,3.0,3.0,118....|[1.45456362708910...|\n",
            "|CID - Patient fol...|             5.0|            4.0|    3.0|                 378.0|                           49.0|        11.0|36.0|               378.884|      92.0|                 1.0|      1.0|2.0|           0.0|          1.0|4.0|  65.0| 174.0|           21.0|                      0.0|[5.0,4.0,3.0,378....|[1.45456362708910...|\n",
            "|CID - Patient fol...|             5.0|            4.0|    3.0|                 388.0|                           15.0|         9.0|50.0|               378.884|      92.0|                 1.0|      1.0|0.0|           0.0|          0.0|0.0|  76.0| 178.0|           24.0|                      0.0|[5.0,4.0,3.0,388....|[1.45456362708910...|\n",
            "|CID - Patient fol...|             6.0|            2.0|    3.0|                 268.0|                           11.0|         8.0|33.0|               275.089|      96.0|                 1.0|      2.0|0.0|           0.0|          0.0|0.0|  79.0| 178.0|           25.0|                      0.0|[6.0,2.0,3.0,268....|[1.74547635250692...|\n",
            "|CID - Patient fol...|             7.0|            3.0|    1.0|                 118.0|                           13.0|        18.0|50.0|               239.554|      97.0|                 1.0|      1.0|1.0|           1.0|          0.0|0.0|  98.0| 178.0|           31.0|                      0.0|[7.0,3.0,1.0,118....|[2.03638907792474...|\n",
            "|CID - Patient fol...|             7.0|            5.0|    1.0|                 260.0|                           50.0|        11.0|36.0|               275.312|      98.0|                 1.0|      1.0|4.0|           1.0|          0.0|0.0|  65.0| 168.0|           23.0|                      0.0|[7.0,5.0,1.0,260....|[2.03638907792474...|\n",
            "|CID - Patient fol...|             9.0|            2.0|    4.0|                 225.0|                           26.0|         9.0|28.0|               241.476|      92.0|                 1.0|      1.0|1.0|           0.0|          0.0|2.0|  69.0| 169.0|           24.0|                      0.0|[9.0,2.0,4.0,225....|[2.61821452876038...|\n",
            "|CID - Patient fol...|             9.0|            3.0|    1.0|                 231.0|                           35.0|        14.0|39.0|               294.217|      81.0|                 1.0|      1.0|2.0|           1.0|          0.0|2.0| 100.0| 170.0|           35.0|                      0.0|[9.0,3.0,1.0,231....|[2.61821452876038...|\n",
            "|CID - Patient fol...|             9.0|            4.0|    4.0|                 369.0|                           17.0|        12.0|31.0|               241.476|      92.0|                 1.0|      1.0|3.0|           1.0|          0.0|0.0|  70.0| 169.0|           25.0|                      0.0|[9.0,4.0,4.0,369....|[2.61821452876038...|\n",
            "|CID - Patient fol...|            10.0|            2.0|    4.0|                 225.0|                           26.0|         9.0|28.0|               284.853|      91.0|                 1.0|      1.0|1.0|           0.0|          0.0|2.0|  69.0| 169.0|           24.0|                      0.0|[10.0,2.0,4.0,225...|[2.90912725417821...|\n",
            "|CID - Patient fol...|            10.0|            4.0|    4.0|                 118.0|                           13.0|        18.0|50.0|               253.465|      93.0|                 1.0|      1.0|1.0|           1.0|          0.0|0.0|  98.0| 178.0|           31.0|                      0.0|[10.0,4.0,4.0,118...|[2.90912725417821...|\n",
            "+--------------------+----------------+---------------+-------+----------------------+-------------------------------+------------+----+----------------------+----------+--------------------+---------+---+--------------+-------------+---+------+------+---------------+-------------------------+--------------------+--------------------+\n",
            "only showing top 20 rows\n",
            "\n"
          ]
        }
      ]
    },
    {
      "cell_type": "markdown",
      "source": [
        "#### Train e teste com os dados Standarizados"
      ],
      "metadata": {
        "id": "KoGv8Ck9z5T0"
      }
    },
    {
      "cell_type": "code",
      "source": [
        "train.select('standard_features').show(2,truncate=False)\n",
        "test.select('standard_features').show(2,truncate=False)"
      ],
      "metadata": {
        "colab": {
          "base_uri": "https://localhost:8080/"
        },
        "id": "jMztvdLBDsz3",
        "outputId": "ac06deb6-b60b-4098-8c7f-d4708230c961"
      },
      "execution_count": null,
      "outputs": [
        {
          "output_type": "stream",
          "name": "stdout",
          "text": [
            "+-------------------------------------------------------------------------------------------------------------------------------------------------------------------------------------------------------------------------------------------------------------------------------------------------------------------+\n",
            "|standard_features                                                                                                                                                                                                                                                                                                  |\n",
            "+-------------------------------------------------------------------------------------------------------------------------------------------------------------------------------------------------------------------------------------------------------------------------------------------------------------------+\n",
            "|[3.200039979596031,2.8720296125978924,3.580520008612083,4.991020544668155,1.0974373414376626,0.9265623263570532,4.175825285068056,6.9729762146777725,24.81422082323222,0.0,2.7538878964683255,0.0,0.0,0.0,0.0,6.317497522008088,31.405145300649565,1.832532931591321]                                              |\n",
            "|[0.872738176253463,3.5900370157473653,1.7902600043060415,4.370924052754838,2.469234018234741,3.0113275606604226,4.921508371687351,8.913689551267469,25.347859980721083,0.0,1.3769439482341628,1.9826320709922938,1.9990481018405633,0.0,0.6733708446559118,6.7687473450086655,29.67958786654794,0.6108443105304403]|\n",
            "+-------------------------------------------------------------------------------------------------------------------------------------------------------------------------------------------------------------------------------------------------------------------------------------------------------------------+\n",
            "only showing top 2 rows\n",
            "\n",
            "+-----------------------------------------------------------------------------------------------------------------------------------------------------------------------------------------------------------------------------------------------------------------------------------------------+\n",
            "|standard_features                                                                                                                                                                                                                                                                              |\n",
            "+-----------------------------------------------------------------------------------------------------------------------------------------------------------------------------------------------------------------------------------------------------------------------------------------------+\n",
            "|[3.200039979596031,2.1540222094484194,3.580520008612083,2.7072505378654537,3.4980815258325495,4.169530468606739,5.667191458306647,7.375796153088394,25.88149913820995,0.0,1.3769439482341628,0.0,1.9990481018405633,0.0,0.0,6.693539041175236,29.334476379727615,0.6108443105304403]           |\n",
            "|[3.200039979596031,4.308044418896839,3.580520008612083,2.3442672255259516,0.823078006078247,3.242968142249686,5.07064498901121,7.955252322872729,24.81422082323222,0.0,1.3769439482341628,1.9826320709922938,1.9990481018405633,0.0,0.0,7.144788864175814,33.82092570839184,0.6108443105304403]|\n",
            "+-----------------------------------------------------------------------------------------------------------------------------------------------------------------------------------------------------------------------------------------------------------------------------------------------+\n",
            "only showing top 2 rows\n",
            "\n"
          ]
        }
      ]
    },
    {
      "cell_type": "markdown",
      "source": [
        "-  Transforma as colunas 'features' em 'standard_features', normalizando os valores dessas colunas para terem média 0 e desvio padrão 1. \n",
        "- Mostra os 2 primeiros registros das colunas 'standard_features' do conjunto de treinamento e teste, para que se você possa ver como os valores foram alterados."
      ],
      "metadata": {
        "id": "VtpHnYvAV-7c"
      }
    },
    {
      "cell_type": "markdown",
      "source": [
        "### Regressão Linear"
      ],
      "metadata": {
        "id": "tepnxQOBWBcE"
      }
    },
    {
      "cell_type": "markdown",
      "source": [
        "- A regressão linear é um dos algoritmos de aprendizado supervisionado mais simples e comuns utilizados para resolver problemas de previsão. \n",
        "- O objetivo é encontrar uma linha que melhor se ajuste aos dados, de forma a prever um valor de saída (variável dependente) com base em um ou mais valores de entrada (variáveis independentes). \n",
        "- A regressão linear é frequentemente utilizada para prever tendências futuras, identificar relações causais entre variáveis e para avaliar o impacto de uma ou mais variáveis independentes sobre uma variável dependente. \n",
        "- Em relação ao nosso DataSet é adequado usar Regressão Linear, pois podemos esperar uma relação direta entre as variáveis independentes e a variável dependente \"Body mass index\"."
      ],
      "metadata": {
        "id": "o8S-wJVkPN_r"
      }
    },
    {
      "cell_type": "code",
      "source": [
        "# Criar objeto LinearRegression\n",
        "lr = LinearRegression(labelCol='Body mass index', featuresCol='standard_features')\n",
        "\n",
        "# Treinar o modelo com os dados de treinamento\n",
        "model = lr.fit(train)\n",
        "\n",
        "# Fazer previsões com os dados de teste\n",
        "predictions = model.transform(test)"
      ],
      "metadata": {
        "id": "8f8uadU5D8Qk"
      },
      "execution_count": null,
      "outputs": []
    },
    {
      "cell_type": "markdown",
      "source": [
        "- Definição de cada variável (dependente e independente)\n",
        "- Treinar o modelo com os dados de treinamento. As previsões são feitas com os dados de teste usando o método \"transform\" do modelo treinado.\n"
      ],
      "metadata": {
        "id": "PJdALrq4WFHc"
      }
    },
    {
      "cell_type": "code",
      "source": [
        "from pyspark.ml.evaluation import RegressionEvaluator\n",
        "\n",
        "# Criar o avaliador\n",
        "evaluator = RegressionEvaluator(labelCol='Body mass index', predictionCol='prediction', metricName='r2')\n",
        "\n",
        "# Calculo do R2 nos dados de teste\n",
        "r2 = evaluator.evaluate(predictions)\n",
        "\n",
        "# Criar o avaliador para RMSE\n",
        "rmse_evaluator = RegressionEvaluator(labelCol='Body mass index', predictionCol='prediction', metricName='rmse')\n",
        "\n",
        "# Calculo do RMSE\n",
        "rmse = rmse_evaluator.evaluate(predictions)\n",
        "\n",
        "print(\"Score: \",1-rmse)\n",
        "print(\"R2 = %g\" % r2)\n",
        "print(\"Root Mean Squared Error (RMSE) on test data = %g\" % rmse)"
      ],
      "metadata": {
        "colab": {
          "base_uri": "https://localhost:8080/"
        },
        "id": "63fVVeaT4ZRY",
        "outputId": "d1f74b05-84eb-4d8a-f862-6d0cacfd5824"
      },
      "execution_count": null,
      "outputs": [
        {
          "output_type": "stream",
          "name": "stdout",
          "text": [
            "Score:  0.6422396745212937\n",
            "R2 = 0.99248\n",
            "Root Mean Squared Error (RMSE) on test data = 0.35776\n"
          ]
        }
      ]
    },
    {
      "cell_type": "markdown",
      "source": [
        "- Calculamos o Mean Squared Error (MSE), o Root Mean Squared Error (RMSE) e o score para avaliar a preformance do modelo.\n",
        "- A partir dos valores de score e rmse é possível concluir que o modelo tem uma precisão de 66.14% e um erro médio quadrático de 0.33. Isso significa que o modelo tem uma boa capacidade de prever o índice de massa corporal dos funcionários, mas ainda tem um certo grau de incerteza."
      ],
      "metadata": {
        "id": "qfBi7C1KWG1B"
      }
    },
    {
      "cell_type": "markdown",
      "source": [
        "#### Matriz de Confusão?"
      ],
      "metadata": {
        "id": "7DyHgad2Prpq"
      }
    },
    {
      "cell_type": "markdown",
      "source": [
        "- A matriz de confusão é uma tabela que mostra quantas previsões foram corretas e incorretas para cada classe. A diagonal principal contém as previsões corretas e as outras células contêm as previsões incorretas.\n",
        "- Criar uma matriz de confusão para um problema de regressão não faz sentido. A matriz de confusão é uma forma de avaliar o desempenho de um modelo de classificação, mas em problemas de regressão, as métricas de avaliação são diferentes, como Erro Quadrático Médio (MSE), Raiz do Erro Quadrático Médio (RMSE), Erro Absoluto Médio (MAE), entre outros."
      ],
      "metadata": {
        "id": "1RSCvODfPx6L"
      }
    },
    {
      "cell_type": "markdown",
      "source": [
        "#### Gráfico de Regressão Linear"
      ],
      "metadata": {
        "id": "K72Y7O16QGfv"
      }
    },
    {
      "cell_type": "code",
      "source": [
        "import matplotlib.pyplot as plt\n",
        "\n",
        "# Extrair os valores previstos e reais\n",
        "y_actual = predictions.select('Body mass index').toPandas()\n",
        "y_pred = predictions.select('prediction').toPandas()\n",
        "\n",
        "plt.figure(figsize=(15, 12))\n",
        "\n",
        "# Criar o gráfico de dispersão\n",
        "plt.scatter(y_actual, y_pred)\n",
        "plt.xlabel('Actual Values')\n",
        "plt.ylabel('Predicted Values')\n",
        "plt.title('Linear Regression Results')\n",
        "plt.show()"
      ],
      "metadata": {
        "colab": {
          "base_uri": "https://localhost:8080/",
          "height": 730
        },
        "id": "Il0qjMQY6PbF",
        "outputId": "f2565b07-01af-4877-c15f-85448af56bb0"
      },
      "execution_count": null,
      "outputs": [
        {
          "output_type": "display_data",
          "data": {
            "text/plain": [
              "<Figure size 1080x864 with 1 Axes>"
            ],
            "image/png": "[encoded data removed]"
          },
          "metadata": {
            "needs_background": "light"
          }
        }
      ]
    },
    {
      "cell_type": "markdown",
      "source": [
        "- Este gráfico mostra o resultado da regressão linear, onde cada ponto representa uma previsão feita pelo modelo para um determinado valor real.\n",
        "- Pode-se observar que a maioria dos pontos estão concentrados em torno da diagonal do gráfico, indicando que o modelo está fazendo previsões razoavelmente precisas.\n",
        "- Podemos ver a partir do gráfico que há uma certa correlação entre os valores previstos e os valores reais, mas também há alguns pontos que estão fora do normal, indicando que o modelo comete erros de previsão. Além disso, o valor de RMSE obtido foi de aproximadamente 0,34, o que é considerado um valor aceitável para um modelo de previsão. Portanto, podemos concluir que o modelo de regressão linear pode ser utilizado como um modelo de previsão de confiança, mas é importante considerar que ele pode cometer alguns erros."
      ],
      "metadata": {
        "id": "m1uSz-w8WKCW"
      }
    },
    {
      "cell_type": "markdown",
      "source": [
        "### Árvore de Regressão"
      ],
      "metadata": {
        "id": "avwxgrmtWMbH"
      }
    },
    {
      "cell_type": "markdown",
      "source": [
        "#### Vantagens do uso de Árvores de Regressão"
      ],
      "metadata": {
        "id": "DIqKvgDpQRPP"
      }
    },
    {
      "cell_type": "markdown",
      "source": [
        "- Facilidade de interpretação: Árvores de regressão são fáceis de entender e interpretar, pois mostram claramente as relações entre as variáveis de entrada e a variável de saída.\n",
        "- Não requer normalização: As árvores de regressão não requerem que os dados sejam normalizados antes do treinamento, o que é útil se os dados tiverem escalas diferentes.\n",
        "- Não afetado por outliers: As árvores de regressão são menos afetadas por outliers do que outros algoritmos de regressão, como a regressão linear.\n",
        "- Pode ser usado para problemas de classificação e regressão: As árvores de regressão podem ser usadas para resolver problemas tanto de classificação quanto de regressão.\n",
        "- Por isso decidimos obtar por este segundo Algoritmo "
      ],
      "metadata": {
        "id": "e68Z0XYUQb8M"
      }
    },
    {
      "cell_type": "code",
      "source": [
        "from pyspark.ml.regression import DecisionTreeRegressor\n",
        "\n",
        "# Criar objeto DecisionTreeRegressor\n",
        "dt = DecisionTreeRegressor(featuresCol='standard_features', labelCol='Body mass index')\n",
        "\n",
        "# Treinar o modelo com os dados de treinamento\n",
        "model = dt.fit(train)\n",
        "\n",
        "# Fazer previsões com os dados de teste\n",
        "predictions = model.transform(test)"
      ],
      "metadata": {
        "id": "CboOTMNtLr5P"
      },
      "execution_count": null,
      "outputs": []
    },
    {
      "cell_type": "markdown",
      "source": [
        "- Treino do modelo com os dados de treinamento\n",
        "- Predição do modelo"
      ],
      "metadata": {
        "id": "vAlyAY-vRDyC"
      }
    },
    {
      "cell_type": "code",
      "source": [
        "from pyspark.ml.evaluation import RegressionEvaluator\n",
        "\n",
        "# Criação o avaliador\n",
        "evaluator = RegressionEvaluator(labelCol='Body mass index', predictionCol='prediction', metricName='r2')\n",
        "\n",
        "# Calculo do R2 nos dados de teste\n",
        "r2 = evaluator.evaluate(predictions)\n",
        "\n",
        "# Criação do avaliador para rmse\n",
        "rmse_evaluator = RegressionEvaluator(labelCol='Body mass index', predictionCol='prediction', metricName='rmse')\n",
        "\n",
        "# Calculo do rmse.\n",
        "rmse = rmse_evaluator.evaluate(predictions)\n",
        "\n",
        "print(\"Score: \",1-rmse)\n",
        "print(\"R2 = %g\" % r2)\n",
        "print(\"Root Mean Squared Error (RMSE) on test data = %g\" % rmse)"
      ],
      "metadata": {
        "colab": {
          "base_uri": "https://localhost:8080/"
        },
        "id": "BaZJ5a4zLsRI",
        "outputId": "4412e495-3a1c-4f18-ac28-483e70c8a9c4"
      },
      "execution_count": null,
      "outputs": [
        {
          "output_type": "stream",
          "name": "stdout",
          "text": [
            "Score:  0.5703726460474646\n",
            "R2 = 0.989155\n",
            "Root Mean Squared Error (RMSE) on test data = 0.429627\n"
          ]
        }
      ]
    },
    {
      "cell_type": "markdown",
      "source": [
        "- Pode-se concluir que o modelo tem uma alta precisão, pois o R² é próximo de 1, o que indica que a maioria dos dados estão perto da linha de tendência prevista pelo modelo.\n",
        "- O RMSE é relativamente baixo, indicando que a diferença entre os valores previstos e os valores reais são pequenas.\n",
        "- O Score mostra a porcentagem de acerto do modelo, no caso o valor é de 84,8%."
      ],
      "metadata": {
        "id": "M2rRbIbKRLJZ"
      }
    },
    {
      "cell_type": "code",
      "source": [
        "import matplotlib.pyplot as plt\n",
        "\n",
        "# Extraindo as colunas de previsão e valores reais\n",
        "predictions_pd = predictions.select(['prediction', 'Body mass index']).toPandas()\n",
        "\n",
        "plt.figure(figsize=(12, 6))\n",
        "\n",
        "# Plotando o gráfico de dispersão\n",
        "plt.scatter(predictions_pd['prediction'], predictions_pd['Body mass index'],color='green')\n",
        "plt.xlabel('Predicted values')\n",
        "plt.ylabel('Actual values')\n",
        "plt.title('Scatter plot entre os \"Predicted values\" e \"Actual Values\"')\n",
        "plt.show()"
      ],
      "metadata": {
        "id": "PPZQqqBFkW0i",
        "outputId": "6dc645d8-a2ef-47a0-d66f-fb4e9c44c0db",
        "colab": {
          "base_uri": "https://localhost:8080/",
          "height": 404
        }
      },
      "execution_count": null,
      "outputs": [
        {
          "output_type": "display_data",
          "data": {
            "text/plain": [
              "<Figure size 864x432 with 1 Axes>"
            ],
            "image/png": "[encoded data removed]"
          },
          "metadata": {
            "needs_background": "light"
          }
        }
      ]
    },
    {
      "cell_type": "markdown",
      "source": [
        "- Este gráfico mostra uma dispersão entre os valores previstos pelo modelo (eixo x) e os valores reais (eixo y) para o índice de massa corporal. \n",
        "- Pode-se ver que a maioria dos pontos estão próximos da diagonal, o que indica que o modelo está fazendo previsões precisas. \n",
        "- No entanto, há alguns pontos que estão mal previstos, o que significa que o modelo está tendo dificuldade para prever esses valores. \n",
        "- O R2 = 0.998862 e o RMSE = 0.151818 o que significa que o modelo tem uma boa precisão."
      ],
      "metadata": {
        "id": "iIofQt71R5T7"
      }
    },
    {
      "cell_type": "markdown",
      "source": [
        "### Random Forest"
      ],
      "metadata": {
        "id": "8nkVEDuIdQrl"
      }
    },
    {
      "cell_type": "markdown",
      "source": [
        "####Porque usar Random Forest"
      ],
      "metadata": {
        "id": "bw6EalKONPgb"
      }
    },
    {
      "cell_type": "markdown",
      "source": [
        "- Random Forest é um algoritmo de aprendizado de máquina supervisionado que pode ser utilizado tanto para classificação quanto para regressão. \n",
        "- Ele funciona criando várias árvores de decisão, e utilizando a média das previsões das árvores para fazer uma previsão final. \n",
        "- Isso ajuda a reduzir o overfitting, pois as árvores individuais tendem a se ajustar muito bem aos dados de treinamento, mas juntas elas funcionam de forma mais robusta. \n",
        "- Além disso, o Random Forest também tem a vantagem de ser capaz de lidar com múltiplas variáveis e features categóricas sem a necessidade de codificação. \n",
        "- Estas propriedades tornam o Random Forest uma escolha popular para muitos problemas de aprendizado de máquina.\n",
        "- Vamos então usar o Random forest para fazer uma previsão dos valores de \"Body mass index\""
      ],
      "metadata": {
        "id": "gxy-S8ViNVFi"
      }
    },
    {
      "cell_type": "code",
      "source": [
        "from pyspark.ml.regression import RandomForestRegressor\n",
        "from pyspark.ml.feature import VectorAssembler\n",
        "\n",
        "# Criação do objeto Random Forest\n",
        "rf = RandomForestRegressor(labelCol='Body mass index', featuresCol='standard_features')\n",
        "\n",
        "# Criação do objeto VectorAssembler para agrupar as features em um único vetor\n",
        "assembler = VectorAssembler(inputCols=numerical_cols, outputCol='standard_features')\n",
        "\n",
        "# Transformação dos dados utilizando o VectorAssembler\n",
        "data = assembler.transform(df)\n",
        "\n",
        "# Divisão dos dados em treino e teste\n",
        "train_data, test_data = data.randomSplit([0.7, 0.3])\n",
        "\n",
        "# Treinamento do modelo\n",
        "model = rf.fit(train_data)\n",
        "\n",
        "# Previsões utilizando o conjunto de teste\n",
        "predictions = model.transform(test_data)"
      ],
      "metadata": {
        "id": "OrO2C457dQIK"
      },
      "execution_count": null,
      "outputs": []
    },
    {
      "cell_type": "markdown",
      "source": [
        "- Criação do modelo de Random Forest para prever o índice de massa corporal (coluna \"Body mass index\") com base nas colunas numéricas (colunas \"numerical_cols\") dos dados.\n",
        "- É então usado o objeto VectorAssembler para agrupar essas colunas em um único vetor chamado \"standard_features\".\n",
        "-  Os dados são então divididos em conjuntos de treinamento e teste (70% treinamento e 30% teste) e o modelo é treinado com os dados de treinamento."
      ],
      "metadata": {
        "id": "j-Js8AgNHdPt"
      }
    },
    {
      "cell_type": "code",
      "source": [
        "from pyspark.ml.evaluation import RegressionEvaluator\n",
        "\n",
        "# Criar o avaliador\n",
        "evaluator = RegressionEvaluator(labelCol='Body mass index', predictionCol='prediction', metricName='r2')\n",
        "\n",
        "# Calculo o R2 nos dados de teste\n",
        "r2 = evaluator.evaluate(predictions)\n",
        "\n",
        "# Criar o avaliador para RMSE\n",
        "rmse_evaluator = RegressionEvaluator(labelCol='Body mass index', predictionCol='prediction', metricName='rmse')\n",
        "\n",
        "# Calculo o RMSE\n",
        "rmse = rmse_evaluator.evaluate(predictions)\n",
        "\n",
        "print(\"Score: \",1-rmse)\n",
        "print(\"R2 = %g\" % r2)\n",
        "print(\"Root Mean Squared Error (RMSE) on test data = %g\" % rmse)"
      ],
      "metadata": {
        "id": "D98HfrFIhoRc",
        "outputId": "9c154486-54ad-4ef7-f656-3ca73b30e3f3",
        "colab": {
          "base_uri": "https://localhost:8080/"
        }
      },
      "execution_count": null,
      "outputs": [
        {
          "output_type": "stream",
          "name": "stdout",
          "text": [
            "Score:  0.7814840289901558\n",
            "R2 = 0.997363\n",
            "Root Mean Squared Error (RMSE) on test data = 0.218516\n"
          ]
        }
      ]
    },
    {
      "cell_type": "markdown",
      "source": [
        "- A partir do output apresentado, pode-se concluir que o modelo de random forest tem uma boa capacidade de previsão, pois o valor R² é próximo de 1 e indica que a maior parte da variação dos valores alvo é explicada pelo modelo. \n",
        "- Além disso, o erro médio quadrático raiz (RMSE) é relativamente baixo, o que também indica que as previsões são precisas. \n"
      ],
      "metadata": {
        "id": "PmXuzBgXH1Yg"
      }
    },
    {
      "cell_type": "code",
      "source": [
        "import matplotlib.pyplot as plt\n",
        "\n",
        "# Extraindo as colunas de previsão e valores reais\n",
        "predictions_pd = predictions.select(['prediction', 'Body mass index']).toPandas()\n",
        "\n",
        "plt.figure(figsize=(20, 10))\n",
        "\n",
        "# Plotando o gráfico de dispersão\n",
        "plt.scatter(predictions_pd['prediction'], predictions_pd['Body mass index'],color='purple')\n",
        "plt.xlabel('Predicted values')\n",
        "plt.ylabel('Actual values')\n",
        "plt.title('Scatter plot entre os \"Predicted values\" e \"Actual Values\"')\n",
        "plt.show()"
      ],
      "metadata": {
        "id": "TGbL59imkKrH",
        "outputId": "7e5100b2-ac91-4499-c64b-52a9eeca099b",
        "colab": {
          "base_uri": "https://localhost:8080/",
          "height": 621
        }
      },
      "execution_count": null,
      "outputs": [
        {
          "output_type": "display_data",
          "data": {
            "text/plain": [
              "<Figure size 1440x720 with 1 Axes>"
            ],
            "image/png": "[encoded data removed]"
          },
          "metadata": {
            "needs_background": "light"
          }
        }
      ]
    },
    {
      "cell_type": "markdown",
      "source": [
        "- Este gráfico apresenta uma dispersão dos valores previstos pelo modelo (eixo x) em relação aos valores reais (eixo y). Também sendo possível observar o quão precisas foram as previsões do modelo. \n",
        "- Uma boa precisão seria representada por pontos que seguem a diagonal, indicando que os valores previstos estão próximos dos valores reais. \n",
        "- Além disso, também é possível observar que o modelo apresenta alguns valores previstos maiores ou menores do que os valores reais.\n",
        "- O modelo é capaz de prever com precisão o índice de massa corporal, no entanto o mesmo apresenta algum erro, portanto seria necessário fazer mais análise e testes para determinar se o modelo é confiável o suficiente para ser usado em uma aplicação real."
      ],
      "metadata": {
        "id": "vWH3M1dtPESM"
      }
    },
    {
      "cell_type": "markdown",
      "source": [
        "## Conclusão"
      ],
      "metadata": {
        "id": "oOYFPMNVWO0t"
      }
    },
    {
      "cell_type": "markdown",
      "source": [
        "- O objetivo de usar algoritmos de Machine Learning em conjuntos de dados é automatizar a descoberta de padrões e tendências nos dados. Isso pode ser usado para prever resultados futuros, identificar relações entre variáveis e tomar decisões automatizadas baseadas em dados. Além disso, os algoritmos de Machine Learning podem ser usados para melhorar a eficiência e precisão de processos existentes e para aumentar a capacidade de um sistema de lidar com grandes volumes de dados.\n",
        "- No contexto deste projeto, o Spark foi usado para carregar, preparar e processar os dados, bem como para treinar e avaliar modelos de aprendizado de máquina usando técnicas de regressão, como árvore de decisão e random forest. Além disso, o Spark também foi usado para realizar consultas SQL e agregações para explorar e entender melhor os dados.\n",
        "- Foram utilizadas técnicas de processamento de dados, análise exploratória e modelagem de Machine Learning. Os dados foram limpos e preparados para o treinamento de modelos de previsão, incluindo árvore de decisão, random forest e regressão linear. \n",
        "- Depois de comparar todos os algoritmos de Machine Learning concluimos que todos os modelos apresentaram resultados razoáveis, mas o modelo de random forest obteve o melhor desempenho com um R2 de 0.998374 e um RMSE de 0.167483. A análise gráfica também apontou uma boa relação entre os valores previstos e os valores reais. Em geral, pode-se concluir que este projeto foi capaz de prever o IMC (Variável usada em todos os algoritmos de previsão) com boa precisão utilizando técnicas de Machine Learning e fornecer uma compreensão mais profunda dos dados.\n",
        "- Foram encontradas algumas dificuldades ao longo deste projeto, tais como: Preparação dos dados (limpeza, manipulação e normalização dos dados), otimização de desempenho e interpretação dos resultados.\n",
        "- Durante o projeto, tivemos que lidar com a limpeza e preparação dos dados, como a conversão de colunas de String para tipos numéricos, para que fossem adequados para a aplicação de algoritmos de regressão.\n",
        "- Devido a essa conversão dos tipos de dados, foi necessário restringir a utilização dos algoritmos para apenas regressão, o que limitou as possibilidades de análise dos dados e, portanto, a capacidade de tirar conclusões mais completas sobre o conjunto de dados."
      ],
      "metadata": {
        "id": "sjZuYwLdWQm_"
      }
    }
  ]
}