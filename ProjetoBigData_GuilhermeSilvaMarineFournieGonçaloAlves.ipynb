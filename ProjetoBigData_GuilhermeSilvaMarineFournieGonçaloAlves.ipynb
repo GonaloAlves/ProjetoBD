{
  "nbformat": 4,
  "nbformat_minor": 0,
  "metadata": {
    "colab": {
      "provenance": [],
      "authorship_tag": "ABX9TyNPUqaJybS4SzVyd4A1q0BI",
      "include_colab_link": true
    },
    "kernelspec": {
      "name": "python3",
      "display_name": "Python 3"
    },
    "language_info": {
      "name": "python"
    }
  },
  "cells": [
    {
      "cell_type": "markdown",
      "metadata": {
        "id": "view-in-github",
        "colab_type": "text"
      },
      "source": [
        "<a href=\"https://colab.research.google.com/github/GuilhermeVCCdaSilva/ProjetoBD/blob/main/ProjetoBigData_GuilhermeSilvaMarineFournieGon%C3%A7aloAlves.ipynb\" target=\"_parent\"><img src=\"https://colab.research.google.com/assets/colab-badge.svg\" alt=\"Open In Colab\"/></a>"
      ]
    },
    {
      "cell_type": "code",
      "execution_count": 1,
      "metadata": {
        "colab": {
          "base_uri": "https://localhost:8080/"
        },
        "id": "A7PzfgEmI-OC",
        "outputId": "c1da2fc6-3f19-4060-c04c-4c058680b30a"
      },
      "outputs": [
        {
          "output_type": "stream",
          "name": "stdout",
          "text": [
            "Looking in indexes: https://pypi.org/simple, https://us-python.pkg.dev/colab-wheels/public/simple/\n",
            "Collecting pyspark\n",
            "  Downloading pyspark-3.3.1.tar.gz (281.4 MB)\n",
            "\u001b[2K     \u001b[90m━━━━━━━━━━━━━━━━━━━━━━━━━━━━━━━━━━━━━━━\u001b[0m \u001b[32m281.4/281.4 MB\u001b[0m \u001b[31m4.2 MB/s\u001b[0m eta \u001b[36m0:00:00\u001b[0m\n",
            "\u001b[?25h  Preparing metadata (setup.py) ... \u001b[?25l\u001b[?25hdone\n",
            "Collecting py4j==0.10.9.5\n",
            "  Downloading py4j-0.10.9.5-py2.py3-none-any.whl (199 kB)\n",
            "\u001b[2K     \u001b[90m━━━━━━━━━━━━━━━━━━━━━━━━━━━━━━━━━━━━━━\u001b[0m \u001b[32m199.7/199.7 KB\u001b[0m \u001b[31m17.6 MB/s\u001b[0m eta \u001b[36m0:00:00\u001b[0m\n",
            "\u001b[?25hBuilding wheels for collected packages: pyspark\n",
            "  Building wheel for pyspark (setup.py) ... \u001b[?25l\u001b[?25hdone\n",
            "  Created wheel for pyspark: filename=pyspark-3.3.1-py2.py3-none-any.whl size=281845512 sha256=070ce5acac7da97deaa730ce85d898867bf88f61f701a86317da6423f9aca3a9\n",
            "  Stored in directory: /root/.cache/pip/wheels/43/dc/11/ec201cd671da62fa9c5cc77078235e40722170ceba231d7598\n",
            "Successfully built pyspark\n",
            "Installing collected packages: py4j, pyspark\n",
            "Successfully installed py4j-0.10.9.5 pyspark-3.3.1\n",
            "Looking in indexes: https://pypi.org/simple, https://us-python.pkg.dev/colab-wheels/public/simple/\n",
            "Collecting findspark\n",
            "  Downloading findspark-2.0.1-py2.py3-none-any.whl (4.4 kB)\n",
            "Installing collected packages: findspark\n",
            "Successfully installed findspark-2.0.1\n"
          ]
        }
      ],
      "source": [
        "# Installing required packages\n",
        "!pip install pyspark\n",
        "!pip install findspark"
      ]
    },
    {
      "cell_type": "markdown",
      "source": [
        "#Creating a SparkSession\n",
        "Uma **SparkSession** é o ponto de entrada principal para trabalhar com dados no Spark. Ele é responsável por gerenciar a configuração do Spark, criar RDDs (Resilient Distributed Datasets) e DataFrames, registrar tabelas temporárias e gerenciar o conjunto de recursos de cluster que estão sendo usados.\n",
        "\n",
        "A SparkSession é a classe principal do Spark SQL, que é o módulo do Spark que permite trabalhar com dados estruturados e relacionais. Ele permite que você execute consultas SQL, manipule DataFrames e extraia metadados. Ele também oferece acesso às bibliotecas de processamento de fluxo de dados (como o DataFrame API e o SQL) e às bibliotecas de aprendizado de máquina (como o MLlib) do Spark.\n",
        "\n",
        "Uma SparkSession é criada usando o SparkSession.builder. É possível configurar a sessão com várias opções, como o nome do aplicativo, o endereço do cluster, o número de núcleos para usar e a quantidade de memória. Além disso, é possível usar a SparkSession para gerenciar configurações globais, como as configurações de memória e de arquivo de log.\n",
        "\n",
        ".config(\"spark.memory.offHeap.enabled\",\"true\") é uma configuração utilizada para habilitar o uso de memória fora da heap (off-heap) no Spark. Quando essa configuração é definida como \"true\", o Spark pode usar memória fora do heap do JVM para armazenar os dados e realizar operações. Isso pode ser útil quando o heap do JVM não é suficiente para armazenar todos os dados, permitindo que o Spark use mais memória do que o heap para melhorar o desempenho das operações.\n",
        "\n",
        ".config(\"spark.memory.offHeap.size\",\"10g\") é uma configuração utilizada para definir a quantidade de memória fora da heap (off-heap) que o Spark pode usar. O valor \"10g\" indica que o Spark pode usar até 10 gigabytes de memória fora da heap. Esse valor pode ser ajustado de acordo com o tamanho dos dados e as necessidades do seu aplicativo."
      ],
      "metadata": {
        "id": "9pqgarnoKqPR"
      }
    },
    {
      "cell_type": "code",
      "source": [
        "from pyspark.sql import SparkSession\n",
        "import findspark\n",
        "\n",
        "findspark.init()\n",
        "\n",
        "spark = SparkSession.builder.appName(\"Pyspark Tutorial\")\\\n",
        "                    .config(\"spark.memory.offHeap.enabled\",\"true\")\\\n",
        "                    .config(\"spark.memory.offHeap.size\",\"10g\")\\\n",
        "                    .getOrCreate()\n",
        "spark                    "
      ],
      "metadata": {
        "colab": {
          "base_uri": "https://localhost:8080/",
          "height": 221
        },
        "id": "rUCnB3MwJmbw",
        "outputId": "85c80492-58b2-4959-dde4-55f5f4ace43f"
      },
      "execution_count": 2,
      "outputs": [
        {
          "output_type": "execute_result",
          "data": {
            "text/plain": [
              "<pyspark.sql.session.SparkSession at 0x7fe8855449d0>"
            ],
            "text/html": [
              "\n",
              "            <div>\n",
              "                <p><b>SparkSession - in-memory</b></p>\n",
              "                \n",
              "        <div>\n",
              "            <p><b>SparkContext</b></p>\n",
              "\n",
              "            <p><a href=\"http://55ad54bb31c9:4040\">Spark UI</a></p>\n",
              "\n",
              "            <dl>\n",
              "              <dt>Version</dt>\n",
              "                <dd><code>v3.3.1</code></dd>\n",
              "              <dt>Master</dt>\n",
              "                <dd><code>local[*]</code></dd>\n",
              "              <dt>AppName</dt>\n",
              "                <dd><code>Pyspark Tutorial</code></dd>\n",
              "            </dl>\n",
              "        </div>\n",
              "        \n",
              "            </div>\n",
              "        "
            ]
          },
          "metadata": {},
          "execution_count": 2
        }
      ]
    },
    {
      "cell_type": "code",
      "source": [
        "!curl https://raw.githubusercontent.com/GuilhermeVCCdaSilva/ProjetoBD/main/Absenteeism_at_work.csv >> Absenteeism_at_work.csv\n",
        "df = spark.read.csv('Absenteeism_at_work.csv',header=True,sep=\";\")"
      ],
      "metadata": {
        "colab": {
          "base_uri": "https://localhost:8080/"
        },
        "id": "lsM9rQDKP06H",
        "outputId": "7eb4045b-0413-4ad1-aad1-06421f4e721b"
      },
      "execution_count": 3,
      "outputs": [
        {
          "output_type": "stream",
          "name": "stdout",
          "text": [
            "  % Total    % Received % Xferd  Average Speed   Time    Time     Time  Current\n",
            "                                 Dload  Upload   Total   Spent    Left  Speed\n",
            "\r  0     0    0     0    0     0      0      0 --:--:-- --:--:-- --:--:--     0\r100 45232  100 45232    0     0   210k      0 --:--:-- --:--:-- --:--:--  210k\n"
          ]
        }
      ]
    },
    {
      "cell_type": "code",
      "source": [
        "df.show(10)"
      ],
      "metadata": {
        "colab": {
          "base_uri": "https://localhost:8080/"
        },
        "id": "MHhZB0e8QZJq",
        "outputId": "4b83d7c9-56de-4c5a-9807-6c421074890a"
      },
      "execution_count": 7,
      "outputs": [
        {
          "output_type": "stream",
          "name": "stdout",
          "text": [
            "+---+------------------+----------------+---------------+-------+----------------------+-------------------------------+------------+---+----------------------+----------+--------------------+---------+---+--------------+-------------+---+------+------+---------------+-------------------------+\n",
            "| ID|Reason for absence|Month of absence|Day of the week|Seasons|Transportation expense|Distance from Residence to Work|Service time|Age|Work load Average/day |Hit target|Disciplinary failure|Education|Son|Social drinker|Social smoker|Pet|Weight|Height|Body mass index|Absenteeism time in hours|\n",
            "+---+------------------+----------------+---------------+-------+----------------------+-------------------------------+------------+---+----------------------+----------+--------------------+---------+---+--------------+-------------+---+------+------+---------------+-------------------------+\n",
            "| 11|                26|               7|              3|      1|                   289|                             36|          13| 33|               239.554|        97|                   0|        1|  2|             1|            0|  1|    90|   172|             30|                        4|\n",
            "| 36|                 0|               7|              3|      1|                   118|                             13|          18| 50|               239.554|        97|                   1|        1|  1|             1|            0|  0|    98|   178|             31|                        0|\n",
            "|  3|                23|               7|              4|      1|                   179|                             51|          18| 38|               239.554|        97|                   0|        1|  0|             1|            0|  0|    89|   170|             31|                        2|\n",
            "|  7|                 7|               7|              5|      1|                   279|                              5|          14| 39|               239.554|        97|                   0|        1|  2|             1|            1|  0|    68|   168|             24|                        4|\n",
            "| 11|                23|               7|              5|      1|                   289|                             36|          13| 33|               239.554|        97|                   0|        1|  2|             1|            0|  1|    90|   172|             30|                        2|\n",
            "|  3|                23|               7|              6|      1|                   179|                             51|          18| 38|               239.554|        97|                   0|        1|  0|             1|            0|  0|    89|   170|             31|                        2|\n",
            "| 10|                22|               7|              6|      1|                   361|                             52|           3| 28|               239.554|        97|                   0|        1|  1|             1|            0|  4|    80|   172|             27|                        8|\n",
            "| 20|                23|               7|              6|      1|                   260|                             50|          11| 36|               239.554|        97|                   0|        1|  4|             1|            0|  0|    65|   168|             23|                        4|\n",
            "| 14|                19|               7|              2|      1|                   155|                             12|          14| 34|               239.554|        97|                   0|        1|  2|             1|            0|  0|    95|   196|             25|                       40|\n",
            "|  1|                22|               7|              2|      1|                   235|                             11|          14| 37|               239.554|        97|                   0|        3|  1|             0|            0|  1|    88|   172|             29|                        8|\n",
            "+---+------------------+----------------+---------------+-------+----------------------+-------------------------------+------------+---+----------------------+----------+--------------------+---------+---+--------------+-------------+---+------+------+---------------+-------------------------+\n",
            "only showing top 10 rows\n",
            "\n"
          ]
        }
      ]
    },
    {
      "cell_type": "markdown",
      "source": [
        "#Este DataSet contém várias colunas tais como:\n",
        "\n",
        "1.  ID: Identificador único para cada registo.\n",
        "2.    Razão para a ausência: Razão para a ausência do funcionário no trabalho.\n",
        "3.    Mês da ausência: O mês em que o funcionário estava ausente.\n",
        "4.    Dia da semana: O dia da semana em que o funcionário estava ausente.\n",
        "5.    Estações: A estação do ano em que o funcionário estava ausente.\n",
        "6.    Despesas de transporte: As despesas de transporte incorridas pelo funcionário ao viajar para o trabalho.\n",
        "7.    Distância da residência para o trabalho: A distância entre a residência do funcionário e o local de trabalho.\n",
        "8.    Tempo de serviço: O período de tempo em que o funcionário está a trabalhar na empresa.\n",
        "9.    Idade: A idade do funcionário.\n",
        "10.    Carga de trabalho média/dia: A carga de trabalho média do funcionário por dia.\n",
        "11.    Alvo atingido: Se o funcionário atingiu ou não o alvo\n",
        "12.    Falha disciplinar: Se o funcionário cometeu alguma falha disciplinar ou não.\n",
        "12.    Educação: O nível de educação do funcionário.\n",
        "14.    Filhos: O número de filhos que o funcionário tem.\n",
        "15.    Bebedor social: Se o funcionário bebe socialmente ou não.\n",
        "16.    Fumador social: Se o funcionário fuma socialmente ou não.\n",
        "17.    Animal de estimação: Se o funcionário tem algum animal de estimação ou não.\n",
        "18.    Peso: O peso do funcionário.\n",
        "19.    Altura: A altura do funcionário.\n",
        "20.    Índice de massa corporal: O índice de massa corporal do funcionário.\n",
        "21.    Tempo de ausência em horas: O número de horas que o funcionário ficou ausente."
      ],
      "metadata": {
        "id": "YLZpeS-tS9tx"
      }
    },
    {
      "cell_type": "markdown",
      "source": [
        "#Exploratory Data Analysis"
      ],
      "metadata": {
        "id": "VQWMTCcVVJeO"
      }
    },
    {
      "cell_type": "markdown",
      "source": [
        "- Check the number of rows and columns in the dataset"
      ],
      "metadata": {
        "id": "GePEAYSsVQyU"
      }
    },
    {
      "cell_type": "code",
      "source": [
        "print(\"Number of rows:\", df.count())\n",
        "print(\"Number of columns:\", len(df.columns))"
      ],
      "metadata": {
        "colab": {
          "base_uri": "https://localhost:8080/"
        },
        "id": "zN6DdjtpTOyA",
        "outputId": "0bb9b669-2708-4dfa-edcc-71b48581b7b6"
      },
      "execution_count": 9,
      "outputs": [
        {
          "output_type": "stream",
          "name": "stdout",
          "text": [
            "Number of rows: 740\n",
            "Number of columns: 21\n"
          ]
        }
      ]
    },
    {
      "cell_type": "markdown",
      "source": [
        "- Check the statistics of numerical columns"
      ],
      "metadata": {
        "id": "sKuXxaemVXhg"
      }
    },
    {
      "cell_type": "code",
      "source": [
        "df.describe().show()"
      ],
      "metadata": {
        "colab": {
          "base_uri": "https://localhost:8080/"
        },
        "id": "0c-qgJslVXoy",
        "outputId": "9df9264a-ec8c-4cd1-ba1a-b84e245c2845"
      },
      "execution_count": 10,
      "outputs": [
        {
          "output_type": "stream",
          "name": "stdout",
          "text": [
            "+-------+------------------+------------------+------------------+------------------+------------------+----------------------+-------------------------------+------------------+-----------------+----------------------+-----------------+--------------------+------------------+------------------+-------------------+-------------------+------------------+------------------+------------------+------------------+-------------------------+\n",
            "|summary|                ID|Reason for absence|  Month of absence|   Day of the week|           Seasons|Transportation expense|Distance from Residence to Work|      Service time|              Age|Work load Average/day |       Hit target|Disciplinary failure|         Education|               Son|     Social drinker|      Social smoker|               Pet|            Weight|            Height|   Body mass index|Absenteeism time in hours|\n",
            "+-------+------------------+------------------+------------------+------------------+------------------+----------------------+-------------------------------+------------------+-----------------+----------------------+-----------------+--------------------+------------------+------------------+-------------------+-------------------+------------------+------------------+------------------+------------------+-------------------------+\n",
            "|  count|               740|               740|               740|               740|               740|                   740|                            740|               740|              740|                   740|              740|                 740|               740|               740|                740|                740|               740|               740|               740|               740|                      740|\n",
            "|   mean|18.017567567567568|19.216216216216218| 6.324324324324325|3.9148648648648647|2.5445945945945945|    221.32972972972973|              29.63108108108108|12.554054054054054|            36.45|    271.49023513513544|94.58783783783784| 0.05405405405405406|1.2918918918918918| 1.018918918918919| 0.5675675675675675|0.07297297297297298| 0.745945945945946| 79.03513513513514|172.11486486486487|26.677027027027027|        6.924324324324324|\n",
            "| stddev|11.021247263063657|  8.43340588279965|3.4362869319125897|1.4216747097562805| 1.111831060157382|     66.95222324531973|             14.836788436739143| 4.384873407621148|6.478772457611868|    39.058116188144055|3.779313134418015| 0.22627727323215058|0.6732380415251598|1.0984890195302817|0.49574866720003496| 0.2602680502800183|1.3182582913258336|12.883210507177214| 6.034994530267662| 4.285452223167274|       13.330998100978196|\n",
            "|    min|                 1|                 0|                 0|                 2|                 1|                   118|                             10|                 1|               27|               205.917|              100|                   0|                 1|                 0|                  0|                  0|                 0|               100|               163|                19|                        0|\n",
            "|    max|                 9|                 9|                 9|                 6|                 4|                   388|                             52|                 9|               58|               378.884|               99|                   1|                 4|                 4|                  1|                  1|                 8|                98|               196|                38|                       80|\n",
            "+-------+------------------+------------------+------------------+------------------+------------------+----------------------+-------------------------------+------------------+-----------------+----------------------+-----------------+--------------------+------------------+------------------+-------------------+-------------------+------------------+------------------+------------------+------------------+-------------------------+\n",
            "\n"
          ]
        }
      ]
    },
    {
      "cell_type": "markdown",
      "source": [
        "- Check the number of missing values in each column"
      ],
      "metadata": {
        "id": "UdoQ-eXJVkXy"
      }
    },
    {
      "cell_type": "code",
      "source": [
        "# create a list to store the number of missing values in each column\n",
        "missing_values = []\n",
        "\n",
        "# iterate through the columns in the dataset\n",
        "for col in df.columns:\n",
        "    missing_values.append((col, df.filter(df[col].isNull()).count()))\n",
        "\n",
        "# print the missing values\n",
        "for col, val in missing_values:\n",
        "    if val == 0:\n",
        "        print(\"{} : No missing values\".format(col))\n",
        "    else:\n",
        "        print(\"{} : {} missing values\".format(col, val))"
      ],
      "metadata": {
        "colab": {
          "base_uri": "https://localhost:8080/"
        },
        "id": "oIUHcnylVkkT",
        "outputId": "13a8608d-b7bd-4f43-8ee9-2dd9646c016f"
      },
      "execution_count": 36,
      "outputs": [
        {
          "output_type": "stream",
          "name": "stdout",
          "text": [
            "ID : No missing values\n",
            "Reason for absence : No missing values\n",
            "Month of absence : No missing values\n",
            "Day of the week : No missing values\n",
            "Seasons : No missing values\n",
            "Transportation expense : No missing values\n",
            "Distance from Residence to Work : No missing values\n",
            "Service time : No missing values\n",
            "Age : No missing values\n",
            "Work load Average/day  : No missing values\n",
            "Hit target : No missing values\n",
            "Disciplinary failure : No missing values\n",
            "Education : No missing values\n",
            "Son : No missing values\n",
            "Social drinker : No missing values\n",
            "Social smoker : No missing values\n",
            "Pet : No missing values\n",
            "Weight : No missing values\n",
            "Height : No missing values\n",
            "Body mass index : No missing values\n",
            "Absenteeism time in hours : No missing values\n"
          ]
        }
      ]
    },
    {
      "cell_type": "markdown",
      "source": [
        "- check the data types of the columns"
      ],
      "metadata": {
        "id": "7ywFa9_dVuab"
      }
    },
    {
      "cell_type": "code",
      "source": [
        "df.dtypes"
      ],
      "metadata": {
        "colab": {
          "base_uri": "https://localhost:8080/"
        },
        "id": "D-44Emf8Vumq",
        "outputId": "738c9a6c-3439-40ee-e396-15f271cc5b3a"
      },
      "execution_count": 27,
      "outputs": [
        {
          "output_type": "execute_result",
          "data": {
            "text/plain": [
              "[('ID', 'string'),\n",
              " ('Reason for absence', 'double'),\n",
              " ('Month of absence', 'double'),\n",
              " ('Day of the week', 'double'),\n",
              " ('Seasons', 'double'),\n",
              " ('Transportation expense', 'double'),\n",
              " ('Distance from Residence to Work', 'double'),\n",
              " ('Service time', 'double'),\n",
              " ('Age', 'double'),\n",
              " ('Work load Average/day ', 'string'),\n",
              " ('Hit target', 'string'),\n",
              " ('Disciplinary failure', 'string'),\n",
              " ('Education', 'string'),\n",
              " ('Son', 'string'),\n",
              " ('Social drinker', 'string'),\n",
              " ('Social smoker', 'string'),\n",
              " ('Pet', 'string'),\n",
              " ('Weight', 'string'),\n",
              " ('Height', 'string'),\n",
              " ('Body mass index', 'string'),\n",
              " ('Absenteeism time in hours', 'string')]"
            ]
          },
          "metadata": {},
          "execution_count": 27
        }
      ]
    },
    {
      "cell_type": "markdown",
      "source": [
        "- Check the correlation between columns"
      ],
      "metadata": {
        "id": "YRWORZmcZpaY"
      }
    },
    {
      "cell_type": "code",
      "source": [
        "corr = df.stat.corr(\"Month of absence\", \"Transportation expense\")\n",
        "print(corr)"
      ],
      "metadata": {
        "colab": {
          "base_uri": "https://localhost:8080/"
        },
        "id": "M5Dl2OSHZpmq",
        "outputId": "655cd695-ef50-48f2-9f9a-e66741acb0e3"
      },
      "execution_count": 45,
      "outputs": [
        {
          "output_type": "stream",
          "name": "stdout",
          "text": [
            "0.13752456639267643\n"
          ]
        }
      ]
    },
    {
      "cell_type": "markdown",
      "source": [
        "- Check the number of unique values in each column"
      ],
      "metadata": {
        "id": "CW3ZHgn5ZRmw"
      }
    },
    {
      "cell_type": "code",
      "source": [
        " for col in df.columns:\n",
        "    print(\"Unique values in column '{}':\".format(col), df.select(col).distinct().count())"
      ],
      "metadata": {
        "colab": {
          "base_uri": "https://localhost:8080/"
        },
        "id": "LyIVMUGvZRX2",
        "outputId": "2925711c-d1fa-4227-e65f-0fb0bdec28b1"
      },
      "execution_count": 35,
      "outputs": [
        {
          "output_type": "stream",
          "name": "stdout",
          "text": [
            "Unique values in column 'ID': 36\n",
            "Unique values in column 'Reason for absence': 28\n",
            "Unique values in column 'Month of absence': 13\n",
            "Unique values in column 'Day of the week': 5\n",
            "Unique values in column 'Seasons': 4\n",
            "Unique values in column 'Transportation expense': 24\n",
            "Unique values in column 'Distance from Residence to Work': 25\n",
            "Unique values in column 'Service time': 18\n",
            "Unique values in column 'Age': 22\n",
            "Unique values in column 'Work load Average/day ': 38\n",
            "Unique values in column 'Hit target': 13\n",
            "Unique values in column 'Disciplinary failure': 2\n",
            "Unique values in column 'Education': 4\n",
            "Unique values in column 'Son': 5\n",
            "Unique values in column 'Social drinker': 2\n",
            "Unique values in column 'Social smoker': 2\n",
            "Unique values in column 'Pet': 6\n",
            "Unique values in column 'Weight': 26\n",
            "Unique values in column 'Height': 14\n",
            "Unique values in column 'Body mass index': 17\n",
            "Unique values in column 'Absenteeism time in hours': 19\n"
          ]
        }
      ]
    },
    {
      "cell_type": "markdown",
      "source": [
        "- check the distribution of each column"
      ],
      "metadata": {
        "id": "RpIyc62DbzvG"
      }
    },
    {
      "cell_type": "code",
      "source": [
        "for col in df.columns:\n",
        "    df.select(col).groupBy(col).count().show()"
      ],
      "metadata": {
        "colab": {
          "base_uri": "https://localhost:8080/"
        },
        "id": "YrPtshpGbz0u",
        "outputId": "727d8fb3-a144-4250-e268-1f7ca7177cfe"
      },
      "execution_count": 49,
      "outputs": [
        {
          "output_type": "stream",
          "name": "stdout",
          "text": [
            "+---+-----+\n",
            "| ID|count|\n",
            "+---+-----+\n",
            "|  7|    6|\n",
            "| 15|   37|\n",
            "| 11|   40|\n",
            "| 29|    5|\n",
            "|  3|  113|\n",
            "| 30|    7|\n",
            "| 34|   55|\n",
            "|  8|    2|\n",
            "| 28|   76|\n",
            "| 22|   46|\n",
            "| 16|    2|\n",
            "| 35|    1|\n",
            "|  5|   19|\n",
            "| 31|    3|\n",
            "| 18|   16|\n",
            "| 27|    7|\n",
            "| 17|   20|\n",
            "| 26|    5|\n",
            "|  6|    8|\n",
            "| 19|    3|\n",
            "+---+-----+\n",
            "only showing top 20 rows\n",
            "\n",
            "+------------------+-----+\n",
            "|Reason for absence|count|\n",
            "+------------------+-----+\n",
            "|               8.0|    6|\n",
            "|               0.0|   43|\n",
            "|               7.0|   15|\n",
            "|              18.0|   21|\n",
            "|               1.0|   16|\n",
            "|              25.0|   31|\n",
            "|               4.0|    2|\n",
            "|              23.0|  149|\n",
            "|              11.0|   26|\n",
            "|              21.0|    6|\n",
            "|              14.0|   19|\n",
            "|              22.0|   38|\n",
            "|              19.0|   40|\n",
            "|               3.0|    1|\n",
            "|              28.0|  112|\n",
            "|               2.0|    1|\n",
            "|              17.0|    1|\n",
            "|              27.0|   69|\n",
            "|              10.0|   25|\n",
            "|              13.0|   55|\n",
            "+------------------+-----+\n",
            "only showing top 20 rows\n",
            "\n",
            "+----------------+-----+\n",
            "|Month of absence|count|\n",
            "+----------------+-----+\n",
            "|             8.0|   54|\n",
            "|             0.0|    3|\n",
            "|             7.0|   67|\n",
            "|             1.0|   50|\n",
            "|             4.0|   53|\n",
            "|            11.0|   63|\n",
            "|             3.0|   87|\n",
            "|             2.0|   72|\n",
            "|            10.0|   71|\n",
            "|             6.0|   54|\n",
            "|             5.0|   64|\n",
            "|             9.0|   53|\n",
            "|            12.0|   49|\n",
            "+----------------+-----+\n",
            "\n",
            "+---------------+-----+\n",
            "|Day of the week|count|\n",
            "+---------------+-----+\n",
            "|            4.0|  156|\n",
            "|            3.0|  154|\n",
            "|            2.0|  161|\n",
            "|            6.0|  144|\n",
            "|            5.0|  125|\n",
            "+---------------+-----+\n",
            "\n",
            "+-------+-----+\n",
            "|Seasons|count|\n",
            "+-------+-----+\n",
            "|    1.0|  170|\n",
            "|    4.0|  195|\n",
            "|    3.0|  183|\n",
            "|    2.0|  192|\n",
            "+-------+-----+\n",
            "\n",
            "+----------------------+-----+\n",
            "|Transportation expense|count|\n",
            "+----------------------+-----+\n",
            "|                 184.0|    7|\n",
            "|                 235.0|   58|\n",
            "|                 369.0|   15|\n",
            "|                 155.0|   29|\n",
            "|                 268.0|    3|\n",
            "|                 279.0|    6|\n",
            "|                 388.0|    3|\n",
            "|                 378.0|    8|\n",
            "|                 231.0|    2|\n",
            "|                 179.0|  180|\n",
            "|                 300.0|    5|\n",
            "|                 225.0|   81|\n",
            "|                 246.0|   30|\n",
            "|                 330.0|   16|\n",
            "|                 248.0|   24|\n",
            "|                 118.0|   92|\n",
            "|                 361.0|   24|\n",
            "|                 157.0|    7|\n",
            "|                 291.0|   40|\n",
            "|                 189.0|    8|\n",
            "+----------------------+-----+\n",
            "only showing top 20 rows\n",
            "\n",
            "+-------------------------------+-----+\n",
            "|Distance from Residence to Work|count|\n",
            "+-------------------------------+-----+\n",
            "|                           49.0|    8|\n",
            "|                           29.0|   14|\n",
            "|                           42.0|    7|\n",
            "|                           35.0|    2|\n",
            "|                           25.0|   54|\n",
            "|                           36.0|   40|\n",
            "|                           50.0|   45|\n",
            "|                           45.0|    1|\n",
            "|                           31.0|   37|\n",
            "|                           11.0|   26|\n",
            "|                           51.0|  120|\n",
            "|                           14.0|    9|\n",
            "|                           48.0|    5|\n",
            "|                           22.0|   20|\n",
            "|                           17.0|   15|\n",
            "|                           27.0|    7|\n",
            "|                           10.0|   55|\n",
            "|                           13.0|   34|\n",
            "|                           20.0|   19|\n",
            "|                           52.0|   24|\n",
            "+-------------------------------+-----+\n",
            "only showing top 20 rows\n",
            "\n",
            "+------------+-----+\n",
            "|Service time|count|\n",
            "+------------+-----+\n",
            "|         8.0|   13|\n",
            "|         7.0|    7|\n",
            "|        29.0|    5|\n",
            "|        18.0|  147|\n",
            "|         1.0|    7|\n",
            "|         4.0|   16|\n",
            "|        11.0|   50|\n",
            "|        14.0|   85|\n",
            "|         3.0|   24|\n",
            "|        17.0|   20|\n",
            "|        10.0|   55|\n",
            "|        13.0|   73|\n",
            "|         6.0|    7|\n",
            "|        15.0|    4|\n",
            "|        24.0|    2|\n",
            "|         9.0|  126|\n",
            "|        16.0|   38|\n",
            "|        12.0|   61|\n",
            "+------------+-----+\n",
            "\n",
            "+----+-----+\n",
            "| Age|count|\n",
            "+----+-----+\n",
            "|49.0|    5|\n",
            "|29.0|    7|\n",
            "|47.0|   24|\n",
            "|39.0|    8|\n",
            "|34.0|   29|\n",
            "|37.0|   78|\n",
            "|36.0|   50|\n",
            "|41.0|   34|\n",
            "|50.0|   37|\n",
            "|31.0|   22|\n",
            "|58.0|    8|\n",
            "|48.0|    6|\n",
            "|53.0|    1|\n",
            "|46.0|    2|\n",
            "|28.0|  117|\n",
            "|38.0|  113|\n",
            "|27.0|    7|\n",
            "|40.0|   58|\n",
            "|30.0|   46|\n",
            "|33.0|   51|\n",
            "+----+-----+\n",
            "only showing top 20 rows\n",
            "\n",
            "+----------------------+-----+\n",
            "|Work load Average/day |count|\n",
            "+----------------------+-----+\n",
            "|               284.853|   25|\n",
            "|               222.196|   36|\n",
            "|               251.818|   21|\n",
            "|               261.306|   15|\n",
            "|               326.452|   20|\n",
            "|               241.476|   22|\n",
            "|               239.409|   13|\n",
            "|               280.549|   15|\n",
            "|               261.756|   12|\n",
            "|               271.219|    3|\n",
            "|               265.017|   28|\n",
            "|               205.917|   21|\n",
            "|               239.554|   19|\n",
            "|               302.585|   18|\n",
            "|               330.061|   11|\n",
            "|               268.519|   23|\n",
            "|               308.593|   24|\n",
            "|               253.465|   18|\n",
            "|               244.387|   22|\n",
            "|               230.290|   20|\n",
            "+----------------------+-----+\n",
            "only showing top 20 rows\n",
            "\n",
            "+----------+-----+\n",
            "|Hit target|count|\n",
            "+----------+-----+\n",
            "|        87|   12|\n",
            "|        98|   66|\n",
            "|        99|  102|\n",
            "|        96|   75|\n",
            "|       100|   11|\n",
            "|        93|  105|\n",
            "|        95|   75|\n",
            "|        92|   79|\n",
            "|        81|   19|\n",
            "|        97|   89|\n",
            "|        88|   28|\n",
            "|        94|   34|\n",
            "|        91|   45|\n",
            "+----------+-----+\n",
            "\n",
            "+--------------------+-----+\n",
            "|Disciplinary failure|count|\n",
            "+--------------------+-----+\n",
            "|                   0|  700|\n",
            "|                   1|   40|\n",
            "+--------------------+-----+\n",
            "\n",
            "+---------+-----+\n",
            "|Education|count|\n",
            "+---------+-----+\n",
            "|        3|   79|\n",
            "|        1|  611|\n",
            "|        4|    4|\n",
            "|        2|   46|\n",
            "+---------+-----+\n",
            "\n",
            "+---+-----+\n",
            "|Son|count|\n",
            "+---+-----+\n",
            "|  3|   15|\n",
            "|  0|  298|\n",
            "|  1|  229|\n",
            "|  4|   42|\n",
            "|  2|  156|\n",
            "+---+-----+\n",
            "\n",
            "+--------------+-----+\n",
            "|Social drinker|count|\n",
            "+--------------+-----+\n",
            "|             0|  320|\n",
            "|             1|  420|\n",
            "+--------------+-----+\n",
            "\n",
            "+-------------+-----+\n",
            "|Social smoker|count|\n",
            "+-------------+-----+\n",
            "|            0|  686|\n",
            "|            1|   54|\n",
            "+-------------+-----+\n",
            "\n",
            "+---+-----+\n",
            "|Pet|count|\n",
            "+---+-----+\n",
            "|  8|    8|\n",
            "|  0|  460|\n",
            "|  5|    6|\n",
            "|  1|  138|\n",
            "|  4|   32|\n",
            "|  2|   96|\n",
            "+---+-----+\n",
            "\n",
            "+------+-----+\n",
            "|Weight|count|\n",
            "+------+-----+\n",
            "|    69|   85|\n",
            "|    73|   37|\n",
            "|    98|   35|\n",
            "|   100|    2|\n",
            "|    70|   15|\n",
            "|    75|   19|\n",
            "|    89|  113|\n",
            "|    77|    6|\n",
            "|    90|   40|\n",
            "|    68|   13|\n",
            "|    95|   29|\n",
            "|   108|    5|\n",
            "|    86|   24|\n",
            "|    58|    7|\n",
            "|    67|   30|\n",
            "|   106|   19|\n",
            "|    84|   16|\n",
            "|    79|    3|\n",
            "|    88|   29|\n",
            "|    56|   46|\n",
            "+------+-----+\n",
            "only showing top 20 rows\n",
            "\n",
            "+------+-----+\n",
            "|Height|count|\n",
            "+------+-----+\n",
            "|   169|   95|\n",
            "|   171|   83|\n",
            "|   163|    6|\n",
            "|   174|    8|\n",
            "|   168|   48|\n",
            "|   185|    7|\n",
            "|   167|   34|\n",
            "|   170|  166|\n",
            "|   178|   57|\n",
            "|   165|   24|\n",
            "|   172|  155|\n",
            "|   182|   20|\n",
            "|   175|    8|\n",
            "|   196|   29|\n",
            "+------+-----+\n",
            "\n",
            "+---------------+-----+\n",
            "|Body mass index|count|\n",
            "+---------------+-----+\n",
            "|             29|   23|\n",
            "|             30|   40|\n",
            "|             34|    1|\n",
            "|             22|   35|\n",
            "|             28|   59|\n",
            "|             35|    2|\n",
            "|             31|  147|\n",
            "|             27|   24|\n",
            "|             19|   46|\n",
            "|             23|   75|\n",
            "|             38|   19|\n",
            "|             25|  126|\n",
            "|             33|    6|\n",
            "|             24|   86|\n",
            "|             32|   24|\n",
            "|             36|    5|\n",
            "|             21|   22|\n",
            "+---------------+-----+\n",
            "\n",
            "+-------------------------+-----+\n",
            "|Absenteeism time in hours|count|\n",
            "+-------------------------+-----+\n",
            "|                        7|    1|\n",
            "|                      112|    2|\n",
            "|                       64|    3|\n",
            "|                        3|  112|\n",
            "|                        8|  208|\n",
            "|                       16|   19|\n",
            "|                        0|   44|\n",
            "|                        5|    7|\n",
            "|                      120|    3|\n",
            "|                      104|    1|\n",
            "|                       40|    7|\n",
            "|                       48|    1|\n",
            "|                       24|   16|\n",
            "|                       32|    6|\n",
            "|                        1|   88|\n",
            "|                       56|    2|\n",
            "|                        4|   60|\n",
            "|                        2|  157|\n",
            "|                       80|    3|\n",
            "+-------------------------+-----+\n",
            "\n"
          ]
        }
      ]
    },
    {
      "cell_type": "code",
      "source": [
        "df.groupBy(\"Reason for absence\").agg({\"Absenteeism time in hours\": \"mean\"}).show()\n",
        "df.groupBy(\"Month of absence\").agg({\"Absenteeism time in hours\": \"mean\"}).show()\n",
        "df.groupBy(\"Day of the week\").agg({\"Absenteeism time in hours\": \"mean\"}).show()\n",
        "df.groupBy(\"Seasons\").agg({\"Absenteeism time in hours\": \"mean\"}).show()\n",
        "df.groupBy(\"Education\").agg({\"Absenteeism time in hours\": \"mean\"}).show()\n",
        "df.groupBy(\"Social drinker\").agg({\"Absenteeism time in hours\": \"mean\"}).show()\n",
        "df.groupBy(\"Social smoker\").agg({\"Absenteeism time in hours\": \"mean\"}).show()"
      ],
      "metadata": {
        "colab": {
          "base_uri": "https://localhost:8080/"
        },
        "id": "wxxqczcccICw",
        "outputId": "7b76d85b-0a7b-4144-fe97-f233a11bc244"
      },
      "execution_count": 48,
      "outputs": [
        {
          "output_type": "stream",
          "name": "stdout",
          "text": [
            "+------------------+------------------------------+\n",
            "|Reason for absence|avg(Absenteeism time in hours)|\n",
            "+------------------+------------------------------+\n",
            "|               8.0|             5.333333333333333|\n",
            "|               0.0|                           0.0|\n",
            "|               7.0|                          10.0|\n",
            "|              18.0|            10.333333333333334|\n",
            "|               1.0|                        11.375|\n",
            "|              25.0|            3.4838709677419355|\n",
            "|               4.0|                           4.5|\n",
            "|              23.0|            2.8456375838926173|\n",
            "|              11.0|            11.423076923076923|\n",
            "|              21.0|             5.833333333333333|\n",
            "|              14.0|             8.789473684210526|\n",
            "|              22.0|            7.7105263157894735|\n",
            "|              19.0|                        18.225|\n",
            "|               3.0|                           8.0|\n",
            "|              28.0|            2.9910714285714284|\n",
            "|               2.0|                          24.0|\n",
            "|              17.0|                           8.0|\n",
            "|              27.0|            2.2753623188405796|\n",
            "|              10.0|                         11.04|\n",
            "|              13.0|            15.309090909090909|\n",
            "+------------------+------------------------------+\n",
            "only showing top 20 rows\n",
            "\n",
            "+----------------+------------------------------+\n",
            "|Month of absence|avg(Absenteeism time in hours)|\n",
            "+----------------+------------------------------+\n",
            "|             8.0|             5.333333333333333|\n",
            "|             0.0|                           0.0|\n",
            "|             7.0|            10.955223880597014|\n",
            "|             1.0|                          4.44|\n",
            "|             4.0|              9.09433962264151|\n",
            "|            11.0|             7.507936507936508|\n",
            "|             3.0|             8.793103448275861|\n",
            "|             2.0|             4.083333333333333|\n",
            "|            10.0|             4.915492957746479|\n",
            "|             6.0|             7.611111111111111|\n",
            "|             5.0|                          6.25|\n",
            "|             9.0|             5.509433962264151|\n",
            "|            12.0|             8.448979591836734|\n",
            "+----------------+------------------------------+\n",
            "\n",
            "+---------------+------------------------------+\n",
            "|Day of the week|avg(Absenteeism time in hours)|\n",
            "+---------------+------------------------------+\n",
            "|            4.0|             7.147435897435898|\n",
            "|            3.0|              7.98051948051948|\n",
            "|            2.0|             9.248447204968944|\n",
            "|            6.0|                         5.125|\n",
            "|            5.0|                         4.424|\n",
            "+---------------+------------------------------+\n",
            "\n",
            "+-------+------------------------------+\n",
            "|Seasons|avg(Absenteeism time in hours)|\n",
            "+-------+------------------------------+\n",
            "|    1.0|                           7.3|\n",
            "|    4.0|            6.3538461538461535|\n",
            "|    3.0|             8.153005464480874|\n",
            "|    2.0|                           6.0|\n",
            "+-------+------------------------------+\n",
            "\n",
            "+---------+------------------------------+\n",
            "|Education|avg(Absenteeism time in hours)|\n",
            "+---------+------------------------------+\n",
            "|        3|             5.265822784810126|\n",
            "|        1|             7.189852700490999|\n",
            "|        4|                          5.25|\n",
            "|        2|             6.391304347826087|\n",
            "+---------+------------------------------+\n",
            "\n",
            "+--------------+------------------------------+\n",
            "|Social drinker|avg(Absenteeism time in hours)|\n",
            "+--------------+------------------------------+\n",
            "|             0|                       5.93125|\n",
            "|             1|             7.680952380952381|\n",
            "+--------------+------------------------------+\n",
            "\n",
            "+-------------+------------------------------+\n",
            "|Social smoker|avg(Absenteeism time in hours)|\n",
            "+-------------+------------------------------+\n",
            "|            0|             6.957725947521866|\n",
            "|            1|                           6.5|\n",
            "+-------------+------------------------------+\n",
            "\n"
          ]
        }
      ]
    }
  ]
}