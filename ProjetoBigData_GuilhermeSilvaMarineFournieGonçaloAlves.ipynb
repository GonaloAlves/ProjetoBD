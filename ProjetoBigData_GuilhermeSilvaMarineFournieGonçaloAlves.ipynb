{
  "nbformat": 4,
  "nbformat_minor": 0,
  "metadata": {
    "colab": {
      "provenance": [],
      "include_colab_link": true
    },
    "kernelspec": {
      "name": "python3",
      "display_name": "Python 3"
    },
    "language_info": {
      "name": "python"
    }
  },
  "cells": [
    {
      "cell_type": "markdown",
      "metadata": {
        "id": "view-in-github",
        "colab_type": "text"
      },
      "source": [
        "<a href=\"https://colab.research.google.com/github/GuilhermeVCCdaSilva/ProjetoBD/blob/main/ProjetoBigData_GuilhermeSilvaMarineFournieGon%C3%A7aloAlves.ipynb\" target=\"_parent\"><img src=\"https://colab.research.google.com/assets/colab-badge.svg\" alt=\"Open In Colab\"/></a>"
      ]
    },
    {
      "cell_type": "markdown",
      "source": [
        "<img src=\"https://www.estbarreiro.ips.pt/Content/images/logo-ESTB.png\" align=\"right\" alt=\"EsT Logo circle logo\" style=\"height: 200px; width:300px;\"/>\n",
        "\n",
        "# Projeto Final Big Data \n",
        "* __Guilherme Silva__\n",
        "* __Marine Emilie Fournier__\n",
        "* __Gonçalo Alves__"
      ],
      "metadata": {
        "id": "5y9CFXldkFjG"
      }
    },
    {
      "cell_type": "code",
      "execution_count": 1,
      "metadata": {
        "colab": {
          "base_uri": "https://localhost:8080/"
        },
        "id": "A7PzfgEmI-OC",
        "outputId": "9f2f556a-ba06-4d60-f190-7e41ad22982a"
      },
      "outputs": [
        {
          "output_type": "stream",
          "name": "stdout",
          "text": [
            "Looking in indexes: https://pypi.org/simple, https://us-python.pkg.dev/colab-wheels/public/simple/\n",
            "Requirement already satisfied: pyspark in /usr/local/lib/python3.8/dist-packages (3.3.1)\n",
            "Requirement already satisfied: py4j==0.10.9.5 in /usr/local/lib/python3.8/dist-packages (from pyspark) (0.10.9.5)\n",
            "Looking in indexes: https://pypi.org/simple, https://us-python.pkg.dev/colab-wheels/public/simple/\n",
            "Requirement already satisfied: findspark in /usr/local/lib/python3.8/dist-packages (2.0.1)\n"
          ]
        }
      ],
      "source": [
        "# Installing required packages\n",
        "!pip install pyspark\n",
        "!pip install findspark"
      ]
    },
    {
      "cell_type": "markdown",
      "source": [
        "##Criar uma \"SparkSession\"\n",
        "- Para se trabalhar com dados no Spark, é essencial criar uma SparkSession, este passo é fundamental e o primeiro a ser realizado. Ela é responsável por gerenciar a configuração do Spark, criar RDDs (Resilient Distributed Datasets) e DataFrames, registar tabelas temporárias e gerenciar os recursos do cluster utilizados.\n",
        "\n",
        "- A SparkSession é o ponto de partida para trabalhar com dados estruturados e relacionais no Spark SQL, o módulo do Spark que fornece suporte para essa funcionalidade. Ele permite que você execute consultas SQL, manipule DataFrames e extraia metadados. Ele também oferece acesso às bibliotecas de processamento de fluxo de dados (como o DataFrame API e o SQL) e às bibliotecas de aprendizado de máquina (como o MLlib) do Spark.\n",
        "\n",
        "- A SparkSession (criada usando SparkSession.builder) é uma classe fundamental para trabalhar com dados no Spark, é através dela que é possível configurar e gerenciar a sessão, estabelecer conexões com o cluster, definir opções de configuração e gerenciar recursos como o número de núcleos para usar e a quantidade de memória. É a porta de entrada para trabalhar com dados estruturados e relacionais no Spark SQL.\n",
        "\n",
        "- A configuração \".config(\"spark.memory.offHeap.enabled\")\" permite habilitar o uso de memória fora da heap (off-heap). Quando essa configuração é definida como \"true\", o Spark pode usar memória fora do heap do JVM para armazenar os dados e realizar operações. Isso permite que o Spark armazene e execute operações com mais dados, o que pode melhorar o desempenho quando a memória disponível dentro da heap não é suficiente.\n",
        "\n",
        "- A configuração \".config(\"spark.memory.offHeap.size\",\"10g\")\" permite definir a quantidade de memória fora do heap (off-heap) disponível para o Spark usar. Neste caso, o valor \"10g\" indica que o Spark pode usar até 10 gigabytes de memória fora do heap. Esse valor pode ser ajustado de acordo com o tamanho dos dados e as necessidades do seu aplicativo para garantir o melhor desempenho possível."
      ],
      "metadata": {
        "id": "9pqgarnoKqPR"
      }
    },
    {
      "cell_type": "code",
      "source": [
        "from pyspark.sql import SparkSession\n",
        "import findspark\n",
        "\n",
        "findspark.init()\n",
        "\n",
        "spark = SparkSession.builder.appName(\"Pyspark ProjetoBD\")\\\n",
        "                    .config(\"spark.memory.offHeap.enabled\",\"true\")\\\n",
        "                    .config(\"spark.memory.offHeap.size\",\"20g\")\\\n",
        "                    .getOrCreate()\n",
        "spark                    "
      ],
      "metadata": {
        "colab": {
          "base_uri": "https://localhost:8080/",
          "height": 221
        },
        "id": "rUCnB3MwJmbw",
        "outputId": "a1fb1f03-3466-49b3-eaf1-d02ac50be194"
      },
      "execution_count": 2,
      "outputs": [
        {
          "output_type": "execute_result",
          "data": {
            "text/plain": [
              "<pyspark.sql.session.SparkSession at 0x7f0c26d41190>"
            ],
            "text/html": [
              "\n",
              "            <div>\n",
              "                <p><b>SparkSession - in-memory</b></p>\n",
              "                \n",
              "        <div>\n",
              "            <p><b>SparkContext</b></p>\n",
              "\n",
              "            <p><a href=\"http://bebbcda82542:4040\">Spark UI</a></p>\n",
              "\n",
              "            <dl>\n",
              "              <dt>Version</dt>\n",
              "                <dd><code>v3.3.1</code></dd>\n",
              "              <dt>Master</dt>\n",
              "                <dd><code>local[*]</code></dd>\n",
              "              <dt>AppName</dt>\n",
              "                <dd><code>Pyspark ProjetoBD</code></dd>\n",
              "            </dl>\n",
              "        </div>\n",
              "        \n",
              "            </div>\n",
              "        "
            ]
          },
          "metadata": {},
          "execution_count": 2
        }
      ]
    },
    {
      "cell_type": "markdown",
      "source": [
        "##Carregamento dos dados do DataSete criação do DataFrame:\n",
        "Link para o DataSet: https://archive.ics.uci.edu/ml/datasets/Absenteeism+at+work"
      ],
      "metadata": {
        "id": "a9icJbVvkYOl"
      }
    },
    {
      "cell_type": "code",
      "source": [
        "!curl https://raw.githubusercontent.com/GuilhermeVCCdaSilva/ProjetoBD/main/Absenteeism_at_work.csv >> Absenteeism_at_work.csv\n",
        "df = spark.read.csv('Absenteeism_at_work.csv',header=True,sep=\";\")"
      ],
      "metadata": {
        "colab": {
          "base_uri": "https://localhost:8080/"
        },
        "id": "lsM9rQDKP06H",
        "outputId": "b11d4300-cf56-4118-ea15-31844962a602"
      },
      "execution_count": 3,
      "outputs": [
        {
          "output_type": "stream",
          "name": "stdout",
          "text": [
            "  % Total    % Received % Xferd  Average Speed   Time    Time     Time  Current\n",
            "                                 Dload  Upload   Total   Spent    Left  Speed\n",
            "100 45232  100 45232    0     0   262k      0 --:--:-- --:--:-- --:--:--  262k\n"
          ]
        }
      ]
    },
    {
      "cell_type": "markdown",
      "source": [
        "##\"Data Visualization\" e Análise\n",
        "\n",
        "- Primeiramente vamos tamanho e o tipo de dados do nosso Dataset.\n",
        "\n",
        "- Este passo era mais simples ser executado através do método shape, mas como o não é suportado pelo PySpark DataFrame, no entanto, podemos contar o número de linhas e colunas usando o método count() e verificar o esquema (colunas e tipos de dados) do DataFrame usando o método printSchema()."
      ],
      "metadata": {
        "id": "ijyIKIbP2uvr"
      }
    },
    {
      "cell_type": "code",
      "source": [
        "print(\"Numero de Linhas:\", df.count())\n",
        "print(\"Numero de Colunas:\", len(df.columns))\n",
        "print(\"Esquema do DataFrame: \")\n",
        "df.printSchema()"
      ],
      "metadata": {
        "colab": {
          "base_uri": "https://localhost:8080/"
        },
        "id": "O2TpxCTA28pK",
        "outputId": "8cf3d6ff-4cab-4821-bf54-32cda06dfaf7"
      },
      "execution_count": 4,
      "outputs": [
        {
          "output_type": "stream",
          "name": "stdout",
          "text": [
            "Numero de Linhas: 10373\n",
            "Numero de Colunas: 21\n",
            "Esquema do DataFrame: \n",
            "root\n",
            " |-- ID: string (nullable = true)\n",
            " |-- Reason for absence: string (nullable = true)\n",
            " |-- Month of absence: string (nullable = true)\n",
            " |-- Day of the week: string (nullable = true)\n",
            " |-- Seasons: string (nullable = true)\n",
            " |-- Transportation expense: string (nullable = true)\n",
            " |-- Distance from Residence to Work: string (nullable = true)\n",
            " |-- Service time: string (nullable = true)\n",
            " |-- Age: string (nullable = true)\n",
            " |-- Work load Average/day : string (nullable = true)\n",
            " |-- Hit target: string (nullable = true)\n",
            " |-- Disciplinary failure: string (nullable = true)\n",
            " |-- Education: string (nullable = true)\n",
            " |-- Son: string (nullable = true)\n",
            " |-- Social drinker: string (nullable = true)\n",
            " |-- Social smoker: string (nullable = true)\n",
            " |-- Pet: string (nullable = true)\n",
            " |-- Weight: string (nullable = true)\n",
            " |-- Height: string (nullable = true)\n",
            " |-- Body mass index: string (nullable = true)\n",
            " |-- Absenteeism time in hours: string (nullable = true)\n",
            "\n"
          ]
        }
      ]
    },
    {
      "cell_type": "markdown",
      "source": [
        "Resumindo: \n",
        "- O DataFrame tem 8891 linhas e 21 colunas. O esquema do DataFrame mostra que todas as colunas são do tipo string e são nullable (podem conter valores nulos). Algumas das colunas incluem \"ID\", \"Reason for absence\", \"Month of absence\", \"Age\" e \"Absenteeism time in hours\"."
      ],
      "metadata": {
        "id": "MxuKGwjWTyZb"
      }
    },
    {
      "cell_type": "code",
      "source": [
        "df.show(10)"
      ],
      "metadata": {
        "colab": {
          "base_uri": "https://localhost:8080/"
        },
        "id": "MHhZB0e8QZJq",
        "outputId": "aacddd41-f4c6-442b-9f7e-76f8ce572a32"
      },
      "execution_count": 5,
      "outputs": [
        {
          "output_type": "stream",
          "name": "stdout",
          "text": [
            "+---+------------------+----------------+---------------+-------+----------------------+-------------------------------+------------+---+----------------------+----------+--------------------+---------+---+--------------+-------------+---+------+------+---------------+-------------------------+\n",
            "| ID|Reason for absence|Month of absence|Day of the week|Seasons|Transportation expense|Distance from Residence to Work|Service time|Age|Work load Average/day |Hit target|Disciplinary failure|Education|Son|Social drinker|Social smoker|Pet|Weight|Height|Body mass index|Absenteeism time in hours|\n",
            "+---+------------------+----------------+---------------+-------+----------------------+-------------------------------+------------+---+----------------------+----------+--------------------+---------+---+--------------+-------------+---+------+------+---------------+-------------------------+\n",
            "| 11|                26|               7|              3|      1|                   289|                             36|          13| 33|               239.554|        97|                   0|        1|  2|             1|            0|  1|    90|   172|             30|                        4|\n",
            "| 36|                 0|               7|              3|      1|                   118|                             13|          18| 50|               239.554|        97|                   1|        1|  1|             1|            0|  0|    98|   178|             31|                        0|\n",
            "|  3|                23|               7|              4|      1|                   179|                             51|          18| 38|               239.554|        97|                   0|        1|  0|             1|            0|  0|    89|   170|             31|                        2|\n",
            "|  7|                 7|               7|              5|      1|                   279|                              5|          14| 39|               239.554|        97|                   0|        1|  2|             1|            1|  0|    68|   168|             24|                        4|\n",
            "| 11|                23|               7|              5|      1|                   289|                             36|          13| 33|               239.554|        97|                   0|        1|  2|             1|            0|  1|    90|   172|             30|                        2|\n",
            "|  3|                23|               7|              6|      1|                   179|                             51|          18| 38|               239.554|        97|                   0|        1|  0|             1|            0|  0|    89|   170|             31|                        2|\n",
            "| 10|                22|               7|              6|      1|                   361|                             52|           3| 28|               239.554|        97|                   0|        1|  1|             1|            0|  4|    80|   172|             27|                        8|\n",
            "| 20|                23|               7|              6|      1|                   260|                             50|          11| 36|               239.554|        97|                   0|        1|  4|             1|            0|  0|    65|   168|             23|                        4|\n",
            "| 14|                19|               7|              2|      1|                   155|                             12|          14| 34|               239.554|        97|                   0|        1|  2|             1|            0|  0|    95|   196|             25|                       40|\n",
            "|  1|                22|               7|              2|      1|                   235|                             11|          14| 37|               239.554|        97|                   0|        3|  1|             0|            0|  1|    88|   172|             29|                        8|\n",
            "+---+------------------+----------------+---------------+-------+----------------------+-------------------------------+------------+---+----------------------+----------+--------------------+---------+---+--------------+-------------+---+------+------+---------------+-------------------------+\n",
            "only showing top 10 rows\n",
            "\n"
          ]
        }
      ]
    },
    {
      "cell_type": "markdown",
      "source": [
        "##Descrição das variáveis do DataFrame:\n",
        "\n",
        "- ID: Identificador único para cada registo.\n",
        "- Razão para a ausência: Razão para a ausência do funcionário no trabalho.\n",
        "- Mês da ausência: O mês em que o funcionário estava ausente.\n",
        "- Dia da semana: O dia da semana em que o funcionário estava ausente.\n",
        "- Estações: A estação do ano em que o funcionário estava ausente.\n",
        "- Despesas de transporte: As despesas de transporte incorridas pelo funcionário ao viajar para o trabalho.\n",
        "- Distância da residência para o trabalho: A distância entre a residência do funcionário e o local de trabalho.\n",
        "- Tempo de serviço: O período de tempo em que o funcionário está a trabalhar na empresa.\n",
        "- Idade: A idade do funcionário.\n",
        "- Carga de trabalho média/dia: A carga de trabalho média do funcionário por dia.\n",
        "- Alvo atingido: Se o funcionário atingiu ou não o alvo\n",
        "- Falha disciplinar: Se o funcionário cometeu alguma falha disciplinar ou não.\n",
        "- Educação: O nível de educação do funcionário.\n",
        "- Filhos: O número de filhos que o funcionário tem.\n",
        "- Bebedor social: Se o funcionário bebe socialmente ou não.\n",
        "- Fumador social: Se o funcionário fuma socialmente ou não.\n",
        "- Animal de estimação: Se o funcionário tem algum animal de estimação ou não.\n",
        "- Peso: O peso do funcionário.\n",
        "- Altura: A altura do funcionário.\n",
        "- Índice de massa corporal: O índice de massa corporal do funcionário.\n",
        "- Tempo de ausência em horas: O número de horas que o funcionário ficou ausente."
      ],
      "metadata": {
        "id": "YLZpeS-tS9tx"
      }
    },
    {
      "cell_type": "code",
      "source": [
        "df = df.drop(\"id\")"
      ],
      "metadata": {
        "id": "yW8q41acuUw1"
      },
      "execution_count": 6,
      "outputs": []
    },
    {
      "cell_type": "markdown",
      "source": [
        "- Removeu-se a coluna ID pois não é relevante para os algoritmos de aprendizado de máquina."
      ],
      "metadata": {
        "id": "AR3uIAGcT9Oh"
      }
    },
    {
      "cell_type": "code",
      "source": [
        "df.show(10)"
      ],
      "metadata": {
        "colab": {
          "base_uri": "https://localhost:8080/"
        },
        "id": "3AaN9uQX381F",
        "outputId": "ab047134-e84a-463d-f23b-35a4164c71c9"
      },
      "execution_count": 7,
      "outputs": [
        {
          "output_type": "stream",
          "name": "stdout",
          "text": [
            "+------------------+----------------+---------------+-------+----------------------+-------------------------------+------------+---+----------------------+----------+--------------------+---------+---+--------------+-------------+---+------+------+---------------+-------------------------+\n",
            "|Reason for absence|Month of absence|Day of the week|Seasons|Transportation expense|Distance from Residence to Work|Service time|Age|Work load Average/day |Hit target|Disciplinary failure|Education|Son|Social drinker|Social smoker|Pet|Weight|Height|Body mass index|Absenteeism time in hours|\n",
            "+------------------+----------------+---------------+-------+----------------------+-------------------------------+------------+---+----------------------+----------+--------------------+---------+---+--------------+-------------+---+------+------+---------------+-------------------------+\n",
            "|                26|               7|              3|      1|                   289|                             36|          13| 33|               239.554|        97|                   0|        1|  2|             1|            0|  1|    90|   172|             30|                        4|\n",
            "|                 0|               7|              3|      1|                   118|                             13|          18| 50|               239.554|        97|                   1|        1|  1|             1|            0|  0|    98|   178|             31|                        0|\n",
            "|                23|               7|              4|      1|                   179|                             51|          18| 38|               239.554|        97|                   0|        1|  0|             1|            0|  0|    89|   170|             31|                        2|\n",
            "|                 7|               7|              5|      1|                   279|                              5|          14| 39|               239.554|        97|                   0|        1|  2|             1|            1|  0|    68|   168|             24|                        4|\n",
            "|                23|               7|              5|      1|                   289|                             36|          13| 33|               239.554|        97|                   0|        1|  2|             1|            0|  1|    90|   172|             30|                        2|\n",
            "|                23|               7|              6|      1|                   179|                             51|          18| 38|               239.554|        97|                   0|        1|  0|             1|            0|  0|    89|   170|             31|                        2|\n",
            "|                22|               7|              6|      1|                   361|                             52|           3| 28|               239.554|        97|                   0|        1|  1|             1|            0|  4|    80|   172|             27|                        8|\n",
            "|                23|               7|              6|      1|                   260|                             50|          11| 36|               239.554|        97|                   0|        1|  4|             1|            0|  0|    65|   168|             23|                        4|\n",
            "|                19|               7|              2|      1|                   155|                             12|          14| 34|               239.554|        97|                   0|        1|  2|             1|            0|  0|    95|   196|             25|                       40|\n",
            "|                22|               7|              2|      1|                   235|                             11|          14| 37|               239.554|        97|                   0|        3|  1|             0|            0|  1|    88|   172|             29|                        8|\n",
            "+------------------+----------------+---------------+-------+----------------------+-------------------------------+------------+---+----------------------+----------+--------------------+---------+---+--------------+-------------+---+------+------+---------------+-------------------------+\n",
            "only showing top 10 rows\n",
            "\n"
          ]
        }
      ]
    },
    {
      "cell_type": "markdown",
      "source": [
        "##COLOCAR AQUI ALGUMAS PERGUNTAS AO DATAFRAME: 3 PELO MENOS"
      ],
      "metadata": {
        "id": "dJChPFDZfEM5"
      }
    },
    {
      "cell_type": "code",
      "source": [
        "print(\"yhyh\")"
      ],
      "metadata": {
        "id": "epT6frXZfNad",
        "outputId": "e5b6209a-1f64-45d2-fcf9-9dcc747209f6",
        "colab": {
          "base_uri": "https://localhost:8080/"
        }
      },
      "execution_count": 8,
      "outputs": [
        {
          "output_type": "stream",
          "name": "stdout",
          "text": [
            "yhyh\n"
          ]
        }
      ]
    },
    {
      "cell_type": "markdown",
      "source": [
        "##Pré tratamento e Análise exploratória de dados"
      ],
      "metadata": {
        "id": "l8L8Sgi2UAhf"
      }
    },
    {
      "cell_type": "markdown",
      "source": [
        "###Vamos então verificar a existencia de valores ausentes em cada coluna."
      ],
      "metadata": {
        "id": "UdoQ-eXJVkXy"
      }
    },
    {
      "cell_type": "code",
      "source": [
        "# criar uma lista para armazenar o número de valores ausentes em cada coluna.\n",
        "missing_values = []\n",
        "\n",
        "# iterar através das colunas no conjunto de dados.\n",
        "for col in df.columns:\n",
        "    missing_values.append((col, df.filter(df[col].isNull()).count()))\n",
        "\n",
        "# print os valores inexistentes\n",
        "for col, val in missing_values:\n",
        "    if val == 0:\n",
        "        print(\"{} : Nunhum missing values encontrado\".format(col))\n",
        "    else:\n",
        "        print(\"{} : {} missing values\".format(col, val))"
      ],
      "metadata": {
        "colab": {
          "base_uri": "https://localhost:8080/"
        },
        "id": "oIUHcnylVkkT",
        "outputId": "6ecc450a-1457-467b-f500-0657bc7646f1"
      },
      "execution_count": 53,
      "outputs": [
        {
          "output_type": "stream",
          "name": "stdout",
          "text": [
            "Reason for absence : Nunhum missing values encontrado\n",
            "Month of absence : Nunhum missing values encontrado\n",
            "Day of the week : Nunhum missing values encontrado\n",
            "Seasons : Nunhum missing values encontrado\n",
            "Transportation expense : Nunhum missing values encontrado\n",
            "Distance from Residence to Work : Nunhum missing values encontrado\n",
            "Service time : Nunhum missing values encontrado\n",
            "Age : Nunhum missing values encontrado\n",
            "Work load Average/day  : Nunhum missing values encontrado\n",
            "Hit target : Nunhum missing values encontrado\n",
            "Disciplinary failure : Nunhum missing values encontrado\n",
            "Education : Nunhum missing values encontrado\n",
            "Son : Nunhum missing values encontrado\n",
            "Social drinker : Nunhum missing values encontrado\n",
            "Social smoker : Nunhum missing values encontrado\n",
            "Pet : Nunhum missing values encontrado\n",
            "Weight : Nunhum missing values encontrado\n",
            "Height : Nunhum missing values encontrado\n",
            "Body mass index : Nunhum missing values encontrado\n",
            "Absenteeism time in hours : Nunhum missing values encontrado\n"
          ]
        }
      ]
    },
    {
      "cell_type": "markdown",
      "source": [
        "- Podemos então concluir que não existem missing values"
      ],
      "metadata": {
        "id": "ry9qCQSYIBOk"
      }
    },
    {
      "cell_type": "markdown",
      "source": [
        "### Transformação dos dados"
      ],
      "metadata": {
        "id": "xzpLvDILH18K"
      }
    },
    {
      "cell_type": "markdown",
      "source": [
        "#### Verifiquar os tipos de dados das colunas."
      ],
      "metadata": {
        "id": "7ywFa9_dVuab"
      }
    },
    {
      "cell_type": "code",
      "source": [
        "df.dtypes"
      ],
      "metadata": {
        "colab": {
          "base_uri": "https://localhost:8080/"
        },
        "id": "D-44Emf8Vumq",
        "outputId": "6eb6c7b4-6520-4c64-e71e-dc00199aa737"
      },
      "execution_count": 10,
      "outputs": [
        {
          "output_type": "execute_result",
          "data": {
            "text/plain": [
              "[('Reason for absence', 'string'),\n",
              " ('Month of absence', 'string'),\n",
              " ('Day of the week', 'string'),\n",
              " ('Seasons', 'string'),\n",
              " ('Transportation expense', 'string'),\n",
              " ('Distance from Residence to Work', 'string'),\n",
              " ('Service time', 'string'),\n",
              " ('Age', 'string'),\n",
              " ('Work load Average/day ', 'string'),\n",
              " ('Hit target', 'string'),\n",
              " ('Disciplinary failure', 'string'),\n",
              " ('Education', 'string'),\n",
              " ('Son', 'string'),\n",
              " ('Social drinker', 'string'),\n",
              " ('Social smoker', 'string'),\n",
              " ('Pet', 'string'),\n",
              " ('Weight', 'string'),\n",
              " ('Height', 'string'),\n",
              " ('Body mass index', 'string'),\n",
              " ('Absenteeism time in hours', 'string')]"
            ]
          },
          "metadata": {},
          "execution_count": 10
        }
      ]
    },
    {
      "cell_type": "markdown",
      "source": [
        "\n",
        "- É possível observar que todas as colunas são do tipo \"string\", o que pode precisar ser convertido para outro tipo de dado para melhorar a análise e modelagem de Machine Learning."
      ],
      "metadata": {
        "id": "0Mxc948RrWH9"
      }
    },
    {
      "cell_type": "markdown",
      "source": [
        "#### Vamos então converter tipo de dados string para double para melhorar a análise e modelagem de Machine Learning."
      ],
      "metadata": {
        "id": "vCkbwRXrIMW3"
      }
    },
    {
      "cell_type": "code",
      "source": [
        "from pyspark.sql.functions import col\n",
        "for column in df.columns:\n",
        "    df = df.withColumn(column, col(column).cast(\"double\"))"
      ],
      "metadata": {
        "id": "cdv6VTiErKoD"
      },
      "execution_count": 11,
      "outputs": []
    },
    {
      "cell_type": "code",
      "source": [
        "df.dtypes"
      ],
      "metadata": {
        "colab": {
          "base_uri": "https://localhost:8080/"
        },
        "id": "v0zfHam_re5F",
        "outputId": "50da00b9-acd1-4a0b-fed2-3dfb99ed8b3e"
      },
      "execution_count": 12,
      "outputs": [
        {
          "output_type": "execute_result",
          "data": {
            "text/plain": [
              "[('Reason for absence', 'double'),\n",
              " ('Month of absence', 'double'),\n",
              " ('Day of the week', 'double'),\n",
              " ('Seasons', 'double'),\n",
              " ('Transportation expense', 'double'),\n",
              " ('Distance from Residence to Work', 'double'),\n",
              " ('Service time', 'double'),\n",
              " ('Age', 'double'),\n",
              " ('Work load Average/day ', 'double'),\n",
              " ('Hit target', 'double'),\n",
              " ('Disciplinary failure', 'double'),\n",
              " ('Education', 'double'),\n",
              " ('Son', 'double'),\n",
              " ('Social drinker', 'double'),\n",
              " ('Social smoker', 'double'),\n",
              " ('Pet', 'double'),\n",
              " ('Weight', 'double'),\n",
              " ('Height', 'double'),\n",
              " ('Body mass index', 'double'),\n",
              " ('Absenteeism time in hours', 'double')]"
            ]
          },
          "metadata": {},
          "execution_count": 12
        }
      ]
    },
    {
      "cell_type": "markdown",
      "source": [
        "- Agora os dados podem ser manipulados e analisados com mais facilidade, pois o tipo \"double\" permite operações matemáticas, ao contrário do tipo \"string\". E também estão corretamente configurados para que os algoritmos de Machine Learning funcionem corretamente."
      ],
      "metadata": {
        "id": "FiM9vJkCUW8i"
      }
    },
    {
      "cell_type": "markdown",
      "source": [
        "### Mapear os valores inteiros da coluna \"Reason for absence\" para descrições de texto correspondentes."
      ],
      "metadata": {
        "id": "rytPD1XCIUOm"
      }
    },
    {
      "cell_type": "code",
      "source": [
        "from pyspark.sql.functions import when\n",
        "from pyspark.sql.functions import array\n",
        "from pyspark.sql.functions import udf\n",
        "# Criar o dicionario mapping \n",
        "mapping_dict = {\n",
        "    0: \"CID - Patient follow-up\",\n",
        "    1: \"CID - Medical consultation\",\n",
        "    2: \"CID - Blood donation\",\n",
        "    3: \"CID - Laboratory examination\",\n",
        "    4: \"CID - Unjustified absence\",\n",
        "    5: \"CID - Physiotherapy\",\n",
        "    6: \"CID - Dental consultation\",\n",
        "    7: \"Certain infectious and parasitic diseases\",\n",
        "    8: \"Neoplasms\",\n",
        "    9: \"Diseases of the blood and blood-forming organs and certain disorders involving the immune mechanism\",\n",
        "    10: \"Endocrine, nutritional and metabolic diseases\",\n",
        "    11: \"Mental and behavioural disorders\",\n",
        "    12: \"Diseases of the nervous system\",\n",
        "    13: \"Diseases of the eye and adnexa\",\n",
        "    14: \"Diseases of the ear and mastoid process\",\n",
        "    15: \"Diseases of the circulatory system\",\n",
        "    16: \"Diseases of the respiratory system\",\n",
        "    17: \"Diseases of the digestive system\",\n",
        "    18: \"Diseases of the skin and subcutaneous tissue\",\n",
        "    19: \"Diseases of the musculoskeletal system and connective tissue\",\n",
        "    20: \"Diseases of the genitourinary system\",\n",
        "    21: \"Pregnancy, childbirth and the puerperium\",\n",
        "    22: \"Certain conditions originating in the perinatal period\",\n",
        "    23: \"Congenital malformations, deformations and chromosomal abnormalities\",\n",
        "    24: \"Symptoms, signs and abnormal clinical and laboratory findings, not elsewhere classified\",\n",
        "    25: \"Injury, poisoning and certain other consequences of external causes\",\n",
        "    26: \"External causes of morbidity and mortality\",\n",
        "    27: \"Factors influencing health status and contact with health services\"\n",
        "}\n",
        "\n",
        "# Criar a função definida pelo usuário.\n",
        "map_reason = udf(lambda x: mapping_dict.get(x))\n",
        "\n",
        "# Aplicar a função definida pelo usuário ao dataframe\n",
        "df = df.withColumn(\"Reason for absence\", map_reason(col(\"Reason for absence\")))"
      ],
      "metadata": {
        "id": "RwsSijZ0xnBh"
      },
      "execution_count": 13,
      "outputs": []
    },
    {
      "cell_type": "markdown",
      "source": [
        "#### Resultado:"
      ],
      "metadata": {
        "id": "lu9wR4j6Uyp4"
      }
    },
    {
      "cell_type": "code",
      "source": [
        "# Seleciona a coluna específica \"Reason for absence\" e mostra o conteúdo da mesma.\n",
        "df.select(\"Reason for absence\").show()"
      ],
      "metadata": {
        "colab": {
          "base_uri": "https://localhost:8080/"
        },
        "id": "n-cRUJQUtISa",
        "outputId": "d5de7839-1519-46d1-a6cc-aa3325f5f513"
      },
      "execution_count": 14,
      "outputs": [
        {
          "output_type": "stream",
          "name": "stdout",
          "text": [
            "+--------------------+\n",
            "|  Reason for absence|\n",
            "+--------------------+\n",
            "|External causes o...|\n",
            "|CID - Patient fol...|\n",
            "|Congenital malfor...|\n",
            "|Certain infectiou...|\n",
            "|Congenital malfor...|\n",
            "|Congenital malfor...|\n",
            "|Certain condition...|\n",
            "|Congenital malfor...|\n",
            "|Diseases of the m...|\n",
            "|Certain condition...|\n",
            "|CID - Medical con...|\n",
            "|CID - Medical con...|\n",
            "|Mental and behavi...|\n",
            "|Mental and behavi...|\n",
            "|Congenital malfor...|\n",
            "|Diseases of the e...|\n",
            "|Congenital malfor...|\n",
            "|Pregnancy, childb...|\n",
            "|Mental and behavi...|\n",
            "|Congenital malfor...|\n",
            "+--------------------+\n",
            "only showing top 20 rows\n",
            "\n"
          ]
        }
      ]
    },
    {
      "cell_type": "markdown",
      "source": [
        "- Tendo então a coluna \"Reason for absence\" mapeada, podemos então facilitar a intrepertação dos dados em graficos e algoritmos futuros"
      ],
      "metadata": {
        "id": "enxG8UdGI-MI"
      }
    },
    {
      "cell_type": "code",
      "source": [
        "df.show(10)"
      ],
      "metadata": {
        "colab": {
          "base_uri": "https://localhost:8080/"
        },
        "id": "gUZKEvuttQ3Z",
        "outputId": "c1be3b3d-334f-4292-bc95-42d5294df209"
      },
      "execution_count": 15,
      "outputs": [
        {
          "output_type": "stream",
          "name": "stdout",
          "text": [
            "+--------------------+----------------+---------------+-------+----------------------+-------------------------------+------------+----+----------------------+----------+--------------------+---------+---+--------------+-------------+---+------+------+---------------+-------------------------+\n",
            "|  Reason for absence|Month of absence|Day of the week|Seasons|Transportation expense|Distance from Residence to Work|Service time| Age|Work load Average/day |Hit target|Disciplinary failure|Education|Son|Social drinker|Social smoker|Pet|Weight|Height|Body mass index|Absenteeism time in hours|\n",
            "+--------------------+----------------+---------------+-------+----------------------+-------------------------------+------------+----+----------------------+----------+--------------------+---------+---+--------------+-------------+---+------+------+---------------+-------------------------+\n",
            "|External causes o...|             7.0|            3.0|    1.0|                 289.0|                           36.0|        13.0|33.0|               239.554|      97.0|                 0.0|      1.0|2.0|           1.0|          0.0|1.0|  90.0| 172.0|           30.0|                      4.0|\n",
            "|CID - Patient fol...|             7.0|            3.0|    1.0|                 118.0|                           13.0|        18.0|50.0|               239.554|      97.0|                 1.0|      1.0|1.0|           1.0|          0.0|0.0|  98.0| 178.0|           31.0|                      0.0|\n",
            "|Congenital malfor...|             7.0|            4.0|    1.0|                 179.0|                           51.0|        18.0|38.0|               239.554|      97.0|                 0.0|      1.0|0.0|           1.0|          0.0|0.0|  89.0| 170.0|           31.0|                      2.0|\n",
            "|Certain infectiou...|             7.0|            5.0|    1.0|                 279.0|                            5.0|        14.0|39.0|               239.554|      97.0|                 0.0|      1.0|2.0|           1.0|          1.0|0.0|  68.0| 168.0|           24.0|                      4.0|\n",
            "|Congenital malfor...|             7.0|            5.0|    1.0|                 289.0|                           36.0|        13.0|33.0|               239.554|      97.0|                 0.0|      1.0|2.0|           1.0|          0.0|1.0|  90.0| 172.0|           30.0|                      2.0|\n",
            "|Congenital malfor...|             7.0|            6.0|    1.0|                 179.0|                           51.0|        18.0|38.0|               239.554|      97.0|                 0.0|      1.0|0.0|           1.0|          0.0|0.0|  89.0| 170.0|           31.0|                      2.0|\n",
            "|Certain condition...|             7.0|            6.0|    1.0|                 361.0|                           52.0|         3.0|28.0|               239.554|      97.0|                 0.0|      1.0|1.0|           1.0|          0.0|4.0|  80.0| 172.0|           27.0|                      8.0|\n",
            "|Congenital malfor...|             7.0|            6.0|    1.0|                 260.0|                           50.0|        11.0|36.0|               239.554|      97.0|                 0.0|      1.0|4.0|           1.0|          0.0|0.0|  65.0| 168.0|           23.0|                      4.0|\n",
            "|Diseases of the m...|             7.0|            2.0|    1.0|                 155.0|                           12.0|        14.0|34.0|               239.554|      97.0|                 0.0|      1.0|2.0|           1.0|          0.0|0.0|  95.0| 196.0|           25.0|                     40.0|\n",
            "|Certain condition...|             7.0|            2.0|    1.0|                 235.0|                           11.0|        14.0|37.0|               239.554|      97.0|                 0.0|      3.0|1.0|           0.0|          0.0|1.0|  88.0| 172.0|           29.0|                      8.0|\n",
            "+--------------------+----------------+---------------+-------+----------------------+-------------------------------+------------+----+----------------------+----------+--------------------+---------+---+--------------+-------------+---+------+------+---------------+-------------------------+\n",
            "only showing top 10 rows\n",
            "\n"
          ]
        }
      ]
    },
    {
      "cell_type": "code",
      "source": [
        "df.dtypes"
      ],
      "metadata": {
        "colab": {
          "base_uri": "https://localhost:8080/"
        },
        "id": "CA8_kKg-0pQN",
        "outputId": "1d64d412-d2c4-4ba6-f578-ea027451ef90"
      },
      "execution_count": 16,
      "outputs": [
        {
          "output_type": "execute_result",
          "data": {
            "text/plain": [
              "[('Reason for absence', 'string'),\n",
              " ('Month of absence', 'double'),\n",
              " ('Day of the week', 'double'),\n",
              " ('Seasons', 'double'),\n",
              " ('Transportation expense', 'double'),\n",
              " ('Distance from Residence to Work', 'double'),\n",
              " ('Service time', 'double'),\n",
              " ('Age', 'double'),\n",
              " ('Work load Average/day ', 'double'),\n",
              " ('Hit target', 'double'),\n",
              " ('Disciplinary failure', 'double'),\n",
              " ('Education', 'double'),\n",
              " ('Son', 'double'),\n",
              " ('Social drinker', 'double'),\n",
              " ('Social smoker', 'double'),\n",
              " ('Pet', 'double'),\n",
              " ('Weight', 'double'),\n",
              " ('Height', 'double'),\n",
              " ('Body mass index', 'double'),\n",
              " ('Absenteeism time in hours', 'double')]"
            ]
          },
          "metadata": {},
          "execution_count": 16
        }
      ]
    },
    {
      "cell_type": "markdown",
      "source": [
        "### Verifica as estatísticas das colunas numéricas.\n"
      ],
      "metadata": {
        "id": "rbOnyOggvDJ6"
      }
    },
    {
      "cell_type": "code",
      "source": [
        "df.describe().toPandas()"
      ],
      "metadata": {
        "id": "a2pAvuw8u1kU",
        "outputId": "316828f2-efe7-44d8-f199-2aed04e04f3b",
        "colab": {
          "base_uri": "https://localhost:8080/",
          "height": 439
        }
      },
      "execution_count": 17,
      "outputs": [
        {
          "output_type": "execute_result",
          "data": {
            "text/plain": [
              "  summary                                 Reason for absence  \\\n",
              "0   count                                               8792   \n",
              "1    mean                                               None   \n",
              "2  stddev                                               None   \n",
              "3     min                               CID - Blood donation   \n",
              "4     max  Symptoms, signs and abnormal clinical and labo...   \n",
              "\n",
              "     Month of absence     Day of the week             Seasons  \\\n",
              "0               10360               10360               10360   \n",
              "1   6.324324324324325  3.9148648648648647  2.5445945945945945   \n",
              "2  3.4341300753586914  1.4207823662250172  1.1111331964002396   \n",
              "3                 0.0                 2.0                 1.0   \n",
              "4                12.0                 6.0                 4.0   \n",
              "\n",
              "  Transportation expense Distance from Residence to Work        Service time  \\\n",
              "0                  10360                           10360               10360   \n",
              "1     221.32972972972973               29.63108108108108  12.554054054054054   \n",
              "2      66.91019929785385              14.827475819657767   4.382121151149366   \n",
              "3                  118.0                             5.0                 1.0   \n",
              "4                  388.0                            52.0                29.0   \n",
              "\n",
              "                 Age Work load Average/day   ... Disciplinary failure  \\\n",
              "0              10360                  10360  ...                10360   \n",
              "1              36.45     271.49023513513595  ...  0.05405405405405406   \n",
              "2  6.474705922100333      39.03360055381185  ...  0.22613524562227957   \n",
              "3               27.0                205.917  ...                  0.0   \n",
              "4               58.0                378.884  ...                  1.0   \n",
              "\n",
              "            Education                 Son       Social drinker  \\\n",
              "0               10360               10360                10360   \n",
              "1  1.2918918918918918   1.018918918918919   0.5675675675675675   \n",
              "2  0.6728154697460929  1.0977995301808443  0.49543750029717576   \n",
              "3                 1.0                 0.0                  0.0   \n",
              "4                 4.0                 4.0                  1.0   \n",
              "\n",
              "         Social smoker                 Pet              Weight  \\\n",
              "0                10360               10360               10360   \n",
              "1  0.07297297297297298   0.745945945945946   79.03513513513514   \n",
              "2   0.2601046876560173  1.3174308592482131  12.875124093682563   \n",
              "3                  0.0                 0.0                56.0   \n",
              "4                  1.0                 8.0               108.0   \n",
              "\n",
              "               Height     Body mass index Absenteeism time in hours  \n",
              "0               10360               10360                     10360  \n",
              "1  172.11486486486487  26.677027027027027         6.924324324324324  \n",
              "2     6.0312065411494   4.282762370457917        13.322630624340228  \n",
              "3               163.0                19.0                       0.0  \n",
              "4               196.0                38.0                     120.0  \n",
              "\n",
              "[5 rows x 21 columns]"
            ],
            "text/html": [
              "\n",
              "  <div id=\"df-23e99878-c745-4ad4-a906-57af6a689dd9\">\n",
              "    <div class=\"colab-df-container\">\n",
              "      <div>\n",
              "<style scoped>\n",
              "    .dataframe tbody tr th:only-of-type {\n",
              "        vertical-align: middle;\n",
              "    }\n",
              "\n",
              "    .dataframe tbody tr th {\n",
              "        vertical-align: top;\n",
              "    }\n",
              "\n",
              "    .dataframe thead th {\n",
              "        text-align: right;\n",
              "    }\n",
              "</style>\n",
              "<table border=\"1\" class=\"dataframe\">\n",
              "  <thead>\n",
              "    <tr style=\"text-align: right;\">\n",
              "      <th></th>\n",
              "      <th>summary</th>\n",
              "      <th>Reason for absence</th>\n",
              "      <th>Month of absence</th>\n",
              "      <th>Day of the week</th>\n",
              "      <th>Seasons</th>\n",
              "      <th>Transportation expense</th>\n",
              "      <th>Distance from Residence to Work</th>\n",
              "      <th>Service time</th>\n",
              "      <th>Age</th>\n",
              "      <th>Work load Average/day</th>\n",
              "      <th>...</th>\n",
              "      <th>Disciplinary failure</th>\n",
              "      <th>Education</th>\n",
              "      <th>Son</th>\n",
              "      <th>Social drinker</th>\n",
              "      <th>Social smoker</th>\n",
              "      <th>Pet</th>\n",
              "      <th>Weight</th>\n",
              "      <th>Height</th>\n",
              "      <th>Body mass index</th>\n",
              "      <th>Absenteeism time in hours</th>\n",
              "    </tr>\n",
              "  </thead>\n",
              "  <tbody>\n",
              "    <tr>\n",
              "      <th>0</th>\n",
              "      <td>count</td>\n",
              "      <td>8792</td>\n",
              "      <td>10360</td>\n",
              "      <td>10360</td>\n",
              "      <td>10360</td>\n",
              "      <td>10360</td>\n",
              "      <td>10360</td>\n",
              "      <td>10360</td>\n",
              "      <td>10360</td>\n",
              "      <td>10360</td>\n",
              "      <td>...</td>\n",
              "      <td>10360</td>\n",
              "      <td>10360</td>\n",
              "      <td>10360</td>\n",
              "      <td>10360</td>\n",
              "      <td>10360</td>\n",
              "      <td>10360</td>\n",
              "      <td>10360</td>\n",
              "      <td>10360</td>\n",
              "      <td>10360</td>\n",
              "      <td>10360</td>\n",
              "    </tr>\n",
              "    <tr>\n",
              "      <th>1</th>\n",
              "      <td>mean</td>\n",
              "      <td>None</td>\n",
              "      <td>6.324324324324325</td>\n",
              "      <td>3.9148648648648647</td>\n",
              "      <td>2.5445945945945945</td>\n",
              "      <td>221.32972972972973</td>\n",
              "      <td>29.63108108108108</td>\n",
              "      <td>12.554054054054054</td>\n",
              "      <td>36.45</td>\n",
              "      <td>271.49023513513595</td>\n",
              "      <td>...</td>\n",
              "      <td>0.05405405405405406</td>\n",
              "      <td>1.2918918918918918</td>\n",
              "      <td>1.018918918918919</td>\n",
              "      <td>0.5675675675675675</td>\n",
              "      <td>0.07297297297297298</td>\n",
              "      <td>0.745945945945946</td>\n",
              "      <td>79.03513513513514</td>\n",
              "      <td>172.11486486486487</td>\n",
              "      <td>26.677027027027027</td>\n",
              "      <td>6.924324324324324</td>\n",
              "    </tr>\n",
              "    <tr>\n",
              "      <th>2</th>\n",
              "      <td>stddev</td>\n",
              "      <td>None</td>\n",
              "      <td>3.4341300753586914</td>\n",
              "      <td>1.4207823662250172</td>\n",
              "      <td>1.1111331964002396</td>\n",
              "      <td>66.91019929785385</td>\n",
              "      <td>14.827475819657767</td>\n",
              "      <td>4.382121151149366</td>\n",
              "      <td>6.474705922100333</td>\n",
              "      <td>39.03360055381185</td>\n",
              "      <td>...</td>\n",
              "      <td>0.22613524562227957</td>\n",
              "      <td>0.6728154697460929</td>\n",
              "      <td>1.0977995301808443</td>\n",
              "      <td>0.49543750029717576</td>\n",
              "      <td>0.2601046876560173</td>\n",
              "      <td>1.3174308592482131</td>\n",
              "      <td>12.875124093682563</td>\n",
              "      <td>6.0312065411494</td>\n",
              "      <td>4.282762370457917</td>\n",
              "      <td>13.322630624340228</td>\n",
              "    </tr>\n",
              "    <tr>\n",
              "      <th>3</th>\n",
              "      <td>min</td>\n",
              "      <td>CID - Blood donation</td>\n",
              "      <td>0.0</td>\n",
              "      <td>2.0</td>\n",
              "      <td>1.0</td>\n",
              "      <td>118.0</td>\n",
              "      <td>5.0</td>\n",
              "      <td>1.0</td>\n",
              "      <td>27.0</td>\n",
              "      <td>205.917</td>\n",
              "      <td>...</td>\n",
              "      <td>0.0</td>\n",
              "      <td>1.0</td>\n",
              "      <td>0.0</td>\n",
              "      <td>0.0</td>\n",
              "      <td>0.0</td>\n",
              "      <td>0.0</td>\n",
              "      <td>56.0</td>\n",
              "      <td>163.0</td>\n",
              "      <td>19.0</td>\n",
              "      <td>0.0</td>\n",
              "    </tr>\n",
              "    <tr>\n",
              "      <th>4</th>\n",
              "      <td>max</td>\n",
              "      <td>Symptoms, signs and abnormal clinical and labo...</td>\n",
              "      <td>12.0</td>\n",
              "      <td>6.0</td>\n",
              "      <td>4.0</td>\n",
              "      <td>388.0</td>\n",
              "      <td>52.0</td>\n",
              "      <td>29.0</td>\n",
              "      <td>58.0</td>\n",
              "      <td>378.884</td>\n",
              "      <td>...</td>\n",
              "      <td>1.0</td>\n",
              "      <td>4.0</td>\n",
              "      <td>4.0</td>\n",
              "      <td>1.0</td>\n",
              "      <td>1.0</td>\n",
              "      <td>8.0</td>\n",
              "      <td>108.0</td>\n",
              "      <td>196.0</td>\n",
              "      <td>38.0</td>\n",
              "      <td>120.0</td>\n",
              "    </tr>\n",
              "  </tbody>\n",
              "</table>\n",
              "<p>5 rows × 21 columns</p>\n",
              "</div>\n",
              "      <button class=\"colab-df-convert\" onclick=\"convertToInteractive('df-23e99878-c745-4ad4-a906-57af6a689dd9')\"\n",
              "              title=\"Convert this dataframe to an interactive table.\"\n",
              "              style=\"display:none;\">\n",
              "        \n",
              "  <svg xmlns=\"http://www.w3.org/2000/svg\" height=\"24px\"viewBox=\"0 0 24 24\"\n",
              "       width=\"24px\">\n",
              "    <path d=\"M0 0h24v24H0V0z\" fill=\"none\"/>\n",
              "    <path d=\"M18.56 5.44l.94 2.06.94-2.06 2.06-.94-2.06-.94-.94-2.06-.94 2.06-2.06.94zm-11 1L8.5 8.5l.94-2.06 2.06-.94-2.06-.94L8.5 2.5l-.94 2.06-2.06.94zm10 10l.94 2.06.94-2.06 2.06-.94-2.06-.94-.94-2.06-.94 2.06-2.06.94z\"/><path d=\"M17.41 7.96l-1.37-1.37c-.4-.4-.92-.59-1.43-.59-.52 0-1.04.2-1.43.59L10.3 9.45l-7.72 7.72c-.78.78-.78 2.05 0 2.83L4 21.41c.39.39.9.59 1.41.59.51 0 1.02-.2 1.41-.59l7.78-7.78 2.81-2.81c.8-.78.8-2.07 0-2.86zM5.41 20L4 18.59l7.72-7.72 1.47 1.35L5.41 20z\"/>\n",
              "  </svg>\n",
              "      </button>\n",
              "      \n",
              "  <style>\n",
              "    .colab-df-container {\n",
              "      display:flex;\n",
              "      flex-wrap:wrap;\n",
              "      gap: 12px;\n",
              "    }\n",
              "\n",
              "    .colab-df-convert {\n",
              "      background-color: #E8F0FE;\n",
              "      border: none;\n",
              "      border-radius: 50%;\n",
              "      cursor: pointer;\n",
              "      display: none;\n",
              "      fill: #1967D2;\n",
              "      height: 32px;\n",
              "      padding: 0 0 0 0;\n",
              "      width: 32px;\n",
              "    }\n",
              "\n",
              "    .colab-df-convert:hover {\n",
              "      background-color: #E2EBFA;\n",
              "      box-shadow: 0px 1px 2px rgba(60, 64, 67, 0.3), 0px 1px 3px 1px rgba(60, 64, 67, 0.15);\n",
              "      fill: #174EA6;\n",
              "    }\n",
              "\n",
              "    [theme=dark] .colab-df-convert {\n",
              "      background-color: #3B4455;\n",
              "      fill: #D2E3FC;\n",
              "    }\n",
              "\n",
              "    [theme=dark] .colab-df-convert:hover {\n",
              "      background-color: #434B5C;\n",
              "      box-shadow: 0px 1px 3px 1px rgba(0, 0, 0, 0.15);\n",
              "      filter: drop-shadow(0px 1px 2px rgba(0, 0, 0, 0.3));\n",
              "      fill: #FFFFFF;\n",
              "    }\n",
              "  </style>\n",
              "\n",
              "      <script>\n",
              "        const buttonEl =\n",
              "          document.querySelector('#df-23e99878-c745-4ad4-a906-57af6a689dd9 button.colab-df-convert');\n",
              "        buttonEl.style.display =\n",
              "          google.colab.kernel.accessAllowed ? 'block' : 'none';\n",
              "\n",
              "        async function convertToInteractive(key) {\n",
              "          const element = document.querySelector('#df-23e99878-c745-4ad4-a906-57af6a689dd9');\n",
              "          const dataTable =\n",
              "            await google.colab.kernel.invokeFunction('convertToInteractive',\n",
              "                                                     [key], {});\n",
              "          if (!dataTable) return;\n",
              "\n",
              "          const docLinkHtml = 'Like what you see? Visit the ' +\n",
              "            '<a target=\"_blank\" href=https://colab.research.google.com/notebooks/data_table.ipynb>data table notebook</a>'\n",
              "            + ' to learn more about interactive tables.';\n",
              "          element.innerHTML = '';\n",
              "          dataTable['output_type'] = 'display_data';\n",
              "          await google.colab.output.renderOutput(dataTable, element);\n",
              "          const docLink = document.createElement('div');\n",
              "          docLink.innerHTML = docLinkHtml;\n",
              "          element.appendChild(docLink);\n",
              "        }\n",
              "      </script>\n",
              "    </div>\n",
              "  </div>\n",
              "  "
            ]
          },
          "metadata": {},
          "execution_count": 17
        }
      ]
    },
    {
      "cell_type": "markdown",
      "source": [
        "- É possível observar algumas informações gerais sobre cada coluna numérica no dataframe. Por exemplo, podemos ver o número total de entradas (count), a média, a desvio padrão, o valor mínimo e máximo. Estas informações podem ser úteis para entender melhor a distribuição dos dados e identificar possíveis outliers ou valores incomuns."
      ],
      "metadata": {
        "id": "3qfFDifyJFO_"
      }
    },
    {
      "cell_type": "markdown",
      "source": [
        "### Verifica a correlação entre as colunas."
      ],
      "metadata": {
        "id": "YRWORZmcZpaY"
      }
    },
    {
      "cell_type": "code",
      "source": [
        "corr = df.stat.corr(\"Month of absence\", \"Transportation expense\")\n",
        "print(corr)"
      ],
      "metadata": {
        "colab": {
          "base_uri": "https://localhost:8080/"
        },
        "id": "M5Dl2OSHZpmq",
        "outputId": "feccf850-73e1-4845-af00-5bffd169690c"
      },
      "execution_count": 18,
      "outputs": [
        {
          "output_type": "stream",
          "name": "stdout",
          "text": [
            "0.14386913582221225\n"
          ]
        }
      ]
    },
    {
      "cell_type": "markdown",
      "source": [
        "- A correlação varia entre -1 e 1, sendo que valores próximos a -1 indicam uma correlação negativa forte, valores próximos a 1 indicam uma correlação positiva forte e valores próximos a 0 indicam ausência de correlação.\n",
        "- Neste caso como output ~ 0.1423, o que indica uma correlação fraca entre as duas colunas, não havendo realação entre os valores da coluna \"Month of absence\" e da coluna \"Transportation expense\"."
      ],
      "metadata": {
        "id": "XdpHsgG3JLvK"
      }
    },
    {
      "cell_type": "markdown",
      "source": [
        "### Verifica o número de valores únicos em cada coluna."
      ],
      "metadata": {
        "id": "CW3ZHgn5ZRmw"
      }
    },
    {
      "cell_type": "code",
      "source": [
        "for col in df.columns:\n",
        "    print(\"Unique values in column '{}':\".format(col), df.select(col).distinct().count())"
      ],
      "metadata": {
        "colab": {
          "base_uri": "https://localhost:8080/"
        },
        "id": "LyIVMUGvZRX2",
        "outputId": "3b6082d2-bf2d-458f-ad8b-610c013900fc"
      },
      "execution_count": 19,
      "outputs": [
        {
          "output_type": "stream",
          "name": "stdout",
          "text": [
            "Unique values in column 'Reason for absence': 28\n",
            "Unique values in column 'Month of absence': 14\n",
            "Unique values in column 'Day of the week': 6\n",
            "Unique values in column 'Seasons': 5\n",
            "Unique values in column 'Transportation expense': 25\n",
            "Unique values in column 'Distance from Residence to Work': 26\n",
            "Unique values in column 'Service time': 19\n",
            "Unique values in column 'Age': 23\n",
            "Unique values in column 'Work load Average/day ': 39\n",
            "Unique values in column 'Hit target': 14\n",
            "Unique values in column 'Disciplinary failure': 3\n",
            "Unique values in column 'Education': 5\n",
            "Unique values in column 'Son': 6\n",
            "Unique values in column 'Social drinker': 3\n",
            "Unique values in column 'Social smoker': 3\n",
            "Unique values in column 'Pet': 7\n",
            "Unique values in column 'Weight': 27\n",
            "Unique values in column 'Height': 15\n",
            "Unique values in column 'Body mass index': 18\n",
            "Unique values in column 'Absenteeism time in hours': 20\n"
          ]
        }
      ]
    },
    {
      "cell_type": "markdown",
      "source": [
        "- Podemos então dizer que a coluna que tem mais valores unicos é a \"Reason for absence\" (28), enquanto que a coluna que tem menos é a \"Disciplinary failure\" (3).\n",
        "- Isto pode-nos ajudar a perceber a diversidade de valores em cada coluna e identificar se alguma coluna precisa ser tratada de forma diferente. \n"
      ],
      "metadata": {
        "id": "enTliRGeJUFR"
      }
    },
    {
      "cell_type": "markdown",
      "source": [
        "### Verifica a distribuição de cada coluna."
      ],
      "metadata": {
        "id": "RpIyc62DbzvG"
      }
    },
    {
      "cell_type": "code",
      "source": [
        "for col in df.columns:\n",
        "    df.select(col).groupBy(col).count().show()"
      ],
      "metadata": {
        "colab": {
          "base_uri": "https://localhost:8080/"
        },
        "id": "YrPtshpGbz0u",
        "outputId": "4c4dff39-d7ca-4e7e-88cb-3b5cb0104897"
      },
      "execution_count": 54,
      "outputs": [
        {
          "output_type": "stream",
          "name": "stdout",
          "text": [
            "+--------------------+-----+\n",
            "|  Reason for absence|count|\n",
            "+--------------------+-----+\n",
            "|Congenital malfor...| 2086|\n",
            "|Symptoms, signs a...|   42|\n",
            "|CID - Dental cons...|  112|\n",
            "|CID - Unjustified...|   28|\n",
            "|Diseases of the e...|  770|\n",
            "|CID - Laboratory ...|   14|\n",
            "|CID - Blood donation|   14|\n",
            "|Injury, poisoning...|  434|\n",
            "|           Neoplasms|   84|\n",
            "|CID - Patient fol...|  602|\n",
            "|Pregnancy, childb...|   84|\n",
            "|Endocrine, nutrit...|  350|\n",
            "|Diseases of the b...|   56|\n",
            "|Diseases of the c...|   28|\n",
            "| CID - Physiotherapy|   42|\n",
            "|Diseases of the m...|  560|\n",
            "|Diseases of the e...|  266|\n",
            "|Certain condition...|  532|\n",
            "|Diseases of the s...|  294|\n",
            "|Certain infectiou...|  210|\n",
            "+--------------------+-----+\n",
            "only showing top 20 rows\n",
            "\n",
            "+----------------+-----+\n",
            "|Month of absence|count|\n",
            "+----------------+-----+\n",
            "|             8.0|  602|\n",
            "|             0.0|   42|\n",
            "|             7.0|  854|\n",
            "|             1.0|  658|\n",
            "|             4.0|  560|\n",
            "|            11.0|  728|\n",
            "|             3.0| 1078|\n",
            "|             2.0|  910|\n",
            "|            10.0|  868|\n",
            "|             6.0|  602|\n",
            "|             5.0|  756|\n",
            "|             9.0|  616|\n",
            "|            12.0|  518|\n",
            "+----------------+-----+\n",
            "\n",
            "+---------------+-----+\n",
            "|Day of the week|count|\n",
            "+---------------+-----+\n",
            "|            4.0| 2002|\n",
            "|            3.0| 1792|\n",
            "|            2.0| 1946|\n",
            "|            6.0| 1540|\n",
            "|            5.0| 1512|\n",
            "+---------------+-----+\n",
            "\n",
            "+-------+-----+\n",
            "|Seasons|count|\n",
            "+-------+-----+\n",
            "|    1.0| 1988|\n",
            "|    4.0| 2282|\n",
            "|    3.0| 2086|\n",
            "|    2.0| 2436|\n",
            "+-------+-----+\n",
            "\n",
            "+----------------------+-----+\n",
            "|Transportation expense|count|\n",
            "+----------------------+-----+\n",
            "|                 184.0|   98|\n",
            "|                 235.0|  784|\n",
            "|                 369.0|  210|\n",
            "|                 155.0|  322|\n",
            "|                 268.0|   42|\n",
            "|                 279.0|   84|\n",
            "|                 388.0|   42|\n",
            "|                 378.0|  112|\n",
            "|                 231.0|   28|\n",
            "|                 179.0| 2156|\n",
            "|                 300.0|   56|\n",
            "|                 225.0|  980|\n",
            "|                 246.0|  280|\n",
            "|                 330.0|  224|\n",
            "|                 248.0|  308|\n",
            "|                 118.0| 1092|\n",
            "|                 361.0|  322|\n",
            "|                 157.0|   70|\n",
            "|                 291.0|  322|\n",
            "|                 189.0|  112|\n",
            "+----------------------+-----+\n",
            "only showing top 20 rows\n",
            "\n",
            "+-------------------------------+-----+\n",
            "|Distance from Residence to Work|count|\n",
            "+-------------------------------+-----+\n",
            "|                           49.0|  112|\n",
            "|                           29.0|  182|\n",
            "|                           42.0|   98|\n",
            "|                           35.0|   28|\n",
            "|                           25.0|  588|\n",
            "|                           36.0|  560|\n",
            "|                           50.0|  350|\n",
            "|                           45.0|   14|\n",
            "|                           31.0|  294|\n",
            "|                           11.0|  364|\n",
            "|                           51.0| 1316|\n",
            "|                           14.0|  126|\n",
            "|                           48.0|   56|\n",
            "|                           22.0|  280|\n",
            "|                           17.0|  210|\n",
            "|                           27.0|   70|\n",
            "|                           10.0|  630|\n",
            "|                           13.0|  420|\n",
            "|                           20.0|  266|\n",
            "|                           52.0|  322|\n",
            "+-------------------------------+-----+\n",
            "only showing top 20 rows\n",
            "\n",
            "+------------+-----+\n",
            "|Service time|count|\n",
            "+------------+-----+\n",
            "|         8.0|  168|\n",
            "|         7.0|   98|\n",
            "|        29.0|   56|\n",
            "|        18.0| 1638|\n",
            "|         1.0|   98|\n",
            "|         4.0|  224|\n",
            "|        11.0|  434|\n",
            "|        14.0| 1078|\n",
            "|         3.0|  322|\n",
            "|        17.0|  280|\n",
            "|        10.0|  630|\n",
            "|        13.0| 1008|\n",
            "|         6.0|   70|\n",
            "|        24.0|   28|\n",
            "|        15.0|   42|\n",
            "|         9.0| 1624|\n",
            "|        16.0|  392|\n",
            "|        12.0|  602|\n",
            "+------------+-----+\n",
            "\n",
            "+----+-----+\n",
            "| Age|count|\n",
            "+----+-----+\n",
            "|49.0|   56|\n",
            "|29.0|   70|\n",
            "|47.0|  308|\n",
            "|39.0|  112|\n",
            "|34.0|  322|\n",
            "|37.0|  952|\n",
            "|36.0|  434|\n",
            "|41.0|  322|\n",
            "|50.0|  462|\n",
            "|31.0|  308|\n",
            "|58.0|  112|\n",
            "|48.0|   70|\n",
            "|53.0|   14|\n",
            "|46.0|   28|\n",
            "|28.0| 1484|\n",
            "|38.0| 1218|\n",
            "|27.0|   98|\n",
            "|40.0|  588|\n",
            "|30.0|  644|\n",
            "|33.0|  714|\n",
            "+----+-----+\n",
            "only showing top 20 rows\n",
            "\n",
            "+----------------------+-----+\n",
            "|Work load Average/day |count|\n",
            "+----------------------+-----+\n",
            "|               239.409|   98|\n",
            "|               236.629|  140|\n",
            "|               239.554|  266|\n",
            "|                230.29|  210|\n",
            "|               313.532|  210|\n",
            "|               244.387|  224|\n",
            "|               271.219|   42|\n",
            "|               306.345|  210|\n",
            "|                377.55|  196|\n",
            "|               308.593|  322|\n",
            "|               249.797|  112|\n",
            "|               343.253|  350|\n",
            "|               378.884|  182|\n",
            "|               251.818|  266|\n",
            "|               253.957|  154|\n",
            "|               261.756|  112|\n",
            "|               237.656|  392|\n",
            "|               261.306|  182|\n",
            "|               284.031|  266|\n",
            "|               246.288|  266|\n",
            "+----------------------+-----+\n",
            "only showing top 20 rows\n",
            "\n",
            "+----------+-----+\n",
            "|Hit target|count|\n",
            "+----------+-----+\n",
            "|      88.0|  322|\n",
            "|      98.0|  742|\n",
            "|      96.0|  924|\n",
            "|      94.0|  434|\n",
            "|      93.0| 1092|\n",
            "|      81.0|  196|\n",
            "|      87.0|  112|\n",
            "|      99.0| 1288|\n",
            "|      95.0|  868|\n",
            "|     100.0|  126|\n",
            "|      92.0|  952|\n",
            "|      97.0| 1148|\n",
            "|      91.0|  588|\n",
            "+----------+-----+\n",
            "\n",
            "+--------------------+-----+\n",
            "|Disciplinary failure|count|\n",
            "+--------------------+-----+\n",
            "|                 0.0| 8232|\n",
            "|                 1.0|  560|\n",
            "+--------------------+-----+\n",
            "\n",
            "+---------+-----+\n",
            "|Education|count|\n",
            "+---------+-----+\n",
            "|      1.0| 7014|\n",
            "|      4.0|   42|\n",
            "|      3.0| 1092|\n",
            "|      2.0|  644|\n",
            "+---------+-----+\n",
            "\n",
            "+---+-----+\n",
            "|Son|count|\n",
            "+---+-----+\n",
            "|0.0| 3458|\n",
            "|1.0| 2758|\n",
            "|4.0|  322|\n",
            "|3.0|  210|\n",
            "|2.0| 2044|\n",
            "+---+-----+\n",
            "\n",
            "+--------------+-----+\n",
            "|Social drinker|count|\n",
            "+--------------+-----+\n",
            "|           0.0| 4130|\n",
            "|           1.0| 4662|\n",
            "+--------------+-----+\n",
            "\n",
            "+-------------+-----+\n",
            "|Social smoker|count|\n",
            "+-------------+-----+\n",
            "|          0.0| 8092|\n",
            "|          1.0|  700|\n",
            "+-------------+-----+\n",
            "\n",
            "+---+-----+\n",
            "|Pet|count|\n",
            "+---+-----+\n",
            "|8.0|  112|\n",
            "|0.0| 5334|\n",
            "|1.0| 1666|\n",
            "|4.0|  434|\n",
            "|2.0| 1176|\n",
            "|5.0|   70|\n",
            "+---+-----+\n",
            "\n",
            "+------+-----+\n",
            "|Weight|count|\n",
            "+------+-----+\n",
            "|  67.0|  280|\n",
            "|  70.0|  210|\n",
            "|  69.0| 1050|\n",
            "| 108.0|   56|\n",
            "|  88.0|  392|\n",
            "|  98.0|  434|\n",
            "|  75.0|  224|\n",
            "|  80.0|  322|\n",
            "|  86.0|  308|\n",
            "|  94.0|   42|\n",
            "|  77.0|   70|\n",
            "|  56.0|  644|\n",
            "|  79.0|   42|\n",
            "|  83.0|  630|\n",
            "|  58.0|   98|\n",
            "| 106.0|  266|\n",
            "|  63.0|  280|\n",
            "|  68.0|  182|\n",
            "|  73.0|  294|\n",
            "|  95.0|  322|\n",
            "+------+-----+\n",
            "only showing top 20 rows\n",
            "\n",
            "+------+-----+\n",
            "|Height|count|\n",
            "+------+-----+\n",
            "| 170.0| 1820|\n",
            "| 169.0| 1176|\n",
            "| 168.0|  406|\n",
            "| 167.0|  476|\n",
            "| 182.0|  266|\n",
            "| 178.0|  728|\n",
            "| 171.0|  938|\n",
            "| 165.0|  308|\n",
            "| 175.0|   98|\n",
            "| 196.0|  322|\n",
            "| 185.0|   70|\n",
            "| 172.0| 2002|\n",
            "| 163.0|   70|\n",
            "| 174.0|  112|\n",
            "+------+-----+\n",
            "\n",
            "+---------------+-----+\n",
            "|Body mass index|count|\n",
            "+---------------+-----+\n",
            "|           29.0|  322|\n",
            "|           35.0|   28|\n",
            "|           34.0|   14|\n",
            "|           25.0| 1428|\n",
            "|           36.0|   56|\n",
            "|           23.0|  630|\n",
            "|           31.0| 1638|\n",
            "|           21.0|  308|\n",
            "|           22.0|  462|\n",
            "|           19.0|  644|\n",
            "|           28.0|  672|\n",
            "|           38.0|  266|\n",
            "|           27.0|  322|\n",
            "|           30.0|  560|\n",
            "|           33.0|   70|\n",
            "|           32.0|  308|\n",
            "|           24.0| 1064|\n",
            "+---------------+-----+\n",
            "\n",
            "+-------------------------+-----+\n",
            "|Absenteeism time in hours|count|\n",
            "+-------------------------+-----+\n",
            "|                      8.0| 2828|\n",
            "|                      0.0|  616|\n",
            "|                      7.0|   14|\n",
            "|                    112.0|   28|\n",
            "|                     64.0|   42|\n",
            "|                     80.0|   42|\n",
            "|                    120.0|   42|\n",
            "|                      1.0|  840|\n",
            "|                    104.0|   14|\n",
            "|                      4.0|  532|\n",
            "|                     56.0|   28|\n",
            "|                     48.0|   14|\n",
            "|                      3.0| 1288|\n",
            "|                      2.0| 1736|\n",
            "|                     40.0|   98|\n",
            "|                     32.0|   84|\n",
            "|                      5.0|   84|\n",
            "|                     24.0|  210|\n",
            "|                     16.0|  252|\n",
            "+-------------------------+-----+\n",
            "\n"
          ]
        }
      ]
    },
    {
      "cell_type": "markdown",
      "source": [
        "- Com este output podemos ver o nome de cada coluna e o número de ocorrências para cada valor único. Isto permite uma visão geral dos dados, incluindo a verificação de valores ausentes (null) e a distribuição de valores para cada coluna.\n",
        "- A tabela \"Reason for absence\" apresenta a maior distribuição, seguida por \"Month of absence\" e \"Day of the week\". Os valores mais frequentes são \"Congenital malformations\", \"Diseases of the eye\" e \"Diseases of the musculoskeletal system\"."
      ],
      "metadata": {
        "id": "4hDeC_CPzYMc"
      }
    },
    {
      "cell_type": "markdown",
      "source": [
        "### Gráficos"
      ],
      "metadata": {
        "id": "3Q6KbMTL2Lvq"
      }
    },
    {
      "cell_type": "markdown",
      "source": [
        "#### Grafico com a  frequência de cada categoria na coluna \"Reason for absence\""
      ],
      "metadata": {
        "id": "S5oM1QU31s_6"
      }
    },
    {
      "cell_type": "code",
      "source": [
        "import matplotlib.pyplot as plt\n",
        "\n",
        "# A contagem da frequência de cada categoria na coluna \"Reason for absence\" \n",
        "df = df.dropna(subset = [\"Reason for absence\"])\n",
        "reason_counts = df.groupBy(\"Reason for absence\").count().toPandas()\n",
        "\n",
        "# Criar um gráfico de barras\n",
        "plt.figure(figsize=(25, 18))\n",
        "plt.barh(reason_counts[\"Reason for absence\"], reason_counts[\"count\"])\n",
        "plt.xlabel(\"Reason for absence\")\n",
        "plt.ylabel(\"Frequency\")\n",
        "plt.title(\"Frequency of Reasons for Absence\")\n",
        "\n",
        "plt.show()"
      ],
      "metadata": {
        "colab": {
          "base_uri": "https://localhost:8080/",
          "height": 980
        },
        "id": "FTDX7B8VB8tW",
        "outputId": "8f6c0bf2-97a6-4e5e-8880-d36b920805be"
      },
      "execution_count": 21,
      "outputs": [
        {
          "output_type": "display_data",
          "data": {
            "text/plain": [
              "<Figure size 1800x1296 with 1 Axes>"
            ],
            "image/png": "[encoded data removed]"
          },
          "metadata": {
            "needs_background": "light"
          }
        }
      ]
    },
    {
      "cell_type": "markdown",
      "source": [
        "- Esse gráfico mostra a frequência de ausência de cada categoria de justificação. A partir daí, é possível ver facilmente qual é a razão mais comum para a ausência que neste caso é \"Congenital malformations, deformations and chromosomal abnormalities\", e também comparar as frequências entre as diferentes razões. Também, pode-se observar que a maioria das razões tem baixa frequencia, e que poucas razões representam a maioria das ausencias."
      ],
      "metadata": {
        "id": "yL7rC78N1diC"
      }
    },
    {
      "cell_type": "markdown",
      "source": [
        "#### Gráfico que mostra a relação entre \"Transportation expense\" e \"Distance from Residence to Work\""
      ],
      "metadata": {
        "id": "6VuXa11W2KZa"
      }
    },
    {
      "cell_type": "code",
      "source": [
        "import matplotlib.pyplot as plt\n",
        "\n",
        "# Extrair as colunas \"Transportation expense\" e \"Distance from Residence to Work\"\n",
        "x = df.select(\"Transportation expense\").toPandas()\n",
        "y = df.select(\"Distance from Residence to Work\").toPandas()\n",
        "\n",
        "# Criar um gráfico de dispersão\n",
        "plt.figure(figsize=(10, 6))\n",
        "plt.scatter(x, y, color='red')\n",
        "plt.xlabel(\"Transportation expense ($)\")\n",
        "plt.ylabel(\"Distance from Residence to Work (km)\")\n",
        "plt.title(\"Scatter plot of Transportation expense and Distance from Residence to Work\")\n",
        "plt.show()"
      ],
      "metadata": {
        "colab": {
          "base_uri": "https://localhost:8080/",
          "height": 404
        },
        "id": "ia4u1K8QCHrj",
        "outputId": "6594104e-29e2-427b-cbdc-22d5143bfb1a"
      },
      "execution_count": 22,
      "outputs": [
        {
          "output_type": "display_data",
          "data": {
            "text/plain": [
              "<Figure size 720x432 with 1 Axes>"
            ],
            "image/png": "[encoded data removed]"
          },
          "metadata": {
            "needs_background": "light"
          }
        }
      ]
    },
    {
      "cell_type": "markdown",
      "source": [
        "\n",
        "- Este gráfico é um gráfico de dispersão que mostra a relação entre os gastos com transporte e a distância da residência para o trabalho. Ele parece estar mostrando que, em geral, quanto maior a distância da residência para o trabalho, maior os gastos com transporte. No entanto, há algumas exceções, como alguns pontos que apresentam gastos elevados com transporte mesmo com distâncias curtas. Este gráfico pode ser útil para entender se existe alguma relação entre essas duas variáveis e como elas podem afetar a saúde dos funcionários."
      ],
      "metadata": {
        "id": "LDq-tfjl1Zce"
      }
    },
    {
      "cell_type": "markdown",
      "source": [
        "#### Mostrar a distribuição de idade dos funcionários que estão faltando:"
      ],
      "metadata": {
        "id": "1d-IuDfOpfkZ"
      }
    },
    {
      "cell_type": "code",
      "source": [
        "import seaborn as sns\n",
        "import matplotlib.pyplot as plt\n",
        "\n",
        "# Selecionar a coluna 'Age'\n",
        "age_data = df.select(\"Age\").toPandas()\n",
        "\n",
        "# Redefinir o índice\n",
        "age_data.reset_index(drop=True, inplace=True)\n",
        "\n",
        "# Criar um gráfico de densidade\n",
        "sns.kdeplot(age_data['Age'], shade=True)\n",
        "\n",
        "# Adicionar rótulos e título\n",
        "plt.xlabel(\"Age\")\n",
        "plt.ylabel(\"Density\")\n",
        "plt.title(\"Density Plot of Age for Absentees\")\n",
        "\n",
        "# Exibir o gráfico\n",
        "plt.show()"
      ],
      "metadata": {
        "id": "_5-kC1vBphmf",
        "outputId": "6c0e45fb-626d-4b9c-9ea8-bccb627512b9",
        "colab": {
          "base_uri": "https://localhost:8080/",
          "height": 295
        }
      },
      "execution_count": 23,
      "outputs": [
        {
          "output_type": "display_data",
          "data": {
            "text/plain": [
              "<Figure size 432x288 with 1 Axes>"
            ],
            "image/png": "[encoded data removed]"
          },
          "metadata": {
            "needs_background": "light"
          }
        }
      ]
    },
    {
      "cell_type": "markdown",
      "source": [
        "- Este gráfico mostra a distribuição de densidade da idade dos funcionários ausentes. Ele mostra a frequência relativa de cada idade. \n",
        "- A grande maioria das pessoas ausentes estão na faixa etária entre 30 e 40 anos."
      ],
      "metadata": {
        "id": "6aIQ2lXe3cSk"
      }
    },
    {
      "cell_type": "markdown",
      "source": [
        "#### Gráficos histogramas para todas as colunas numéricas do dataframe."
      ],
      "metadata": {
        "id": "-OYb-3Su4C66"
      }
    },
    {
      "cell_type": "markdown",
      "source": [
        "São apresentadas, de seguida, as distribuições dos valores das features.\n",
        "\n",
        "As features que compõem o nosso dataset encontram-se selecionadas em seguida:\n",
        "\n",
        "- Month of absence\n",
        "- Day of the week\n",
        "- Seasons\n",
        "- Transportation expense\n",
        "- Distance from Residence to Work \n",
        "- Service time\n",
        "- Age\n",
        "- Work load Average/day\n",
        "- Hit target\n",
        "- Disciplinary failure\n",
        "- Education\n",
        "- Son\n",
        "- Social drinker \n",
        "- Social smoker\n",
        "- Pet\n",
        "- Weight\n",
        "- Height\n",
        "- Body mass index\n",
        "- Absenteeism time in hours"
      ],
      "metadata": {
        "id": "P4v4svex7Lfi"
      }
    },
    {
      "cell_type": "code",
      "source": [
        "import matplotlib.pyplot as plt\n",
        "\n",
        "# Obter uma lista de todas as colunas numéricas\n",
        "num_cols = [c for c in df.columns if df.select(c).dtypes[0][1] == 'double']\n",
        "\n",
        "df_num = df.select(num_cols)\n",
        "\n",
        "# Criar um histograma para cada coluna numérica.\n",
        "df_num.toPandas().hist(figsize=[15,15],bins=10, color='skyblue', histtype='bar', ec='black')\n",
        "plt.show()"
      ],
      "metadata": {
        "id": "SC50pkA9pj8w",
        "outputId": "ee7bdfe4-b8df-4417-a049-555e1abf1da3",
        "colab": {
          "base_uri": "https://localhost:8080/",
          "height": 879
        }
      },
      "execution_count": 24,
      "outputs": [
        {
          "output_type": "display_data",
          "data": {
            "text/plain": [
              "<Figure size 1080x1080 with 20 Axes>"
            ],
            "image/png": "[encoded data removed]"
          },
          "metadata": {
            "needs_background": "light"
          }
        }
      ]
    },
    {
      "cell_type": "markdown",
      "source": [
        "##### Explicação dos histogramas:"
      ],
      "metadata": {
        "id": "Xmu5pyUk_NyU"
      }
    },
    {
      "cell_type": "markdown",
      "source": [
        "- Estes histogramas permitem-nos ver a distribuição dos dados para cada coluna numérica e identificar tendências ou outliers. A partir do gráfico é possível ver a distribuição de frequencia para cada coluna numérica. \n",
        "- O eixo do x mostra os valores possíveis de cada feature, enquanto o eixo do y mostra a frequência com que esses valores aparecem no conjunto de dados, isto permite-nos identificar a distribuição dos dados e verificar se existem outliers ou valores incomuns.\n"
      ],
      "metadata": {
        "id": "nQkXHz2o46TP"
      }
    },
    {
      "cell_type": "markdown",
      "source": [
        "##### Análise dos histogramas:\n"
      ],
      "metadata": {
        "id": "XUxk_men_XHz"
      }
    },
    {
      "cell_type": "markdown",
      "source": [
        "- A coluna \"Age\" apresenta uma distribuição relativamente normal, com a maioria dos valores concentrados entre 20 e 40 anos de idade.\n",
        "- A coluna \"Work load Average/day\" apresenta valores concentrados entre cerca de 200 e 250, com poucos valores fora desse intervalo.\n",
        "- A coluna \"Hit target\" tem a maioria dos valores acima de 90, indicando que a maioria dos funcionários atingem suas metas.\n",
        "- A coluna \"Disciplinary failure\" tem a maioria dos valores em zero, indicando que a maioria dos funcionários não tem falhas disciplinares.\n",
        "- A coluna \"Education\" tem a maioria dos valores em 1, indicando que a maioria dos funcionários tem educação de nível básico.\n",
        "- A coluna \"Son\" tem valores distribuídos principalmente entre 0 e 4, indicando que a maioria dos funcionários tem entre 0 e 4 filhos.\n",
        "- A coluna \"Social drinker\" e \"Social smoker\" tem a maioria dos valores em 0, indicando que a maioria dos funcionários não são bebedores sociais ou fumantes sociais.\n",
        "- A coluna \"Pet\" tem valores distribuídos principalmente entre 0 e 2, indicando que a maioria dos funcionários tem entre 0 e 2 animais de estimação.\n",
        "- A coluna \"Weight\" tem valores distribuídos principalmente entre 60 e 100, indicando que a maioria dos funcionários pesam entre 60 e 100 kg.\n",
        "- A coluna \"Height\" tem valores distribuídos principalmente entre 160 e 180, indicando que a maioria dos funcionários tem entre 160 e 180 cm de altura.\n",
        "- A coluna \"Body mass index\" tem valores distribuídos principalmente entre 20 e 30, indicando que a maioria dos funcionários tem índice de massa corporal saudável.\n",
        "- A coluna \"Absenteeism time in hours\" tem valores distribuídos principalmente entre 0 e 20, indicando que a maioria dos funcionários tem entre 0 e 20 horas de ausência."
      ],
      "metadata": {
        "id": "JBGe5e_W_e6w"
      }
    },
    {
      "cell_type": "markdown",
      "source": [
        "##### Gráficos box plot  "
      ],
      "metadata": {
        "id": "RjCtJLIgBLVI"
      }
    },
    {
      "cell_type": "code",
      "source": [
        "import seaborn as sns\n",
        "from pyspark.sql.functions import col\n",
        "from pyspark.sql.types import NumericType, IntegerType\n",
        "pd_df = df.toPandas()\n",
        "\n",
        "numerical_cols = [col for col in pd_df.columns if isinstance(df.schema[col].dataType, (NumericType))]\n",
        "\n",
        "for col in numerical_cols:\n",
        "    plt.figure(figsize=(10, 6))\n",
        "    sns.boxplot(data=pd_df, x=col, width=0.3)\n",
        "    plt.xlabel(col)\n",
        "    plt.show()"
      ],
      "metadata": {
        "id": "KdanwqfSnseV",
        "outputId": "4b698bf7-f74e-4247-e9d1-e2ef0abc05eb",
        "colab": {
          "base_uri": "https://localhost:8080/",
          "height": 1000
        }
      },
      "execution_count": 25,
      "outputs": [
        {
          "output_type": "display_data",
          "data": {
            "text/plain": [
              "<Figure size 720x432 with 1 Axes>"
            ],
            "image/png": "[encoded data removed]"
          },
          "metadata": {
            "needs_background": "light"
          }
        },
        {
          "output_type": "display_data",
          "data": {
            "text/plain": [
              "<Figure size 720x432 with 1 Axes>"
            ],
            "image/png": "[encoded data removed]"
          },
          "metadata": {
            "needs_background": "light"
          }
        },
        {
          "output_type": "display_data",
          "data": {
            "text/plain": [
              "<Figure size 720x432 with 1 Axes>"
            ],
            "image/png": "[encoded data removed]"
          },
          "metadata": {
            "needs_background": "light"
          }
        },
        {
          "output_type": "display_data",
          "data": {
            "text/plain": [
              "<Figure size 720x432 with 1 Axes>"
            ],
            "image/png": "[encoded data removed]"
          },
          "metadata": {
            "needs_background": "light"
          }
        },
        {
          "output_type": "display_data",
          "data": {
            "text/plain": [
              "<Figure size 720x432 with 1 Axes>"
            ],
            "image/png": "[encoded data removed]"
          },
          "metadata": {
            "needs_background": "light"
          }
        },
        {
          "output_type": "display_data",
          "data": {
            "text/plain": [
              "<Figure size 720x432 with 1 Axes>"
            ],
            "image/png": "[encoded data removed]"
          },
          "metadata": {
            "needs_background": "light"
          }
        },
        {
          "output_type": "display_data",
          "data": {
            "text/plain": [
              "<Figure size 720x432 with 1 Axes>"
            ],
            "image/png": "[encoded data removed]"
          },
          "metadata": {
            "needs_background": "light"
          }
        },
        {
          "output_type": "display_data",
          "data": {
            "text/plain": [
              "<Figure size 720x432 with 1 Axes>"
            ],
            "image/png": "[encoded data removed]"
          },
          "metadata": {
            "needs_background": "light"
          }
        },
        {
          "output_type": "display_data",
          "data": {
            "text/plain": [
              "<Figure size 720x432 with 1 Axes>"
            ],
            "image/png": "[encoded data removed]"
          },
          "metadata": {
            "needs_background": "light"
          }
        },
        {
          "output_type": "display_data",
          "data": {
            "text/plain": [
              "<Figure size 720x432 with 1 Axes>"
            ],
            "image/png": "[encoded data removed]"
          },
          "metadata": {
            "needs_background": "light"
          }
        },
        {
          "output_type": "display_data",
          "data": {
            "text/plain": [
              "<Figure size 720x432 with 1 Axes>"
            ],
            "image/png": "[encoded data removed]"
          },
          "metadata": {
            "needs_background": "light"
          }
        },
        {
          "output_type": "display_data",
          "data": {
            "text/plain": [
              "<Figure size 720x432 with 1 Axes>"
            ],
            "image/png": "[encoded data removed]"
          },
          "metadata": {
            "needs_background": "light"
          }
        },
        {
          "output_type": "display_data",
          "data": {
            "text/plain": [
              "<Figure size 720x432 with 1 Axes>"
            ],
            "image/png": "[encoded data removed]"
          },
          "metadata": {
            "needs_background": "light"
          }
        },
        {
          "output_type": "display_data",
          "data": {
            "text/plain": [
              "<Figure size 720x432 with 1 Axes>"
            ],
            "image/png": "[encoded data removed]"
          },
          "metadata": {
            "needs_background": "light"
          }
        },
        {
          "output_type": "display_data",
          "data": {
            "text/plain": [
              "<Figure size 720x432 with 1 Axes>"
            ],
            "image/png": "[encoded data removed]"
          },
          "metadata": {
            "needs_background": "light"
          }
        },
        {
          "output_type": "display_data",
          "data": {
            "text/plain": [
              "<Figure size 720x432 with 1 Axes>"
            ],
            "image/png": "[encoded data removed]"
          },
          "metadata": {
            "needs_background": "light"
          }
        },
        {
          "output_type": "display_data",
          "data": {
            "text/plain": [
              "<Figure size 720x432 with 1 Axes>"
            ],
            "image/png": "[encoded data removed]"
          },
          "metadata": {
            "needs_background": "light"
          }
        },
        {
          "output_type": "display_data",
          "data": {
            "text/plain": [
              "<Figure size 720x432 with 1 Axes>"
            ],
            "image/png": "[encoded data removed]"
          },
          "metadata": {
            "needs_background": "light"
          }
        },
        {
          "output_type": "display_data",
          "data": {
            "text/plain": [
              "<Figure size 720x432 with 1 Axes>"
            ],
            "image/png": "[encoded data removed]"
          },
          "metadata": {
            "needs_background": "light"
          }
        }
      ]
    },
    {
      "cell_type": "markdown",
      "source": [
        "- Os gráficos box plot mostram a distribuição de dados numéricos e fornecem informações sobre a mediana, a variação e outliers dos dados. A \"caixa\" representa o intervalo interquartil (entre o primeiro e o terceiro quartil), ou seja, onde se encontra 50% dos dados. A linha no meio da caixa representa a mediana (valor do meio). Os outliers são representados por pontos fora do intervalo de linhas.\n",
        "- Analisando supreficialmente alguns box plot podemos ver que no caso da coluna \"Age\", existe uma distribuição relativamente normal, com a maioria dos valores entre 20 e 40 anos, enquanto na coluna \"Transportation expense\" existem alguns  valores outliers muito altos."
      ],
      "metadata": {
        "id": "MobXzpSlCoR9"
      }
    },
    {
      "cell_type": "markdown",
      "source": [
        "## Algoritmos de Machine Learning"
      ],
      "metadata": {
        "id": "jT5noR1HEbZn"
      }
    },
    {
      "cell_type": "markdown",
      "source": [
        "### Preparação para a Regressão Linear"
      ],
      "metadata": {
        "id": "UxF_Kyn2VuQ1"
      }
    },
    {
      "cell_type": "markdown",
      "source": [
        "#### Train test split"
      ],
      "metadata": {
        "id": "V2xTXcBECjCP"
      }
    },
    {
      "cell_type": "code",
      "source": [
        "df.schema.names"
      ],
      "metadata": {
        "id": "tc1uWRv4nyta",
        "outputId": "495177e0-6bdd-4e0e-ed49-3784ab30d871",
        "colab": {
          "base_uri": "https://localhost:8080/"
        }
      },
      "execution_count": 26,
      "outputs": [
        {
          "output_type": "execute_result",
          "data": {
            "text/plain": [
              "['Reason for absence',\n",
              " 'Month of absence',\n",
              " 'Day of the week',\n",
              " 'Seasons',\n",
              " 'Transportation expense',\n",
              " 'Distance from Residence to Work',\n",
              " 'Service time',\n",
              " 'Age',\n",
              " 'Work load Average/day ',\n",
              " 'Hit target',\n",
              " 'Disciplinary failure',\n",
              " 'Education',\n",
              " 'Son',\n",
              " 'Social drinker',\n",
              " 'Social smoker',\n",
              " 'Pet',\n",
              " 'Weight',\n",
              " 'Height',\n",
              " 'Body mass index',\n",
              " 'Absenteeism time in hours']"
            ]
          },
          "metadata": {},
          "execution_count": 26
        }
      ]
    },
    {
      "cell_type": "code",
      "source": [
        "from pyspark.ml.feature import VectorAssembler, StandardScaler\n",
        "from pyspark.ml.regression import LinearRegression\n",
        "\n",
        "# Selecione as colunas independentes\n",
        "independent_cols = ['Month of absence',\n",
        " 'Day of the week',\n",
        " 'Seasons',\n",
        " 'Transportation expense',\n",
        " 'Distance from Residence to Work',\n",
        " 'Service time',\n",
        " 'Age',\n",
        " 'Work load Average/day ',\n",
        " 'Hit target',\n",
        " 'Disciplinary failure',\n",
        " 'Education',\n",
        " 'Son',\n",
        " 'Social drinker',\n",
        " 'Social smoker',\n",
        " 'Pet',\n",
        " 'Weight',\n",
        " 'Height',\n",
        " 'Absenteeism time in hours']\n",
        "\n",
        "# Crie o objeto VectorAssembler\n",
        "assembler = VectorAssembler(inputCols=independent_cols, outputCol='features')\n",
        "\n",
        "# Aplique o assembler no DataFrame\n",
        "df_assembled = assembler.transform(df)\n",
        "\n",
        "# Dividir os dados em conjunto de treinamento e teste\n",
        "train, test = df_assembled.randomSplit([0.7, 0.3])"
      ],
      "metadata": {
        "id": "0043GYFG12pg"
      },
      "execution_count": 27,
      "outputs": []
    },
    {
      "cell_type": "markdown",
      "source": [
        "- Este passo está a selecionar as colunas independentes (colunas que serão usadas como variáveis ​​preditivas) para serem usadas na modelagem de regressão linear. \n",
        "- Criasse um objeto VectorAssembler, que é usado para combinar as colunas selecionadas em uma única coluna chamada \"features\". Este objeto é então aplicado ao DataFrame para produzir um novo DataFrame com uma coluna \"features\" que contém todas as variáveis ​​selecionadas. \n",
        "- Por fim, os dados são divididos em um conjunto de treinamento (70%) e um conjunto de teste (30%)."
      ],
      "metadata": {
        "id": "ixvudLV1VysQ"
      }
    },
    {
      "cell_type": "markdown",
      "source": [
        "#### Standarizar os dados em train e test"
      ],
      "metadata": {
        "id": "4RAg9qRnx4FC"
      }
    },
    {
      "cell_type": "code",
      "source": [
        "# Criar objeto StandardScaler\n",
        "scaler = StandardScaler(inputCol='features', outputCol='standard_features')\n",
        "\n",
        "# Aplique o scaler no conjunto de treinamento\n",
        "scalerModel = scaler.fit(train)\n",
        "\n",
        "# Aplique o scaler no conjunto de treinamento\n",
        "train = scalerModel.transform(train)\n",
        "\n",
        "# Aplique o scaler no conjunto de teste\n",
        "test = scalerModel.transform(test)"
      ],
      "metadata": {
        "id": "8goKPZ4FDi7h"
      },
      "execution_count": 28,
      "outputs": []
    },
    {
      "cell_type": "markdown",
      "source": [
        "##### Print dos dados standarizados"
      ],
      "metadata": {
        "id": "KSiSYL47zywj"
      }
    },
    {
      "cell_type": "code",
      "source": [
        "train.show()\n",
        "test.show()"
      ],
      "metadata": {
        "colab": {
          "base_uri": "https://localhost:8080/"
        },
        "id": "TQOkZ0RYDsYy",
        "outputId": "a69d4651-7f87-4024-c0a6-acd18ebcb740"
      },
      "execution_count": 29,
      "outputs": [
        {
          "output_type": "stream",
          "name": "stdout",
          "text": [
            "+--------------------+----------------+---------------+-------+----------------------+-------------------------------+------------+----+----------------------+----------+--------------------+---------+---+--------------+-------------+---+------+------+---------------+-------------------------+--------------------+--------------------+\n",
            "|  Reason for absence|Month of absence|Day of the week|Seasons|Transportation expense|Distance from Residence to Work|Service time| Age|Work load Average/day |Hit target|Disciplinary failure|Education|Son|Social drinker|Social smoker|Pet|Weight|Height|Body mass index|Absenteeism time in hours|            features|   standard_features|\n",
            "+--------------------+----------------+---------------+-------+----------------------+-------------------------------+------------+----+----------------------+----------+--------------------+---------+---+--------------+-------------+---+------+------+---------------+-------------------------+--------------------+--------------------+\n",
            "|CID - Blood donation|            11.0|            4.0|    4.0|                 330.0|                           16.0|         4.0|28.0|               268.519|      93.0|                 0.0|      2.0|0.0|           0.0|          0.0|0.0|  84.0| 182.0|           25.0|                     24.0|[11.0,4.0,4.0,330...|[3.20550111317042...|\n",
            "|CID - Blood donation|            11.0|            4.0|    4.0|                 330.0|                           16.0|         4.0|28.0|               268.519|      93.0|                 0.0|      2.0|0.0|           0.0|          0.0|0.0|  84.0| 182.0|           25.0|                     24.0|[11.0,4.0,4.0,330...|[3.20550111317042...|\n",
            "|CID - Blood donation|            11.0|            4.0|    4.0|                 330.0|                           16.0|         4.0|28.0|               268.519|      93.0|                 0.0|      2.0|0.0|           0.0|          0.0|0.0|  84.0| 182.0|           25.0|                     24.0|[11.0,4.0,4.0,330...|[3.20550111317042...|\n",
            "|CID - Blood donation|            11.0|            4.0|    4.0|                 330.0|                           16.0|         4.0|28.0|               268.519|      93.0|                 0.0|      2.0|0.0|           0.0|          0.0|0.0|  84.0| 182.0|           25.0|                     24.0|[11.0,4.0,4.0,330...|[3.20550111317042...|\n",
            "|CID - Blood donation|            11.0|            4.0|    4.0|                 330.0|                           16.0|         4.0|28.0|               268.519|      93.0|                 0.0|      2.0|0.0|           0.0|          0.0|0.0|  84.0| 182.0|           25.0|                     24.0|[11.0,4.0,4.0,330...|[3.20550111317042...|\n",
            "|CID - Blood donation|            11.0|            4.0|    4.0|                 330.0|                           16.0|         4.0|28.0|               268.519|      93.0|                 0.0|      2.0|0.0|           0.0|          0.0|0.0|  84.0| 182.0|           25.0|                     24.0|[11.0,4.0,4.0,330...|[3.20550111317042...|\n",
            "|CID - Blood donation|            11.0|            4.0|    4.0|                 330.0|                           16.0|         4.0|28.0|               268.519|      93.0|                 0.0|      2.0|0.0|           0.0|          0.0|0.0|  84.0| 182.0|           25.0|                     24.0|[11.0,4.0,4.0,330...|[3.20550111317042...|\n",
            "|CID - Blood donation|            11.0|            4.0|    4.0|                 330.0|                           16.0|         4.0|28.0|               268.519|      93.0|                 0.0|      2.0|0.0|           0.0|          0.0|0.0|  84.0| 182.0|           25.0|                     24.0|[11.0,4.0,4.0,330...|[3.20550111317042...|\n",
            "|CID - Blood donation|            11.0|            4.0|    4.0|                 330.0|                           16.0|         4.0|28.0|               268.519|      93.0|                 0.0|      2.0|0.0|           0.0|          0.0|0.0|  84.0| 182.0|           25.0|                     24.0|[11.0,4.0,4.0,330...|[3.20550111317042...|\n",
            "|CID - Blood donation|            11.0|            4.0|    4.0|                 330.0|                           16.0|         4.0|28.0|               268.519|      93.0|                 0.0|      2.0|0.0|           0.0|          0.0|0.0|  84.0| 182.0|           25.0|                     24.0|[11.0,4.0,4.0,330...|[3.20550111317042...|\n",
            "|CID - Blood donation|            11.0|            4.0|    4.0|                 330.0|                           16.0|         4.0|28.0|               268.519|      93.0|                 0.0|      2.0|0.0|           0.0|          0.0|0.0|  84.0| 182.0|           25.0|                     24.0|[11.0,4.0,4.0,330...|[3.20550111317042...|\n",
            "|CID - Dental cons...|             3.0|            5.0|    2.0|                 289.0|                           36.0|        13.0|33.0|               343.253|      95.0|                 0.0|      1.0|2.0|           1.0|          0.0|1.0|  90.0| 172.0|           30.0|                      8.0|[3.0,5.0,2.0,289....|[0.87422757631920...|\n",
            "|CID - Dental cons...|             3.0|            5.0|    2.0|                 289.0|                           36.0|        13.0|33.0|               343.253|      95.0|                 0.0|      1.0|2.0|           1.0|          0.0|1.0|  90.0| 172.0|           30.0|                      8.0|[3.0,5.0,2.0,289....|[0.87422757631920...|\n",
            "|CID - Dental cons...|             3.0|            5.0|    2.0|                 289.0|                           36.0|        13.0|33.0|               343.253|      95.0|                 0.0|      1.0|2.0|           1.0|          0.0|1.0|  90.0| 172.0|           30.0|                      8.0|[3.0,5.0,2.0,289....|[0.87422757631920...|\n",
            "|CID - Dental cons...|             3.0|            5.0|    2.0|                 289.0|                           36.0|        13.0|33.0|               343.253|      95.0|                 0.0|      1.0|2.0|           1.0|          0.0|1.0|  90.0| 172.0|           30.0|                      8.0|[3.0,5.0,2.0,289....|[0.87422757631920...|\n",
            "|CID - Dental cons...|             3.0|            5.0|    2.0|                 289.0|                           36.0|        13.0|33.0|               343.253|      95.0|                 0.0|      1.0|2.0|           1.0|          0.0|1.0|  90.0| 172.0|           30.0|                      8.0|[3.0,5.0,2.0,289....|[0.87422757631920...|\n",
            "|CID - Dental cons...|             3.0|            5.0|    2.0|                 289.0|                           36.0|        13.0|33.0|               343.253|      95.0|                 0.0|      1.0|2.0|           1.0|          0.0|1.0|  90.0| 172.0|           30.0|                      8.0|[3.0,5.0,2.0,289....|[0.87422757631920...|\n",
            "|CID - Dental cons...|             3.0|            5.0|    2.0|                 289.0|                           36.0|        13.0|33.0|               343.253|      95.0|                 0.0|      1.0|2.0|           1.0|          0.0|1.0|  90.0| 172.0|           30.0|                      8.0|[3.0,5.0,2.0,289....|[0.87422757631920...|\n",
            "|CID - Dental cons...|             3.0|            5.0|    2.0|                 289.0|                           36.0|        13.0|33.0|               343.253|      95.0|                 0.0|      1.0|2.0|           1.0|          0.0|1.0|  90.0| 172.0|           30.0|                      8.0|[3.0,5.0,2.0,289....|[0.87422757631920...|\n",
            "|CID - Dental cons...|             3.0|            5.0|    2.0|                 289.0|                           36.0|        13.0|33.0|               343.253|      95.0|                 0.0|      1.0|2.0|           1.0|          0.0|1.0|  90.0| 172.0|           30.0|                      8.0|[3.0,5.0,2.0,289....|[0.87422757631920...|\n",
            "+--------------------+----------------+---------------+-------+----------------------+-------------------------------+------------+----+----------------------+----------+--------------------+---------+---+--------------+-------------+---+------+------+---------------+-------------------------+--------------------+--------------------+\n",
            "only showing top 20 rows\n",
            "\n",
            "+--------------------+----------------+---------------+-------+----------------------+-------------------------------+------------+----+----------------------+----------+--------------------+---------+---+--------------+-------------+---+------+------+---------------+-------------------------+--------------------+--------------------+\n",
            "|  Reason for absence|Month of absence|Day of the week|Seasons|Transportation expense|Distance from Residence to Work|Service time| Age|Work load Average/day |Hit target|Disciplinary failure|Education|Son|Social drinker|Social smoker|Pet|Weight|Height|Body mass index|Absenteeism time in hours|            features|   standard_features|\n",
            "+--------------------+----------------+---------------+-------+----------------------+-------------------------------+------------+----+----------------------+----------+--------------------+---------+---+--------------+-------------+---+------+------+---------------+-------------------------+--------------------+--------------------+\n",
            "|CID - Blood donation|            11.0|            4.0|    4.0|                 330.0|                           16.0|         4.0|28.0|               268.519|      93.0|                 0.0|      2.0|0.0|           0.0|          0.0|0.0|  84.0| 182.0|           25.0|                     24.0|[11.0,4.0,4.0,330...|[3.20550111317042...|\n",
            "|CID - Blood donation|            11.0|            4.0|    4.0|                 330.0|                           16.0|         4.0|28.0|               268.519|      93.0|                 0.0|      2.0|0.0|           0.0|          0.0|0.0|  84.0| 182.0|           25.0|                     24.0|[11.0,4.0,4.0,330...|[3.20550111317042...|\n",
            "|CID - Blood donation|            11.0|            4.0|    4.0|                 330.0|                           16.0|         4.0|28.0|               268.519|      93.0|                 0.0|      2.0|0.0|           0.0|          0.0|0.0|  84.0| 182.0|           25.0|                     24.0|[11.0,4.0,4.0,330...|[3.20550111317042...|\n",
            "|CID - Dental cons...|             3.0|            5.0|    2.0|                 289.0|                           36.0|        13.0|33.0|               343.253|      95.0|                 0.0|      1.0|2.0|           1.0|          0.0|1.0|  90.0| 172.0|           30.0|                      8.0|[3.0,5.0,2.0,289....|[0.87422757631920...|\n",
            "|CID - Dental cons...|             3.0|            5.0|    2.0|                 289.0|                           36.0|        13.0|33.0|               343.253|      95.0|                 0.0|      1.0|2.0|           1.0|          0.0|1.0|  90.0| 172.0|           30.0|                      8.0|[3.0,5.0,2.0,289....|[0.87422757631920...|\n",
            "|CID - Dental cons...|             3.0|            5.0|    2.0|                 289.0|                           36.0|        13.0|33.0|               343.253|      95.0|                 0.0|      1.0|2.0|           1.0|          0.0|1.0|  90.0| 172.0|           30.0|                      8.0|[3.0,5.0,2.0,289....|[0.87422757631920...|\n",
            "|CID - Dental cons...|             3.0|            5.0|    2.0|                 289.0|                           36.0|        13.0|33.0|               343.253|      95.0|                 0.0|      1.0|2.0|           1.0|          0.0|1.0|  90.0| 172.0|           30.0|                      8.0|[3.0,5.0,2.0,289....|[0.87422757631920...|\n",
            "|CID - Dental cons...|             3.0|            5.0|    2.0|                 289.0|                           36.0|        13.0|33.0|               343.253|      95.0|                 0.0|      1.0|2.0|           1.0|          0.0|1.0|  90.0| 172.0|           30.0|                      8.0|[3.0,5.0,2.0,289....|[0.87422757631920...|\n",
            "|CID - Dental cons...|             5.0|            4.0|    3.0|                 225.0|                           26.0|         9.0|28.0|               237.656|      99.0|                 0.0|      1.0|1.0|           0.0|          0.0|2.0|  69.0| 169.0|           24.0|                      3.0|[5.0,4.0,3.0,225....|[1.45704596053201...|\n",
            "|CID - Dental cons...|             5.0|            4.0|    3.0|                 225.0|                           26.0|         9.0|28.0|               237.656|      99.0|                 0.0|      1.0|1.0|           0.0|          0.0|2.0|  69.0| 169.0|           24.0|                      3.0|[5.0,4.0,3.0,225....|[1.45704596053201...|\n",
            "|CID - Dental cons...|             5.0|            4.0|    3.0|                 225.0|                           26.0|         9.0|28.0|               237.656|      99.0|                 0.0|      1.0|1.0|           0.0|          0.0|2.0|  69.0| 169.0|           24.0|                      3.0|[5.0,4.0,3.0,225....|[1.45704596053201...|\n",
            "|CID - Dental cons...|             5.0|            4.0|    3.0|                 225.0|                           26.0|         9.0|28.0|               237.656|      99.0|                 0.0|      1.0|1.0|           0.0|          0.0|2.0|  69.0| 169.0|           24.0|                      3.0|[5.0,4.0,3.0,225....|[1.45704596053201...|\n",
            "|CID - Dental cons...|             7.0|            2.0|    1.0|                 228.0|                           14.0|        16.0|58.0|               264.604|      93.0|                 0.0|      1.0|2.0|           0.0|          0.0|1.0|  65.0| 172.0|           22.0|                      8.0|[7.0,2.0,1.0,228....|[2.03986434474481...|\n",
            "|CID - Dental cons...|             7.0|            2.0|    1.0|                 228.0|                           14.0|        16.0|58.0|               264.604|      93.0|                 0.0|      1.0|2.0|           0.0|          0.0|1.0|  65.0| 172.0|           22.0|                      8.0|[7.0,2.0,1.0,228....|[2.03986434474481...|\n",
            "|CID - Dental cons...|             7.0|            2.0|    1.0|                 228.0|                           14.0|        16.0|58.0|               264.604|      93.0|                 0.0|      1.0|2.0|           0.0|          0.0|1.0|  65.0| 172.0|           22.0|                      8.0|[7.0,2.0,1.0,228....|[2.03986434474481...|\n",
            "|CID - Dental cons...|             7.0|            2.0|    1.0|                 228.0|                           14.0|        16.0|58.0|               264.604|      93.0|                 0.0|      1.0|2.0|           0.0|          0.0|1.0|  65.0| 172.0|           22.0|                      8.0|[7.0,2.0,1.0,228....|[2.03986434474481...|\n",
            "|CID - Dental cons...|             7.0|            3.0|    1.0|                 228.0|                           14.0|        16.0|58.0|               264.604|      93.0|                 0.0|      1.0|2.0|           0.0|          0.0|1.0|  65.0| 172.0|           22.0|                    120.0|[7.0,3.0,1.0,228....|[2.03986434474481...|\n",
            "|CID - Dental cons...|             7.0|            3.0|    1.0|                 228.0|                           14.0|        16.0|58.0|               264.604|      93.0|                 0.0|      1.0|2.0|           0.0|          0.0|1.0|  65.0| 172.0|           22.0|                    120.0|[7.0,3.0,1.0,228....|[2.03986434474481...|\n",
            "|CID - Dental cons...|             7.0|            3.0|    1.0|                 228.0|                           14.0|        16.0|58.0|               264.604|      93.0|                 0.0|      1.0|2.0|           0.0|          0.0|1.0|  65.0| 172.0|           22.0|                    120.0|[7.0,3.0,1.0,228....|[2.03986434474481...|\n",
            "|CID - Dental cons...|             8.0|            4.0|    1.0|                 184.0|                           42.0|         7.0|27.0|               265.615|      94.0|                 0.0|      1.0|0.0|           0.0|          0.0|0.0|  58.0| 167.0|           21.0|                      8.0|[8.0,4.0,1.0,184....|[2.33127353685121...|\n",
            "+--------------------+----------------+---------------+-------+----------------------+-------------------------------+------------+----+----------------------+----------+--------------------+---------+---+--------------+-------------+---+------+------+---------------+-------------------------+--------------------+--------------------+\n",
            "only showing top 20 rows\n",
            "\n"
          ]
        }
      ]
    },
    {
      "cell_type": "markdown",
      "source": [
        "#### Train e teste com os dados Standarizados"
      ],
      "metadata": {
        "id": "KoGv8Ck9z5T0"
      }
    },
    {
      "cell_type": "code",
      "source": [
        "train.select('standard_features').show(2,truncate=False)\n",
        "test.select('standard_features').show(2,truncate=False)"
      ],
      "metadata": {
        "colab": {
          "base_uri": "https://localhost:8080/"
        },
        "id": "jMztvdLBDsz3",
        "outputId": "10e1636f-ecf2-4cbe-f255-3a328b3962ce"
      },
      "execution_count": 30,
      "outputs": [
        {
          "output_type": "stream",
          "name": "stdout",
          "text": [
            "+------------------------------------------------------------------------------------------------------------------------------------------------------------------------------------------------------------------------------------------------------------------+\n",
            "|standard_features                                                                                                                                                                                                                                                 |\n",
            "+------------------------------------------------------------------------------------------------------------------------------------------------------------------------------------------------------------------------------------------------------------------+\n",
            "|[3.205501113170425,2.863602291101535,3.614898349649126,4.811798107646284,1.0968100940093308,0.9044033656406452,4.147511926123033,6.975494424781594,25.087549599055638,0.0,2.851520302577758,0.0,0.0,0.0,0.0,6.420664519970235,30.27154391785805,1.651486282032476]|\n",
            "|[3.205501113170425,2.863602291101535,3.614898349649126,4.811798107646284,1.0968100940093308,0.9044033656406452,4.147511926123033,6.975494424781594,25.087549599055638,0.0,2.851520302577758,0.0,0.0,0.0,0.0,6.420664519970235,30.27154391785805,1.651486282032476]|\n",
            "+------------------------------------------------------------------------------------------------------------------------------------------------------------------------------------------------------------------------------------------------------------------+\n",
            "only showing top 2 rows\n",
            "\n",
            "+------------------------------------------------------------------------------------------------------------------------------------------------------------------------------------------------------------------------------------------------------------------+\n",
            "|standard_features                                                                                                                                                                                                                                                 |\n",
            "+------------------------------------------------------------------------------------------------------------------------------------------------------------------------------------------------------------------------------------------------------------------+\n",
            "|[3.205501113170425,2.863602291101535,3.614898349649126,4.811798107646284,1.0968100940093308,0.9044033656406452,4.147511926123033,6.975494424781594,25.087549599055638,0.0,2.851520302577758,0.0,0.0,0.0,0.0,6.420664519970235,30.27154391785805,1.651486282032476]|\n",
            "|[3.205501113170425,2.863602291101535,3.614898349649126,4.811798107646284,1.0968100940093308,0.9044033656406452,4.147511926123033,6.975494424781594,25.087549599055638,0.0,2.851520302577758,0.0,0.0,0.0,0.0,6.420664519970235,30.27154391785805,1.651486282032476]|\n",
            "+------------------------------------------------------------------------------------------------------------------------------------------------------------------------------------------------------------------------------------------------------------------+\n",
            "only showing top 2 rows\n",
            "\n"
          ]
        }
      ]
    },
    {
      "cell_type": "markdown",
      "source": [
        "-  Transforma as colunas 'features' em 'standard_features', normalizando os valores dessas colunas para terem média 0 e desvio padrão 1. \n",
        "- Mostra os 2 primeiros registros das colunas 'standard_features' do conjunto de treinamento e teste, para que se você possa ver como os valores foram alterados."
      ],
      "metadata": {
        "id": "VtpHnYvAV-7c"
      }
    },
    {
      "cell_type": "code",
      "source": [
        "#from pyspark.ml.clustering import KMeans\n",
        "#from matplotlib import pyplot as plt\n",
        "\n",
        "# Inicializa uma lista vazia para armazenar os valores de WCSS\n",
        "#wcss = []\n",
        "#numberOfClusters=10\n",
        "# Executa um loop para variar o número de clusters\n",
        "#for i in range(2, numberOfClusters):\n",
        "    # Instancia o modelo KMeans\n",
        "#    kmeans = KMeans(featuresCol='features', k=i)\n",
        "    # Treina o modelo\n",
        "#    model = kmeans.fit(train)\n",
        "    # Armazena o WCSS para o modelo\n",
        "#    wcss.append(model.summary.trainingCost)\n",
        "               "
      ],
      "metadata": {
        "id": "OuTuJtBBl7rp"
      },
      "execution_count": 31,
      "outputs": []
    },
    {
      "cell_type": "markdown",
      "source": [
        "\"Custo WCSS\" é uma medida da similaridade entre os pontos de dados dentro de um cluster. No agrupamento K-means, o objetivo é minimizar o WCSS, pois ele representa a soma das distâncias ao quadrado entre cada ponto de dados e o centroide de seu cluster. O método do cotovelo é uma técnica utilizada para determinar o número ótimo de clusters em um agrupamento K-means plotando o WCSS versus o número de clusters. A ideia é que à medida que o número de clusters aumenta, o WCSS diminui, mas em algum momento, a diminuição não será significativa o suficiente para justificar a adição de mais clusters. O ponto em que isso acontece é chamado de \"cotovelo\" do gráfico e o número de clusters neste ponto é considerado o ótimo."
      ],
      "metadata": {
        "id": "Kp4EwAI5q_ts"
      }
    },
    {
      "cell_type": "code",
      "source": [
        "#from matplotlib import pyplot as plt\n",
        "\n",
        "#print(\"WCSS: \",\"\\n\", wcss,\"\\n\")\n",
        "\n",
        "#plt.figure(figsize=(12, 6))\n",
        "\n",
        "# Plota o gráfico de cotovelo\n",
        "#plt.plot(range(2,numberOfClusters), wcss)\n",
        "#plt.xlabel('Número de clusters')\n",
        "#plt.ylabel('Custo WCSS')\n",
        "#plt.title('Gráfico de Cotovelo')\n",
        "#plt.show()"
      ],
      "metadata": {
        "id": "ccTYugL3oAdR"
      },
      "execution_count": 32,
      "outputs": []
    },
    {
      "cell_type": "markdown",
      "source": [
        "### Regressão Linear"
      ],
      "metadata": {
        "id": "tepnxQOBWBcE"
      }
    },
    {
      "cell_type": "code",
      "source": [
        "# Criar objeto LinearRegression\n",
        "lr = LinearRegression(labelCol='Body mass index', featuresCol='standard_features')\n",
        "\n",
        "# Treinar o modelo com os dados de treinamento\n",
        "model = lr.fit(train)\n",
        "\n",
        "# Fazer previsões com os dados de teste\n",
        "predictions = model.transform(test)"
      ],
      "metadata": {
        "id": "8f8uadU5D8Qk"
      },
      "execution_count": 33,
      "outputs": []
    },
    {
      "cell_type": "markdown",
      "source": [
        "- Definição de cada variável (dependente e independente)\n",
        "- Treinar o modelo com os dados de treinamento. As previsões são feitas com os dados de teste usando o método \"transform\" do modelo treinado.\n"
      ],
      "metadata": {
        "id": "PJdALrq4WFHc"
      }
    },
    {
      "cell_type": "code",
      "source": [
        "from pyspark.ml.evaluation import RegressionEvaluator\n",
        "\n",
        "# Create the evaluator\n",
        "evaluator = RegressionEvaluator(labelCol='Body mass index', predictionCol='prediction', metricName='r2')\n",
        "\n",
        "# Compute the R2 on test data\n",
        "r2 = evaluator.evaluate(predictions)\n",
        "\n",
        "# Create the evaluator for rmse\n",
        "rmse_evaluator = RegressionEvaluator(labelCol='Body mass index', predictionCol='prediction', metricName='rmse')\n",
        "\n",
        "# Compute the rmse\n",
        "rmse = rmse_evaluator.evaluate(predictions)\n",
        "\n",
        "print(\"Score: \",1-rmse)\n",
        "print(\"R2 = %g\" % r2)\n",
        "print(\"Root Mean Squared Error (RMSE) on test data = %g\" % rmse)"
      ],
      "metadata": {
        "colab": {
          "base_uri": "https://localhost:8080/"
        },
        "id": "63fVVeaT4ZRY",
        "outputId": "8b4a7fbd-3823-43f1-8685-f6a637a90087"
      },
      "execution_count": 34,
      "outputs": [
        {
          "output_type": "stream",
          "name": "stdout",
          "text": [
            "Score:  0.6593791972007278\n",
            "R2 = 0.994316\n",
            "Root Mean Squared Error (RMSE) on test data = 0.340621\n"
          ]
        }
      ]
    },
    {
      "cell_type": "markdown",
      "source": [
        "- Calculamos o Mean Squared Error (MSE), o Root Mean Squared Error (RMSE) e o score para avaliar a preformance do modelo.\n",
        "- A partir dos valores de score e rmse é possível concluir que o modelo tem uma precisão de 66.14% e um erro médio quadrático de 0.33. Isso significa que o modelo tem uma boa capacidade de prever o índice de massa corporal dos funcionários, mas ainda tem um certo grau de incerteza."
      ],
      "metadata": {
        "id": "qfBi7C1KWG1B"
      }
    },
    {
      "cell_type": "markdown",
      "source": [
        "Creating a confusion matrix for a regression problem doesn't make sense. Confusion matrix is a way to evaluate the performance of a classification model, but in regression problems, the evaluation metrics are different, such as Mean Squared Error (MSE), Root Mean Squared Error (RMSE), Mean Absolute Error (MAE), among others. If you'd like, I can show you an example of how to evaluate a regression model using one of these metrics.\n"
      ],
      "metadata": {
        "id": "SJNkMY0FljCb"
      }
    },
    {
      "cell_type": "markdown",
      "source": [
        "A matriz de confusão é uma tabela que mostra quantas previsões foram corretas e incorretas para cada classe. A diagonal principal contém as previsões corretas e as outras células contêm as previsões incorretas."
      ],
      "metadata": {
        "id": "bIoeKwCslsNX"
      }
    },
    {
      "cell_type": "markdown",
      "source": [
        "Para avaliar o desempenho do modelo anterior, podemos usar métricas de avaliação de regressão, como o erro quadrático médio (MSE) e o coeficiente de determinação (R²). Podemos usar as funções do módulo pyspark.ml.evaluation para calcular essas métricas."
      ],
      "metadata": {
        "id": "roDhaR87lymV"
      }
    },
    {
      "cell_type": "code",
      "source": [
        "import matplotlib.pyplot as plt\n",
        "\n",
        "# Extract the actual and predicted values\n",
        "y_actual = predictions.select('Body mass index').toPandas()\n",
        "y_pred = predictions.select('prediction').toPandas()\n",
        "\n",
        "plt.figure(figsize=(15, 12))\n",
        "\n",
        "# Create the scatter plot\n",
        "plt.scatter(y_actual, y_pred)\n",
        "plt.xlabel('Actual Values')\n",
        "plt.ylabel('Predicted Values')\n",
        "plt.title('Linear Regression Results')\n",
        "plt.show()"
      ],
      "metadata": {
        "colab": {
          "base_uri": "https://localhost:8080/",
          "height": 730
        },
        "id": "Il0qjMQY6PbF",
        "outputId": "ec797f47-d495-4a8c-fca3-1c548e30cc76"
      },
      "execution_count": 51,
      "outputs": [
        {
          "output_type": "display_data",
          "data": {
            "text/plain": [
              "<Figure size 1080x864 with 1 Axes>"
            ],
            "image/png": "[encoded data removed]"
          },
          "metadata": {
            "needs_background": "light"
          }
        }
      ]
    },
    {
      "cell_type": "markdown",
      "source": [
        "- Este gráfico mostra o resultado da regressão linear, onde cada ponto representa uma previsão feita pelo modelo para um determinado valor real.\n",
        "- Pode-se observar que a maioria dos pontos estão concentrados em torno da diagonal do gráfico, indicando que o modelo está fazendo previsões razoavelmente precisas.\n",
        "- Podemos ver a partir do gráfico que há uma certa correlação entre os valores previstos e os valores reais, mas também há alguns pontos que estão fora do normal, indicando que o modelo comete erros de previsão. Além disso, o valor de RMSE obtido foi de aproximadamente 0,34, o que é considerado um valor aceitável para um modelo de previsão. Portanto, podemos concluir que o modelo de regressão linear pode ser utilizado como um modelo de previsão de confiança, mas é importante considerar que ele pode cometer alguns erros."
      ],
      "metadata": {
        "id": "m1uSz-w8WKCW"
      }
    },
    {
      "cell_type": "markdown",
      "source": [
        "### Árvore de Regressão"
      ],
      "metadata": {
        "id": "avwxgrmtWMbH"
      }
    },
    {
      "cell_type": "code",
      "source": [
        "from pyspark.ml.regression import DecisionTreeRegressor\n",
        "\n",
        "# Criar objeto DecisionTreeRegressor\n",
        "dt = DecisionTreeRegressor(featuresCol='standard_features', labelCol='Body mass index')\n",
        "\n",
        "# Treinar o modelo com os dados de treinamento\n",
        "model = dt.fit(train)\n",
        "\n",
        "# Fazer previsões com os dados de teste\n",
        "predictions = model.transform(test)"
      ],
      "metadata": {
        "id": "CboOTMNtLr5P"
      },
      "execution_count": 36,
      "outputs": []
    },
    {
      "cell_type": "code",
      "source": [
        "from pyspark.ml.evaluation import RegressionEvaluator\n",
        "\n",
        "# Create the evaluator\n",
        "evaluator = RegressionEvaluator(labelCol='Body mass index', predictionCol='prediction', metricName='r2')\n",
        "\n",
        "# Compute the R2 on test data\n",
        "r2 = evaluator.evaluate(predictions)\n",
        "\n",
        "# Create the evaluator for rmse\n",
        "rmse_evaluator = RegressionEvaluator(labelCol='Body mass index', predictionCol='prediction', metricName='rmse')\n",
        "\n",
        "# Compute the rmse\n",
        "rmse = rmse_evaluator.evaluate(predictions)\n",
        "\n",
        "print(\"Score: \",1-rmse)\n",
        "print(\"R2 = %g\" % r2)\n",
        "print(\"Root Mean Squared Error (RMSE) on test data = %g\" % rmse)"
      ],
      "metadata": {
        "colab": {
          "base_uri": "https://localhost:8080/"
        },
        "id": "BaZJ5a4zLsRI",
        "outputId": "b2793ba9-99e8-42b1-9da9-7c114044e555"
      },
      "execution_count": 37,
      "outputs": [
        {
          "output_type": "stream",
          "name": "stdout",
          "text": [
            "Score:  0.8978122105222532\n",
            "R2 = 0.999488\n",
            "Root Mean Squared Error (RMSE) on test data = 0.102188\n"
          ]
        }
      ]
    },
    {
      "cell_type": "code",
      "source": [
        "import matplotlib.pyplot as plt\n",
        "\n",
        "# Extraindo as colunas de previsão e valores reais\n",
        "predictions_pd = predictions.select(['prediction', 'Body mass index']).toPandas()\n",
        "\n",
        "plt.figure(figsize=(12, 6))\n",
        "\n",
        "# Plotando o gráfico de dispersão\n",
        "plt.scatter(predictions_pd['prediction'], predictions_pd['Body mass index'],color='green')\n",
        "plt.xlabel('Predicted values')\n",
        "plt.ylabel('Actual values')\n",
        "plt.title('Scatter plot entre os \"Predicted values\" e \"Actual Values\"')\n",
        "plt.show()"
      ],
      "metadata": {
        "id": "PPZQqqBFkW0i",
        "outputId": "d9f441ba-3fa8-43af-94e2-bfb0e4688006",
        "colab": {
          "base_uri": "https://localhost:8080/",
          "height": 404
        }
      },
      "execution_count": 38,
      "outputs": [
        {
          "output_type": "display_data",
          "data": {
            "text/plain": [
              "<Figure size 864x432 with 1 Axes>"
            ],
            "image/png": "[encoded data removed]"
          },
          "metadata": {
            "needs_background": "light"
          }
        }
      ]
    },
    {
      "cell_type": "markdown",
      "source": [
        "# Random Forest"
      ],
      "metadata": {
        "id": "8nkVEDuIdQrl"
      }
    },
    {
      "cell_type": "code",
      "source": [
        "from pyspark.ml.regression import RandomForestRegressor\n",
        "from pyspark.ml.feature import VectorAssembler\n",
        "\n",
        "# Criação do objeto Random Forest\n",
        "rf = RandomForestRegressor(labelCol='Body mass index', featuresCol='standard_features')\n",
        "\n",
        "# Criação do objeto VectorAssembler para agrupar as features em um único vetor\n",
        "assembler = VectorAssembler(inputCols=numerical_cols, outputCol='standard_features')\n",
        "\n",
        "# Transformação dos dados utilizando o VectorAssembler\n",
        "data = assembler.transform(df)\n",
        "\n",
        "# Divisão dos dados em treino e teste\n",
        "train_data, test_data = data.randomSplit([0.7, 0.3])\n",
        "\n",
        "# Treinamento do modelo\n",
        "model = rf.fit(train_data)\n",
        "\n",
        "# Previsões utilizando o conjunto de teste\n",
        "predictions = model.transform(test_data)"
      ],
      "metadata": {
        "id": "OrO2C457dQIK"
      },
      "execution_count": 39,
      "outputs": []
    },
    {
      "cell_type": "code",
      "source": [
        "from pyspark.ml.evaluation import RegressionEvaluator\n",
        "\n",
        "# Create the evaluator\n",
        "evaluator = RegressionEvaluator(labelCol='Body mass index', predictionCol='prediction', metricName='r2')\n",
        "\n",
        "# Compute the R2 on test data\n",
        "r2 = evaluator.evaluate(predictions)\n",
        "\n",
        "# Create the evaluator for rmse\n",
        "rmse_evaluator = RegressionEvaluator(labelCol='Body mass index', predictionCol='prediction', metricName='rmse')\n",
        "\n",
        "# Compute the rmse\n",
        "rmse = rmse_evaluator.evaluate(predictions)\n",
        "\n",
        "print(\"Score: \",1-rmse)\n",
        "print(\"R2 = %g\" % r2)\n",
        "print(\"Root Mean Squared Error (RMSE) on test data = %g\" % rmse)"
      ],
      "metadata": {
        "id": "D98HfrFIhoRc",
        "outputId": "ca121226-6968-41f5-f3b2-8357cef4bd92",
        "colab": {
          "base_uri": "https://localhost:8080/"
        }
      },
      "execution_count": 40,
      "outputs": [
        {
          "output_type": "stream",
          "name": "stdout",
          "text": [
            "Score:  0.8766077887585024\n",
            "R2 = 0.99922\n",
            "Root Mean Squared Error (RMSE) on test data = 0.123392\n"
          ]
        }
      ]
    },
    {
      "cell_type": "code",
      "source": [
        "import matplotlib.pyplot as plt\n",
        "\n",
        "# Extraindo as colunas de previsão e valores reais\n",
        "predictions_pd = predictions.select(['prediction', 'Body mass index']).toPandas()\n",
        "\n",
        "plt.figure(figsize=(20, 10))\n",
        "\n",
        "# Plotando o gráfico de dispersão\n",
        "plt.scatter(predictions_pd['prediction'], predictions_pd['Body mass index'],color='purple')\n",
        "plt.xlabel('Predicted values')\n",
        "plt.ylabel('Actual values')\n",
        "plt.title('Scatter plot entre os \"Predicted values\" e \"Actual Values\"')\n",
        "plt.show()"
      ],
      "metadata": {
        "id": "TGbL59imkKrH",
        "outputId": "2dda1a4e-5061-4f16-9781-4839d673c45e",
        "colab": {
          "base_uri": "https://localhost:8080/",
          "height": 621
        }
      },
      "execution_count": 49,
      "outputs": [
        {
          "output_type": "display_data",
          "data": {
            "text/plain": [
              "<Figure size 1440x720 with 1 Axes>"
            ],
            "image/png": "[encoded data removed]"
          },
          "metadata": {
            "needs_background": "light"
          }
        }
      ]
    },
    {
      "cell_type": "markdown",
      "source": [
        "## Conclusão"
      ],
      "metadata": {
        "id": "oOYFPMNVWO0t"
      }
    },
    {
      "cell_type": "markdown",
      "source": [
        "- bla bla"
      ],
      "metadata": {
        "id": "sjZuYwLdWQm_"
      }
    }
  ]
}